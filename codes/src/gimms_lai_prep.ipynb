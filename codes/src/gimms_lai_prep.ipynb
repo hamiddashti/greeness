{
 "cells": [
  {
   "cell_type": "code",
   "execution_count": 1,
   "metadata": {},
   "outputs": [],
   "source": [
    "import numpy as np \n",
    "import glob\n",
    "import pandas as pd \n",
    "import xarray as xr\n",
    "import rioxarray\n",
    "dir = \"/data/home/hamiddashti/hamid/nasa_above/greeness/data/raw_data/gimms/Original/\"\n",
    "out_dir = \"/data/home/hamiddashti/hamid/nasa_above/greeness/data/raw_data/gimms/Original_netcdf/\"\n",
    "\n",
    "def read_ibl(f):\n",
    "    file = np.fromfile(f,dtype='>u2', count=-1)\n",
    "    data_orig = file.reshape([2160,4320],order=\"F\")\n",
    "    data_orig = np.where(data_orig>20000,np.nan,data_orig)\n",
    "    lai = np.floor(data_orig/10)*10*0.001\n",
    "    qc = data_orig - np.floor(data_orig/10)*10\n",
    "    return lai, qc\n",
    "\n",
    "def xr_create(vars,t):\n",
    "    lat_vec = np.flip(np.linspace(-90,90,2160))\n",
    "    long_vec = np.linspace(-180,180,4320)\n",
    "    ds = xr.Dataset(\n",
    "        data_vars = dict(\n",
    "            lai = ([\"lat\",\"long\"],vars[0]),\n",
    "            qc = ([\"lat\",\"long\"],vars[1])),\n",
    "        coords = dict(\n",
    "            lat=([\"lat\"],lat_vec),\n",
    "            long=([\"long\"],long_vec),\n",
    "            # time = np.datetime64(t))\n",
    "            ))\n",
    "    ds = ds.expand_dims({\"time\":[np.datetime64(t)]})\n",
    "    ds.rio.write_crs(\n",
    "        4326,\n",
    "        inplace=True,\n",
    "    ).rio.set_spatial_dims(\n",
    "        x_dim=\"long\",\n",
    "        y_dim=\"lat\",\n",
    "        inplace=True,\n",
    "    ).rio.write_coordinate_system(inplace=True)\n",
    "    return ds \n"
   ]
  },
  {
   "cell_type": "code",
   "execution_count": 2,
   "metadata": {},
   "outputs": [
    {
     "name": "stdout",
     "output_type": "stream",
     "text": [
      "1982-01-01\n",
      "1982-02-01\n",
      "1982-03-01\n",
      "1982-04-01\n"
     ]
    }
   ],
   "source": [
    "\n",
    "years = np.arange(1982,2016)\n",
    "months = [\"01\",\"02\",\"03\",\"04\",\"05\",\"06\",\"07\",\"08\",\"09\",\"10\",\"11\",\"12\"]\n",
    "months_name = [\"jan\", \"feb\",\"mar\",\"apr\",\"may\",\"jun\",\"jul\",\"aug\",\n",
    "              \"sep\",\"oct\",\"nov\",\"dec\"]\n",
    "\n",
    "for i in range(len(years)):\n",
    "    for j in range(len(months)):\n",
    "        date_a = np.datetime64(str(years[i])+\"-\"+str(months[j])+\"-01\")\n",
    "        date_b = np.datetime64(str(years[i])+\"-\"+str(months[j])+\"-15\")\n",
    "        \n",
    "        print(date_a)\n",
    "\n",
    "        fname_a = dir+\"AVHRRBUVI04.\"+str(years[i])+months_name[j]+\"a.abl\"\n",
    "        fname_b = dir+\"AVHRRBUVI04.\"+str(years[i])+months_name[j]+\"b.abl\"\n",
    "\n",
    "        vars_a = read_ibl(fname_a)\n",
    "        vars_b = read_ibl(fname_b)\n",
    "\n",
    "        ds_a = xr_create(vars_a,date_a)\n",
    "        ds_b = xr_create(vars_b,date_b)\n",
    "\n",
    "        ds_a.to_netcdf(out_dir+\"AVHRRBUVI04.\"+str(years[i])+months_name[j]+\"a.nc\")\n",
    "        ds_b.to_netcdf(out_dir+\"AVHRRBUVI04.\"+str(years[i])+months_name[j]+\"b.nc\")\n",
    "\n"
   ]
  },
  {
   "cell_type": "code",
   "execution_count": 1,
   "metadata": {},
   "outputs": [
    {
     "ename": "NameError",
     "evalue": "name 'xr' is not defined",
     "output_type": "error",
     "traceback": [
      "\u001b[0;31m---------------------------------------------------------------------------\u001b[0m",
      "\u001b[0;31mNameError\u001b[0m                                 Traceback (most recent call last)",
      "\u001b[1;32m/data/home/hamiddashti/hamid/nasa_above/greeness/codes/src/gimms_lai_prep.ipynb Cell 3\u001b[0m in \u001b[0;36m<cell line: 1>\u001b[0;34m()\u001b[0m\n\u001b[0;32m----> <a href='vscode-notebook-cell://ssh-remote%2B7b22686f73744e616d65223a2257484541542d5541227d/data/home/hamiddashti/hamid/nasa_above/greeness/codes/src/gimms_lai_prep.ipynb#W2sdnNjb2RlLXJlbW90ZQ%3D%3D?line=0'>1</a>\u001b[0m gimms_lai \u001b[39m=\u001b[39m xr\u001b[39m.\u001b[39mopen_mfdataset(out_dir\u001b[39m+\u001b[39m\u001b[39m'\u001b[39m\u001b[39m*.nc\u001b[39m\u001b[39m'\u001b[39m,concat_dim\u001b[39m=\u001b[39m[\u001b[39m'\u001b[39m\u001b[39mtime\u001b[39m\u001b[39m'\u001b[39m], combine\u001b[39m=\u001b[39m\u001b[39m'\u001b[39m\u001b[39mnested\u001b[39m\u001b[39m'\u001b[39m)\u001b[39m.\u001b[39msortby(\u001b[39m\"\u001b[39m\u001b[39mtime\u001b[39m\u001b[39m\"\u001b[39m)\n",
      "\u001b[0;31mNameError\u001b[0m: name 'xr' is not defined"
     ]
    }
   ],
   "source": [
    "gimms_lai = xr.open_mfdataset(out_dir+'*.nc',concat_dim=['time'], combine='nested').sortby(\"time\")\n"
   ]
  }
 ],
 "metadata": {
  "kernelspec": {
   "display_name": "Python 3.9.13 ('geospatial')",
   "language": "python",
   "name": "python3"
  },
  "language_info": {
   "name": "python",
   "version": "3.9.13"
  },
  "orig_nbformat": 4,
  "vscode": {
   "interpreter": {
    "hash": "58d4357dc51a73699c5449b037ed9e8ebf9460004e4993ef846dc1036514c650"
   }
  }
 },
 "nbformat": 4,
 "nbformat_minor": 2
}
