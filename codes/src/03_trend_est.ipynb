{
 "cells": [
  {
   "cell_type": "code",
   "execution_count": 1,
   "metadata": {},
   "outputs": [],
   "source": [
    "import xarray as xr\n",
    "import numpy as np\n",
    "from my_funs import est_trend\n",
    "\n",
    "dir = \"/data/home/hamiddashti/hamid/nasa_above/greeness/\"\n",
    "out_dir = \"/data/home/hamiddashti/hamid/nasa_above/greeness/working/\"\n"
   ]
  },
  {
   "cell_type": "markdown",
   "metadata": {},
   "source": [
    "Estimating trend using theilsen method and the significance of trend using mannkendall method "
   ]
  },
  {
   "cell_type": "code",
   "execution_count": 41,
   "metadata": {},
   "outputs": [
    {
     "name": "stdout",
     "output_type": "stream",
     "text": [
      "Estimating trend for growing season mean\n"
     ]
    }
   ],
   "source": [
    "# Growing season mean\n",
    "print(\"Estimating trend for growing season mean\")\n",
    "lai_growing_mean = xr.open_dataarray(\n",
    "    dir + \"data/processed_data/noaa_nc/lai_fapar/resampled/lai_growing_mean.nc\"\n",
    ")\n",
    "est_trend_lai_growing_mean = est_trend(lai_growing_mean, \"theilsen\")\n",
    "est_trend_lai_growing_mean.to_netcdf(\n",
    "    dir + \"data/processed_data/noaa_nc/lai_fapar/trend/lai_growing_trend_mean.nc\"\n",
    ")\n"
   ]
  },
  {
   "cell_type": "code",
   "execution_count": 2,
   "metadata": {},
   "outputs": [
    {
     "name": "stdout",
     "output_type": "stream",
     "text": [
      "5\n",
      "6\n",
      "7\n",
      "8\n",
      "9\n",
      "10\n"
     ]
    }
   ],
   "source": [
    "# Monthly mean\n",
    "lai_monthly_mean = xr.open_dataset(\n",
    "    dir + \"data/processed_data/noaa_nc/lai_fapar/resampled/lai_monthly_resample_mean.nc\"\n",
    ")[\"LAI\"]\n",
    "\n",
    "monthly_trends_datasets = []\n",
    "for k in np.arange(5, 11):\n",
    "    print(k)\n",
    "    tmp = lai_monthly_mean.where(lai_monthly_mean.time.dt.month == k, drop=True)\n",
    "    est_trend_tmp = est_trend(tmp, \"theilsen\")\n",
    "    monthly_trends_datasets.append(est_trend_tmp)\n",
    "est_trend_lai_monthly_mean = xr.concat(\n",
    "    monthly_trends_datasets, dim=\"months\"\n",
    ").assign_coords({\"months\": np.arange(5, 11)})\n",
    "est_trend_lai_monthly_mean.to_netcdf(\n",
    "    dir + \"data/processed_data/noaa_nc/lai_fapar/trend/lai_monthly_trend_mean.nc\"\n",
    ")\n"
   ]
  }
 ],
 "metadata": {
  "kernelspec": {
   "display_name": "Python 3.9.13 ('geospatial')",
   "language": "python",
   "name": "python3"
  },
  "language_info": {
   "codemirror_mode": {
    "name": "ipython",
    "version": 3
   },
   "file_extension": ".py",
   "mimetype": "text/x-python",
   "name": "python",
   "nbconvert_exporter": "python",
   "pygments_lexer": "ipython3",
   "version": "3.9.13"
  },
  "orig_nbformat": 4,
  "vscode": {
   "interpreter": {
    "hash": "58d4357dc51a73699c5449b037ed9e8ebf9460004e4993ef846dc1036514c650"
   }
  }
 },
 "nbformat": 4,
 "nbformat_minor": 2
}
