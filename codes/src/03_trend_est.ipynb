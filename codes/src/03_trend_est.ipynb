{
 "cells": [
  {
   "cell_type": "code",
   "execution_count": 1,
   "metadata": {},
   "outputs": [
    {
     "name": "stderr",
     "output_type": "stream",
     "text": [
      "/data/home/hamiddashti/hamid/nasa_above/greeness/codes/src/my_funs.py:9: UserWarning: Shapely 2.0 is installed, but because PyGEOS is also installed, GeoPandas will still use PyGEOS by default for now. To force to use and test Shapely 2.0, you have to set the environment variable USE_PYGEOS=0. You can do this before starting the Python process, or in your code before importing geopandas:\n",
      "\n",
      "import os\n",
      "os.environ['USE_PYGEOS'] = '0'\n",
      "import geopandas\n",
      "\n",
      "In a future release, GeoPandas will switch to using Shapely by default. If you are using PyGEOS directly (calling PyGEOS functions on geometries from GeoPandas), this will then stop working and you are encouraged to migrate from PyGEOS to Shapely 2.0 (https://shapely.readthedocs.io/en/latest/migration_pygeos.html).\n",
      "  import geopandas as gpd\n"
     ]
    }
   ],
   "source": [
    "import xarray as xr\n",
    "import numpy as np\n",
    "from my_funs import est_trend\n",
    "import pandas as pd\n",
    "\n",
    "dir = \"/data/home/hamiddashti/hamid/nasa_above/greeness/\"\n",
    "out_dir = \"/data/home/hamiddashti/hamid/nasa_above/greeness/working/\"\n",
    "\n",
    "def outliers_index(data, m=3.5):\n",
    "    \"\"\"\n",
    "    Returns true if a value is outlier\n",
    "\n",
    "    :param int data: numpy array\n",
    "    :param int m: # of std to include data \n",
    "    \"\"\"\n",
    "    import numpy as np\n",
    "    d = np.abs(data - np.nanmedian(data))\n",
    "    mdev = np.nanmedian(d)\n",
    "    s = d / mdev if mdev else 0.\n",
    "    return ~(s < m)\n",
    "\n",
    "def normalize(xr):\n",
    "    # Notalize to [0 1] along time dimension\n",
    "    xr_norm = (\n",
    "        (xr - xr.min(dim=\"time\")) / (xr.max(dim=\"time\") - xr.min(dim=\"time\"))\n",
    "    )\n",
    "    return xr_norm\n"
   ]
  },
  {
   "cell_type": "markdown",
   "metadata": {},
   "source": [
    "Estimating trend for maximum LAI"
   ]
  },
  {
   "cell_type": "code",
   "execution_count": 2,
   "metadata": {},
   "outputs": [],
   "source": [
    "# Prepare LAI MAX data\n",
    "lai_max = xr.open_dataarray(\n",
    "    dir + \"data/processed_data/noaa_nc/lai_fapar/resampled/lai_annual_resample_max.nc\"\n",
    ").rename({\"latitude\":\"lat\",\"longitude\":\"lon\"})\n",
    "# lai_max[\"time\"] = pd.date_range(\"1984\",\"2014\",freq = \"A\")\n",
    "lai_max = lai_max.sel(time=slice(\"1985\",\"2014\"))  # 1984 has many nan values\n",
    "# Prepare NDVI MAX data\n",
    "ndvi_max = xr.open_dataarray(\n",
    "    dir + \"data/processed_data/landsat/resampled/ndvi_annual_max.nc\"\n",
    ").rename({\"latitude\":\"lat\",\"longitude\":\"lon\"})*1e-4\n",
    "ndvi_max = ndvi_max.sel(time=slice(\"1985\",\"2014\"))\n",
    "\n",
    "aut = xr.open_dataarray(dir+\"data/processed_data/landsat/resampled/aut.nc\")\n",
    "spr = xr.open_dataarray(dir+\"data/processed_data/landsat/resampled/spr.nc\")\n",
    "gs = aut-spr #Growing season\n",
    "\n",
    "# Remove outliers\n",
    "I_phen = outliers_index(gs,3.5)\n",
    "I_lai = outliers_index(lai_max,3.5)\n",
    "I_ndvi = outliers_index(ndvi_max,3.5)\n",
    "gs_clean=gs.where(I_phen==False)\n",
    "lai_clean = lai_max.where(I_lai==False)\n",
    "ndvi_clean = ndvi_max.where(I_lai==False)\n",
    "\n",
    "# Normalize data to [0 1]\n",
    "lai_norm = normalize(lai_clean)\n",
    "ndvi_norm = normalize(ndvi_clean)\n",
    "gs_norm = normalize(gs_clean)\n",
    "\n",
    "lai_norm.to_netcdf(dir+\"data/processed_data/noaa_nc/lai_fapar/resampled/lai_annual_resample_max_norm.nc\")\n",
    "ndvi_norm.to_netcdf(dir+\"data/processed_data/landsat/resampled/ndvi_annual_max_norm.nc\")\n",
    "gs_norm.to_netcdf(dir+\"data/processed_data/landsat/resampled/gs_norm.nc\")\n",
    "gs.to_netcdf(dir+\"data/processed_data/landsat/resampled/gs.nc\")"
   ]
  },
  {
   "cell_type": "code",
   "execution_count": 9,
   "metadata": {},
   "outputs": [],
   "source": [
    "est_trend_lai_max = est_trend(lai_clean, \"theilsen\")\n",
    "est_trend_ndvi_max = est_trend(ndvi_clean, \"theilsen\")\n",
    "est_trend_gs = est_trend(gs_clean,\"theilsen\")\n",
    "\n",
    "est_trend_lai_max_norm = est_trend(lai_norm,\"theilsen\")\n",
    "est_trend_ndvi_max_norm = est_trend(ndvi_norm,\"theilsen\")\n",
    "est_trend_gs_norm = est_trend(gs_norm,\"theilsen\")"
   ]
  },
  {
   "cell_type": "code",
   "execution_count": 24,
   "metadata": {},
   "outputs": [],
   "source": [
    "est_trend_lai_max.to_netcdf(\n",
    "    dir + \"data/processed_data/noaa_nc/lai_fapar/trend/lai_max_trend.nc\"\n",
    ")\n",
    "est_trend_ndvi_max.to_netcdf(\n",
    "    dir + \"data/processed_data/landsat/trend/ndvi_annual_max_trend.nc\")\n",
    "est_trend_gs.to_netcdf(dir+\"data/processed_data/landsat/trend/gs_trend.nc\")\n",
    "\n",
    "est_trend_lai_max_norm.to_netcdf(dir+\"data/processed_data/noaa_nc/lai_fapar/trend/lai_max_norm_trend.nc\")\n",
    "est_trend_ndvi_max_norm.to_netcdf(dir+\"data/processed_data/landsat/trend/ndvi_max_norm_trend.nc\")\n",
    "est_trend_gs_norm.to_netcdf(dir+\"data/processed_data/landsat/trend/gs_trend_norm.nc\")"
   ]
  }
 ],
 "metadata": {
  "kernelspec": {
   "display_name": "Python 3.9.16 ('geo')",
   "language": "python",
   "name": "python3"
  },
  "language_info": {
   "codemirror_mode": {
    "name": "ipython",
    "version": 3
   },
   "file_extension": ".py",
   "mimetype": "text/x-python",
   "name": "python",
   "nbconvert_exporter": "python",
   "pygments_lexer": "ipython3",
   "version": "3.9.16"
  },
  "orig_nbformat": 4,
  "vscode": {
   "interpreter": {
    "hash": "6021ea7d074eda5ac97506998cf228896a59052f045ef557a4c9594641a51db9"
   }
  }
 },
 "nbformat": 4,
 "nbformat_minor": 2
}
