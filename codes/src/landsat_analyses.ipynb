{
 "cells": [
  {
   "cell_type": "markdown",
   "metadata": {},
   "source": [
    "Goal: Mosaic the landsat scenes for five variables:\n",
    "\n",
    "    - spring onset\n",
    "    - automn onset\n",
    "    - peak NDVI\n",
    "    - Red\n",
    "    - NIR \n",
    "source of the data [ABoVE: Annual Phenology Derived from Landsat across the ABoVE Core Domain, 1984-2014](https://daac.ornl.gov/cgi-bin/dsviewer.pl?ds_id=1698) \n",
    "\n",
    "Note it takes so much memory! If you run into memory issue use [this package](https://github.com/bluegeo/dask-mosaic)"
   ]
  },
  {
   "cell_type": "code",
   "execution_count": 1,
   "metadata": {},
   "outputs": [],
   "source": [
    "import xarray as xr\n",
    "import pandas as pd\n",
    "import rasterio\n",
    "from rasterio.merge import merge\n",
    "import glob\n",
    "import numpy as np"
   ]
  },
  {
   "cell_type": "code",
   "execution_count": 35,
   "metadata": {},
   "outputs": [],
   "source": [
    "# Read raw data \n",
    "dir = \"/data/home/hamiddashti/hamid/nasa_above/greeness/\"\n",
    "in_dir = dir + \"data/raw_data/landsat/pkgreen/\"\n",
    "out_dir = dir + \"data/processed_data/landsat/mosaic/\"\n"
   ]
  },
  {
   "cell_type": "markdown",
   "metadata": {},
   "source": [
    "Refer to [HERE](https://daac.ornl.gov/ABOVE/guides/Annual_Seasonality_Greenness.html) for data structur. \n",
    "\n",
    "Each variable (spring onset and autumn onset) are recorded as a file with 31 bands where each band is a year from 1984 to 2014"
   ]
  },
  {
   "cell_type": "code",
   "execution_count": null,
   "metadata": {},
   "outputs": [],
   "source": [
    "years = pd.date_range(start=\"1984\", end=\"2015\", freq=\"A\").year\n",
    "\n",
    "# Spring onset and autumn onset\n",
    "var_names = [\"spr\",\"aut\"]\n",
    "\n",
    "for i in var_names:\n",
    "    for j in np.arange(0, len(years)):\n",
    "\n",
    "        # Read all the file names\n",
    "        fnames = glob.glob(in_dir + \"*pheno.\" + i + \".tif\")\n",
    "        fnames = fnames[1:10]\n",
    "        \n",
    "        src_files_to_mosaic = []\n",
    "        \n",
    "        # Open all files\n",
    "        for fp in fnames:\n",
    "            src = rasterio.open(fp)\n",
    "            src_files_to_mosaic.append(src)\n",
    "        \n",
    "        # Start mosaicing \n",
    "        print(\n",
    "            \"Mosaicing sesonal,year:\"\n",
    "            + str(years[j])\n",
    "            + \",var:\"\n",
    "            + i\n",
    "            + \",#scenes:\"\n",
    "            + str(len(fnames))\n",
    "        )\n",
    "\n",
    "        mosaic, out_trans = merge(src_files_to_mosaic, indexes=[j+1]) #note bands start from 1\n",
    "        out_meta = src.meta.copy()\n",
    "        # Update the metadata\n",
    "        out_meta.update(\n",
    "            {\n",
    "                \"driver\": \"GTiff\",\n",
    "                \"height\": mosaic.shape[1],\n",
    "                \"width\": mosaic.shape[2],\n",
    "                \"transform\": out_trans,\n",
    "                \"crs\": src.crs,\n",
    "                \"count\": 1,\n",
    "            }\n",
    "        )\n",
    "\n",
    "        # Save the mosaic\n",
    "        with rasterio.open(\n",
    "            out_dir + \"mosaic_\" + i + \"_\" + str(years[j]) + \".tif\",\n",
    "            \"w\",\n",
    "            **out_meta,\n",
    "            compress=\"lzw\"\n",
    "        ) as dest:\n",
    "            dest.write(mosaic)\n",
    "        \n",
    "        # Free memory\n",
    "        del mosaic, out_meta, src_files_to_mosaic"
   ]
  },
  {
   "cell_type": "markdown",
   "metadata": {},
   "source": [
    "Mosaicing TM5 data. These data are from 1984 to 2011. "
   ]
  },
  {
   "cell_type": "code",
   "execution_count": 21,
   "metadata": {},
   "outputs": [
    {
     "name": "stdout",
     "output_type": "stream",
     "text": [
      "Mosaicing et5,year:2000,var:NDVI,#scenes:9\n",
      "Mosaicing et5,year:2000,var:Red,#scenes:9\n"
     ]
    }
   ],
   "source": [
    "years_tm5 = pd.date_range(start=\"1984\", end=\"2012\", freq=\"A\").year\n",
    "\n",
    "b_lst = [1,3,4] # Bands to be selected for mosaicing (i.e. ndvi,red, nir)\n",
    "b_lst_names = [\"NDVI\", \"Red\", \"NIR\"]\n",
    "\n",
    "for i in np.arange(0, len(years_tm5)):\n",
    "    for j in np.arange(0, len(b_lst)):\n",
    "\n",
    "        # Read all the file names\n",
    "        fnames = glob.glob(in_dir + \"*tm5.\" + str(years_tm5[i]) + \".tif\")\n",
    "        fnames = fnames[1:10]\n",
    "        src_files_to_mosaic = []\n",
    "        \n",
    "        # Open all files\n",
    "        for fp in fnames:\n",
    "            src = rasterio.open(fp)\n",
    "            src_files_to_mosaic.append(src)\n",
    "        \n",
    "        # Start mosaicing \n",
    "        print(\n",
    "            \"Mosaicing et5,year:\"\n",
    "            + str(years_tm5[i])\n",
    "            + \",var:\"\n",
    "            + str(b_lst_names[j])\n",
    "            + \",#scenes:\"\n",
    "            + str(len(fnames))\n",
    "        )\n",
    "\n",
    "        mosaic, out_trans = merge(src_files_to_mosaic, indexes=[b_lst[j]])\n",
    "        out_meta = src.meta.copy()\n",
    "        # Update the metadata\n",
    "        out_meta.update(\n",
    "            {\n",
    "                \"driver\": \"GTiff\",\n",
    "                \"height\": mosaic.shape[1],\n",
    "                \"width\": mosaic.shape[2],\n",
    "                \"transform\": out_trans,\n",
    "                \"crs\": src.crs,\n",
    "                \"count\": 1,\n",
    "            }\n",
    "        )\n",
    "        \n",
    "        # Save the mosaic\n",
    "        with rasterio.open(\n",
    "            out_dir + \"mosaic_\" + b_lst_names[j] + \"_\" + str(years_tm5[i]) + \".tif\",\n",
    "            \"w\",\n",
    "            **out_meta,\n",
    "            compress=\"lzw\"\n",
    "        ) as dest:\n",
    "            dest.write(mosaic)\n",
    "\n",
    "        # Free memory \n",
    "        del mosaic, out_meta, src_files_to_mosaic\n"
   ]
  },
  {
   "cell_type": "markdown",
   "metadata": {},
   "source": [
    "Mosaicing ETM data. These data ranges from 1999 to 2014"
   ]
  },
  {
   "cell_type": "code",
   "execution_count": 32,
   "metadata": {},
   "outputs": [
    {
     "name": "stdout",
     "output_type": "stream",
     "text": [
      "No file for in ETM data year:1999,var:NDVI\n",
      "No file for in ETM data year:2000,var:NDVI\n",
      "No file for in ETM data year:2001,var:NDVI\n",
      "No file for in ETM data year:2002,var:NDVI\n",
      "No file for in ETM data year:2003,var:NDVI\n",
      "No file for in ETM data year:2004,var:NDVI\n",
      "No file for in ETM data year:2005,var:NDVI\n",
      "No file for in ETM data year:2006,var:NDVI\n",
      "No file for in ETM data year:2007,var:NDVI\n",
      "No file for in ETM data year:2008,var:NDVI\n",
      "No file for in ETM data year:2009,var:NDVI\n",
      "No file for in ETM data year:2010,var:NDVI\n",
      "No file for in ETM data year:2011,var:NDVI\n",
      "No file for in ETM data year:2012,var:NDVI\n",
      "No file for in ETM data year:2013,var:NDVI\n"
     ]
    }
   ],
   "source": [
    "years_etm = pd.date_range(start=\"1999\", end=\"2015\", freq=\"A\").year\n",
    "b_lst = [1,3,4]\n",
    "b_lst_names = [\"NDVI\", \"Red\", \"NIR\"]\n",
    "\n",
    "for i in np.arange(0, len(years_etm)):\n",
    "    for j in np.arange(0, len(b_lst)):\n",
    "\n",
    "        # Read all the file names\n",
    "        fnames = glob.glob(in_dir + \"*etm.\" + str(years_etm[i]) + \".tif\")\n",
    "        fnames = fnames[1:10]\n",
    "        src_files_to_mosaic = []\n",
    "        \n",
    "        # Open all files\n",
    "        for fp in fnames:\n",
    "            src = rasterio.open(fp)\n",
    "            src_files_to_mosaic.append(src)\n",
    "        #Start mosaicing \n",
    "        print(\n",
    "            \"Mosaicing ETM,year:\"\n",
    "            + str(years_etm[i])\n",
    "            + \",var:\"\n",
    "            + str(b_lst_names[j])\n",
    "            + \",#scenes:\"\n",
    "            + str(len(fnames))\n",
    "        )\n",
    "\n",
    "        mosaic, out_trans = merge(src_files_to_mosaic, indexes=[b_lst[j]])\n",
    "        out_meta = src.meta.copy()\n",
    "        # Update the metadata\n",
    "        out_meta.update(\n",
    "            {\n",
    "                \"driver\": \"GTiff\",\n",
    "                \"height\": mosaic.shape[1],\n",
    "                \"width\": mosaic.shape[2],\n",
    "                \"transform\": out_trans,\n",
    "                \"crs\": src.crs,\n",
    "                \"count\": 1,\n",
    "            }\n",
    "        )\n",
    "        # Save the mosaic\n",
    "        with rasterio.open(\n",
    "            out_dir + \"mosaic_\" + b_lst_names[j] + \"_\" + str(years_etm[i]) + \".tif\",\n",
    "            \"w\",\n",
    "            **out_meta,\n",
    "            compress=\"lzw\"\n",
    "        ) as dest:\n",
    "            dest.write(mosaic)\n",
    "        del mosaic, out_meta, src_files_to_mosaic\n"
   ]
  }
 ],
 "metadata": {
  "kernelspec": {
   "display_name": "Python 3.9.13 ('geospatial')",
   "language": "python",
   "name": "python3"
  },
  "language_info": {
   "codemirror_mode": {
    "name": "ipython",
    "version": 3
   },
   "file_extension": ".py",
   "mimetype": "text/x-python",
   "name": "python",
   "nbconvert_exporter": "python",
   "pygments_lexer": "ipython3",
   "version": "3.9.13"
  },
  "orig_nbformat": 4,
  "vscode": {
   "interpreter": {
    "hash": "58d4357dc51a73699c5449b037ed9e8ebf9460004e4993ef846dc1036514c650"
   }
  }
 },
 "nbformat": 4,
 "nbformat_minor": 2
}
