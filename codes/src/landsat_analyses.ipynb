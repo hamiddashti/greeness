{
 "cells": [
  {
   "cell_type": "markdown",
   "metadata": {},
   "source": [
    "Goal: Mosaic the landsat scenes for five variables:\n",
    "\n",
    "    - spring onset\n",
    "    - automn onset\n",
    "    - peak NDVI\n",
    "    - Red\n",
    "    - NIR \n",
    "source of the data [ABoVE: Annual Phenology Derived from Landsat across the ABoVE Core Domain, 1984-2014](https://daac.ornl.gov/cgi-bin/dsviewer.pl?ds_id=1698) \n",
    "\n",
    "Note it takes so much memory! If you run into memory issue use [this package](https://github.com/bluegeo/dask-mosaic)"
   ]
  },
  {
   "cell_type": "code",
   "execution_count": 1,
   "metadata": {},
   "outputs": [],
   "source": [
    "import xarray as xr\n",
    "import pandas as pd\n",
    "import rasterio\n",
    "from rasterio.merge import merge\n",
    "import glob\n",
    "import numpy as np\n"
   ]
  },
  {
   "cell_type": "code",
   "execution_count": 2,
   "metadata": {},
   "outputs": [],
   "source": [
    "# Read raw data\n",
    "\n",
    "dir = \"/data/home/hamiddashti/hamid/nasa_above/greeness/\"\n",
    "\n",
    "in_dir = (\n",
    "    \"/data/ABOVE/ABoVE_Final_Data/landsat/phenology/orders/\"\n",
    "    \"dc6b1f56b7619c37e1a4b6fec7ce3dcc/Annual_Seasonality_Greenness/data/\"\n",
    ")\n",
    "out_dir = dir + \"data/processed_data/landsat/mosaic/\"\n"
   ]
  },
  {
   "cell_type": "markdown",
   "metadata": {},
   "source": [
    "Refer to [HERE](https://daac.ornl.gov/ABOVE/guides/Annual_Seasonality_Greenness.html) for data structur. \n",
    "\n",
    "Each variable (spring onset and autumn onset) are recorded as a file with 31 bands where each band is a year from 1984 to 2014"
   ]
  },
  {
   "cell_type": "code",
   "execution_count": 4,
   "metadata": {},
   "outputs": [
    {
     "name": "stdout",
     "output_type": "stream",
     "text": [
      "Mosaicing sesonal,year:1985,var:spr,#scenes:169\n",
      "Mosaicing sesonal,year:1986,var:spr,#scenes:169\n",
      "Mosaicing sesonal,year:1987,var:spr,#scenes:169\n",
      "Mosaicing sesonal,year:1988,var:spr,#scenes:169\n",
      "Mosaicing sesonal,year:1989,var:spr,#scenes:169\n",
      "Mosaicing sesonal,year:1990,var:spr,#scenes:169\n",
      "Mosaicing sesonal,year:1991,var:spr,#scenes:169\n"
     ]
    }
   ],
   "source": [
    "years = pd.date_range(start=\"1984\", end=\"2015\", freq=\"A\").year\n",
    "\n",
    "# Spring onset and autumn onset\n",
    "var_names = [\"spr\", \"aut\"]\n",
    "\n",
    "for i in var_names:\n",
    "    for j in np.arange(0, len(years)):\n",
    "\n",
    "        # Read all the file names\n",
    "        fnames = glob.glob(in_dir + \"*pheno.\" + i + \".tif\")\n",
    "\n",
    "        src_files_to_mosaic = []\n",
    "\n",
    "        # Open all files\n",
    "        for fp in fnames:\n",
    "            src = rasterio.open(fp)\n",
    "            src_files_to_mosaic.append(src)\n",
    "\n",
    "        # Start mosaicing\n",
    "        print(\n",
    "            \"Mosaicing sesonal,year:\"\n",
    "            + str(years[j])\n",
    "            + \",var:\"\n",
    "            + i\n",
    "            + \",#scenes:\"\n",
    "            + str(len(fnames))\n",
    "        )\n",
    "\n",
    "        mosaic, out_trans = merge(\n",
    "            src_files_to_mosaic, indexes=[j + 1]\n",
    "        )  # note bands start from 1\n",
    "        out_meta = src.meta.copy()\n",
    "        # Update the metadata\n",
    "        out_meta.update(\n",
    "            {\n",
    "                \"driver\": \"GTiff\",\n",
    "                \"height\": mosaic.shape[1],\n",
    "                \"width\": mosaic.shape[2],\n",
    "                \"transform\": out_trans,\n",
    "                \"crs\": src.crs,\n",
    "                \"count\": 1,\n",
    "            }\n",
    "        )\n",
    "\n",
    "        # Save the mosaic\n",
    "        with rasterio.open(\n",
    "            out_dir + \"mosaic_\" + i + \"_\" + str(years[j]) + \".tif\",\n",
    "            \"w\",\n",
    "            **out_meta,\n",
    "            compress=\"lzw\"\n",
    "        ) as dest:\n",
    "            dest.write(mosaic)\n",
    "\n",
    "        # Free memory\n",
    "        del mosaic, out_meta, src_files_to_mosaic\n"
   ]
  },
  {
   "cell_type": "markdown",
   "metadata": {},
   "source": [
    "Mosaicing TM5 data. These data are from 1984 to 2011. "
   ]
  },
  {
   "cell_type": "code",
   "execution_count": 3,
   "metadata": {},
   "outputs": [
    {
     "name": "stdout",
     "output_type": "stream",
     "text": [
      "Mosaicing et5,year:1984,var:NDVI,#scenes:9\n",
      "Mosaicing et5,year:1984,var:Red,#scenes:9\n",
      "Mosaicing et5,year:1984,var:NIR,#scenes:9\n",
      "Mosaicing et5,year:1985,var:NDVI,#scenes:9\n",
      "Mosaicing et5,year:1985,var:Red,#scenes:9\n",
      "Mosaicing et5,year:1985,var:NIR,#scenes:9\n",
      "Mosaicing et5,year:1986,var:NDVI,#scenes:9\n"
     ]
    },
    {
     "ename": "KeyboardInterrupt",
     "evalue": "",
     "output_type": "error",
     "traceback": [
      "\u001b[0;31m---------------------------------------------------------------------------\u001b[0m",
      "\u001b[0;31mKeyboardInterrupt\u001b[0m                         Traceback (most recent call last)",
      "\u001b[1;32m/data/home/hamiddashti/hamid/nasa_above/greeness/codes/src/landsat_analyses.ipynb Cell 7\u001b[0m in \u001b[0;36m<cell line: 6>\u001b[0;34m()\u001b[0m\n\u001b[1;32m     <a href='vscode-notebook-cell://ssh-remote%2B7b22686f73744e616d65223a2257484541542d5541227d/data/home/hamiddashti/hamid/nasa_above/greeness/codes/src/landsat_analyses.ipynb#W6sdnNjb2RlLXJlbW90ZQ%3D%3D?line=18'>19</a>\u001b[0m \u001b[39m# Start mosaicing\u001b[39;00m\n\u001b[1;32m     <a href='vscode-notebook-cell://ssh-remote%2B7b22686f73744e616d65223a2257484541542d5541227d/data/home/hamiddashti/hamid/nasa_above/greeness/codes/src/landsat_analyses.ipynb#W6sdnNjb2RlLXJlbW90ZQ%3D%3D?line=19'>20</a>\u001b[0m \u001b[39mprint\u001b[39m(\n\u001b[1;32m     <a href='vscode-notebook-cell://ssh-remote%2B7b22686f73744e616d65223a2257484541542d5541227d/data/home/hamiddashti/hamid/nasa_above/greeness/codes/src/landsat_analyses.ipynb#W6sdnNjb2RlLXJlbW90ZQ%3D%3D?line=20'>21</a>\u001b[0m     \u001b[39m\"\u001b[39m\u001b[39mMosaicing et5,year:\u001b[39m\u001b[39m\"\u001b[39m\n\u001b[1;32m     <a href='vscode-notebook-cell://ssh-remote%2B7b22686f73744e616d65223a2257484541542d5541227d/data/home/hamiddashti/hamid/nasa_above/greeness/codes/src/landsat_analyses.ipynb#W6sdnNjb2RlLXJlbW90ZQ%3D%3D?line=21'>22</a>\u001b[0m     \u001b[39m+\u001b[39m \u001b[39mstr\u001b[39m(years_tm5[i])\n\u001b[0;32m   (...)\u001b[0m\n\u001b[1;32m     <a href='vscode-notebook-cell://ssh-remote%2B7b22686f73744e616d65223a2257484541542d5541227d/data/home/hamiddashti/hamid/nasa_above/greeness/codes/src/landsat_analyses.ipynb#W6sdnNjb2RlLXJlbW90ZQ%3D%3D?line=25'>26</a>\u001b[0m     \u001b[39m+\u001b[39m \u001b[39mstr\u001b[39m(\u001b[39mlen\u001b[39m(fnames))\n\u001b[1;32m     <a href='vscode-notebook-cell://ssh-remote%2B7b22686f73744e616d65223a2257484541542d5541227d/data/home/hamiddashti/hamid/nasa_above/greeness/codes/src/landsat_analyses.ipynb#W6sdnNjb2RlLXJlbW90ZQ%3D%3D?line=26'>27</a>\u001b[0m )\n\u001b[0;32m---> <a href='vscode-notebook-cell://ssh-remote%2B7b22686f73744e616d65223a2257484541542d5541227d/data/home/hamiddashti/hamid/nasa_above/greeness/codes/src/landsat_analyses.ipynb#W6sdnNjb2RlLXJlbW90ZQ%3D%3D?line=28'>29</a>\u001b[0m mosaic, out_trans \u001b[39m=\u001b[39m merge(src_files_to_mosaic, indexes\u001b[39m=\u001b[39;49m[b_lst[j]])\n\u001b[1;32m     <a href='vscode-notebook-cell://ssh-remote%2B7b22686f73744e616d65223a2257484541542d5541227d/data/home/hamiddashti/hamid/nasa_above/greeness/codes/src/landsat_analyses.ipynb#W6sdnNjb2RlLXJlbW90ZQ%3D%3D?line=29'>30</a>\u001b[0m out_meta \u001b[39m=\u001b[39m src\u001b[39m.\u001b[39mmeta\u001b[39m.\u001b[39mcopy()\n\u001b[1;32m     <a href='vscode-notebook-cell://ssh-remote%2B7b22686f73744e616d65223a2257484541542d5541227d/data/home/hamiddashti/hamid/nasa_above/greeness/codes/src/landsat_analyses.ipynb#W6sdnNjb2RlLXJlbW90ZQ%3D%3D?line=30'>31</a>\u001b[0m \u001b[39m# Update the metadata\u001b[39;00m\n",
      "File \u001b[0;32m~/miniconda3/envs/geospatial/lib/python3.9/site-packages/rasterio/merge.py:315\u001b[0m, in \u001b[0;36mmerge\u001b[0;34m(datasets, bounds, res, nodata, dtype, precision, indexes, output_count, resampling, method, target_aligned_pixels, dst_path, dst_kwds)\u001b[0m\n\u001b[1;32m    313\u001b[0m         inrange \u001b[39m=\u001b[39m (info\u001b[39m.\u001b[39mmin \u001b[39m<\u001b[39m\u001b[39m=\u001b[39m nodataval \u001b[39m<\u001b[39m\u001b[39m=\u001b[39m info\u001b[39m.\u001b[39mmax)\n\u001b[1;32m    314\u001b[0m \u001b[39mif\u001b[39;00m inrange:\n\u001b[0;32m--> 315\u001b[0m     dest\u001b[39m.\u001b[39;49mfill(nodataval)\n\u001b[1;32m    316\u001b[0m \u001b[39melse\u001b[39;00m:\n\u001b[1;32m    317\u001b[0m     warnings\u001b[39m.\u001b[39mwarn(\n\u001b[1;32m    318\u001b[0m         \u001b[39m\"\u001b[39m\u001b[39mThe nodata value, \u001b[39m\u001b[39m%s\u001b[39;00m\u001b[39m, is beyond the valid \u001b[39m\u001b[39m\"\u001b[39m\n\u001b[1;32m    319\u001b[0m         \u001b[39m\"\u001b[39m\u001b[39mrange of the chosen data type, \u001b[39m\u001b[39m%s\u001b[39;00m\u001b[39m. Consider overriding it \u001b[39m\u001b[39m\"\u001b[39m\n\u001b[1;32m    320\u001b[0m         \u001b[39m\"\u001b[39m\u001b[39musing the --nodata option for better results.\u001b[39m\u001b[39m\"\u001b[39m \u001b[39m%\u001b[39m (\n\u001b[1;32m    321\u001b[0m             nodataval, dt))\n",
      "\u001b[0;31mKeyboardInterrupt\u001b[0m: "
     ]
    }
   ],
   "source": [
    "years_tm5 = pd.date_range(start=\"1984\", end=\"2012\", freq=\"A\").year\n",
    "\n",
    "b_lst = [1, 3, 4]  # Bands to be selected for mosaicing (i.e. ndvi,red, nir)\n",
    "b_lst_names = [\"NDVI\", \"Red\", \"NIR\"]\n",
    "\n",
    "for i in np.arange(0, len(years_tm5)):\n",
    "    for j in np.arange(0, len(b_lst)):\n",
    "\n",
    "        # Read all the file names\n",
    "        fnames = glob.glob(in_dir + \"*tm5.\" + str(years_tm5[i]) + \".tif\")\n",
    "        src_files_to_mosaic = []\n",
    "\n",
    "        # Open all files\n",
    "        for fp in fnames:\n",
    "            src = rasterio.open(fp)\n",
    "            src_files_to_mosaic.append(src)\n",
    "\n",
    "        # Start mosaicing\n",
    "        print(\n",
    "            \"Mosaicing et5,year:\"\n",
    "            + str(years_tm5[i])\n",
    "            + \",var:\"\n",
    "            + str(b_lst_names[j])\n",
    "            + \",#scenes:\"\n",
    "            + str(len(fnames))\n",
    "        )\n",
    "\n",
    "        mosaic, out_trans = merge(src_files_to_mosaic, indexes=[b_lst[j]])\n",
    "        out_meta = src.meta.copy()\n",
    "        # Update the metadata\n",
    "        out_meta.update(\n",
    "            {\n",
    "                \"driver\": \"GTiff\",\n",
    "                \"height\": mosaic.shape[1],\n",
    "                \"width\": mosaic.shape[2],\n",
    "                \"transform\": out_trans,\n",
    "                \"crs\": src.crs,\n",
    "                \"count\": 1,\n",
    "            }\n",
    "        )\n",
    "\n",
    "        # Save the mosaic\n",
    "        with rasterio.open(\n",
    "            out_dir + \"mosaic_\" + b_lst_names[j] + \"_\" + str(years_tm5[i]) + \".tif\",\n",
    "            \"w\",\n",
    "            **out_meta,\n",
    "            compress=\"lzw\"\n",
    "        ) as dest:\n",
    "            dest.write(mosaic)\n",
    "\n",
    "        # Free memory\n",
    "        del mosaic, out_meta, src_files_to_mosaic\n"
   ]
  },
  {
   "cell_type": "markdown",
   "metadata": {},
   "source": [
    "Mosaicing ETM data. These data ranges from 1999 to 2014"
   ]
  },
  {
   "cell_type": "code",
   "execution_count": 32,
   "metadata": {},
   "outputs": [
    {
     "name": "stdout",
     "output_type": "stream",
     "text": [
      "No file for in ETM data year:1999,var:NDVI\n",
      "No file for in ETM data year:2000,var:NDVI\n",
      "No file for in ETM data year:2001,var:NDVI\n",
      "No file for in ETM data year:2002,var:NDVI\n",
      "No file for in ETM data year:2003,var:NDVI\n",
      "No file for in ETM data year:2004,var:NDVI\n",
      "No file for in ETM data year:2005,var:NDVI\n",
      "No file for in ETM data year:2006,var:NDVI\n",
      "No file for in ETM data year:2007,var:NDVI\n",
      "No file for in ETM data year:2008,var:NDVI\n",
      "No file for in ETM data year:2009,var:NDVI\n",
      "No file for in ETM data year:2010,var:NDVI\n",
      "No file for in ETM data year:2011,var:NDVI\n",
      "No file for in ETM data year:2012,var:NDVI\n",
      "No file for in ETM data year:2013,var:NDVI\n"
     ]
    }
   ],
   "source": [
    "years_etm = pd.date_range(start=\"1999\", end=\"2015\", freq=\"A\").year\n",
    "b_lst = [1, 3, 4]\n",
    "b_lst_names = [\"NDVI\", \"Red\", \"NIR\"]\n",
    "\n",
    "for i in np.arange(0, len(years_etm)):\n",
    "    for j in np.arange(0, len(b_lst)):\n",
    "\n",
    "        # Read all the file names\n",
    "        fnames = glob.glob(in_dir + \"*etm.\" + str(years_etm[i]) + \".tif\")\n",
    "        src_files_to_mosaic = []\n",
    "\n",
    "        # Open all files\n",
    "        for fp in fnames:\n",
    "            src = rasterio.open(fp)\n",
    "            src_files_to_mosaic.append(src)\n",
    "        # Start mosaicing\n",
    "        print(\n",
    "            \"Mosaicing ETM,year:\"\n",
    "            + str(years_etm[i])\n",
    "            + \",var:\"\n",
    "            + str(b_lst_names[j])\n",
    "            + \",#scenes:\"\n",
    "            + str(len(fnames))\n",
    "        )\n",
    "\n",
    "        mosaic, out_trans = merge(src_files_to_mosaic, indexes=[b_lst[j]])\n",
    "        out_meta = src.meta.copy()\n",
    "        # Update the metadata\n",
    "        out_meta.update(\n",
    "            {\n",
    "                \"driver\": \"GTiff\",\n",
    "                \"height\": mosaic.shape[1],\n",
    "                \"width\": mosaic.shape[2],\n",
    "                \"transform\": out_trans,\n",
    "                \"crs\": src.crs,\n",
    "                \"count\": 1,\n",
    "            }\n",
    "        )\n",
    "        # Save the mosaic\n",
    "        with rasterio.open(\n",
    "            out_dir + \"mosaic_\" + b_lst_names[j] + \"_\" + str(years_etm[i]) + \".tif\",\n",
    "            \"w\",\n",
    "            **out_meta,\n",
    "            compress=\"lzw\"\n",
    "        ) as dest:\n",
    "            dest.write(mosaic)\n",
    "        del mosaic, out_meta, src_files_to_mosaic\n"
   ]
  }
 ],
 "metadata": {
  "kernelspec": {
   "display_name": "Python 3.9.13 ('geospatial')",
   "language": "python",
   "name": "python3"
  },
  "language_info": {
   "codemirror_mode": {
    "name": "ipython",
    "version": 3
   },
   "file_extension": ".py",
   "mimetype": "text/x-python",
   "name": "python",
   "nbconvert_exporter": "python",
   "pygments_lexer": "ipython3",
   "version": "3.9.13"
  },
  "orig_nbformat": 4,
  "vscode": {
   "interpreter": {
    "hash": "58d4357dc51a73699c5449b037ed9e8ebf9460004e4993ef846dc1036514c650"
   }
  }
 },
 "nbformat": 4,
 "nbformat_minor": 2
}
