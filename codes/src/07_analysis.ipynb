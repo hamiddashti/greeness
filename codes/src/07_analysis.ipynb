{
 "cells": [
  {
   "cell_type": "code",
   "execution_count": 1,
   "metadata": {},
   "outputs": [],
   "source": [
    "import xarray as xr \n",
    "import numpy as np \n",
    "import matplotlib.pylab as plt\n",
    "import seaborn as sns \n",
    "import pandas as pd\n",
    "dir = \"/data/home/hamiddashti/hamid/nasa_above/greeness/\"\n",
    "out_dir = \"/data/home/hamiddashti/hamid/nasa_above/greeness/working/\""
   ]
  },
  {
   "cell_type": "code",
   "execution_count": 8,
   "metadata": {},
   "outputs": [],
   "source": [
    "trend_total_lst_monthly = xr.open_dataarray(dir+\"/data/processed_data/noaa_nc/lai_fapar/trend/trend_total_lst_monthly.nc\")\n",
    "trend_nv_lst_monthly = xr.open_dataarray(dir+\"/data/processed_data/noaa_nc/lai_fapar/trend/trend_nv_lst_monthly.nc\")\n",
    "trend_lcc_lst_monthly = xr.open_dataarray(dir+\"/data/processed_data/noaa_nc/lai_fapar/trend/trend_lcc_lst_monthly.nc\")"
   ]
  },
  {
   "cell_type": "code",
   "execution_count": 21,
   "metadata": {},
   "outputs": [
    {
     "name": "stdout",
     "output_type": "stream",
     "text": [
      "0.009323142440202372\n",
      "0.011200011688205195\n",
      "0.011528348835211331\n",
      "0.011179649826155309\n",
      "0.00847586633731014\n",
      "0.003843774503576934\n"
     ]
    }
   ],
   "source": [
    "for k in range(2):\n",
    "    print(trend_lcc_lst_monthly.isel(months=k).mean().values)"
   ]
  },
  {
   "cell_type": "code",
   "execution_count": 16,
   "metadata": {},
   "outputs": [
    {
     "name": "stdout",
     "output_type": "stream",
     "text": [
      "0.01\n",
      "0.012\n",
      "0.013\n",
      "0.012\n",
      "0.008\n",
      "0.003\n"
     ]
    }
   ],
   "source": [
    "lst = []\n",
    "for k in range(6):\n",
    "    data = trend_total_lst_monthly.isel(months=k).values.ravel()\n",
    "    # lst.append(data)\n",
    "    data = data[~np.isnan(data)]\n",
    "    print(np.round(np.mean(data),3))\n",
    "    # plt.boxplot(data,positions=[k])\n",
    "\n",
    "\n",
    "# sns.boxplot(data)"
   ]
  },
  {
   "cell_type": "code",
   "execution_count": 38,
   "metadata": {},
   "outputs": [
    {
     "ename": "KeyboardInterrupt",
     "evalue": "",
     "output_type": "error",
     "traceback": [
      "\u001b[0;31m---------------------------------------------------------------------------\u001b[0m",
      "\u001b[0;31mKeyboardInterrupt\u001b[0m                         Traceback (most recent call last)",
      "\u001b[1;32m/data/home/hamiddashti/hamid/nasa_above/greeness/codes/src/07_analysis.ipynb Cell 5\u001b[0m in \u001b[0;36m<cell line: 1>\u001b[0;34m()\u001b[0m\n\u001b[0;32m----> <a href='vscode-notebook-cell://ssh-remote%2B7b22686f73744e616d65223a2257484541542d5541227d/data/home/hamiddashti/hamid/nasa_above/greeness/codes/src/07_analysis.ipynb#W4sdnNjb2RlLXJlbW90ZQ%3D%3D?line=0'>1</a>\u001b[0m sns\u001b[39m.\u001b[39;49mboxplot(df)\n",
      "File \u001b[0;32m~/miniconda3/envs/geospatial/lib/python3.9/site-packages/seaborn/categorical.py:2230\u001b[0m, in \u001b[0;36mboxplot\u001b[0;34m(data, x, y, hue, order, hue_order, orient, color, palette, saturation, width, dodge, fliersize, linewidth, whis, ax, **kwargs)\u001b[0m\n\u001b[1;32m   2223\u001b[0m \u001b[39mdef\u001b[39;00m \u001b[39mboxplot\u001b[39m(\n\u001b[1;32m   2224\u001b[0m     data\u001b[39m=\u001b[39m\u001b[39mNone\u001b[39;00m, \u001b[39m*\u001b[39m, x\u001b[39m=\u001b[39m\u001b[39mNone\u001b[39;00m, y\u001b[39m=\u001b[39m\u001b[39mNone\u001b[39;00m, hue\u001b[39m=\u001b[39m\u001b[39mNone\u001b[39;00m, order\u001b[39m=\u001b[39m\u001b[39mNone\u001b[39;00m, hue_order\u001b[39m=\u001b[39m\u001b[39mNone\u001b[39;00m,\n\u001b[1;32m   2225\u001b[0m     orient\u001b[39m=\u001b[39m\u001b[39mNone\u001b[39;00m, color\u001b[39m=\u001b[39m\u001b[39mNone\u001b[39;00m, palette\u001b[39m=\u001b[39m\u001b[39mNone\u001b[39;00m, saturation\u001b[39m=\u001b[39m\u001b[39m.75\u001b[39m, width\u001b[39m=\u001b[39m\u001b[39m.8\u001b[39m,\n\u001b[1;32m   2226\u001b[0m     dodge\u001b[39m=\u001b[39m\u001b[39mTrue\u001b[39;00m, fliersize\u001b[39m=\u001b[39m\u001b[39m5\u001b[39m, linewidth\u001b[39m=\u001b[39m\u001b[39mNone\u001b[39;00m, whis\u001b[39m=\u001b[39m\u001b[39m1.5\u001b[39m, ax\u001b[39m=\u001b[39m\u001b[39mNone\u001b[39;00m,\n\u001b[1;32m   2227\u001b[0m     \u001b[39m*\u001b[39m\u001b[39m*\u001b[39mkwargs\n\u001b[1;32m   2228\u001b[0m ):\n\u001b[0;32m-> 2230\u001b[0m     plotter \u001b[39m=\u001b[39m _BoxPlotter(x, y, hue, data, order, hue_order,\n\u001b[1;32m   2231\u001b[0m                           orient, color, palette, saturation,\n\u001b[1;32m   2232\u001b[0m                           width, dodge, fliersize, linewidth)\n\u001b[1;32m   2234\u001b[0m     \u001b[39mif\u001b[39;00m ax \u001b[39mis\u001b[39;00m \u001b[39mNone\u001b[39;00m:\n\u001b[1;32m   2235\u001b[0m         ax \u001b[39m=\u001b[39m plt\u001b[39m.\u001b[39mgca()\n",
      "File \u001b[0;32m~/miniconda3/envs/geospatial/lib/python3.9/site-packages/seaborn/categorical.py:785\u001b[0m, in \u001b[0;36m_BoxPlotter.__init__\u001b[0;34m(self, x, y, hue, data, order, hue_order, orient, color, palette, saturation, width, dodge, fliersize, linewidth)\u001b[0m\n\u001b[1;32m    781\u001b[0m \u001b[39mdef\u001b[39;00m \u001b[39m__init__\u001b[39m(\u001b[39mself\u001b[39m, x, y, hue, data, order, hue_order,\n\u001b[1;32m    782\u001b[0m              orient, color, palette, saturation,\n\u001b[1;32m    783\u001b[0m              width, dodge, fliersize, linewidth):\n\u001b[0;32m--> 785\u001b[0m     \u001b[39mself\u001b[39;49m\u001b[39m.\u001b[39;49mestablish_variables(x, y, hue, data, orient, order, hue_order)\n\u001b[1;32m    786\u001b[0m     \u001b[39mself\u001b[39m\u001b[39m.\u001b[39mestablish_colors(color, palette, saturation)\n\u001b[1;32m    788\u001b[0m     \u001b[39mself\u001b[39m\u001b[39m.\u001b[39mdodge \u001b[39m=\u001b[39m dodge\n",
      "File \u001b[0;32m~/miniconda3/envs/geospatial/lib/python3.9/site-packages/seaborn/categorical.py:462\u001b[0m, in \u001b[0;36m_CategoricalPlotter.establish_variables\u001b[0;34m(self, x, y, hue, data, orient, order, hue_order, units)\u001b[0m\n\u001b[1;32m    460\u001b[0m     \u001b[39m# Reduce to just numeric columns\u001b[39;00m\n\u001b[1;32m    461\u001b[0m     \u001b[39mfor\u001b[39;00m col \u001b[39min\u001b[39;00m data:\n\u001b[0;32m--> 462\u001b[0m         \u001b[39mif\u001b[39;00m variable_type(data[col]) \u001b[39m==\u001b[39m \u001b[39m\"\u001b[39m\u001b[39mnumeric\u001b[39m\u001b[39m\"\u001b[39m:\n\u001b[1;32m    463\u001b[0m             order\u001b[39m.\u001b[39mappend(col)\n\u001b[1;32m    464\u001b[0m plot_data \u001b[39m=\u001b[39m data[order]\n",
      "File \u001b[0;32m~/miniconda3/envs/geospatial/lib/python3.9/site-packages/seaborn/_oldcore.py:1502\u001b[0m, in \u001b[0;36mvariable_type\u001b[0;34m(vector, boolean_type)\u001b[0m\n\u001b[1;32m   1499\u001b[0m     \u001b[39mreturn\u001b[39;00m VariableType(\u001b[39m\"\u001b[39m\u001b[39mcategorical\u001b[39m\u001b[39m\"\u001b[39m)\n\u001b[1;32m   1501\u001b[0m \u001b[39m# Special-case all-na data, which is always \"numeric\"\u001b[39;00m\n\u001b[0;32m-> 1502\u001b[0m \u001b[39mif\u001b[39;00m pd\u001b[39m.\u001b[39;49misna(vector)\u001b[39m.\u001b[39;49mall():\n\u001b[1;32m   1503\u001b[0m     \u001b[39mreturn\u001b[39;00m VariableType(\u001b[39m\"\u001b[39m\u001b[39mnumeric\u001b[39m\u001b[39m\"\u001b[39m)\n\u001b[1;32m   1505\u001b[0m \u001b[39m# Special-case binary/boolean data, allow caller to determine\u001b[39;00m\n\u001b[1;32m   1506\u001b[0m \u001b[39m# This triggers a numpy warning when vector has strings/objects\u001b[39;00m\n\u001b[1;32m   1507\u001b[0m \u001b[39m# https://github.com/numpy/numpy/issues/6784\u001b[39;00m\n\u001b[0;32m   (...)\u001b[0m\n\u001b[1;32m   1511\u001b[0m \u001b[39m# https://github.com/numpy/numpy/issues/13548\u001b[39;00m\n\u001b[1;32m   1512\u001b[0m \u001b[39m# This is considered a bug by numpy and will likely go away.\u001b[39;00m\n",
      "File \u001b[0;32m~/miniconda3/envs/geospatial/lib/python3.9/site-packages/pandas/core/generic.py:10901\u001b[0m, in \u001b[0;36mNDFrame._add_numeric_operations.<locals>.all\u001b[0;34m(self, axis, bool_only, skipna, level, **kwargs)\u001b[0m\n\u001b[1;32m  10890\u001b[0m \u001b[39m@doc\u001b[39m(\n\u001b[1;32m  10891\u001b[0m     _bool_doc,\n\u001b[1;32m  10892\u001b[0m     desc\u001b[39m=\u001b[39m_all_desc,\n\u001b[0;32m   (...)\u001b[0m\n\u001b[1;32m  10899\u001b[0m )\n\u001b[1;32m  10900\u001b[0m \u001b[39mdef\u001b[39;00m \u001b[39mall\u001b[39m(\u001b[39mself\u001b[39m, axis\u001b[39m=\u001b[39m\u001b[39m0\u001b[39m, bool_only\u001b[39m=\u001b[39m\u001b[39mNone\u001b[39;00m, skipna\u001b[39m=\u001b[39m\u001b[39mTrue\u001b[39;00m, level\u001b[39m=\u001b[39m\u001b[39mNone\u001b[39;00m, \u001b[39m*\u001b[39m\u001b[39m*\u001b[39mkwargs):\n\u001b[0;32m> 10901\u001b[0m     \u001b[39mreturn\u001b[39;00m NDFrame\u001b[39m.\u001b[39;49mall(\u001b[39mself\u001b[39;49m, axis, bool_only, skipna, level, \u001b[39m*\u001b[39;49m\u001b[39m*\u001b[39;49mkwargs)\n",
      "File \u001b[0;32m~/miniconda3/envs/geospatial/lib/python3.9/site-packages/pandas/core/generic.py:10473\u001b[0m, in \u001b[0;36mNDFrame.all\u001b[0;34m(self, axis, bool_only, skipna, level, **kwargs)\u001b[0m\n\u001b[1;32m  10465\u001b[0m \u001b[39mdef\u001b[39;00m \u001b[39mall\u001b[39m(\n\u001b[1;32m  10466\u001b[0m     \u001b[39mself\u001b[39m,\n\u001b[1;32m  10467\u001b[0m     axis: Axis \u001b[39m=\u001b[39m \u001b[39m0\u001b[39m,\n\u001b[0;32m   (...)\u001b[0m\n\u001b[1;32m  10471\u001b[0m     \u001b[39m*\u001b[39m\u001b[39m*\u001b[39mkwargs,\n\u001b[1;32m  10472\u001b[0m ) \u001b[39m-\u001b[39m\u001b[39m>\u001b[39m Series \u001b[39m|\u001b[39m bool_t:\n\u001b[0;32m> 10473\u001b[0m     \u001b[39mreturn\u001b[39;00m \u001b[39mself\u001b[39;49m\u001b[39m.\u001b[39;49m_logical_func(\n\u001b[1;32m  10474\u001b[0m         \u001b[39m\"\u001b[39;49m\u001b[39mall\u001b[39;49m\u001b[39m\"\u001b[39;49m, nanops\u001b[39m.\u001b[39;49mnanall, axis, bool_only, skipna, level, \u001b[39m*\u001b[39;49m\u001b[39m*\u001b[39;49mkwargs\n\u001b[1;32m  10475\u001b[0m     )\n",
      "File \u001b[0;32m~/miniconda3/envs/geospatial/lib/python3.9/site-packages/pandas/core/generic.py:10444\u001b[0m, in \u001b[0;36mNDFrame._logical_func\u001b[0;34m(self, name, func, axis, bool_only, skipna, level, **kwargs)\u001b[0m\n\u001b[1;32m  10441\u001b[0m         obj \u001b[39m=\u001b[39m \u001b[39mself\u001b[39m\u001b[39m.\u001b[39m_get_bool_data()\n\u001b[1;32m  10442\u001b[0m     \u001b[39mreturn\u001b[39;00m obj\u001b[39m.\u001b[39m_reduce_axis1(name, func, skipna\u001b[39m=\u001b[39mskipna)\n\u001b[0;32m> 10444\u001b[0m \u001b[39mreturn\u001b[39;00m \u001b[39mself\u001b[39;49m\u001b[39m.\u001b[39;49m_reduce(\n\u001b[1;32m  10445\u001b[0m     func,\n\u001b[1;32m  10446\u001b[0m     name\u001b[39m=\u001b[39;49mname,\n\u001b[1;32m  10447\u001b[0m     axis\u001b[39m=\u001b[39;49maxis,\n\u001b[1;32m  10448\u001b[0m     skipna\u001b[39m=\u001b[39;49mskipna,\n\u001b[1;32m  10449\u001b[0m     numeric_only\u001b[39m=\u001b[39;49mbool_only,\n\u001b[1;32m  10450\u001b[0m     filter_type\u001b[39m=\u001b[39;49m\u001b[39m\"\u001b[39;49m\u001b[39mbool\u001b[39;49m\u001b[39m\"\u001b[39;49m,\n\u001b[1;32m  10451\u001b[0m )\n",
      "File \u001b[0;32m~/miniconda3/envs/geospatial/lib/python3.9/site-packages/pandas/core/series.py:4471\u001b[0m, in \u001b[0;36mSeries._reduce\u001b[0;34m(self, op, name, axis, skipna, numeric_only, filter_type, **kwds)\u001b[0m\n\u001b[1;32m   4467\u001b[0m     \u001b[39mraise\u001b[39;00m \u001b[39mNotImplementedError\u001b[39;00m(\n\u001b[1;32m   4468\u001b[0m         \u001b[39mf\u001b[39m\u001b[39m\"\u001b[39m\u001b[39mSeries.\u001b[39m\u001b[39m{\u001b[39;00mname\u001b[39m}\u001b[39;00m\u001b[39m does not implement \u001b[39m\u001b[39m{\u001b[39;00mkwd_name\u001b[39m}\u001b[39;00m\u001b[39m.\u001b[39m\u001b[39m\"\u001b[39m\n\u001b[1;32m   4469\u001b[0m     )\n\u001b[1;32m   4470\u001b[0m \u001b[39mwith\u001b[39;00m np\u001b[39m.\u001b[39merrstate(\u001b[39mall\u001b[39m\u001b[39m=\u001b[39m\u001b[39m\"\u001b[39m\u001b[39mignore\u001b[39m\u001b[39m\"\u001b[39m):\n\u001b[0;32m-> 4471\u001b[0m     \u001b[39mreturn\u001b[39;00m op(delegate, skipna\u001b[39m=\u001b[39;49mskipna, \u001b[39m*\u001b[39;49m\u001b[39m*\u001b[39;49mkwds)\n",
      "File \u001b[0;32m~/miniconda3/envs/geospatial/lib/python3.9/site-packages/pandas/core/nanops.py:568\u001b[0m, in \u001b[0;36mnanall\u001b[0;34m(values, axis, skipna, mask)\u001b[0m\n\u001b[1;32m    534\u001b[0m \u001b[39mdef\u001b[39;00m \u001b[39mnanall\u001b[39m(\n\u001b[1;32m    535\u001b[0m     values: np\u001b[39m.\u001b[39mndarray,\n\u001b[1;32m    536\u001b[0m     \u001b[39m*\u001b[39m,\n\u001b[0;32m   (...)\u001b[0m\n\u001b[1;32m    539\u001b[0m     mask: npt\u001b[39m.\u001b[39mNDArray[np\u001b[39m.\u001b[39mbool_] \u001b[39m|\u001b[39m \u001b[39mNone\u001b[39;00m \u001b[39m=\u001b[39m \u001b[39mNone\u001b[39;00m,\n\u001b[1;32m    540\u001b[0m ) \u001b[39m-\u001b[39m\u001b[39m>\u001b[39m \u001b[39mbool\u001b[39m:\n\u001b[1;32m    541\u001b[0m     \u001b[39m\"\"\"\u001b[39;00m\n\u001b[1;32m    542\u001b[0m \u001b[39m    Check if all elements along an axis evaluate to True.\u001b[39;00m\n\u001b[1;32m    543\u001b[0m \n\u001b[0;32m   (...)\u001b[0m\n\u001b[1;32m    566\u001b[0m \u001b[39m    False\u001b[39;00m\n\u001b[1;32m    567\u001b[0m \u001b[39m    \"\"\"\u001b[39;00m\n\u001b[0;32m--> 568\u001b[0m     values, _, _, _, _ \u001b[39m=\u001b[39m _get_values(values, skipna, fill_value\u001b[39m=\u001b[39;49m\u001b[39mTrue\u001b[39;49;00m, mask\u001b[39m=\u001b[39;49mmask)\n\u001b[1;32m    570\u001b[0m     \u001b[39m# For object type, all won't necessarily return\u001b[39;00m\n\u001b[1;32m    571\u001b[0m     \u001b[39m# boolean values (numpy/numpy#4352)\u001b[39;00m\n\u001b[1;32m    572\u001b[0m     \u001b[39mif\u001b[39;00m is_object_dtype(values):\n",
      "File \u001b[0;32m~/miniconda3/envs/geospatial/lib/python3.9/site-packages/pandas/core/nanops.py:310\u001b[0m, in \u001b[0;36m_get_values\u001b[0;34m(values, skipna, fill_value, fill_value_typ, mask)\u001b[0m\n\u001b[1;32m    306\u001b[0m values \u001b[39m=\u001b[39m extract_array(values, extract_numpy\u001b[39m=\u001b[39m\u001b[39mTrue\u001b[39;00m)  \u001b[39m# type: ignore[assignment]\u001b[39;00m\n\u001b[1;32m    308\u001b[0m mask \u001b[39m=\u001b[39m _maybe_get_mask(values, skipna, mask)\n\u001b[0;32m--> 310\u001b[0m dtype \u001b[39m=\u001b[39m values\u001b[39m.\u001b[39;49mdtype\n\u001b[1;32m    312\u001b[0m datetimelike \u001b[39m=\u001b[39m \u001b[39mFalse\u001b[39;00m\n\u001b[1;32m    313\u001b[0m \u001b[39mif\u001b[39;00m needs_i8_conversion(values\u001b[39m.\u001b[39mdtype):\n\u001b[1;32m    314\u001b[0m     \u001b[39m# changing timedelta64/datetime64 to int64 needs to happen after\u001b[39;00m\n\u001b[1;32m    315\u001b[0m     \u001b[39m#  finding `mask` above\u001b[39;00m\n",
      "\u001b[0;31mKeyboardInterrupt\u001b[0m: "
     ]
    }
   ],
   "source": [
    "with open(dir+\"data/processed_data/noaa_nc/lai_fapar/Rbeast/percent_mat_data_df_tmp_lst\", \"rb\") as fp:   # Unpickling\n",
    "    b = pk.load(fp)\n",
    "xr.open_dataset(dir+\"data/processed_data/noaa_nc/lai_fapar/Rbeast/\")\n",
    "import seaborn as sns\n",
    "months_names =  [\"May\",\"June\",\"July\",\"Aug\",\"Sep\",\"Oct\"]\n",
    "fig, axes = plt.subplots(2, 3, sharex=True,sharey=True, figsize=(16, 10))\n",
    "counter = 0\n",
    "for i in range(2):\n",
    "    for j in range(3):\n",
    "\n",
    "        sns.heatmap(\n",
    "            ax=axes[i, j],\n",
    "            \n",
    "            data=occurance_monthly.isel(months=counter)\n",
    "            / occurance_monthly.isel(months=counter).sum(),\n",
    "            annot=False,\n",
    "            cmap=\"OrRd\",\n",
    "            xticklabels=names,\n",
    "            yticklabels=names,\n",
    "            linewidth=.2,\n",
    "            \n",
    "        )\n",
    "        axes[i, j].set_title(months_names[counter])\n",
    "        counter += 1\n",
    "plt.savefig(dir+\"working/Figures/monthly_Rbeast.png\")"
   ]
  }
 ],
 "metadata": {
  "kernelspec": {
   "display_name": "Python 3.9.13 ('geospatial')",
   "language": "python",
   "name": "python3"
  },
  "language_info": {
   "codemirror_mode": {
    "name": "ipython",
    "version": 3
   },
   "file_extension": ".py",
   "mimetype": "text/x-python",
   "name": "python",
   "nbconvert_exporter": "python",
   "pygments_lexer": "ipython3",
   "version": "3.9.13"
  },
  "orig_nbformat": 4,
  "vscode": {
   "interpreter": {
    "hash": "58d4357dc51a73699c5449b037ed9e8ebf9460004e4993ef846dc1036514c650"
   }
  }
 },
 "nbformat": 4,
 "nbformat_minor": 2
}
