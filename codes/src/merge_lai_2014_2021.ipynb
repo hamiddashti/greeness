{
 "cells": [
  {
   "attachments": {},
   "cell_type": "markdown",
   "metadata": {},
   "source": [
    "Originally we only downloaded the LAI from 1984 to 2014,then we decided to download \n",
    "the rest all the way to 2021. The following codes just merge these two dataset"
   ]
  },
  {
   "cell_type": "code",
   "execution_count": 1,
   "metadata": {},
   "outputs": [],
   "source": [
    "import xarray as xr\n",
    "lai_2013 = xr.open_dataarray(\n",
    "    \"/data/home/hamiddashti/hamid/nasa_above/greeness/data/processed_data/noaa_nc/lai_fapar/resampled/lai_annual_resample_max_1984_2013.nc\"\n",
    ").rename({\n",
    "    \"latitude\": \"lat\",\n",
    "    \"longitude\": \"lon\"\n",
    "})\n",
    "lai_2021 = xr.open_dataarray(\n",
    "    \"/data/home/hamiddashti/hamid/nasa_above/greeness/data/processed_data/noaa_nc/lai_fapar/resampled/lai_annual_resample_max_2014_2021.nc\"\n",
    ").rename({\n",
    "    \"latitude\": \"lat\",\n",
    "    \"longitude\": \"lon\"\n",
    "})\n",
    "lai_all = xr.concat([lai_2013, lai_2021], dim=\"time\")\n",
    "lai_all.to_netcdf(\"../data/lai_all.nc\")"
   ]
  }
 ],
 "metadata": {
  "kernelspec": {
   "display_name": "geo",
   "language": "python",
   "name": "python3"
  },
  "language_info": {
   "codemirror_mode": {
    "name": "ipython",
    "version": 3
   },
   "file_extension": ".py",
   "mimetype": "text/x-python",
   "name": "python",
   "nbconvert_exporter": "python",
   "pygments_lexer": "ipython3",
   "version": "3.9.16"
  },
  "orig_nbformat": 4
 },
 "nbformat": 4,
 "nbformat_minor": 2
}
