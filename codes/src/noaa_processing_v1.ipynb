{
 "cells": [
  {
   "cell_type": "code",
   "execution_count": 2,
   "metadata": {},
   "outputs": [],
   "source": [
    "import os\n",
    "import dask\n",
    "from dask.diagnostics import ProgressBar\n",
    "import numpy as np\n",
    "import my_funs \n",
    "import xarray as xr\n",
    "import cProfile\n",
    "import zarr\n",
    "import matplotlib.pylab as plt\n",
    "data_dir = \"/home/hamid/NASA_ABoVE/greeness/working/data/\"\n",
    "out_dir = \"/home/hamid/NASA_ABoVE/greeness/working/\"\n",
    "import folium\n",
    "from folium.plugins import MousePosition\n"
   ]
  },
  {
   "cell_type": "markdown",
   "metadata": {},
   "source": [
    "# Read downloaded data"
   ]
  },
  {
   "cell_type": "code",
   "execution_count": null,
   "metadata": {},
   "outputs": [],
   "source": [
    "ds = xr.open_zarr(data_dir+'processed_data/noaa_nc/lai/noaa_lia_fpar_clipped_raw.zarr')\n",
    "lai = ds[\"LAI\"]\n",
    "fapar= ds[\"FAPAR\"]\n",
    "qa = ds[\"QA\"]\n",
    "ds_ndvi = xr.open_zarr(data_dir+'processed_data/noaa_nc/nadvi/noaa_ndvi_clipped_raw.zarr')\n",
    "ndvi = ds_ndvi[\"NDVI\"]\n",
    "qa_ndvi = ds_ndvi[\"QA\"]"
   ]
  },
  {
   "cell_type": "code",
   "execution_count": 3,
   "metadata": {},
   "outputs": [],
   "source": [
    "ds_refl = xr.open_zarr(data_dir+'processed_data/noaa_nc/reflectance/noaa_reflectance_clipped_raw.zarr')\n",
    "# ch1 = ds_refl[\"SREFL_CH1\"]\n",
    "# ch2 = ds_refl[\"SREFL_CH2\"]\n",
    "qa_refl = ds_refl[\"QA\"]"
   ]
  },
  {
   "cell_type": "markdown",
   "metadata": {},
   "source": [
    "# Apply the quality control"
   ]
  },
  {
   "cell_type": "code",
   "execution_count": null,
   "metadata": {},
   "outputs": [],
   "source": [
    "# Convert QAs to binary\n",
    "qa_binary = my_funs.dec2bin(qa)\n",
    "qa_ndvi_binary = my_funs.dec2bin(qa_ndvi,16)"
   ]
  },
  {
   "cell_type": "code",
   "execution_count": 4,
   "metadata": {},
   "outputs": [],
   "source": [
    "qa_refl_binary = my_funs.dec2bin(qa_refl,16)"
   ]
  },
  {
   "cell_type": "markdown",
   "metadata": {},
   "source": [
    "# Apply mask based on binary QAs"
   ]
  },
  {
   "cell_type": "code",
   "execution_count": null,
   "metadata": {},
   "outputs": [],
   "source": [
    "qa_binary = qa_binary.astype(str)\n",
    "qa_mask = my_funs.avhrr_mask(qa_binary,dask=\"allowed\")\n",
    "lai_masked = lai.where(qa_mask)\n",
    "fapar_maked = fapar.where(qa_mask)\n",
    "\n",
    "qa_ndvi_binary = qa_ndvi_binary.astype(str)\n",
    "qa_mask_ndvi =my_funs.avhrr_mask(qa_ndvi_binary,dask=\"allowed\",var=\"NDVI\")\n",
    "ndvi_masked = ndvi.where(qa_mask_ndvi)"
   ]
  },
  {
   "cell_type": "code",
   "execution_count": 5,
   "metadata": {},
   "outputs": [],
   "source": [
    "qa_refl_binary = qa_refl_binary.astype(str)\n",
    "qa_mask_refl =my_funs.avhrr_mask(qa_refl_binary,dask=\"allowed\",var=\"REFL\")\n",
    "ds_refl_masked = ds_refl.where(qa_mask_refl)\n",
    "# ch1_masked = ch1.where(qa_mask_refl)\n",
    "# ch2_masked = ch2.where(qa_mask_refl)"
   ]
  },
  {
   "cell_type": "code",
   "execution_count": null,
   "metadata": {},
   "outputs": [],
   "source": [
    "with ProgressBar():\n",
    "    lai_filtered = lai_masked.compute()\n",
    "with ProgressBar():\n",
    "    ndvi_filtered = ndvi_masked.compute()"
   ]
  },
  {
   "cell_type": "code",
   "execution_count": 6,
   "metadata": {},
   "outputs": [
    {
     "name": "stdout",
     "output_type": "stream",
     "text": [
      "[##########                              ] | 27% Completed | 2hr 59ms"
     ]
    }
   ],
   "source": [
    "with ProgressBar():\n",
    "    ds_refl_filtererd = ds_refl_masked.compute()\n",
    "    # ch1_filtered = ch1_masked.compute()\n",
    "    # ch2_filtered = ch2_masked.compute()"
   ]
  },
  {
   "cell_type": "code",
   "execution_count": null,
   "metadata": {},
   "outputs": [],
   "source": [
    "lai_filtered.to_netcdf(out_dir+\"data/processed_data/noaa_nc/lai_fapar/filtered/lai_filtered.nc\")\n",
    "ndvi_filtered.to_netcdf(out_dir+\"data/processed_data/noaa_nc/ndvi/filtered/ndvi_filtered.nc\")"
   ]
  },
  {
   "cell_type": "code",
   "execution_count": null,
   "metadata": {},
   "outputs": [],
   "source": [
    "ds_refl_filtererd.to_netcdf(out_dir+\"data/processed_data/noaa_nc/reflectance/filtered/ds_refl_filtererd.nc\")\n",
    "# ch2_filtered.to_netcdf(out_dir+\"data/processed_data/noaa_nc/reflectance/filtered/ch2_filtered.nc\")"
   ]
  },
  {
   "cell_type": "markdown",
   "metadata": {},
   "source": [
    "# Trend analyses"
   ]
  },
  {
   "cell_type": "code",
   "execution_count": null,
   "metadata": {},
   "outputs": [],
   "source": [
    "lai_filtered = xr.open_dataarray(out_dir+\"data/processed_data/noaa_nc/lai_fapar/filtered/lai_filtered.nc\")\n",
    "lai_growing = growing_season(lai_filtered)\n",
    "lai_growing.to_netcdf(out_dir+\"data/processed_data/noaa_nc/lai_fapar/grouped/lai_growing.nc\")"
   ]
  },
  {
   "cell_type": "code",
   "execution_count": null,
   "metadata": {},
   "outputs": [],
   "source": [
    "def xarray_Linear_trend(xarr, var_unit):\n",
    "    from scipy import stats\n",
    "    import numpy as np\n",
    "    # getting shapes\n",
    "\n",
    "    m = np.prod(xarr.shape[1:]).squeeze()\n",
    "    n = xarr.shape[0]\n",
    "\n",
    "    # creating x and y variables for linear regression\n",
    "    x = xarr.time.to_pandas().index.to_julian_date().values[:, None]\n",
    "    y = xarr.to_masked_array().reshape(n, -1)\n",
    "\n",
    "    # ############################ #\n",
    "    # LINEAR REGRESSION DONE BELOW #\n",
    "    xm = x.mean(0)  # mean\n",
    "    ym = y.mean(0)  # mean\n",
    "    ya = y - ym  # anomaly\n",
    "    xa = x - xm  # anomaly\n",
    "\n",
    "    # variance and covariances\n",
    "    xss = (xa**2).sum(0) / (n - 1)  # variance of x (with df as n-1)\n",
    "    yss = (ya**2).sum(0) / (n - 1)  # variance of y (with df as n-1)\n",
    "    xys = (xa * ya).sum(0) / (n - 1)  # covariance (with df as n-1)\n",
    "    # slope and intercept\n",
    "    slope = xys / xss\n",
    "    intercept = ym - (slope * xm)\n",
    "    # statistics about fit\n",
    "    df = n - 2\n",
    "    r = xys / (xss * yss)**0.5\n",
    "    t = r * (df / ((1 - r) * (1 + r)))**0.5\n",
    "    p = stats.distributions.t.sf(abs(t), df)\n",
    "\n",
    "    # misclaneous additional functions\n",
    "    # yhat = dot(x, slope[None]) + intercept\n",
    "    # sse = ((yhat - y)**2).sum(0) / (n - 2)  # n-2 is df\n",
    "    # se = ((1 - r**2) * yss / xss / df)**0.5\n",
    "\n",
    "    # preparing outputs\n",
    "    out = xarr[:2].mean('time')\n",
    "    # first create variable for slope and adjust meta\n",
    "    xarr_slope = out.copy()\n",
    "    xarr_slope.name = '_slope'\n",
    "    xarr_slope.attrs['units'] = var_unit\n",
    "    xarr_slope.values = slope.reshape(xarr.shape[1:])\n",
    "    # do the same for the p value\n",
    "    xarr_p = out.copy()\n",
    "    xarr_p.name = '_Pvalue'\n",
    "    xarr_p.attrs[\n",
    "        'info'] = \"If p < 0.05 then the results from 'slope' are significant.\"\n",
    "    xarr_p.values = p.reshape(xarr.shape[1:])\n",
    "    # join these variables\n",
    "    xarr_out = xarr_slope.to_dataset(name='slope')\n",
    "    xarr_out['pval'] = xarr_p\n",
    "\n",
    "    return xarr_out"
   ]
  },
  {
   "cell_type": "code",
   "execution_count": null,
   "metadata": {},
   "outputs": [],
   "source": [
    "lai_growing = lai_growing.rename({\"year\":\"time\"})"
   ]
  },
  {
   "cell_type": "code",
   "execution_count": null,
   "metadata": {},
   "outputs": [],
   "source": [
    "import pandas as pd\n",
    "a = lai_growing.time.to_pandas().index\n",
    "b = pd.to_datetime(a, format='%Y')\n",
    "# lai_growing.time = b\n",
    "lai_growing[\"time\"] = b\n",
    "lai_growing_trend = xarray_trend(lai_growing, var_unit=\"m / m / year\")"
   ]
  },
  {
   "cell_type": "code",
   "execution_count": null,
   "metadata": {},
   "outputs": [],
   "source": [
    "plt.figure(figsize=(16,8))\n",
    "lai_growing_trend[\"slope\"].plot()\n",
    "plt.savefig(out_dir+\"/Figures/LAI_growing_trend.png\")"
   ]
  },
  {
   "cell_type": "code",
   "execution_count": null,
   "metadata": {},
   "outputs": [],
   "source": [
    "lai_growing_mean = lai_growing.mean([\"latitude\",\"longitude\"])\n",
    "lai_growing_mean"
   ]
  }
 ],
 "metadata": {
  "kernelspec": {
   "display_name": "Python 3.9.12 ('geospatial')",
   "language": "python",
   "name": "python3"
  },
  "language_info": {
   "codemirror_mode": {
    "name": "ipython",
    "version": 3
   },
   "file_extension": ".py",
   "mimetype": "text/x-python",
   "name": "python",
   "nbconvert_exporter": "python",
   "pygments_lexer": "ipython3",
   "version": "3.9.13"
  },
  "orig_nbformat": 4,
  "vscode": {
   "interpreter": {
    "hash": "3d24adb7543b10fb1cde9a4b71288ade2a1e8b23875df723642eccc94dfcedd0"
   }
  }
 },
 "nbformat": 4,
 "nbformat_minor": 2
}
