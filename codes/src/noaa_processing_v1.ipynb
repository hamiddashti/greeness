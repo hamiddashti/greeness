{
 "cells": [
  {
   "cell_type": "code",
   "execution_count": 1,
   "metadata": {},
   "outputs": [],
   "source": [
    "import os\n",
    "import dask\n",
    "from dask.diagnostics import ProgressBar\n",
    "import numpy as np\n",
    "import my_funs \n",
    "import xarray as xr\n",
    "import cProfile\n",
    "import zarr\n",
    "import matplotlib.pylab as plt\n",
    "# dir = \"/home/hamid/NASA_ABoVE/greeness/\"\n",
    "dir = \"/data/home/hamiddashti/hamid/nasa_above/greeness/\"\n",
    "# out_dir = \"/home/hamid/NASA_ABoVE/greeness/working/\"\n",
    "out_dir = \"/data/home/hamiddashti/hamid/nasa_above/greeness/\"\n",
    "import folium\n",
    "from folium.plugins import MousePosition\n"
   ]
  },
  {
   "cell_type": "code",
   "execution_count": 2,
   "metadata": {},
   "outputs": [
    {
     "name": "stderr",
     "output_type": "stream",
     "text": [
      "/data/home/hamiddashti/miniconda3/envs/geospatial/lib/python3.9/site-packages/distributed/node.py:179: UserWarning: Port 8787 is already in use.\n",
      "Perhaps you already have a cluster running?\n",
      "Hosting the HTTP server on port 38203 instead\n",
      "  warnings.warn(\n"
     ]
    }
   ],
   "source": [
    "from dask.distributed import Client, progress\n",
    "client = Client(processes=False)"
   ]
  },
  {
   "cell_type": "code",
   "execution_count": 1,
   "metadata": {},
   "outputs": [
    {
     "ename": "NameError",
     "evalue": "name 'client' is not defined",
     "output_type": "error",
     "traceback": [
      "\u001b[0;31m---------------------------------------------------------------------------\u001b[0m",
      "\u001b[0;31mNameError\u001b[0m                                 Traceback (most recent call last)",
      "\u001b[1;32m/data/home/hamiddashti/hamid/nasa_above/greeness/codes/src/noaa_processing_v1.ipynb Cell 3\u001b[0m in \u001b[0;36m<cell line: 1>\u001b[0;34m()\u001b[0m\n\u001b[0;32m----> <a href='vscode-notebook-cell://ssh-remote%2B7b22686f73744e616d65223a2257484541542d5541227d/data/home/hamiddashti/hamid/nasa_above/greeness/codes/src/noaa_processing_v1.ipynb#X41sdnNjb2RlLXJlbW90ZQ%3D%3D?line=0'>1</a>\u001b[0m client\u001b[39m.\u001b[39mrestart()\n",
      "\u001b[0;31mNameError\u001b[0m: name 'client' is not defined"
     ]
    }
   ],
   "source": [
    "client.restart()"
   ]
  },
  {
   "cell_type": "markdown",
   "metadata": {},
   "source": [
    "# Read downloaded data"
   ]
  },
  {
   "cell_type": "code",
   "execution_count": 2,
   "metadata": {},
   "outputs": [],
   "source": [
    "ds_lai = xr.open_zarr(dir+'data/raw_data/noaa_cdr/lai_fapar/noaa_lai_fapar_clipped_raw.zarr')\n",
    "lai = ds_lai[\"LAI\"]\n",
    "fapar= ds_lai[\"FAPAR\"]\n",
    "qa_lai = ds_lai[\"QA\"]\n",
    "ds_ndvi = xr.open_zarr(dir+'data/raw_data/noaa_cdr/ndvi/noaa_ndvi_clipped_raw.zarr')\n",
    "ndvi = ds_ndvi[\"NDVI\"]\n",
    "qa_ndvi = ds_ndvi[\"QA\"]"
   ]
  },
  {
   "cell_type": "markdown",
   "metadata": {},
   "source": [
    "# Apply the quality control\n",
    "we only apply the quality control to the LAI and the NDVI. Then we will select spectral bands (red, NIR) where we have good NDVI and calculate the EVI. "
   ]
  },
  {
   "cell_type": "code",
   "execution_count": 4,
   "metadata": {},
   "outputs": [],
   "source": [
    "# Convert QAs to binary\n",
    "qa_lai_binary = my_funs.dec2bin(qa_lai,9)\n",
    "qa_ndvi_binary = my_funs.dec2bin(qa_ndvi,16)"
   ]
  },
  {
   "cell_type": "markdown",
   "metadata": {},
   "source": [
    "### Apply mask based on binary QAs aquired from previous step"
   ]
  },
  {
   "cell_type": "code",
   "execution_count": 5,
   "metadata": {},
   "outputs": [],
   "source": [
    "qa_lai_binary = qa_lai_binary.astype(str)\n",
    "qa_lai_mask = my_funs.avhrr_mask(qa_lai_binary,dask=\"allowed\",var=\"LAI\")\n",
    "# lai_masked = lai.where(qa_mask)\n",
    "fapar_maked = fapar.where(qa_lai_mask)\n",
    "\n",
    "qa_ndvi_binary = qa_ndvi_binary.astype(str)\n",
    "qa_mask_ndvi =my_funs.avhrr_mask(qa_ndvi_binary,dask=\"allowed\",var=\"NDVI\")\n",
    "ndvi_masked = ndvi.where(qa_mask_ndvi)"
   ]
  },
  {
   "cell_type": "code",
   "execution_count": 6,
   "metadata": {},
   "outputs": [],
   "source": [
    "# with ProgressBar():\n",
    "#     lai_filtered = lai_masked.compute()\n",
    "# with ProgressBar():\n",
    "#     ndvi_filtered = ndvi_masked.compute()\n",
    "\n",
    "# In case staritng the dask distributed client the above progressbar does not work and we should use the following commands\n",
    "fapar_maked_ds = fapar_maked.to_dataset()\n",
    "m = client.compute(fapar_maked_ds)"
   ]
  },
  {
   "cell_type": "code",
   "execution_count": 7,
   "metadata": {},
   "outputs": [
    {
     "data": {
      "application/vnd.jupyter.widget-view+json": {
       "model_id": "5eb991c958ad4099baa44850f34147c0",
       "version_major": 2,
       "version_minor": 0
      },
      "text/plain": [
       "VBox()"
      ]
     },
     "metadata": {},
     "output_type": "display_data"
    }
   ],
   "source": [
    "progress(m)\n",
    "fapar_maked_ds.to_zarr(out_dir+\"data/processed_data/noaa_nc/lai_fapar/filtered/fapar_filtered.zarr\")"
   ]
  },
  {
   "cell_type": "code",
   "execution_count": null,
   "metadata": {},
   "outputs": [],
   "source": [
    "ndvi_masked_ds = ndvi_masked.to_dataset()\n",
    "m2 = client.compute(ndvi_masked_ds)"
   ]
  },
  {
   "cell_type": "code",
   "execution_count": null,
   "metadata": {},
   "outputs": [],
   "source": [
    "progress(m2)\n",
    "ndvi_masked_ds.to_zarr(out_dir+\"data/processed_data/noaa_nc/ndvi/filtered/ndvi_filtered2.zarr\")"
   ]
  },
  {
   "cell_type": "markdown",
   "metadata": {},
   "source": [
    "# Calculate NIRv (Later)"
   ]
  },
  {
   "cell_type": "code",
   "execution_count": 3,
   "metadata": {},
   "outputs": [],
   "source": [
    "lai = xr.open_dataarray(dir+\"data/processed_data/noaa_nc/lai_fapar/filtered/lai_filtered.nc\")\n",
    "ndvi = xr.open_dataarray(dir+\"data/processed_data/noaa_nc/ndvi/filtered/ndvi_filtered.nc\")\n",
    "ds_refl = xr.open_zarr(dir+'data/raw_data/noaa_cdr/reflectance/noaa_reflectance_clipped_raw.zarr')\n",
    "nir = ds_refl[\"SREFL_CH2\"]\n",
    "ndvi_good = my_funs.isfinite(ndvi)\n",
    "nir_good = nir.where(ndvi_good)\n",
    "nir_good.to_netcdf(dir+\"data/processed_data/noaa_nc/reflectance/filtered/NIR_filtered.nc\")"
   ]
  },
  {
   "cell_type": "markdown",
   "metadata": {},
   "source": [
    "# Resample time series data"
   ]
  },
  {
   "cell_type": "code",
   "execution_count": 3,
   "metadata": {},
   "outputs": [
    {
     "name": "stdout",
     "output_type": "stream",
     "text": [
      "lai_monthly_resample_mean Done!\n",
      "lai_monthly_resample_max Done!\n",
      "lai_monthly_group_mean Done!\n",
      "lai_monthly_group_max Done!\n",
      "lai_seasonal_resample_mean Done!\n",
      "lai_seaonal_group_mean Done!\n",
      "lai_seasonal_resample_max Done!\n",
      "lai_seasonal_group_max Done!\n",
      "lai_annualresample_mean Done!\n",
      "lai_annualresample_max Done!\n",
      "All done!\n"
     ]
    }
   ],
   "source": [
    "# lai = xr.open_dataarray(dir+\"/data/processed_data/noaa_nc/lai_fapar/filtered/lai_filtered.nc\",chunks=({'latitude': 100, 'longitude': 100}))\n",
    "lai = xr.open_dataarray(\n",
    "    dir + \"/data/processed_data/noaa_nc/lai_fapar/filtered/lai_filtered.nc\"\n",
    ")\n",
    "\n",
    "lai_monthly_resample_mean = lai.resample(time=\"1MS\").mean()\n",
    "lai_monthly_resample_mean.to_netcdf(\n",
    "    dir + \"data/processed_data/noaa_nc/lai_fapar/resampled/lai_monthly_resample_mean.nc\"\n",
    ")\n",
    "print(\"lai_monthly_resample_mean Done!\")\n",
    "\n",
    "lai_monthly_resample_max = lai.resample(time=\"1MS\").max()\n",
    "lai_monthly_resample_max.to_netcdf(\n",
    "    dir + \"data/processed_data/noaa_nc/lai_fapar/resampled/lai_monthly_resample_max.nc\"\n",
    ")\n",
    "print(\"lai_monthly_resample_max Done!\")\n",
    "\n",
    "lai_monthly_group_mean = lai.groupby(\"time.month\").mean()\n",
    "lai_monthly_group_mean.to_netcdf(\n",
    "    dir + \"data/processed_data/noaa_nc/lai_fapar/resampled/lai_monthly_group_mean.nc\"\n",
    ")\n",
    "print(\"lai_monthly_group_mean Done!\")\n",
    "\n",
    "lai_monthly_group_max = lai.groupby(\"time.month\").max()\n",
    "lai_monthly_group_max.to_netcdf(\n",
    "    dir + \"data/processed_data/noaa_nc/lai_fapar/resampled/lai_monthly_group_max.nc\"\n",
    ")\n",
    "print(\"lai_monthly_group_max Done!\")\n",
    "\n",
    "lai_seasonal_resample_mean = my_funs.weighted_season_resmaple(lai)\n",
    "lai_seasonal_resample_mean.to_netcdf(\n",
    "    dir\n",
    "    + \"data/processed_data/noaa_nc/lai_fapar/resampled/lai_seasonal_resample_mean.nc\"\n",
    ")\n",
    "print(\"lai_seasonal_resample_mean Done!\")\n",
    "\n",
    "lai_seaonal_group_mean = my_funs.weighted_season_group(lai)\n",
    "lai_seaonal_group_mean.to_netcdf(\n",
    "    dir + \"data/processed_data/noaa_nc/lai_fapar/resampled/lai_seaonal_group_mean.nc\"\n",
    ")\n",
    "print(\"lai_seaonal_group_mean Done!\")\n",
    "\n",
    "lai_seasonal_resample_max = lai.resample(time=\"Q-DEC\").max()\n",
    "lai_seasonal_resample_max.to_netcdf(\n",
    "    dir + \"data/processed_data/noaa_nc/lai_fapar/resampled/lai_seasonal_resample_max.nc\"\n",
    ")\n",
    "print(\"lai_seasonal_resample_max Done!\")\n",
    "\n",
    "lai_seasonal_group_max = lai.groupby(\"time.season\").max()\n",
    "lai_seasonal_group_max.to_netcdf(\n",
    "    dir + \"data/processed_data/noaa_nc/lai_fapar/resampled/lai_seasonal_group_max.nc\"\n",
    ")\n",
    "print(\"lai_seasonal_group_max Done!\")\n",
    "\n",
    "lai_annualresample_mean = lai.groupby(\"time.year\").mean()\n",
    "lai_annualresample_mean.to_netcdf(\n",
    "    dir + \"data/processed_data/noaa_nc/lai_fapar/resampled/lai_annualresample_mean.nc\"\n",
    ")\n",
    "print(\"lai_annualresample_mean Done!\")\n",
    "\n",
    "lai_annualresample_max = lai.groupby(\"time.year\").max()\n",
    "lai_annualresample_max.to_netcdf(\n",
    "    dir + \"data/processed_data/noaa_nc/lai_fapar/resampled/lai_annualresample_max.nc\"\n",
    ")\n",
    "print(\"lai_annualresample_max Done!\")\n",
    "\n",
    "lai_growing = my_funs.growing_season(lai)\n",
    "lai_growing.to_netcdf(\n",
    "    dir + \"data/processed_data/noaa_nc/lai_fapar/resampled/lai_growing.nc\"\n",
    ")\n",
    "\n",
    "print(\"All done!\")\n"
   ]
  },
  {
   "cell_type": "markdown",
   "metadata": {},
   "source": [
    "# Trend analyses"
   ]
  },
  {
   "cell_type": "code",
   "execution_count": null,
   "metadata": {},
   "outputs": [],
   "source": []
  },
  {
   "cell_type": "code",
   "execution_count": null,
   "metadata": {},
   "outputs": [],
   "source": [
    "lai_filtered = xr.open_dataarray(out_dir+\"data/processed_data/noaa_nc/lai_fapar/filtered/lai_filtered.nc\")\n",
    "lai_growing = growing_season(lai_filtered)\n",
    "lai_growing.to_netcdf(out_dir+\"data/processed_data/noaa_nc/lai_fapar/grouped/lai_growing.nc\")"
   ]
  },
  {
   "cell_type": "code",
   "execution_count": null,
   "metadata": {},
   "outputs": [],
   "source": [
    "def xarray_Linear_trend(xarr, var_unit):\n",
    "    from scipy import stats\n",
    "    import numpy as np\n",
    "    # getting shapes\n",
    "\n",
    "    m = np.prod(xarr.shape[1:]).squeeze()\n",
    "    n = xarr.shape[0]\n",
    "\n",
    "    # creating x and y variables for linear regression\n",
    "    x = xarr.time.to_pandas().index.to_julian_date().values[:, None]\n",
    "    y = xarr.to_masked_array().reshape(n, -1)\n",
    "\n",
    "    # ############################ #\n",
    "    # LINEAR REGRESSION DONE BELOW #\n",
    "    xm = x.mean(0)  # mean\n",
    "    ym = y.mean(0)  # mean\n",
    "    ya = y - ym  # anomaly\n",
    "    xa = x - xm  # anomaly\n",
    "\n",
    "    # variance and covariances\n",
    "    xss = (xa**2).sum(0) / (n - 1)  # variance of x (with df as n-1)\n",
    "    yss = (ya**2).sum(0) / (n - 1)  # variance of y (with df as n-1)\n",
    "    xys = (xa * ya).sum(0) / (n - 1)  # covariance (with df as n-1)\n",
    "    # slope and intercept\n",
    "    slope = xys / xss\n",
    "    intercept = ym - (slope * xm)\n",
    "    # statistics about fit\n",
    "    df = n - 2\n",
    "    r = xys / (xss * yss)**0.5\n",
    "    t = r * (df / ((1 - r) * (1 + r)))**0.5\n",
    "    p = stats.distributions.t.sf(abs(t), df)\n",
    "\n",
    "    # misclaneous additional functions\n",
    "    # yhat = dot(x, slope[None]) + intercept\n",
    "    # sse = ((yhat - y)**2).sum(0) / (n - 2)  # n-2 is df\n",
    "    # se = ((1 - r**2) * yss / xss / df)**0.5\n",
    "\n",
    "    # preparing outputs\n",
    "    out = xarr[:2].mean('time')\n",
    "    # first create variable for slope and adjust meta\n",
    "    xarr_slope = out.copy()\n",
    "    xarr_slope.name = '_slope'\n",
    "    xarr_slope.attrs['units'] = var_unit\n",
    "    xarr_slope.values = slope.reshape(xarr.shape[1:])\n",
    "    # do the same for the p value\n",
    "    xarr_p = out.copy()\n",
    "    xarr_p.name = '_Pvalue'\n",
    "    xarr_p.attrs[\n",
    "        'info'] = \"If p < 0.05 then the results from 'slope' are significant.\"\n",
    "    xarr_p.values = p.reshape(xarr.shape[1:])\n",
    "    # join these variables\n",
    "    xarr_out = xarr_slope.to_dataset(name='slope')\n",
    "    xarr_out['pval'] = xarr_p\n",
    "\n",
    "    return xarr_out"
   ]
  },
  {
   "cell_type": "code",
   "execution_count": null,
   "metadata": {},
   "outputs": [],
   "source": [
    "lai_growing = lai_growing.rename({\"year\":\"time\"})"
   ]
  },
  {
   "cell_type": "code",
   "execution_count": null,
   "metadata": {},
   "outputs": [],
   "source": [
    "import pandas as pd\n",
    "a = lai_growing.time.to_pandas().index\n",
    "b = pd.to_datetime(a, format='%Y')\n",
    "# lai_growing.time = b\n",
    "lai_growing[\"time\"] = b\n",
    "lai_growing_trend = xarray_trend(lai_growing, var_unit=\"m / m / year\")"
   ]
  },
  {
   "cell_type": "code",
   "execution_count": null,
   "metadata": {},
   "outputs": [],
   "source": [
    "plt.figure(figsize=(16,8))\n",
    "lai_growing_trend[\"slope\"].plot()\n",
    "plt.savefig(out_dir+\"/Figures/LAI_growing_trend.png\")"
   ]
  },
  {
   "cell_type": "code",
   "execution_count": null,
   "metadata": {},
   "outputs": [],
   "source": [
    "lai_growing_mean = lai_growing.mean([\"latitude\",\"longitude\"])\n",
    "lai_growing_mean"
   ]
  }
 ],
 "metadata": {
  "kernelspec": {
   "display_name": "Python 3.9.13 ('geospatial')",
   "language": "python",
   "name": "python3"
  },
  "language_info": {
   "codemirror_mode": {
    "name": "ipython",
    "version": 3
   },
   "file_extension": ".py",
   "mimetype": "text/x-python",
   "name": "python",
   "nbconvert_exporter": "python",
   "pygments_lexer": "ipython3",
   "version": "3.9.13"
  },
  "orig_nbformat": 4,
  "vscode": {
   "interpreter": {
    "hash": "58d4357dc51a73699c5449b037ed9e8ebf9460004e4993ef846dc1036514c650"
   }
  }
 },
 "nbformat": 4,
 "nbformat_minor": 2
}
