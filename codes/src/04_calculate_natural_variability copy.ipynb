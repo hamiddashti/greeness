{
 "cells": [
  {
   "cell_type": "code",
   "execution_count": null,
   "metadata": {},
   "outputs": [],
   "source": [
    "import xarray as xr\n",
    "import numpy as np\n",
    "import dask\n",
    "from dask.diagnostics import ProgressBar\n",
    "import matplotlib.pylab as plt\n",
    "import my_funs\n",
    "\n",
    "from dask.distributed import Client, LocalCluster\n",
    "\n",
    "# cluster = LocalCluster()\n",
    "# client = Client(cluster)\n",
    "# client = Client(processes=False)\n",
    "\n",
    "dir = \"/data/home/hamiddashti/hamid/nasa_above/greeness/\"\n",
    "# out_dir = \"/data/home/hamiddashti/hamid/nasa_above/greeness/working/\"\n",
    "\n",
    "percent_cover = (\n",
    "    xr.open_dataarray(dir +\n",
    "                      \"data/processed_data/percent_cover/percent_cover.nc\") *\n",
    "    100)\n",
    "percent_cover = percent_cover.loc[\"1984\":\"2013\"]\n",
    "percent_cover = percent_cover.round(4)\n",
    "# If a class is 0 change it no nan to prevent false zeros in diff later\n",
    "percent_cover = percent_cover.where(percent_cover != 0)"
   ]
  },
  {
   "attachments": {},
   "cell_type": "markdown",
   "metadata": {},
   "source": [
    "Function to calculate natural variability\n"
   ]
  },
  {
   "cell_type": "code",
   "execution_count": null,
   "metadata": {},
   "outputs": [],
   "source": [
    "def calulate_lcc(var, trend_ds, var_name, percent_cover, out_dir,thresh):\n",
    "\n",
    "    var_trend = trend_ds[\"trend\"]\n",
    "    var_trend_total = var_trend.where(trend_ds[\"h\"] == 1)  # where trend is sigificant\n",
    "\n",
    "    # There is a tiny difference between lat and lon of the dataset due to rounding\n",
    "    # We make them equal\n",
    "    percent_cover[\"lat\"] = var_trend_total[\"lat\"]\n",
    "    percent_cover[\"lon\"] = var_trend_total[\"lon\"]\n",
    "\n",
    "    t_n = percent_cover.shape[0]\n",
    "    band_n = percent_cover.shape[1]\n",
    "    lat_n = percent_cover.shape[2]\n",
    "    lon_n = percent_cover.shape[3]\n",
    "    n_total = np.isfinite(var.isel(time=0)).sum()\n",
    "\n",
    "    # Some setting\n",
    "    winsize = 7  # Window size to search for stable pixels around a central pixel\n",
    "    # thresh = 5  # Threshold to consider a change in ladn cover happended over the past 30 years\n",
    "\n",
    "    [var_trend_nv, var_trend_lcc, var_trend_nv_lcc,\n",
    "    included_pixels] = my_funs.estimate_lcc_trend(percent_cover, var_trend_total,\n",
    "                                               thresh, winsize)\n",
    "    # var_included = var.where(included_pixels)\n",
    "    # var_trend_nv.to_netcdf(out_dir + var_name + \"_trend_nv.nc\")\n",
    "    # var_trend_lcc.to_netcdf(out_dir + var_name + \"_trend_lcc.nc\")\n",
    "    # var_trend_nv_lcc.to_netcdf(out_dir + var_name + \"_trend_nv_lcc.nc\")\n",
    "    # var_included.to_netcdf(out_dir + var_name + \"_included.nc\")\n",
    "    # included_pixels.to_netcdf(out_dir + \"included_pixels.nc\")\n",
    "    return [var_trend_nv, var_trend_lcc, var_trend_nv_lcc]\n"
   ]
  },
  {
   "attachments": {},
   "cell_type": "markdown",
   "metadata": {},
   "source": [
    "Calculate natural variablity & LCC components of trend for LAI and NDVI annual max in both true values and normalized ones\n"
   ]
  },
  {
   "cell_type": "code",
   "execution_count": null,
   "metadata": {},
   "outputs": [],
   "source": [
    "var_name = \"lai_max\"\n",
    "out_dir = dir + \"data/processed_data/noaa_nc/lai_fapar/trend/\"\n",
    "var = xr.open_dataarray(\n",
    "    dir +\n",
    "    \"data/processed_data/noaa_nc/lai_fapar/resampled/lai_annual_resample_max.nc\"\n",
    ").sel(time=slice(\"1985\", \"2014\")).rename({\n",
    "    \"latitude\": \"lat\",\n",
    "    \"longitude\": \"lon\"\n",
    "})\n",
    "\n",
    "trend_ds = xr.open_dataset(\n",
    "    dir + \"data/processed_data/noaa_nc/lai_fapar/trend/lai_max_trend.nc\")\n"
   ]
  },
  {
   "cell_type": "code",
   "execution_count": null,
   "metadata": {},
   "outputs": [],
   "source": [
    "calulate_lcc(var=var,\n",
    "             trend_ds=trend_ds,\n",
    "             var_name=var_name,\n",
    "             percent_cover=percent_cover,\n",
    "             out_dir=out_dir,\n",
    "             thresh=5)\n"
   ]
  },
  {
   "cell_type": "code",
   "execution_count": null,
   "metadata": {},
   "outputs": [],
   "source": [
    "var_name = \"lai_max_norm\"\n",
    "out_dir = dir + \"data/processed_data/noaa_nc/lai_fapar/trend/\"\n",
    "\n",
    "var = xr.open_dataarray(\n",
    "    dir +\n",
    "    \"data/processed_data/noaa_nc/lai_fapar/resampled/lai_annual_resample_max_norm.nc\"\n",
    ").sel(time=slice(\"1985\", \"2014\"))\n",
    "\n",
    "trend_ds = xr.open_dataset(\n",
    "    dir + \"data/processed_data/noaa_nc/lai_fapar/trend/lai_max_norm_trend.nc\")\n",
    "\n",
    "calulate_lcc(var=var,\n",
    "             trend_ds=trend_ds,\n",
    "             var_name=var_name,\n",
    "             percent_cover=percent_cover,\n",
    "             out_dir=out_dir,\n",
    "             thresh=5)\n"
   ]
  },
  {
   "cell_type": "code",
   "execution_count": null,
   "metadata": {},
   "outputs": [],
   "source": [
    "var_name = \"ndvi_max\"\n",
    "out_dir = dir + \"data/processed_data/landsat/trend/\"\n",
    "\n",
    "var = xr.open_dataarray(\n",
    "    dir + \"data/processed_data/landsat/resampled/ndvi_annual_max.nc\").rename({\n",
    "        \"latitude\":\n",
    "        \"lat\",\n",
    "        \"longitude\":\n",
    "        \"lon\"\n",
    "    }).sel(time=slice(\"1985\", \"2014\"))\n",
    "\n",
    "trend_ds = xr.open_dataset(\n",
    "    dir + \"data/processed_data/landsat/trend/ndvi_annual_max_trend.nc\")\n",
    "\n",
    "calulate_lcc(var=var,\n",
    "             trend_ds=trend_ds,\n",
    "             var_name=var_name,\n",
    "             percent_cover=percent_cover,\n",
    "             out_dir=out_dir,\n",
    "             thresh=5)"
   ]
  },
  {
   "cell_type": "code",
   "execution_count": null,
   "metadata": {},
   "outputs": [],
   "source": [
    "var_name = \"gs\"\n",
    "out_dir = dir + \"data/processed_data/landsat/trend/\"\n",
    "var = xr.open_dataarray(\n",
    "    dir + \"data/processed_data/landsat/resampled/gs.nc\").drop(\"band\")\n",
    "trend_ds = xr.open_dataset(\n",
    "    dir + \"data/processed_data/landsat/trend/gs_trend.nc\").drop(\"band\")\n",
    "\n",
    "calulate_lcc(var=var,\n",
    "             trend_ds=trend_ds,\n",
    "             var_name=var_name,\n",
    "             percent_cover=percent_cover,\n",
    "             out_dir=out_dir,\n",
    "             thresh=5)"
   ]
  },
  {
   "cell_type": "code",
   "execution_count": null,
   "metadata": {},
   "outputs": [],
   "source": [
    "var_name = \"gs_norm\"\n",
    "out_dir = dir + \"data/processed_data/landsat/trend/\"\n",
    "\n",
    "var = xr.open_dataarray(\n",
    "    dir + \"data/processed_data/landsat/resampled/gs_norm.nc\").drop(\"band\")\n",
    "trend_ds = xr.open_dataset(\n",
    "    dir + \"data/processed_data/landsat/trend/gs_trend_norm.nc\").drop(\"band\")\n",
    "\n",
    "calulate_lcc(var=var,\n",
    "             trend_ds=trend_ds,\n",
    "             var_name=var_name,\n",
    "             percent_cover=percent_cover,\n",
    "             out_dir=out_dir,\n",
    "             thresh=5)"
   ]
  }
 ],
 "metadata": {
  "kernelspec": {
   "display_name": "Python 3.9.13 ('geospatial')",
   "language": "python",
   "name": "python3"
  },
  "language_info": {
   "codemirror_mode": {
    "name": "ipython",
    "version": 3
   },
   "file_extension": ".py",
   "mimetype": "text/x-python",
   "name": "python",
   "nbconvert_exporter": "python",
   "pygments_lexer": "ipython3",
   "version": "3.9.16"
  },
  "orig_nbformat": 4,
  "vscode": {
   "interpreter": {
    "hash": "58d4357dc51a73699c5449b037ed9e8ebf9460004e4993ef846dc1036514c650"
   }
  }
 },
 "nbformat": 4,
 "nbformat_minor": 2
}
