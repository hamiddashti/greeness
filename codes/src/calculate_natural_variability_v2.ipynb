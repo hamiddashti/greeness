{
 "cells": [
  {
   "cell_type": "code",
   "execution_count": 1,
   "metadata": {},
   "outputs": [],
   "source": [
    "import xarray as xr\n",
    "import numpy as np\n",
    "import dask\n",
    "from dask.diagnostics import ProgressBar\n",
    "import matplotlib.pylab as plt\n",
    "import my_funs\n",
    "\n",
    "from dask.distributed import Client, LocalCluster\n",
    "\n",
    "# cluster = LocalCluster()\n",
    "# client = Client(cluster)\n",
    "\n",
    "# client = Client(processes=False)\n",
    "\n",
    "dir = \"/data/home/hamiddashti/hamid/nasa_above/greeness/\"\n",
    "out_dir = \"/data/home/hamiddashti/hamid/nasa_above/greeness/working/\"\n",
    "\n",
    "lai_growing_trend_ds = xr.open_dataset(\n",
    "    dir + \"data/processed_data/noaa_nc/lai_fapar/trend/lai_growing_trend.nc\"\n",
    ")\n",
    "lai_growing_trend = lai_growing_trend_ds[\"trend\"]\n",
    "lai_growing_trend_total = lai_growing_trend.where(\n",
    "    lai_growing_trend_ds[\"h\"] == 1\n",
    ")  # where trend is sigificant\n",
    "\n",
    "\n",
    "percent_cover = (\n",
    "    xr.open_dataarray(dir + \"data/processed_data/percent_cover/percent_cover.nc\") * 100\n",
    ")\n",
    "\n",
    "# # There is a tiny difference between lat and lon of the dataset due to rounding\n",
    "# # We make them equal\n",
    "percent_cover[\"lat\"] = lai_growing_trend_total[\"lat\"]\n",
    "percent_cover[\"lon\"] = lai_growing_trend_total[\"lon\"]\n",
    "percent_cover = percent_cover.loc[\"1984\":\"2013\"]\n",
    "percent_cover = percent_cover.round(4)\n",
    "\n",
    "# If a class is 0 change it no nan to prevent false zeros in diff later\n",
    "percent_cover = percent_cover.where(percent_cover != 0)\n"
   ]
  },
  {
   "cell_type": "markdown",
   "metadata": {},
   "source": [
    "Calculate natural variability "
   ]
  },
  {
   "cell_type": "code",
   "execution_count": 8,
   "metadata": {},
   "outputs": [],
   "source": [
    "def dist_matrix(x_size, y_size):\n",
    "    import numpy as np\n",
    "\n",
    "    a1 = np.floor(x_size / 2)\n",
    "    a2 = np.floor(y_size / 2)\n",
    "    x_arr, y_arr = np.mgrid[0:x_size, 0:y_size]\n",
    "    cell = (a1, a2)\n",
    "    dists = np.sqrt((x_arr - cell[0]) ** 2 + (y_arr - cell[1]) ** 2)\n",
    "    dists[int(a1), int(a2)] = np.nan\n",
    "    return dists\n",
    "\n",
    "def estimate_lcc_trend(percent_cover, trend_total, thresh,winsize):\n",
    "    win_size_half = int(np.floor(winsize / 2))\n",
    "    dist_m = dist_matrix(winsize, winsize)\n",
    "\n",
    "    lc_diff = percent_cover.diff(\"time\")\n",
    "    diff = (abs(lc_diff) > thresh) * 1\n",
    "    changed_pixels = (diff == 1).any(dim=[\"time\", \"band\"])\n",
    "\n",
    "    trend_roll = (\n",
    "        trend_total.rolling({\"lat\": winsize, \"lon\": winsize}, center=True)\n",
    "        .construct({\"lat\": \"lat_dim\", \"lon\": \"lon_dim\"})\n",
    "        .values\n",
    "    )\n",
    "    changed_pixels_roll = (\n",
    "        changed_pixels.rolling({\"lat\": winsize, \"lon\": winsize}, center=True)\n",
    "        .construct({\"lat\": \"lat_dim\", \"lon\": \"lon_dim\"})\n",
    "        .values\n",
    "    )\n",
    "    percent_cover_roll = (\n",
    "        percent_cover.rolling({\"lat\": winsize, \"lon\": winsize}, center=True)\n",
    "        .construct({\"lat\": \"lat_dim\", \"lon\": \"lon_dim\"})\n",
    "        .values\n",
    "    )\n",
    "\n",
    "    trend_nv = xr.full_like(trend_total, fill_value=np.nan, dtype=float)\n",
    "    trend_eps = xr.full_like(trend_total, fill_value=np.nan, dtype=float)\n",
    "\n",
    "    for i in range(0, changed_pixels.shape[0]):\n",
    "        for j in range(0, changed_pixels.shape[1]):\n",
    "\n",
    "            # Continue if central pixel not changed\n",
    "            if changed_pixels_roll[i, j][win_size_half, win_size_half] == 0:\n",
    "                continue\n",
    "\n",
    "            mask = changed_pixels_roll[i, j]\n",
    "\n",
    "            lc_stable = np.argwhere(mask == 0)\n",
    "\n",
    "            trend_tmp = trend_roll[i, j]\n",
    "\n",
    "            # if the central pixel trend is nan skip it\n",
    "            if np.isnan(trend_tmp[win_size_half, win_size_half]):\n",
    "                continue\n",
    "\n",
    "            # print(trend_tmp[win_size_half, win_size_half])\n",
    "\n",
    "            percent_cover_tmp = np.isfinite(\n",
    "                percent_cover_roll[0, :, i, j, :, :]\n",
    "            )  # shape (bands=10, winsize, winsize)\n",
    "            center_lc = percent_cover_tmp[:, win_size_half, win_size_half]\n",
    "\n",
    "            trend_tmp_masked = []\n",
    "            dist_tmp_masked = []\n",
    "            for m in range(len(lc_stable)):\n",
    "                neighbor_lc = percent_cover_tmp[:, lc_stable[m][0], lc_stable[m][1]]\n",
    "                if np.equal(center_lc, neighbor_lc).all():\n",
    "                    trend_tmp_masked.append(trend_tmp[lc_stable[m][0], lc_stable[m][1]])\n",
    "                    dist_tmp_masked.append(dist_m[lc_stable[m][0], lc_stable[m][1]])\n",
    "            if len(trend_tmp_masked) == 0:\n",
    "                continue\n",
    "\n",
    "            trend_tmp_masked = np.array(trend_tmp_masked)\n",
    "            dist_tmp_masked = np.array(dist_tmp_masked)\n",
    "            tmp_var1 = np.nansum(trend_tmp_masked / dist_tmp_masked)\n",
    "            trend_nv[i, j] = tmp_var1 / (np.nansum(dist_tmp_masked))\n",
    "            trend_eps[i, j] = trend_tmp[win_size_half, win_size_half] - trend_nv[i, j]\n",
    "    return trend_nv, trend_eps, changed_pixels\n"
   ]
  },
  {
   "cell_type": "code",
   "execution_count": 9,
   "metadata": {},
   "outputs": [],
   "source": [
    "# Some setting\n",
    "winsize = 7  # Window size to search for stable pixels around a central pixel\n",
    "thresh = (\n",
    "    10  # Threshold to consider a change in ladn cover happended over the past 30 years\n",
    ")\n",
    "\n",
    "lai_growing_trend_res, lai_growing_trend_lcc, changed_pixels = estimate_lcc_trend(\n",
    "    percent_cover, lai_growing_trend_total, thresh, winsize\n",
    ")"
   ]
  },
  {
   "cell_type": "code",
   "execution_count": 17,
   "metadata": {},
   "outputs": [
    {
     "data": {
      "text/plain": [
       "<matplotlib.collections.QuadMesh at 0x7fee0a3922e0>"
      ]
     },
     "execution_count": 17,
     "metadata": {},
     "output_type": "execute_result"
    },
    {
     "data": {
      "image/png": "[encoded data removed]",
      "text/plain": [
       "<Figure size 432x288 with 2 Axes>"
      ]
     },
     "metadata": {
      "needs_background": "light"
     },
     "output_type": "display_data"
    }
   ],
   "source": [
    "np.isfinite(changed_pixels.where(np.isfinite(lai_growing_trend_lcc))).plot()"
   ]
  }
 ],
 "metadata": {
  "kernelspec": {
   "display_name": "Python 3.9.13 ('geospatial')",
   "language": "python",
   "name": "python3"
  },
  "language_info": {
   "codemirror_mode": {
    "name": "ipython",
    "version": 3
   },
   "file_extension": ".py",
   "mimetype": "text/x-python",
   "name": "python",
   "nbconvert_exporter": "python",
   "pygments_lexer": "ipython3",
   "version": "3.9.13"
  },
  "orig_nbformat": 4,
  "vscode": {
   "interpreter": {
    "hash": "58d4357dc51a73699c5449b037ed9e8ebf9460004e4993ef846dc1036514c650"
   }
  }
 },
 "nbformat": 4,
 "nbformat_minor": 2
}
