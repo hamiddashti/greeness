{
 "cells": [
  {
   "cell_type": "code",
   "execution_count": 16,
   "metadata": {},
   "outputs": [],
   "source": [
    "import xarray as xr \n",
    "import Rbeast as rb\n",
    "import matplotlib.pylab as plt \n",
    "import numpy as np\n",
    "\n",
    "dir = \"/data/home/hamiddashti/hamid/nasa_above/greeness/\"\n",
    "out_dir = \"/data/home/hamiddashti/hamid/nasa_above/greeness/data/processed_data/\""
   ]
  },
  {
   "cell_type": "code",
   "execution_count": 6,
   "metadata": {},
   "outputs": [],
   "source": [
    "lai = xr.open_dataarray(dir+\"data/processed_data/noaa_nc/lai_fapar/resampled/lai_growing_mean.nc\")\n"
   ]
  },
  {
   "cell_type": "code",
   "execution_count": 13,
   "metadata": {},
   "outputs": [],
   "source": [
    "data = lai.isel(latitude=200,longitude=400).values"
   ]
  },
  {
   "cell_type": "code",
   "execution_count": 20,
   "metadata": {},
   "outputs": [
    {
     "name": "stdout",
     "output_type": "stream",
     "text": [
      "On the first run, check the CPU instruction set ... \n",
      "\n",
      "15\n",
      "CPU Vendor:\n",
      "    AMD         = No\n",
      "    Intel       = Yes\n",
      " \n",
      "OS Features:\n",
      "    OS AVX      = Yes\n",
      "    OS AVX512   = No\n",
      "\n",
      "Hardware Features:\n",
      "    MMX         = Yes\n",
      "    x64         = Yes\n",
      "    ABM         = Yes\n",
      "    RDRAND      = Yes\n",
      "    RDSEED      = No\n",
      "    BMI1        = Yes\n",
      "    BMI2        = Yes\n",
      "    ADX         = No\n",
      "    MPX         = No\n",
      "    PREFETCHW   = No\n",
      "    PREFETCHWT1 = No\n",
      "    RDPID       = No\n",
      "    GFNI        = No\n",
      "    VAES        = No\n",
      "\n",
      "SIMD: 128-bit\n",
      "    SSE         = Yes\n",
      "    SSE2        = Yes\n",
      "    SSE3        = Yes\n",
      "    SSSE3       = Yes\n",
      "    SSE4a       = No\n",
      "    SSE4.1      = Yes\n",
      "    SSE4.2      = Yes\n",
      "    AES-NI      = Yes\n",
      "    SHA         = No\n",
      "\n",
      "SIMD: 256-bit\n",
      "    AVX         = Yes\n",
      "    XOP         = No\n",
      "    FMA3        = Yes\n",
      "    FMA4        = No\n",
      "    AVX2        = Yes\n",
      "\n",
      "SIMD: 512-bit\n",
      "    AVX512-F         = No\n",
      "    AVX512-CD        = No\n",
      "    AVX512-PF        = No\n",
      "    AVX512-ER        = No\n",
      "    AVX512-VL        = No\n",
      "    AVX512-BW        = No\n",
      "    AVX512-DQ        = No\n",
      "    AVX512-IFMA      = No\n",
      "    AVX512-VBMI      = No\n",
      "    AVX512-VPOPCNTDQ = No\n",
      "    AVX512-4FMAPS    = No\n",
      "    AVX512-4VNNIW    = No\n",
      "    AVX512-VBMI2     = No\n",
      "    AVX512-VPCLMUL   = No\n",
      "    AVX512-VNNI      = No\n",
      "    AVX512-BITALG    = No\n",
      "    AVX512-BF16      = No\n",
      "\n",
      "Summary\n",
      "    Safe to use AVX:     Yes\n",
      "    Safe to use AVX512:  No\n",
      "\n",
      "Cache ID 0:\n",
      "- Level: 1\n",
      "- Type: Data Cache\n",
      "- Sets: 64\n",
      "- System Coherency Line Size: 64 bytes\n",
      "- Physical Line partitions: 1\n",
      "- Ways of associativity: 8\n",
      "- Total Size: 32768 bytes (32 kb)\n",
      "- Is fully associative: false\n",
      "- Is Self Initializing: true\n",
      "\n",
      "Cache ID 1:\n",
      "- Level: 1\n",
      "- Type: Instruction Cache\n",
      "- Sets: 64\n",
      "- System Coherency Line Size: 64 bytes\n",
      "- Physical Line partitions: 1\n",
      "- Ways of associativity: 8\n",
      "- Total Size: 32768 bytes (32 kb)\n",
      "- Is fully associative: false\n",
      "- Is Self Initializing: true\n",
      "\n",
      "Cache ID 2:\n",
      "- Level: 2\n",
      "- Type: Unified Cache\n",
      "- Sets: 512\n",
      "- System Coherency Line Size: 64 bytes\n",
      "- Physical Line partitions: 1\n",
      "- Ways of associativity: 8\n",
      "- Total Size: 262144 bytes (256 kb)\n",
      "- Is fully associative: false\n",
      "- Is Self Initializing: true\n",
      "\n",
      "Cache ID 3:\n",
      "- Level: 3\n",
      "- Type: Unified Cache\n",
      "- Sets: 16384\n",
      "- System Coherency Line Size: 64 bytes\n",
      "- Physical Line partitions: 1\n",
      "- Ways of associativity: 20\n",
      "- Total Size: 20971520 bytes (20480 kb)\n",
      "- Is fully associative: false\n",
      "- Is Self Initializing: true\n",
      "\n",
      "CPU checking result: The AVX2-enabled library is used ...\n",
      "\n",
      "ars1111111111111111x\n",
      "\n",
      "#--------------------------------------------------#\n",
      "#      OPTIONS used in the MCMC inference          #\n",
      "#--------------------------------------------------#\n",
      "#  Set extra.printOptions=0 to suppress printing   #\n",
      "#--------------------------------------------------#\n",
      "\n",
      "#......Start of displaying 'MetaData' ......\n",
      "  metadata =  rb.args() ### or 'lambda: None': just get an empty object###\n",
      "  metadata.isRegularOrdered = True\n",
      "  metadata.season           = 'none'\n",
      "  metadata.startTime        = 1984.00000\n",
      "  metadata.deltaTime        = 1.00000\n",
      "  metadata.whichDimIsTime   = 1\n",
      "  metadata.missingValue     = float('nan')\n",
      "  metadata.maxMissingRate   = 0.7500\n",
      "  metadata.detrend          = False\n",
      "#........End of displaying MetaData ........\n",
      "\n",
      "#......Start of displaying 'prior' ......\n",
      "  prior =  rb.args() ### or 'lambda: None': just get an empty object###\n",
      "  prior.modelPriorType\t  = 1\n",
      "  prior.trendMinOrder\t  = 0\n",
      "  prior.trendMaxOrder\t  = 1\n",
      "  prior.trendMinKnotNum  = 0\n",
      "  prior.trendMaxKnotNum  = 6\n",
      "  prior.trendMinSepDist  = 3\n",
      "  prior.K_MAX            = 14\n",
      "  prior.precValue        = 1.500000\n",
      "  prior.precPriorType    = 'uniform'\n",
      "#......End of displaying pripr ......\n",
      "\n",
      "#......Start of displaying 'mcmc' ......\n",
      "WARNING: prior$precPriorType is changed from 'componentwise' to 'uniform' because the model specified only has one component.\n",
      "  mcmc =  rb.args() ### or 'lambda: None': just get an empty object###\n",
      "  mcmc.seed                      = 0\n",
      "  mcmc.samples                   = 8000\n",
      "  mcmc.thinningFactor            = 5\n",
      "  mcmc.burnin                    = 200\n",
      "  mcmc.chainNumber               = 3\n",
      "  mcmc.maxMoveStepSize           = 6\n",
      "  mcmc.trendResamplingOrderProb  = 0.1000\n",
      "  mcmc.credIntervalAlphaLevel    = 0.950\n",
      "#......End of displaying mcmc ......\n",
      "\n",
      "#......Start of displaying 'extra' ......\n",
      "  extra =  rb.args() ### or 'lambda: None': just get an empty object###\n",
      "  extra.dumpInputData        = True\n",
      "  extra.whichOutputDimIsTime = 1\n",
      "  extra.computeCredible      = True\n",
      "  extra.fastCIComputation    = True\n",
      "  extra.computeTrendOrder    = True\n",
      "  extra.computeTrendChngpt   = True\n",
      "  extra.computeTrendSlope    = True\n",
      "  extra.tallyPosNegTrendJump = False\n",
      "  extra.tallyIncDecTrendJump = False\n",
      "  extra.printProgressBar     = True\n",
      "  extra.printOptions         = True\n",
      "  extra.consoleWidth         = 85\n",
      "  extra.numThreadsPerCPU     = 2\n",
      "  extra.numParThreads        = 0\n",
      "#......End of displaying extra ......\n",
      "\n",
      "-Progress:100.0% done[==============================================================]\n"
     ]
    }
   ],
   "source": [
    "out = rb.beast(data,start=1984,season=\"none\")"
   ]
  },
  {
   "cell_type": "code",
   "execution_count": 36,
   "metadata": {},
   "outputs": [
    {
     "data": {
      "text/plain": [
       "array([2010., 2006., 2000.,   nan,   nan,   nan], dtype=float32)"
      ]
     },
     "execution_count": 36,
     "metadata": {},
     "output_type": "execute_result"
    }
   ],
   "source": [
    "out.trend.cp"
   ]
  },
  {
   "cell_type": "code",
   "execution_count": 38,
   "metadata": {},
   "outputs": [
    {
     "data": {
      "text/plain": [
       "[<matplotlib.lines.Line2D at 0x7fd22efba1c0>]"
      ]
     },
     "execution_count": 38,
     "metadata": {},
     "output_type": "execute_result"
    },
    {
     "data": {
      "image/png": "[encoded data removed]",
      "text/plain": [
       "<Figure size 432x288 with 1 Axes>"
      ]
     },
     "metadata": {
      "needs_background": "light"
     },
     "output_type": "display_data"
    }
   ],
   "source": [
    "plt.plot(out.trend.cpOccPr)"
   ]
  },
  {
   "cell_type": "code",
   "execution_count": 22,
   "metadata": {},
   "outputs": [
    {
     "data": {
      "text/plain": [
       "(<Figure size 432x288 with 5 Axes>,\n",
       " array([<AxesSubplot:xlabel='[]', ylabel='trend'>,\n",
       "        <AxesSubplot:xlabel='[]', ylabel='Pr(tcp)'>,\n",
       "        <AxesSubplot:xlabel='[]', ylabel='tOrder'>,\n",
       "        <AxesSubplot:xlabel='[]', ylabel='slpsgn'>,\n",
       "        <AxesSubplot:xlabel='time', ylabel='error'>], dtype=object))"
      ]
     },
     "execution_count": 22,
     "metadata": {},
     "output_type": "execute_result"
    },
    {
     "data": {
      "image/png": "[encoded data removed]",
      "text/plain": [
       "<Figure size 432x288 with 5 Axes>"
      ]
     },
     "metadata": {
      "needs_background": "light"
     },
     "output_type": "display_data"
    }
   ],
   "source": [
    "rb.plot(out)"
   ]
  }
 ],
 "metadata": {
  "kernelspec": {
   "display_name": "Python 3.9.13 ('geospatial')",
   "language": "python",
   "name": "python3"
  },
  "language_info": {
   "codemirror_mode": {
    "name": "ipython",
    "version": 3
   },
   "file_extension": ".py",
   "mimetype": "text/x-python",
   "name": "python",
   "nbconvert_exporter": "python",
   "pygments_lexer": "ipython3",
   "version": "3.9.13"
  },
  "orig_nbformat": 4,
  "vscode": {
   "interpreter": {
    "hash": "58d4357dc51a73699c5449b037ed9e8ebf9460004e4993ef846dc1036514c650"
   }
  }
 },
 "nbformat": 4,
 "nbformat_minor": 2
}
