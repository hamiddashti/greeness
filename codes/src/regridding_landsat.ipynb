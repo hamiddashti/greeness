{
 "cells": [
  {
   "cell_type": "markdown",
   "metadata": {},
   "source": [
    "### Resampling landsat\n",
    "Resample the landsat 30 * 30 m data to the NOAA LAI resolution (0.05 * 0.05). \n",
    "We use the reproject_rematch from rioxarray which it performs the reprojection and then take the area based average. \n"
   ]
  },
  {
   "cell_type": "code",
   "execution_count": 1,
   "metadata": {},
   "outputs": [],
   "source": [
    "# prepare the libraries and data paths\n",
    "import xarray as xr\n",
    "import numpy as np\n",
    "import rioxarray\n",
    "from rasterio.enums import Resampling\n",
    "import glob\n",
    "import pandas as pd\n",
    "import time\n",
    "\n",
    "dir = \"/data/home/hamiddashti/hamid/nasa_above/greeness/\"\n",
    "\n",
    "in_dir = dir + (\"data/processed_data/landsat/mosaic/\")\n",
    "out_dir = dir + \"data/processed_data/landsat/resampled/\""
   ]
  },
  {
   "cell_type": "markdown",
   "metadata": {},
   "source": [
    "target image is only a sample NOAA LAI"
   ]
  },
  {
   "cell_type": "code",
   "execution_count": 15,
   "metadata": {},
   "outputs": [],
   "source": [
    "target_image = xr.open_dataset(\n",
    "    dir + \"data/processed_data/noaa_nc/lai_fapar/resampled/lai_monthly_resample_mean.nc\"\n",
    ")[\"LAI\"].isel(time=5)\n",
    "target_image = target_image.rio.write_crs(\"EPSG:4326\").rename({\"latitude\":\"y\",\"longitude\":\"x\"})"
   ]
  },
  {
   "cell_type": "markdown",
   "metadata": {},
   "source": [
    "If out of memory use Dask"
   ]
  },
  {
   "cell_type": "code",
   "execution_count": 3,
   "metadata": {},
   "outputs": [
    {
     "name": "stdout",
     "output_type": "stream",
     "text": [
      "TM5 year:1984\n",
      "TM5 year:1985\n",
      "TM5 year:1986\n",
      "TM5 year:1987\n",
      "TM5 year:1988\n",
      "TM5 year:1989\n"
     ]
    }
   ],
   "source": [
    "# Resampling TM5 data\n",
    "for i in np.arange(1984, 2012):\n",
    "    print(\"TM5 year:\" + str(i))\n",
    "    time.sleep(1)\n",
    "    source_image = xr.open_dataarray(in_dir + \"mosaic_NDVI_\" + str(i) + \"_TM5.tif\",engine=\"rasterio\")\n",
    "    resampled = source_image.rio.reproject_match(\n",
    "        target_image, resampling=Resampling.average\n",
    "    )\n",
    "    resampled.squeeze().to_netcdf(out_dir + \"NDVI_resampled_\" + str(i) + \"_TM5.nc\")\n",
    "    del resampled"
   ]
  },
  {
   "cell_type": "code",
   "execution_count": 16,
   "metadata": {},
   "outputs": [
    {
     "name": "stdout",
     "output_type": "stream",
     "text": [
      "ETM year:2014\n"
     ]
    }
   ],
   "source": [
    "for i in np.arange(2014, 2015):\n",
    "    print(\"ETM year:\" + str(i))\n",
    "    source_image = xr.open_dataarray(in_dir + \"mosaic_NDVI_\" + str(i) + \"_ETM.tif\",engine=\"rasterio\")\n",
    "    resampled = source_image.rio.reproject_match(\n",
    "        target_image, resampling=Resampling.average\n",
    "    )\n",
    "    resampled.squeeze().to_netcdf(out_dir + \"NDVI_resampled_\" + str(i) + \"_ETM.nc\")\n",
    "    del resampled"
   ]
  },
  {
   "cell_type": "markdown",
   "metadata": {},
   "source": [
    "Here we stack all the files in one file for the trend analyses. Note that we use TM5 data from 1984-1999 and ETM from 1999-2014\""
   ]
  },
  {
   "cell_type": "code",
   "execution_count": 3,
   "metadata": {},
   "outputs": [],
   "source": [
    "fnames = []\n",
    "for i in np.arange(1984,2014):\n",
    "    if i<1999:\n",
    "        fnames.append(dir+\"data/processed_data/landsat/resampled/NDVI_resampled_\"+str(i)+\"_TM5.nc\")\n",
    "        continue\n",
    "    fnames.append(dir+\"data/processed_data/landsat/resampled/NDVI_resampled_\"+str(i)+\"_ETM.nc\")\n",
    "\n",
    "# xr.open_dataset(fnames[0])[\"band_data\"]\n",
    "ds_ndvi = xr.concat([xr.open_dataset(f)[\"band_data\"] for f in fnames],dim=\"time\")    \n",
    "ds_ndvi[\"time\"] = pd.date_range(\"1984\",\"2014\",freq = \"A\")\n",
    "ds_ndvi = ds_ndvi.drop(\"band\").rename({\"x\":\"longitude\",\"y\":\"latitude\"})\n",
    "ds_ndvi.to_netcdf(dir+\"data/processed_data/landsat/resampled/ndvi_annual_max.nc\")"
   ]
  }
 ],
 "metadata": {
  "kernelspec": {
   "display_name": "Python 3.9.13 ('geospatial')",
   "language": "python",
   "name": "python3"
  },
  "language_info": {
   "codemirror_mode": {
    "name": "ipython",
    "version": 3
   },
   "file_extension": ".py",
   "mimetype": "text/x-python",
   "name": "python",
   "nbconvert_exporter": "python",
   "pygments_lexer": "ipython3",
   "version": "3.9.13"
  },
  "orig_nbformat": 4,
  "vscode": {
   "interpreter": {
    "hash": "58d4357dc51a73699c5449b037ed9e8ebf9460004e4993ef846dc1036514c650"
   }
  }
 },
 "nbformat": 4,
 "nbformat_minor": 2
}
