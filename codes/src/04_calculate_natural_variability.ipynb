{
 "cells": [
  {
   "cell_type": "code",
   "execution_count": 3,
   "metadata": {},
   "outputs": [],
   "source": [
    "import xarray as xr\n",
    "import numpy as np\n",
    "import dask\n",
    "from dask.diagnostics import ProgressBar\n",
    "import matplotlib.pylab as plt\n",
    "import my_funs\n",
    "\n",
    "from dask.distributed import Client, LocalCluster\n",
    "\n",
    "# cluster = LocalCluster()\n",
    "# client = Client(cluster)\n",
    "# client = Client(processes=False)\n",
    "\n",
    "dir = \"/data/home/hamiddashti/hamid/nasa_above/greeness/\"\n",
    "out_dir = \"/data/home/hamiddashti/hamid/nasa_above/greeness/working/\"\n",
    "\n",
    "percent_cover = (\n",
    "    xr.open_dataarray(dir + \"data/processed_data/percent_cover/percent_cover.nc\") * 100\n",
    ")\n",
    "percent_cover = percent_cover.loc[\"1984\":\"2013\"]\n",
    "percent_cover = percent_cover.round(4)\n",
    "# If a class is 0 change it no nan to prevent false zeros in diff later\n",
    "percent_cover = percent_cover.where(percent_cover != 0)"
   ]
  },
  {
   "cell_type": "markdown",
   "metadata": {},
   "source": [
    "Calculate natural variability for the growing season"
   ]
  },
  {
   "cell_type": "code",
   "execution_count": null,
   "metadata": {},
   "outputs": [],
   "source": [
    "\n",
    "lai_growing = xr.open_dataarray(dir+\"data/processed_data/noaa_nc/lai_fapar/resampled/lai_growing_mean.nc\")\n",
    "lai_growing = lai_growing.rename({\"latitude\":\"lat\",\"longitude\":\"lon\"})\n",
    "\n",
    "lai_growing_trend_ds = xr.open_dataset(\n",
    "    dir + \"data/processed_data/noaa_nc/lai_fapar/trend/lai_growing_trend_mean.nc\"\n",
    ")\n",
    "lai_growing_trend_ds = lai_growing_trend_ds.rename({\"latitude\":\"lat\",\"longitude\":\"lon\"})\n",
    "lai_growing_trend = lai_growing_trend_ds[\"trend\"]\n",
    "lai_growing_trend_total = lai_growing_trend.where(\n",
    "    lai_growing_trend_ds[\"h\"] == 1\n",
    ")  # where trend is sigificant\n",
    "\n",
    "# There is a tiny difference between lat and lon of the dataset due to rounding\n",
    "# We make them equal\n",
    "percent_cover[\"lat\"] = lai_growing_trend_total[\"lat\"]\n",
    "percent_cover[\"lon\"] = lai_growing_trend_total[\"lon\"]\n",
    "\n",
    "t_n = percent_cover.shape[0]\n",
    "band_n = percent_cover.shape[1]\n",
    "lat_n = percent_cover.shape[2]\n",
    "lon_n = percent_cover.shape[3]\n",
    "n_total = np.isfinite(lai_growing.isel(time=0)).sum()\n",
    "\n",
    "# Some setting\n",
    "winsize = 7  # Window size to search for stable pixels around a central pixel\n",
    "thresh = (\n",
    "    2  # Threshold to consider a change in ladn cover happended over the past 30 years\n",
    ")\n",
    "\n",
    "lai_growing_trend_nv, lai_growing_trend_lcc, changed_pixels = my_funs.estimate_lcc_trend(\n",
    "    percent_cover, lai_growing_trend_total, thresh, winsize\n",
    ")\n",
    "lai_growing_changed = lai_growing.where(changed_pixels)\n",
    "\n",
    "lai_growing_trend_nv.to_netcdf(\n",
    "    dir + \"data/processed_data/noaa_nc/lai_fapar/trend/lai_growing_trend_nv.nc\"\n",
    ")\n",
    "lai_growing_trend_lcc.to_netcdf(\n",
    "    dir + \"data/processed_data/noaa_nc/lai_fapar/trend/lai_growing_trend_lcc.nc\"\n",
    ")\n",
    "lai_growing_trend_total.to_netcdf(\n",
    "    dir + \"data/processed_data/noaa_nc/lai_fapar/trend/lai_growing_trend_total.nc\"\n",
    ")\n",
    "lai_growing_changed.to_netcdf(\n",
    "    dir + \"data/processed_data/noaa_nc/lai_fapar/trend/lai_growing_changed.nc\"\n",
    ")\n",
    "changed_pixels.to_netcdf(dir + \"data/processed_data/noaa_nc/lai_fapar/trend/changed_pixels.nc\")"
   ]
  },
  {
   "cell_type": "code",
   "execution_count": 30,
   "metadata": {},
   "outputs": [],
   "source": [
    "lai_monthly_trend_ds = xr.open_dataset(dir+\"data/processed_data/noaa_nc/lai_fapar/trend/lai_monthly_trend_mean.nc\")\n",
    "lai_monthly_trend_ds = lai_monthly_trend_ds.rename({\"latitude\":\"lat\",\"longitude\":\"lon\"})\n",
    "percent_cover[\"lat\"] = lai_monthly_trend_ds[\"lat\"]\n",
    "percent_cover[\"lon\"] = lai_monthly_trend_ds[\"lon\"]"
   ]
  },
  {
   "cell_type": "code",
   "execution_count": 39,
   "metadata": {},
   "outputs": [],
   "source": [
    "trend_total_lst = []\n",
    "trend_nv_lst = []\n",
    "trend_lcc_lst = []\n",
    "\n",
    "for k in np.arange(5,11):\n",
    "    tmp = lai_monthly_trend_ds.sel(months=k)\n",
    "    lai_tmp_trend_total = tmp[\"trend\"]\n",
    "    # Find the significant slope estimates\n",
    "    lai_tmp_trend_total = lai_tmp_trend_total.where(\n",
    "        tmp[\"h\"] == 1\n",
    "    )\n",
    "    lai_tmp_trend_nv, lai_tmp_trend_lcc, changed_pixels = my_funs.estimate_lcc_trend(\n",
    "        percent_cover, lai_tmp_trend_total, thresh, winsize\n",
    "    )\n",
    "    trend_total_lst.append(lai_tmp_trend_total)\n",
    "    trend_nv_lst.append(lai_tmp_trend_nv)\n",
    "    trend_lcc_lst.append(lai_tmp_trend_lcc)\n",
    "\n",
    "trend_total_lst_monthly = xr.concat(trend_total_lst,dim=\"months\").assign_coords({\"months\": np.arange(5, 11)})\n",
    "trend_nv_lst_monthly = xr.concat(trend_nv_lst,dim=\"months\").assign_coords({\"months\": np.arange(5, 11)})\n",
    "trend_lcc_lst_monthly = xr.concat(trend_lcc_lst,dim=\"months\").assign_coords({\"months\": np.arange(5, 11)})\n",
    "trend_total_lst_monthly.to_netcdf(dir+\"/data/processed_data/noaa_nc/lai_fapar/trend/trend_total_lst_monthly.nc\")\n",
    "trend_nv_lst_monthly.to_netcdf(dir+\"/data/processed_data/noaa_nc/lai_fapar/trend/trend_nv_lst_monthly.nc\")\n",
    "trend_lcc_lst_monthly.to_netcdf(dir+\"/data/processed_data/noaa_nc/lai_fapar/trend/trend_lcc_lst_monthly.nc\")"
   ]
  },
  {
   "cell_type": "code",
   "execution_count": 45,
   "metadata": {},
   "outputs": [],
   "source": []
  },
  {
   "cell_type": "code",
   "execution_count": 46,
   "metadata": {},
   "outputs": [],
   "source": []
  }
 ],
 "metadata": {
  "kernelspec": {
   "display_name": "Python 3.9.13 ('geospatial')",
   "language": "python",
   "name": "python3"
  },
  "language_info": {
   "codemirror_mode": {
    "name": "ipython",
    "version": 3
   },
   "file_extension": ".py",
   "mimetype": "text/x-python",
   "name": "python",
   "nbconvert_exporter": "python",
   "pygments_lexer": "ipython3",
   "version": "3.9.13"
  },
  "orig_nbformat": 4,
  "vscode": {
   "interpreter": {
    "hash": "58d4357dc51a73699c5449b037ed9e8ebf9460004e4993ef846dc1036514c650"
   }
  }
 },
 "nbformat": 4,
 "nbformat_minor": 2
}
