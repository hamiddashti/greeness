{
 "cells": [
  {
   "cell_type": "code",
   "execution_count": 1,
   "metadata": {},
   "outputs": [],
   "source": [
    "import itertools\n",
    "import rasterio\n",
    "from shapely.geometry import box\n",
    "import geopandas as gpd\n",
    "import xarray as xr\n",
    "import rioxarray\n",
    "\n",
    "da = xr.open_dataarray(\n",
    "    (\n",
    "        \"/data/home/hamiddashti/hamid/nasa_above/greeness/data/processed_data/\"\n",
    "        \"noaa_nc/lai_fapar/trend/lai_growing_trend_total.nc\"\n",
    "    )\n",
    ")\n",
    "da.rio.to_raster(\n",
    "    (\n",
    "        \"/data/home/hamiddashti/hamid/nasa_above/greeness/data/processed_data/\"\n",
    "        \"noaa_nc/lai_fapar/trend/lai_growing_trend_total_tiff.tiff\"\n",
    "    )\n",
    ")\n",
    "\n",
    "with rasterio.open(\n",
    "    (\n",
    "        (\n",
    "            \"/data/home/hamiddashti/hamid/nasa_above/greeness/data/processed_data/\"\n",
    "            \"noaa_nc/lai_fapar/trend/lai_growing_trend_total_tiff.tiff\"\n",
    "        )\n",
    "    )\n",
    ") as dataset:\n",
    "    data = dataset.read(1)\n",
    "\n",
    "    t = dataset.transform\n",
    "\n",
    "    move_x = t[0]\n",
    "    # t[4] is negative, as raster start upper left 0,0 and goes down\n",
    "    # later for steps calculation (ymin=...) we use plus instead of minus\n",
    "    move_y = t[4]\n",
    "\n",
    "    height = dataset.height\n",
    "    width = dataset.width\n",
    "\n",
    "    polygons = []\n",
    "    indices = list(itertools.product(range(width), range(height)))\n",
    "    for x, y in indices:\n",
    "        x_min, y_max = t * (x, y)\n",
    "        x_max = x_min + move_x\n",
    "        y_min = y_max + move_y\n",
    "        polygons.append(box(x_min, y_min, x_max, y_max))\n",
    "\n",
    "ds = rasterio.open(        (\n",
    "            \"/data/home/hamiddashti/hamid/nasa_above/greeness/data/processed_data/\"\n",
    "            \"noaa_nc/lai_fapar/trend/lai_growing_trend_total_tiff.tiff\"\n",
    "        ))\n",
    "\n",
    "data_list = []\n",
    "for x, y in indices:\n",
    "    data_list.append(data[y, x])\n",
    "gdf = gpd.GeoDataFrame(data=data_list, crs=ds.crs, geometry=polygons, columns=[\"value\"])"
   ]
  },
  {
   "cell_type": "code",
   "execution_count": null,
   "metadata": {},
   "outputs": [],
   "source": []
  },
  {
   "cell_type": "code",
   "execution_count": 4,
   "metadata": {},
   "outputs": [],
   "source": [
    "gdf.to_file(\"/data/home/hamiddashti/hamid/nasa_above/greeness/data/shp_files/python_grid.shp\")"
   ]
  }
 ],
 "metadata": {
  "kernelspec": {
   "display_name": "Python 3.9.13 ('geospatial')",
   "language": "python",
   "name": "python3"
  },
  "language_info": {
   "codemirror_mode": {
    "name": "ipython",
    "version": 3
   },
   "file_extension": ".py",
   "mimetype": "text/x-python",
   "name": "python",
   "nbconvert_exporter": "python",
   "pygments_lexer": "ipython3",
   "version": "3.9.13"
  },
  "orig_nbformat": 4,
  "vscode": {
   "interpreter": {
    "hash": "58d4357dc51a73699c5449b037ed9e8ebf9460004e4993ef846dc1036514c650"
   }
  }
 },
 "nbformat": 4,
 "nbformat_minor": 2
}
