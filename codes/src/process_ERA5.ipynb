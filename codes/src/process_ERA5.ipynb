{
 "cells": [
  {
   "cell_type": "code",
   "execution_count": 1,
   "metadata": {},
   "outputs": [
    {
     "name": "stderr",
     "output_type": "stream",
     "text": [
      "/tmp/ipykernel_597609/1263652735.py:6: UserWarning: Shapely 2.0 is installed, but because PyGEOS is also installed, GeoPandas will still use PyGEOS by default for now. To force to use and test Shapely 2.0, you have to set the environment variable USE_PYGEOS=0. You can do this before starting the Python process, or in your code before importing geopandas:\n",
      "\n",
      "import os\n",
      "os.environ['USE_PYGEOS'] = '0'\n",
      "import geopandas\n",
      "\n",
      "In a future release, GeoPandas will switch to using Shapely by default. If you are using PyGEOS directly (calling PyGEOS functions on geometries from GeoPandas), this will then stop working and you are encouraged to migrate from PyGEOS to Shapely 2.0 (https://shapely.readthedocs.io/en/latest/migration_pygeos.html).\n",
      "  import geopandas as gpd\n"
     ]
    }
   ],
   "source": [
    "import xarray as xr\n",
    "import rioxarray\n",
    "import numpy as np\n",
    "from rasterio.enums import Resampling\n",
    "import pandas as pd\n",
    "import geopandas as gpd\n",
    "from matplotlib import pyplot as plt\n",
    "import zarr\n",
    "import fsspec\n",
    "%matplotlib inline\n",
    "%config InlineBackend.figure_format = 'retina'\n",
    "plt.rcParams['figure.figsize'] = 12, 6\n",
    "\n",
    "dir = \"/data/home/hamiddashti/hamid/nasa_above/greeness/\"\n",
    "data_dir = \"/data/ABOVE/ABoVE_Final_Data/air_temp/Tundra_Greeness_Temp_Trends_1893/data/\"\n",
    "out_dir = \"/data/home/hamiddashti/hamid/nasa_above/greeness/data/processed_data/swi/\""
   ]
  },
  {
   "attachments": {},
   "cell_type": "markdown",
   "metadata": {},
   "source": [
    "Resample ERA5 air temperature\n"
   ]
  },
  {
   "cell_type": "code",
   "execution_count": 2,
   "metadata": {},
   "outputs": [],
   "source": [
    "# target_image = xr.open_dataset(\n",
    "#     dir +\n",
    "#     \"data/processed_data/noaa_nc/lai_fapar/resampled/lai_annual_resample_max.nc\"\n",
    "# )[\"LAI\"].isel(time=5)\n",
    "# target_image = target_image.rio.write_crs(\"EPSG:4326\").rename({\n",
    "#     \"latitude\": \"y\",\n",
    "#     \"longitude\": \"x\"\n",
    "# })\n",
    "# geodf = gpd.read_file(\"../data/shp_files/CoreDomain_geographic.shp\")\n",
    "# source_image = xr.open_dataset(\"../data/t2m_era5.nc\")[\"t2m\"].isel(expver=0)\n",
    "# source_image = source_image.rio.write_crs(target_image.rio.crs)\n",
    "# resampled = source_image.rio.reproject_match(target_image,\n",
    "#                                              resampling=Resampling.average)\n",
    "# clipped = resampled.rio.clip(geodf.geometry).rename({\"y\": \"lat\", \"x\": \"lon\"})\n",
    "# t2m_annual_resample_max = clipped.groupby(\"time.year\").max().rename(\n",
    "#     {\"year\": \"time\"})\n",
    "# t2m_annual_resample_max['time'] = pd.date_range(\"1984\", \"2024\", freq=\"A\")\n",
    "# t2m_annual_resample_max = t2m_annual_resample_max.sel(\n",
    "#     time=slice(\"1984\", \"2022\"))\n",
    "\n",
    "# t2m_annual_resample_mean = clipped.groupby(\"time.year\").mean().rename(\n",
    "#     {\"year\": \"time\"})\n",
    "# t2m_annual_resample_mean['time'] = pd.date_range(\"1984\", \"2024\", freq=\"A\")\n",
    "# t2m_annual_resample_mean = t2m_annual_resample_mean.sel(\n",
    "#     time=slice(\"1984\", \"2022\"))\n",
    "\n",
    "# t2m_summer = clipped.where(clipped.time.dt.month.isin([6, 7, 8]), drop=True)\n",
    "# t2m_summer_resample_mean = t2m_summer.groupby(\"time.year\").mean().rename(\n",
    "#     {\"year\": \"time\"})\n",
    "# t2m_summer_resample_mean['time'] = pd.date_range(\"1984\", \"2024\", freq=\"A\")\n",
    "# t2m_summer_resample_mean = t2m_annual_resample_mean.sel(\n",
    "#     time=slice(\"1984\", \"2022\"))\n",
    "\n",
    "# t2m_summer_resample_max = t2m_summer.groupby(\"time.year\").max().rename(\n",
    "#     {\"year\": \"time\"})\n",
    "# t2m_summer_resample_max['time'] = pd.date_range(\"1984\", \"2024\", freq=\"A\")\n",
    "# t2m_summer_resample_max = t2m_annual_resample_max.sel(\n",
    "#     time=slice(\"1984\", \"2022\"))\n",
    "\n",
    "# t2m_annual_resample_max.to_netcdf(\"../data/t2m_annual_resample_max.nc\")\n",
    "# t2m_annual_resample_mean.to_netcdf(\"../data/t2m_annual_resample_mean.nc\")\n",
    "# t2m_summer_resample_max.to_netcdf(\"../data/t2m_summer_resample_max.nc\")\n",
    "# t2m_summer_resample_mean.to_netcdf(\"../data/t2m_summer_resample_mean.nc\")"
   ]
  },
  {
   "cell_type": "code",
   "execution_count": 2,
   "metadata": {},
   "outputs": [],
   "source": [
    "ds = xr.open_dataset(\"../data/ERA5.nc\")"
   ]
  },
  {
   "cell_type": "code",
   "execution_count": 100,
   "metadata": {},
   "outputs": [
    {
     "name": "stdout",
     "output_type": "stream",
     "text": [
      "tp\n",
      "swvl1\n"
     ]
    }
   ],
   "source": [
    "target_image = xr.open_dataset(\n",
    "    \"../data/lai_annual_resample_max.nc\")[\"LAI\"].isel(time=5)\n",
    "target_image = target_image.rio.write_crs(\"EPSG:4326\").rename({\n",
    "    \"latitude\": \"y\",\n",
    "    \"longitude\": \"x\"\n",
    "})\n",
    "geodf = gpd.read_file(\"../data/shp_files/CoreDomain_geographic.shp\")\n",
    "\n",
    "# vars = [\"d2m\", \"t2m\", \"ssr\", \"tp\", \"swvl1\"]\n",
    "vars=[\"tp\", \"swvl1\"]\n",
    "for var in vars:\n",
    "    print(var)\n",
    "\n",
    "    source_image = ds[var].isel(expver=0)\n",
    "    source_image = source_image.rio.write_crs(target_image.rio.crs)\n",
    "    resampled = source_image.rio.reproject_match(target_image,\n",
    "                                                 resampling=Resampling.average)\n",
    "    clipped = resampled.rio.clip(geodf.geometry).rename({\n",
    "        \"y\": \"lat\",\n",
    "        \"x\": \"lon\"\n",
    "    })\n",
    "    if (var==\"tp\")|(var==\"swvl1\"):\n",
    "        var_total_annual = clipped.groupby(\"time.year\").sum(\"time\").rename(\n",
    "        {\"year\": \"time\"}) \n",
    "        var_total_annual['time'] = pd.date_range(\"1983\", \"2024\", freq=\"A\")\n",
    "        var_total_annual = var_total_annual.sel(\n",
    "        time=slice(\"1984\", \"2021\"))\n",
    "        var_total_annual.to_netcdf(\"../data/\"+var+\"_annual_resample_total.nc\")\n",
    "        continue\n",
    "\n",
    "    var_annual_resample_max = clipped.groupby(\"time.year\").max().rename(\n",
    "        {\"year\": \"time\"})\n",
    "    var_annual_resample_max['time'] = pd.date_range(\"1983\", \"2024\", freq=\"A\")\n",
    "    var_annual_resample_max = var_annual_resample_max.sel(\n",
    "        time=slice(\"1984\", \"2021\"))\n",
    "\n",
    "    var_annual_resample_mean = clipped.groupby(\"time.year\").mean().rename(\n",
    "        {\"year\": \"time\"})\n",
    "    var_annual_resample_mean['time'] = pd.date_range(\"1983\", \"2024\", freq=\"A\")\n",
    "    var_annual_resample_mean = var_annual_resample_mean.sel(\n",
    "        time=slice(\"1984\", \"2021\"))\n",
    "    var_annual_resample_max.to_netcdf(\"../data/\" + var +\n",
    "                                      \"_annual_resample_max.nc\")\n",
    "    var_annual_resample_mean.to_netcdf(\"../data/\" + var +\n",
    "                                       \"_annual_resample_mean.nc\")\n"
   ]
  },
  {
   "cell_type": "code",
   "execution_count": 15,
   "metadata": {},
   "outputs": [],
   "source": [
    "T = ds[\"t2m\"].isel(expver=0)-273.15\n",
    "Td = ds[\"d2m\"].isel(expver=0)-273.15\n",
    "\n",
    "c1 = 0.611\n",
    "c2=17.5\n",
    "c3 = 240.978\n",
    "\n",
    "es = c1*np.exp((c2*T)/(c3+T))\n",
    "ea = c1*np.exp((c2*Td)/(c3+Td))\n",
    "VPD = es - ea "
   ]
  },
  {
   "cell_type": "code",
   "execution_count": 26,
   "metadata": {},
   "outputs": [
    {
     "name": "stderr",
     "output_type": "stream",
     "text": [
      "/data/home/hamiddashti/miniconda3/envs/geo/lib/python3.9/site-packages/rioxarray/raster_writer.py:132: UserWarning: The nodata value (3.402823466e+38) has been automatically changed to (3.4028234663852886e+38) to match the dtype of the data.\n",
      "  warnings.warn(\n"
     ]
    }
   ],
   "source": [
    "target_image = xr.open_dataset(\n",
    "    \"../data/lai_annual_resample_max.nc\")[\"LAI\"].isel(time=5)\n",
    "target_image = target_image.rio.write_crs(\"EPSG:4326\").rename({\n",
    "    \"latitude\": \"y\",\n",
    "    \"longitude\": \"x\"\n",
    "})\n",
    "geodf = gpd.read_file(\"../data/shp_files/CoreDomain_geographic.shp\")\n",
    "\n",
    "source_image = VPD\n",
    "source_image = source_image.rio.write_crs(target_image.rio.crs)\n",
    "resampled = source_image.rio.reproject_match(target_image,\n",
    "                                                resampling=Resampling.average)\n",
    "clipped = resampled.rio.clip(geodf.geometry).rename({\n",
    "    \"y\": \"lat\",\n",
    "    \"x\": \"lon\"\n",
    "})\n",
    "clipped = clipped.where(clipped<10)\n",
    "\n",
    "vpd_annual_resample_max = clipped.groupby(\"time.year\").max().rename(\n",
    "    {\"year\": \"time\"})\n",
    "vpd_annual_resample_max['time'] = pd.date_range(\"1983\", \"2024\", freq=\"A\")\n",
    "vpd_annual_resample_max = vpd_annual_resample_max.sel(\n",
    "    time=slice(\"1984\", \"2021\"))\n",
    "\n",
    "vpd_annual_resample_mean = clipped.groupby(\"time.year\").mean().rename(\n",
    "    {\"year\": \"time\"})\n",
    "vpd_annual_resample_mean['time'] = pd.date_range(\"1983\", \"2024\", freq=\"A\")\n",
    "vpd_annual_resample_mean = vpd_annual_resample_mean.sel(\n",
    "    time=slice(\"1984\", \"2021\"))\n",
    "vpd_annual_resample_max.to_netcdf(\"../data/vpd_annual_resample_max.nc\")\n",
    "vpd_annual_resample_mean.to_netcdf(\"../data/vpd_annual_resample_mean.nc\")"
   ]
  },
  {
   "cell_type": "code",
   "execution_count": 2,
   "metadata": {},
   "outputs": [],
   "source": [
    "ds = xr.open_dataset(\"../../data/raw_data/co2/CO2_1deg_month_1850-2013.nc\")\n",
    "ds[\"value\"].sel(Times=slice(\"1984\",\"2013\"))[\"Times\"]\n",
    "ds = xr.open_dataset(\"../../data/raw_data/co2/CO2_1deg_month_1850-2013.nc\")\n",
    "co2= ds[\"value\"].sel(Times=slice(\"1984\",\"2013\")).rename({\"LatDim\":\"y\",\"LonDim\":\"x\",\"Times\":\"time\"})\n",
    "target_image = xr.open_dataset(\n",
    "    \"../data/lai_annual_resample_max.nc\")[\"LAI\"].isel(time=5)\n",
    "target_image = target_image.rio.write_crs(\"EPSG:4326\").rename({\n",
    "    \"latitude\": \"y\",\n",
    "    \"longitude\": \"x\"\n",
    "})\n",
    "geodf = gpd.read_file(\"../data/shp_files/CoreDomain_geographic.shp\")\n",
    "\n",
    "source_image = co2\n",
    "source_image = source_image.rio.write_crs(target_image.rio.crs)\n",
    "resampled = source_image.rio.reproject_match(target_image,\n",
    "                                                resampling=Resampling.average)\n",
    "clipped = resampled.rio.clip(geodf.geometry).rename({\n",
    "    \"y\": \"lat\",\n",
    "    \"x\": \"lon\"\n",
    "})\n",
    "clipped = clipped.where(clipped<600)\n",
    "co2_annual_resample_mean = clipped.groupby(\"time.year\").mean().rename(\n",
    "    {\"year\": \"time\"})\n",
    "\n",
    "co2_annual_resample_mean['time'] = pd.date_range(\"1984\", \"2014\", freq=\"A\")\n",
    "co2_annual_resample_mean.to_netcdf(\"../data/co2_annual_resample_mean.nc\")"
   ]
  },
  {
   "attachments": {},
   "cell_type": "markdown",
   "metadata": {},
   "source": [
    "Process CMIP6 data"
   ]
  },
  {
   "cell_type": "code",
   "execution_count": null,
   "metadata": {},
   "outputs": [],
   "source": [
    "target_image = xr.open_dataset(\n",
    "    \"../data/lai_annual_resample_max.nc\")[\"LAI\"].isel(time=5)\n",
    "target_image = target_image.rio.write_crs(\"EPSG:4326\").rename({\n",
    "    \"latitude\": \"y\",\n",
    "    \"longitude\": \"x\"\n",
    "})\n",
    "geodf = gpd.read_file(\"../data/shp_files/CoreDomain_geographic.shp\")"
   ]
  },
  {
   "cell_type": "code",
   "execution_count": 2,
   "metadata": {},
   "outputs": [
    {
     "name": "stdout",
     "output_type": "stream",
     "text": [
      "gs://cmip6/CMIP6/CMIP/NCAR/CESM2/historical/r1i1p1f1/Lmon/lai/gn/v20190308/\n"
     ]
    }
   ],
   "source": [
    "df = pd.read_csv('https://storage.googleapis.com/cmip6/cmip6-zarr-consolidated-stores.csv')\n",
    "df_lai = df.query(\"activity_id=='CMIP' & variable_id == 'lai' & experiment_id == 'historical' \")"
   ]
  },
  {
   "cell_type": "code",
   "execution_count": null,
   "metadata": {},
   "outputs": [],
   "source": [
    "df_cesm2 =df_lai.query(\" source_id=='CESM2' \") \n",
    "zstore = df_cesm2.zstore.values[0]\n",
    "print(zstore)\n",
    "\n",
    "# create a mutable-mapping-style interface to the store\n",
    "mapper = fsspec.get_mapper(zstore)\n",
    "\n",
    "# open it using xarray and zarr\n",
    "ds = xr.open_zarr(mapper, consolidated=True)\n",
    "lai = ds[\"lai\"].rename({\"lat\":\"y\",\"lon\":\"x\"}).sel(time=slice(\"1984\",\"2013\"))\n",
    "\n",
    "source_image = lai\n",
    "source_image = source_image.rio.write_crs(target_image.rio.crs)\n",
    "resampled = source_image.rio.reproject_match(target_image,\n",
    "                                                resampling=Resampling.average)\n",
    "clipped = resampled.rio.clip(geodf.geometry).rename({\n",
    "    \"y\": \"lat\",\n",
    "    \"x\": \"lon\"\n",
    "})\n",
    "cesm2_lai_annual = clipped.groupby(\"time.year\").mean().rename(\n",
    "    {\"year\": \"time\"})\n",
    "cesm2_lai_annual.to_netcdf(\"../data/cesm2_lai_annual.nc\")"
   ]
  },
  {
   "cell_type": "code",
   "execution_count": 11,
   "metadata": {},
   "outputs": [],
   "source": [
    "lai4g = xr.open_dataset(\"../data/lai4g.nc\")[\"lai\"]\n",
    "source_image = lai4g\n",
    "source_image = source_image.rio.write_crs(target_image.rio.crs)\n",
    "resampled = source_image.rio.reproject_match(target_image,\n",
    "                                                resampling=Resampling.average)\n",
    "lai4g_annual_max = resampled.groupby(\"time.year\").max().rename(\n",
    "    {\"year\": \"time\",\"y\": \"lat\", \"x\": \"lon\"})\n",
    "lai4g_annual_max.to_netcdf(\"../data/lai4g_annual_max.nc\")"
   ]
  },
  {
   "cell_type": "code",
   "execution_count": null,
   "metadata": {},
   "outputs": [],
   "source": [
    "# target_image = xr.open_dataset(\n",
    "#     dir +\n",
    "#     \"data/processed_data/noaa_nc/lai_fapar/resampled/lai_annual_resample_max.nc\"\n",
    "# )[\"LAI\"].isel(time=5)\n",
    "# target_image = target_image.rio.write_crs(\"EPSG:4326\").rename({\n",
    "#     \"latitude\": \"y\",\n",
    "#     \"longitude\": \"x\"\n",
    "# })\n",
    "\n",
    "# # # Resampling autmn onset\n",
    "# for i in np.arange(1985, 2014):\n",
    "#     print(i)\n",
    "#     source_image = xr.open_dataarray(data_dir + \"arctic_swi_\" + str(i) +\n",
    "#                                      \"_p500.tif\",\n",
    "#                                      engine=\"rasterio\")\n",
    "#     resampled = source_image.rio.reproject_match(target_image,\n",
    "#                                                  resampling=Resampling.average)\n",
    "\n",
    "#     resampled.squeeze().to_netcdf(out_dir + \"resampled_\" + str(i) + \".nc\")\n",
    "\n",
    "# fnames = []\n",
    "# for i in np.arange(1985, 2014):\n",
    "#     fnames.append(out_dir + \"resampled_\" + str(i) + \".nc\")\n",
    "# ds = xr.concat([xr.open_dataset(f)[\"band_data\"] for f in fnames], dim=\"time\")\n",
    "# ds['time'] = pd.date_range(\"1985\", \"2014\", freq=\"A\")\n",
    "# ds = ds.rename({\"x\": \"lon\", \"y\": \"lat\"}).drop(\"band\")\n",
    "# ds.to_netcdf(\"../data/swi.nc\")"
   ]
  }
 ],
 "metadata": {
  "kernelspec": {
   "display_name": "Python 3.9.16 ('geo')",
   "language": "python",
   "name": "python3"
  },
  "language_info": {
   "codemirror_mode": {
    "name": "ipython",
    "version": 3
   },
   "file_extension": ".py",
   "mimetype": "text/x-python",
   "name": "python",
   "nbconvert_exporter": "python",
   "pygments_lexer": "ipython3",
   "version": "3.9.16"
  },
  "orig_nbformat": 4,
  "vscode": {
   "interpreter": {
    "hash": "6021ea7d074eda5ac97506998cf228896a59052f045ef557a4c9594641a51db9"
   }
  }
 },
 "nbformat": 4,
 "nbformat_minor": 2
}
