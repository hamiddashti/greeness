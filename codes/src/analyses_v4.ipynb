{
 "cells": [
  {
   "cell_type": "code",
   "execution_count": 1,
   "metadata": {},
   "outputs": [
    {
     "name": "stdout",
     "output_type": "stream",
     "text": [
      "Initialization done!\n"
     ]
    },
    {
     "name": "stderr",
     "output_type": "stream",
     "text": [
      "/data/home/hamiddashti/hamid/nasa_above/greeness/codes/src/my_funs.py:9: UserWarning: Shapely 2.0 is installed, but because PyGEOS is also installed, GeoPandas will still use PyGEOS by default for now. To force to use and test Shapely 2.0, you have to set the environment variable USE_PYGEOS=0. You can do this before starting the Python process, or in your code before importing geopandas:\n",
      "\n",
      "import os\n",
      "os.environ['USE_PYGEOS'] = '0'\n",
      "import geopandas\n",
      "\n",
      "In a future release, GeoPandas will switch to using Shapely by default. If you are using PyGEOS directly (calling PyGEOS functions on geometries from GeoPandas), this will then stop working and you are encouraged to migrate from PyGEOS to Shapely 2.0 (https://shapely.readthedocs.io/en/latest/migration_pygeos.html).\n",
      "  import geopandas as gpd\n",
      "2023-08-30 18:46:40.508519: I tensorflow/core/platform/cpu_feature_guard.cc:182] This TensorFlow binary is optimized to use available CPU instructions in performance-critical operations.\n",
      "To enable the following instructions: AVX2 FMA, in other operations, rebuild TensorFlow with the appropriate compiler flags.\n",
      "2023-08-30 18:46:45.677794: W tensorflow/compiler/tf2tensorrt/utils/py_utils.cc:38] TF-TRT Warning: Could not find TensorRT\n"
     ]
    }
   ],
   "source": [
    "import xarray as xr\n",
    "import matplotlib.pylab as plt\n",
    "import Rbeast as rb\n",
    "import numpy as np\n",
    "import cartopy.crs as ccrss\n",
    "import cartopy.feature as cf\n",
    "import matplotlib as mpl\n",
    "import pandas as pd\n",
    "import my_funs\n",
    "from sklearn.experimental import enable_iterative_imputer\n",
    "from sklearn.neighbors import BallTree, DistanceMetric\n",
    "from causalimpact import CausalImpact\n",
    "import pickle\n",
    "from sklearn.impute import IterativeImputer\n",
    "from dask.diagnostics import ProgressBar\n",
    "from tqdm import tqdm\n",
    "from scipy import stats\n",
    "from collections import Counter\n",
    "import seaborn as sns\n",
    "\n",
    "mpl.rcParams[\"mathtext.default\"] = \"regular\"\n",
    "import matplotlib.gridspec as gridspec\n",
    "from mpl_toolkits.axes_grid1 import make_axes_locatable\n",
    "from my_funs import outliers_index\n",
    "\n",
    "dir = \"/data/home/hamiddashti/hamid/nasa_above/greeness/\""
   ]
  },
  {
   "cell_type": "markdown",
   "metadata": {},
   "source": [
    "Some handy functions"
   ]
  },
  {
   "cell_type": "code",
   "execution_count": 14,
   "metadata": {},
   "outputs": [],
   "source": [
    "def year_detect(x):\n",
    "    # Get the index of the first non-nan value\n",
    "    if not np.any(x):\n",
    "        return np.nan\n",
    "    idx = np.argmax(x)\n",
    "    return idx\n",
    "\n",
    "def most_common_values(arr, n):\n",
    "    # Count the n most repeated values in an array\n",
    "    counter = Counter(arr)\n",
    "    most_common = counter.most_common(n)\n",
    "    return [value for value, _ in most_common]"
   ]
  },
  {
   "attachments": {},
   "cell_type": "markdown",
   "metadata": {},
   "source": [
    "## Read the data"
   ]
  },
  {
   "cell_type": "code",
   "execution_count": 4,
   "metadata": {},
   "outputs": [],
   "source": [
    "percent = xr.open_dataset(\n",
    "    \"../data/percent_cover.nc\")[\"__xarray_dataarray_variable__\"].sel(\n",
    "        time=slice(1984, 2013))\n",
    "ndvi = xr.open_dataarray(\"../data/NDVI_resampled_v2.nc\").sel(\n",
    "    time=slice(\"1984\", \"2013\")) / 10000\n",
    "lai4g = xr.open_dataarray(\"../data/lai4g_annual_max.nc\").sel(\n",
    "    time=slice(\"1984\", \"2013\"))\n",
    "percent[\"lat\"] = lai4g[\"lat\"]\n",
    "percent[\"lon\"] = lai4g[\"lon\"]\n",
    "# Only focus on vegetative classes\n",
    "lc = percent.isel(band=[0, 2, 3, 4, 5])\n",
    "t_short = pd.date_range(start=\"1984\", end=\"2014\", freq=\"A-Dec\").year\n",
    "t = pd.date_range(start=\"1984\", end=\"2014\", freq=\"A-Dec\").year\n",
    "arr = xr.open_dataarray(\"../data/arr_id.nc\")"
   ]
  },
  {
   "attachments": {},
   "cell_type": "markdown",
   "metadata": {},
   "source": [
    "### Implement Rbeast on landcover data\n"
   ]
  },
  {
   "cell_type": "code",
   "execution_count": 5,
   "metadata": {},
   "outputs": [],
   "source": [
    "# Find disturbed pixels\n",
    "lc_diff = lc.diff(\"time\")\n",
    "net_change = lc_diff.where(lc_diff > 0.0).sum(\"band\")\n",
    "changed = (net_change >= 0.1).any(dim=\"time\")\n",
    "not_changed = (net_change < 0.1).all(dim=\"time\")\n",
    "mask_tmp = np.isfinite(lc).all([\"band\", \"time\"])\n",
    "not_changed = not_changed.where(mask_tmp == True)\n",
    "lc_changed = lc.where(changed == True)\n",
    "lc_not_changed = lc.where(not_changed == True)\n",
    "lc_changed_df = lc_changed.mean([\"lat\", \"lon\"]).to_pandas()"
   ]
  },
  {
   "cell_type": "code",
   "execution_count": 8,
   "metadata": {},
   "outputs": [
    {
     "name": "stdout",
     "output_type": "stream",
     "text": [
      "\n",
      "WARNING: prior$precPriorType is changed from 'componentwise' to 'uniform' because the model specified only has one component.\n",
      "#--------------------------------------------------#\n",
      "#      OPTIONS used in the MCMC inference          #\n",
      "#--------------------------------------------------#\n",
      "#  Set extra.printOptions=0 to suppress printing   #\n",
      "#--------------------------------------------------#\n",
      "\n",
      "#......Start of displaying 'MetaData' ......\n",
      "  metadata =  rb.args() ### or 'lambda: None': just get an empty object###\n",
      "  metadata.isRegularOrdered = True\n",
      "  metadata.season           = 'none'\n",
      "  metadata.startTime        = 1984.00000\n",
      "  metadata.deltaTime        = 1.00000\n",
      "  metadata.whichDimIsTime   = 1\n",
      "  metadata.missingValue     = float('nan')\n",
      "  metadata.maxMissingRate   = 0.7500\n",
      "  metadata.detrend          = False\n",
      "#........End of displaying MetaData ........\n",
      "\n",
      "#......Start of displaying 'prior' ......\n",
      "  prior =  rb.args() ### or 'lambda: None': just get an empty object###\n",
      "  prior.modelPriorType\t  = 1\n",
      "  prior.trendMinOrder\t  = 0\n",
      "  prior.trendMaxOrder\t  = 1\n",
      "  prior.trendMinKnotNum  = 0\n",
      "  prior.trendMaxKnotNum  = 9\n",
      "  prior.trendMinSepDist  = 2\n",
      "  prior.K_MAX            = 20\n",
      "  prior.precValue        = 1.500000\n",
      "  prior.precPriorType    = 'uniform'\n",
      "#......End of displaying pripr ......\n",
      "\n",
      "#......Start of displaying 'mcmc' ......\n",
      "  mcmc =  rb.args() ### or 'lambda: None': just get an empty object###\n",
      "  mcmc.seed                      = 0\n",
      "  mcmc.samples                   = 8000\n",
      "  mcmc.thinningFactor            = 5\n",
      "  mcmc.burnin                    = 200\n",
      "  mcmc.chainNumber               = 3\n",
      "  mcmc.maxMoveStepSize           = 6\n",
      "  mcmc.trendResamplingOrderProb  = 0.1000\n",
      "  mcmc.credIntervalAlphaLevel    = 0.950\n",
      "#......End of displaying mcmc ......\n",
      "\n",
      "#......Start of displaying 'extra' ......\n",
      "  extra =  rb.args() ### or 'lambda: None': just get an empty object###\n",
      "  extra.dumpInputData        = True\n",
      "  extra.whichOutputDimIsTime = 1\n",
      "  extra.computeCredible      = True\n",
      "  extra.fastCIComputation    = True\n",
      "  extra.computeTrendOrder    = True\n",
      "  extra.computeTrendChngpt   = True\n",
      "  extra.computeTrendSlope    = True\n",
      "  extra.tallyPosNegTrendJump = False\n",
      "  extra.tallyIncDecTrendJump = False\n",
      "  extra.printProgressBar     = True\n",
      "  extra.printOptions         = True\n",
      "  extra.consoleWidth         = 85\n",
      "  extra.numThreadsPerCPU     = 2\n",
      "  extra.numParThreads        = 0\n",
      "#......End of displaying extra ......\n",
      "\n",
      "/Progress:100.0% done[==============================================================]\n",
      "\n",
      "WARNING: prior$precPriorType is changed from 'componentwise' to 'uniform' because the model specified only has one component.\n",
      "#--------------------------------------------------#\n",
      "#      OPTIONS used in the MCMC inference          #\n",
      "#--------------------------------------------------#\n",
      "#  Set extra.printOptions=0 to suppress printing   #\n",
      "#--------------------------------------------------#\n",
      "\n",
      "#......Start of displaying 'MetaData' ......\n",
      "  metadata =  rb.args() ### or 'lambda: None': just get an empty object###\n",
      "  metadata.isRegularOrdered = True\n",
      "  metadata.season           = 'none'\n",
      "  metadata.startTime        = 1984.00000\n",
      "  metadata.deltaTime        = 1.00000\n",
      "  metadata.whichDimIsTime   = 1\n",
      "  metadata.missingValue     = float('nan')\n",
      "  metadata.maxMissingRate   = 0.7500\n",
      "  metadata.detrend          = False\n",
      "#........End of displaying MetaData ........\n",
      "\n",
      "#......Start of displaying 'prior' ......\n",
      "  prior =  rb.args() ### or 'lambda: None': just get an empty object###\n",
      "  prior.modelPriorType\t  = 1\n",
      "  prior.trendMinOrder\t  = 0\n",
      "  prior.trendMaxOrder\t  = 1\n",
      "  prior.trendMinKnotNum  = 0\n",
      "  prior.trendMaxKnotNum  = 9\n",
      "  prior.trendMinSepDist  = 2\n",
      "  prior.K_MAX            = 20\n",
      "  prior.precValue        = 1.500000\n",
      "  prior.precPriorType    = 'uniform'\n",
      "#......End of displaying pripr ......\n",
      "\n",
      "#......Start of displaying 'mcmc' ......\n",
      "  mcmc =  rb.args() ### or 'lambda: None': just get an empty object###\n",
      "  mcmc.seed                      = 0\n",
      "  mcmc.samples                   = 8000\n",
      "  mcmc.thinningFactor            = 5\n",
      "  mcmc.burnin                    = 200\n",
      "  mcmc.chainNumber               = 3\n",
      "  mcmc.maxMoveStepSize           = 6\n",
      "  mcmc.trendResamplingOrderProb  = 0.1000\n",
      "  mcmc.credIntervalAlphaLevel    = 0.950\n",
      "#......End of displaying mcmc ......\n",
      "\n",
      "#......Start of displaying 'extra' ......\n",
      "  extra =  rb.args() ### or 'lambda: None': just get an empty object###\n",
      "  extra.dumpInputData        = True\n",
      "  extra.whichOutputDimIsTime = 1\n",
      "  extra.computeCredible      = True\n",
      "  extra.fastCIComputation    = True\n",
      "  extra.computeTrendOrder    = True\n",
      "  extra.computeTrendChngpt   = True\n",
      "  extra.computeTrendSlope    = True\n",
      "  extra.tallyPosNegTrendJump = False\n",
      "  extra.tallyIncDecTrendJump = False\n",
      "  extra.printProgressBar     = True\n",
      "  extra.printOptions         = True\n",
      "  extra.consoleWidth         = 85\n",
      "  extra.numThreadsPerCPU     = 2\n",
      "  extra.numParThreads        = 0\n",
      "#......End of displaying extra ......\n",
      "\n",
      "-Progress:100.0% done[==============================================================]\n",
      "\n",
      "WARNING: prior$precPriorType is changed from 'componentwise' to 'uniform' because the model specified only has one component.\n",
      "#--------------------------------------------------#\n",
      "#      OPTIONS used in the MCMC inference          #\n",
      "#--------------------------------------------------#\n",
      "#  Set extra.printOptions=0 to suppress printing   #\n",
      "#--------------------------------------------------#\n",
      "\n",
      "#......Start of displaying 'MetaData' ......\n",
      "  metadata =  rb.args() ### or 'lambda: None': just get an empty object###\n",
      "  metadata.isRegularOrdered = True\n",
      "  metadata.season           = 'none'\n",
      "  metadata.startTime        = 1984.00000\n",
      "  metadata.deltaTime        = 1.00000\n",
      "  metadata.whichDimIsTime   = 1\n",
      "  metadata.missingValue     = float('nan')\n",
      "  metadata.maxMissingRate   = 0.7500\n",
      "  metadata.detrend          = False\n",
      "#........End of displaying MetaData ........\n",
      "\n",
      "#......Start of displaying 'prior' ......\n",
      "  prior =  rb.args() ### or 'lambda: None': just get an empty object###\n",
      "  prior.modelPriorType\t  = 1\n",
      "  prior.trendMinOrder\t  = 0\n",
      "  prior.trendMaxOrder\t  = 1\n",
      "  prior.trendMinKnotNum  = 0\n",
      "  prior.trendMaxKnotNum  = 9\n",
      "  prior.trendMinSepDist  = 2\n",
      "  prior.K_MAX            = 20\n",
      "  prior.precValue        = 1.500000\n",
      "  prior.precPriorType    = 'uniform'\n",
      "#......End of displaying pripr ......\n",
      "\n",
      "#......Start of displaying 'mcmc' ......\n",
      "  mcmc =  rb.args() ### or 'lambda: None': just get an empty object###\n",
      "  mcmc.seed                      = 0\n",
      "  mcmc.samples                   = 8000\n",
      "  mcmc.thinningFactor            = 5\n",
      "  mcmc.burnin                    = 200\n",
      "  mcmc.chainNumber               = 3\n",
      "  mcmc.maxMoveStepSize           = 6\n",
      "  mcmc.trendResamplingOrderProb  = 0.1000\n",
      "  mcmc.credIntervalAlphaLevel    = 0.950\n",
      "#......End of displaying mcmc ......\n",
      "\n",
      "#......Start of displaying 'extra' ......\n",
      "  extra =  rb.args() ### or 'lambda: None': just get an empty object###\n",
      "  extra.dumpInputData        = True\n",
      "  extra.whichOutputDimIsTime = 1\n",
      "  extra.computeCredible      = True\n",
      "  extra.fastCIComputation    = True\n",
      "  extra.computeTrendOrder    = True\n",
      "  extra.computeTrendChngpt   = True\n",
      "  extra.computeTrendSlope    = True\n",
      "  extra.tallyPosNegTrendJump = False\n",
      "  extra.tallyIncDecTrendJump = False\n",
      "  extra.printProgressBar     = True\n",
      "  extra.printOptions         = True\n",
      "  extra.consoleWidth         = 85\n",
      "  extra.numThreadsPerCPU     = 2\n",
      "  extra.numParThreads        = 0\n",
      "#......End of displaying extra ......\n",
      "\n",
      "\\Progress:100.0% done[==============================================================]\n"
     ]
    }
   ],
   "source": [
    "# Extract land cover time series over disturbed pixels and fit Rbeast\n",
    "\n",
    "ef_region_mean = lc_changed.isel(band=0).mean([\"lat\", \"lon\"])\n",
    "ef_region_mean_rbeast = rb.beast(ef_region_mean.values,\n",
    "                                 season=\"none\",\n",
    "                                 start=1984,\n",
    "                                 tseg_minlength=1)\n",
    "\n",
    "sh_region_mean = lc_changed.isel(band=1).mean([\"lat\", \"lon\"])\n",
    "sh_region_mean_rbeast = rb.beast(sh_region_mean.values,\n",
    "                                 season=\"none\",\n",
    "                                 start=1984,\n",
    "                                 tseg_minlength=1)\n",
    "sparse_region_mean = lc_changed.isel(band=3).mean([\"lat\", \"lon\"])\n",
    "sparse_region_mean_rbeast = rb.beast(sparse_region_mean.values,\n",
    "                                     season=\"none\",\n",
    "                                     start=1984,\n",
    "                                     tseg_minlength=1)\n",
    "\n",
    "#-------------------------------------------------\n",
    "# Extract some of the metrics from fitted Rbeast -\n",
    "#-------------------------------------------------\n",
    "\n",
    "Y_ef = ef_region_mean_rbeast.trend.Y  # Trend\n",
    "CI_ef = ef_region_mean_rbeast.trend.CI  # Trend confidence interval\n",
    "slp_ef = ef_region_mean_rbeast.trend.slp  # Vector of estimate slopes at each t\n",
    "cpOccPr_ef = ef_region_mean_rbeast.trend.cpOccPr  # Probability of occurance of a change point\n",
    "slpSgnPosPr_ef = ef_region_mean_rbeast.trend.slpSgnPosPr  # Sign of the slope\n",
    "cpPr_ef = ef_region_mean_rbeast.trend.cpPr  # Probability associated to a detected change point\n",
    "cp_ef = ef_region_mean_rbeast.trend.cp[\n",
    "    cpPr_ef > 0.5]  # Detected change points with probability more than 50%\n",
    "cpPr_ef = cpPr_ef[cpPr_ef > 0.5]\n",
    "\n",
    "Y_sh = sh_region_mean_rbeast.trend.Y\n",
    "CI_sh = sh_region_mean_rbeast.trend.CI\n",
    "slp_sh = sh_region_mean_rbeast.trend.slp\n",
    "cpOccPr_sh = sh_region_mean_rbeast.trend.cpOccPr\n",
    "slpSgnPosPr_sh = sh_region_mean_rbeast.trend.slpSgnPosPr\n",
    "cpPr_sh = sh_region_mean_rbeast.trend.cpPr\n",
    "cp_sh = sh_region_mean_rbeast.trend.cp[cpPr_sh > 0.5]\n",
    "cpPr_sh = cpPr_sh[cpPr_sh > 0.5]\n",
    "\n",
    "Y_sparse = sparse_region_mean_rbeast.trend.Y\n",
    "CI_sparse = sparse_region_mean_rbeast.trend.CI\n",
    "slp_sparse = sparse_region_mean_rbeast.trend.slp\n",
    "cpOccPr_sparse = sparse_region_mean_rbeast.trend.cpOccPr\n",
    "slpSgnPosPr_sparse = sparse_region_mean_rbeast.trend.slpSgnPosPr\n",
    "cpPr_sparse = sparse_region_mean_rbeast.trend.cpPr\n",
    "cp_sparse = sparse_region_mean_rbeast.trend.cp[cpPr_sparse > 0.5]\n",
    "cpPr_sparse = cpPr_sparse[cpPr_sparse > 0.5]\n",
    "\n"
   ]
  },
  {
   "cell_type": "markdown",
   "metadata": {},
   "source": [
    "Plot the disturbance dynamic\n"
   ]
  },
  {
   "cell_type": "code",
   "execution_count": 9,
   "metadata": {},
   "outputs": [
    {
     "data": {
      "image/png": "[encoded data removed]",
      "text/plain": [
       "<Figure size 600x800 with 7 Axes>"
      ]
     },
     "metadata": {},
     "output_type": "display_data"
    }
   ],
   "source": [
    "# Set default font size to 14\n",
    "plt.rcParams.update({\"font.size\": 14})\n",
    "\n",
    "# Set a distinct color palette\n",
    "color_palette = sns.color_palette(\"Set1\", n_colors=5)\n",
    "\n",
    "names = [\"EF\", \"Shrub\", \"Herb\", \"Sparse\", \"Barren\"]\n",
    "\n",
    "lc_changed_df.columns = names\n",
    "\n",
    "# Create subplots\n",
    "fig, ax = plt.subplots(3, 1, figsize=(6, 8), gridspec_kw={\"wspace\": 0.1, \"hspace\": 0.05})\n",
    "\n",
    "# Plotting subplots\n",
    "lc_changed_df.plot(ax=ax[0], kind=\"bar\", stacked=True, legend=False, title=\"\", color=color_palette)\n",
    "ax[0].legend(title=\"\", bbox_to_anchor=(1, 1.05), loc=\"upper left\", fontsize=12)\n",
    "ax[0].xaxis.set_tick_params(width=0)\n",
    "ax[0].set_ylabel(\"Percent cover\")\n",
    "\n",
    "ax[1].plot(t, Y_ef, color=color_palette[0], linewidth=1, marker='o')\n",
    "ax[1].fill_between(t, CI_ef[:, 0], CI_ef[:, 1], color=color_palette[0], alpha=0.4)\n",
    "ax[1].set_xticklabels([])\n",
    "ax[1].set_ylabel(\"Trend\")\n",
    "ax[1].set_ylim([np.min(ef_region_mean.values), np.max(ef_region_mean.values)])\n",
    "ax[1].set_ylim(0.2, np.max(ef_region_mean.values) + 0.05)\n",
    "ax[1].vlines(cp_sh, 0, np.max(ef_region_mean.values + 0.05), color=color_palette[1], linestyle=\"--\")\n",
    "ax[1].vlines(cp_sparse, 0, np.max(ef_region_mean.values + 0.05), color=color_palette[3], linestyle=\"--\")\n",
    "ax[1].vlines(cp_ef + 0.2, 0, np.max(ef_region_mean.values + 0.05), color=color_palette[0], linestyle=\"--\")\n",
    "\n",
    "ax02 = ax[1].twinx()\n",
    "ax02.plot(t, Y_sh, color=color_palette[1], linewidth=1, marker='o')\n",
    "ax02.fill_between(t, CI_sh[:, 0], CI_sh[:, 1], color=color_palette[1], alpha=0.2)\n",
    "ax02.tick_params(axis=\"both\", which=\"major\", labelsize=14,colors=color_palette[1])\n",
    "\n",
    "ax03 = ax[1].twinx()\n",
    "ax03.spines.right.set_position((\"axes\", 1.15))\n",
    "ax03.plot(t, Y_sparse, color=color_palette[3], linewidth=1, marker='o')\n",
    "ax03.fill_between(t, CI_sparse[:, 0], CI_sparse[:, 1], color=color_palette[3], alpha=0.2)\n",
    "ax03.tick_params(axis=\"both\", which=\"major\", labelsize=14,colors=color_palette[3])\n",
    "\n",
    "ax[2].plot(t, cpOccPr_ef, linewidth=2, color=color_palette[0])\n",
    "ax[2].set_ylabel(\"Prob of CPs\")\n",
    "ax[2].set_ylim([0, np.max(cpOccPr_ef) + 0.1])\n",
    "ax[2].tick_params(axis=\"both\", which=\"major\", labelsize=10)\n",
    "ax[2].fill_between(t, cpOccPr_ef, color=color_palette[0], alpha=0.2)\n",
    "\n",
    "ax04 = ax[2].twinx()\n",
    "ax04.plot(t, cpOccPr_sh, linewidth=2, color=color_palette[1])\n",
    "ax04.fill_between(t, cpOccPr_sh, color=color_palette[1], alpha=0.2)\n",
    "ax04.set_yticklabels([])\n",
    "ax04.spines['right'].set_visible(False)\n",
    "ax04.yaxis.set_ticks_position('none')\n",
    "\n",
    "ax05 = ax[2].twinx()\n",
    "ax05.spines.right.set_position((\"axes\", 1.15))\n",
    "ax05.plot(t, cpOccPr_sparse, linewidth=2, color=color_palette[3])\n",
    "ax05.fill_between(t, cpOccPr_sparse, color=color_palette[3], alpha=0.2)\n",
    "ax05.set_yticklabels([])\n",
    "ax05.spines['right'].set_visible(False)\n",
    "ax05.yaxis.set_ticks_position('none')\n",
    "\n",
    "ax[2].vlines(cp_ef, 0, np.max(cpOccPr_ef) + 0.1, color=color_palette[0], linestyle=\"-\")\n",
    "ax[2].vlines(cp_sh, 0, np.max(cpOccPr_sh) + 0.1, color=color_palette[1], linestyle=\"--\")\n",
    "ax[2].vlines(cp_sparse, 0, np.max(cpOccPr_sparse) + 0.1, color=color_palette[3], linestyle=\"--\")\n",
    "\n",
    "# Align y-labels\n",
    "fig.align_ylabels()\n",
    "plt.savefig(\"../manuscript/figures/regional_mean_LC_rbeast.png\", bbox_inches=\"tight\", pad_inches=0.1)"
   ]
  },
  {
   "attachments": {},
   "cell_type": "markdown",
   "metadata": {},
   "source": [
    "Plot the dynamic of NDVI and LAI over disturbed areas\n"
   ]
  },
  {
   "cell_type": "code",
   "execution_count": null,
   "metadata": {},
   "outputs": [],
   "source": [
    "# Y_ef = ef_region_mean_rbeast.trend.Y  # Trend\n",
    "# CI_ef = ef_region_mean_rbeast.trend.CI  # Trend confidence interval\n",
    "# slp_ef = ef_region_mean_rbeast.trend.slp  # Vector of estimate slopes at each t\n",
    "# cpOccPr_ef = ef_region_mean_rbeast.trend.cpOccPr  # Probability of occurance of a change point\n",
    "# slpSgnPosPr_ef = ef_region_mean_rbeast.trend.slpSgnPosPr  # Sign of the slope\n",
    "# cpPr_ef = ef_region_mean_rbeast.trend.cpPr  # Probability associated to a detected change point\n",
    "# cp_ef = ef_region_mean_rbeast.trend.cp[\n",
    "#     cpPr_ef > 0.5]  # Detected change points with probability more than 50%\n",
    "# cpPr_ef = cpPr_ef[cpPr_ef > 0.5]"
   ]
  },
  {
   "cell_type": "code",
   "execution_count": 10,
   "metadata": {},
   "outputs": [],
   "source": [
    "ndvi_changed = ndvi.where(changed == True)\n",
    "ndvi_not_changed = ndvi.where(not_changed == True)\n",
    "I = (np.isfinite(ndvi_changed).sum(dim=\"time\") > 25)\n",
    "ndvi_ok = ndvi_changed.where(I == True)"
   ]
  },
  {
   "cell_type": "code",
   "execution_count": 11,
   "metadata": {},
   "outputs": [
    {
     "name": "stdout",
     "output_type": "stream",
     "text": [
      "Parallel computing: thread#1  generated ... \n",
      "Parallel computing: thread#2  generated ... \n",
      "Parallel computing: thread#3  generated ... \n",
      "Parallel computing: thread#4  generated ... \n",
      "Parallel computing: thread#5  generated ... \n",
      "Parallel computing: thread#6  generated ... \n",
      "Parallel computing: thread#7  generated ... \n",
      "Parallel computing: thread#8  generated ... \n",
      "Parallel computing: thread#9  generated ... \n",
      "Parallel computing: thread#10 generated ... \n",
      "Parallel computing: thread#11 generated ... \n",
      "Parallel computing: thread#12 generated ... \n",
      "Parallel computing: thread#13 generated ... \n",
      "Parallel computing: thread#14 generated ... \n",
      "Parallel computing: thread#15 generated ... \n",
      "Parallel computing: thread#16 generated ... \n",
      "Parallel computing: thread#17 generated ... \n",
      "Parallel computing: thread#18 generated ... \n",
      "Parallel computing: thread#19 generated ... \n",
      "Parallel computing: thread#20 generated ... \n",
      "Parallel computing: thread#21 generated ... \n",
      "Parallel computing: thread#22 generated ... \n",
      "Parallel computing: thread#23 generated ... \n",
      "Parallel computing: thread#24 generated ... \n",
      "Parallel computing: thread#25 generated ... \n",
      "Parallel computing: thread#26 generated ... \n",
      "Parallel computing: thread#27 generated ... \n",
      "Parallel computing: thread#28 generated ... \n",
      "Parallel computing: thread#29 generated ... \n",
      "Parallel computing: thread#30 generated ... \n",
      "Parallel computing: thread#31 generated ... \n",
      "Parallel computing: thread#32 generated ... \n",
      "Parallel computing: thread#33 generated ... \n",
      "Parallel computing: thread#34 generated ... \n",
      "Parallel computing: thread#35 generated ... \n",
      "Parallel computing: thread#36 generated ... \n",
      "Parallel computing: thread#37 generated ... \n",
      "Parallel computing: thread#38 generated ... \n",
      "Parallel computing: thread#39 generated ... \n",
      "Parallel computing: thread#40 generated ... \n",
      "Parallel computing: thread#41 generated ... \n",
      "Parallel computing: thread#42 generated ... \n",
      "Parallel computing: thread#43 generated ... \n",
      "Parallel computing: thread#44 generated ... \n",
      "Parallel computing: thread#45 generated ... \n",
      "Parallel computing: thread#46 generated ... \n",
      "Parallel computing: thread#47 generated ... \n",
      "Parallel computing: thread#48 generated ... \n",
      "Parallel computing: thread#49 generated ... \n",
      "Parallel computing: thread#50 generated ... \n",
      "Parallel computing: thread#51 generated ... \n",
      "Parallel computing: thread#52 generated ... \n",
      "Parallel computing: thread#53 generated ... \n",
      "Parallel computing: thread#54 generated ... \n",
      "Parallel computing: thread#55 generated ... \n",
      "Parallel computing: thread#56 generated ... \n",
      "Parallel computing: thread#57 generated ... \n",
      "Parallel computing: thread#58 generated ... \n",
      "Parallel computing: thread#59 generated ... \n",
      "Parallel computing: thread#60 generated ... \n",
      "Parallel computing: thread#61 generated ... \n",
      "Parallel computing: thread#62 generated ... \n",
      "Parallel computing: thread#63 generated ... \n",
      "Parallel computing: thread#64 generated ... \n",
      "Rbeast: Waiting on 64 threads...\n",
      "- 94.8%done<Remaining00hrs00min24sec>[=]WARNING: metadata$isRegularOrdered is not specified. A default 'metadata$isRegularOrdered=TRUE' is assumed.\n",
      "WARNING: when metadata$isRegualrOrdered=TRUE, the input data is assumed to be regular and ordered in time AND the times of individual datapoints are determined fully by 'metadata$startTime' and 'metadata$deltaTime'. But deltaTime is missing and a default value 1 is used!\n",
      " 100.0%done<Remaining00hrs00min00sec>[=]\n",
      "Finalizing ... \n",
      "Rbeast: Thread #0  finished ... \n",
      "Rbeast: Thread #1  finished ... \n",
      "Rbeast: Thread #2  finished ... \n",
      "Rbeast: Thread #3  finished ... \n",
      "Rbeast: Thread #4  finished ... \n",
      "Rbeast: Thread #5  finished ... \n",
      "Rbeast: Thread #6  finished ... \n",
      "Rbeast: Thread #7  finished ... \n",
      "Rbeast: Thread #8  finished ... \n",
      "Rbeast: Thread #9  finished ... \n",
      "Rbeast: Thread #10 finished ... \n",
      "Rbeast: Thread #11 finished ... \n",
      "Rbeast: Thread #12 finished ... \n",
      "Rbeast: Thread #13 finished ... \n",
      "Rbeast: Thread #14 finished ... \n",
      "Rbeast: Thread #15 finished ... \n",
      "Rbeast: Thread #16 finished ... \n",
      "Rbeast: Thread #17 finished ... \n",
      "Rbeast: Thread #18 finished ... \n",
      "Rbeast: Thread #19 finished ... \n",
      "Rbeast: Thread #20 finished ... \n",
      "Rbeast: Thread #21 finished ... \n",
      "Rbeast: Thread #22 finished ... \n",
      "Rbeast: Thread #23 finished ... \n",
      "Rbeast: Thread #24 finished ... \n",
      "Rbeast: Thread #25 finished ... \n",
      "Rbeast: Thread #26 finished ... \n",
      "Rbeast: Thread #27 finished ... \n",
      "Rbeast: Thread #28 finished ... \n",
      "Rbeast: Thread #29 finished ... \n",
      "Rbeast: Thread #30 finished ... \n",
      "Rbeast: Thread #31 finished ... \n",
      "Rbeast: Thread #32 finished ... \n",
      "Rbeast: Thread #33 finished ... \n",
      "Rbeast: Thread #34 finished ... \n",
      "Rbeast: Thread #35 finished ... \n",
      "Rbeast: Thread #36 finished ... \n",
      "Rbeast: Thread #37 finished ... \n",
      "Rbeast: Thread #38 finished ... \n",
      "Rbeast: Thread #39 finished ... \n",
      "Rbeast: Thread #40 finished ... \n",
      "Rbeast: Thread #41 finished ... \n",
      "Rbeast: Thread #42 finished ... \n",
      "Rbeast: Thread #43 finished ... \n",
      "Rbeast: Thread #44 finished ... \n",
      "Rbeast: Thread #45 finished ... \n",
      "Rbeast: Thread #46 finished ... \n",
      "Rbeast: Thread #47 finished ... \n",
      "Rbeast: Thread #48 finished ... \n",
      "Rbeast: Thread #49 finished ... \n",
      "Rbeast: Thread #50 finished ... \n",
      "Rbeast: Thread #51 finished ... \n",
      "Rbeast: Thread #52 finished ... \n",
      "Rbeast: Thread #53 finished ... \n",
      "Rbeast: Thread #54 finished ... \n",
      "Rbeast: Thread #55 finished ... \n",
      "Rbeast: Thread #56 finished ... \n",
      "Rbeast: Thread #57 finished ... \n",
      "Rbeast: Thread #58 finished ... \n",
      "Rbeast: Thread #59 finished ... \n",
      "Rbeast: Thread #60 finished ... \n",
      "Rbeast: Thread #61 finished ... \n",
      "Rbeast: Thread #62 finished ... \n",
      "Rbeast: Thread #63 finished ... \n",
      "\n",
      "Rbeast: Waited on 64 threads. Done.\n"
     ]
    }
   ],
   "source": [
    "metadata = rb.args(whichDimIsTime=1, season=\"none\", startTime=1984)\n",
    "prior = rb.args(trendMinSepDist=1)\n",
    "mcmc = rb.args(seed=1)\n",
    "extra = rb.args(  # a set of options to specify the outputs or computational configurations\n",
    "    dumpInputData=\n",
    "    True,  # make a copy of the aggregated input data in the beast ouput\n",
    "    numThreadsPerCPU=2,  # Paralell  computing: use 2 threads per cpu core\n",
    "    numParThreads=\n",
    "    0,  # `0` means using all CPU cores: total num of ParThreads = numThreadsPerCPU * core Num\n",
    "    printOptions=False,\n",
    "    computeTrendSlope=True,\n",
    "    computeCredible=True)\n",
    "ndvi_changed_rbeast = rb.beast123(ndvi_ok.values, metadata, prior, mcmc, extra)\n"
   ]
  },
  {
   "cell_type": "code",
   "execution_count": 15,
   "metadata": {},
   "outputs": [],
   "source": [
    "Y_ndvi = ndvi_changed_rbeast.trend.Y.reshape(30, -1)\n",
    "y_ndvi_mean = pd.DataFrame(Y_ndvi, index=t).dropna(axis=1).mean(axis=1)\n",
    "y_ndvi_std = pd.DataFrame(Y_ndvi, index=t).dropna(axis=1).std(axis=1)\n",
    "\n",
    "slp_ndvi = ndvi_changed_rbeast.trend.slp  # Vector of estimate slopes at each t\n",
    "cpOccPr_ndvi = ndvi_changed_rbeast.trend.cpOccPr  # Probability of occurance of a change point\n",
    "slpSgnPosPr_ndvi = ndvi_changed_rbeast.trend.slpSgnPosPr  # Sign of the slope\n",
    "cpPr_ndvi = ndvi_changed_rbeast.trend.cpPr  # Probability associated to a detected change point\n",
    "# cp_ndvi = ndvi_changed_rbeast.trend.cp[\n",
    "#     cpPr_ndvi > 0.5]  # Detected change points with probability more than 50%\n",
    "cp_ndvi = ndvi_changed_rbeast.trend.cp  # Detected change points with probability more than 50%\n",
    "# cpPr_ndvi = cpPr_ndvi[cpPr_ndvi > 0.5]\n",
    "ci_ndvi_0 = ndvi_changed_rbeast.trend.CI[:, 0, :, :]\n",
    "ci_ndvi_1 = ndvi_changed_rbeast.trend.CI[:, 1, :, :]\n",
    "\n",
    "cp_ndvi = pd.DataFrame(\n",
    "    ndvi.isel(time=range(9)).copy(data=cp_ndvi).isel(time=0).stack(\n",
    "        z=[\"lat\", \"lon\"]).values).dropna()\n",
    "slp_pos_mean = ndvi.copy(data=ndvi_changed_rbeast.trend.slpSgnPosPr).mean(\n",
    "    [\"lat\", \"lon\"]).values\n",
    "slp_pos_std = ndvi.copy(data=ndvi_changed_rbeast.trend.slpSgnPosPr).std(\n",
    "    [\"lat\", \"lon\"]).values\n",
    "slp_zero_mean = ndvi.copy(data=ndvi_changed_rbeast.trend.slpSgnZeroPr).mean(\n",
    "    [\"lat\", \"lon\"]).values\n",
    "slp_neg_mean = 1 - (slp_pos_mean + slp_zero_mean)\n",
    "\n",
    "slp_ndvi_sd = ndvi.copy(data=ndvi_changed_rbeast.trend.slpSD).mean(\n",
    "    [\"lat\", \"lon\"]).values\n",
    "most_common_years = most_common_values(cp_ndvi.values.squeeze(), 3)\n",
    "slp_ndvi_pd = ndvi.copy(data=slp_ndvi).mean([\"lat\", \"lon\"])\n",
    "ci_ndvi_0_pd = ndvi.copy(data=ci_ndvi_0).mean([\"lat\", \"lon\"])\n",
    "ci_ndvi_1_pd = ndvi.copy(data=ci_ndvi_1).mean([\"lat\", \"lon\"])"
   ]
  },
  {
   "cell_type": "code",
   "execution_count": 16,
   "metadata": {},
   "outputs": [
    {
     "data": {
      "text/plain": [
       "<matplotlib.collections.LineCollection at 0x7faa28d5d280>"
      ]
     },
     "execution_count": 16,
     "metadata": {},
     "output_type": "execute_result"
    },
    {
     "data": {
      "image/png": "[encoded data removed]",
      "text/plain": [
       "<Figure size 600x800 with 4 Axes>"
      ]
     },
     "metadata": {},
     "output_type": "display_data"
    }
   ],
   "source": [
    "fig, ax = plt.subplots(3,\n",
    "                       1,\n",
    "                       figsize=(6, 8),\n",
    "                       gridspec_kw={\n",
    "                           \"wspace\": 0.1,\n",
    "                           \"hspace\": 0.05\n",
    "                       })\n",
    "ax[0].plot(t, y_ndvi_mean, \"-*\", color=\"green\", alpha=0.7, label=\"EF\")\n",
    "ax[0].fill_between(t, ci_ndvi_0_pd, ci_ndvi_1_pd, color=\"green\", alpha=0.2)\n",
    "ax[0].set_ylabel(\"NDVI\", fontsize=14)\n",
    "ax[0].tick_params(axis=\"y\", colors=\"green\")\n",
    "ax[0].tick_params(axis=\"both\", which=\"major\", labelsize=14)\n",
    "ax[0].set_xticks([])\n",
    "ax[0].xaxis.set_tick_params(width=0)\n",
    "ax[0].set_ylim(np.min(y_ndvi_mean) - 0.03, np.max(y_ndvi_mean) + 0.03)\n",
    "ax[0].set_xlim(1984, 2014)\n",
    "ax[0].vlines(most_common_years,\n",
    "             ax[0].get_ylim()[0],\n",
    "             ax[0].get_ylim()[1],\n",
    "             color=\"black\",\n",
    "             linestyle=\"--\")\n",
    "\n",
    "ax[1].plot(t, slp_ndvi_pd, color=\"green\", linewidth=2, label=\"slope\")\n",
    "ax[1].fill_between(t,\n",
    "                   slp_ndvi_pd - slp_ndvi_sd,\n",
    "                   slp_ndvi_pd + slp_ndvi_sd,\n",
    "                   color=\"green\",\n",
    "                   alpha=0.2)\n",
    "ax[1].set_ylim(-0.03, 0.02)\n",
    "ax[1].set_xticks([])\n",
    "ax[1].set_xlim(1984, 2014)\n",
    "ax[1].set_ylabel(\"Slope\", fontsize=14)\n",
    "ax[1].tick_params(axis=\"y\", colors=\"green\")\n",
    "ax[1].vlines(most_common_years,\n",
    "             ax[1].get_ylim()[0],\n",
    "             ax[1].get_ylim()[1],\n",
    "             color=\"black\",\n",
    "             linestyle=\"--\")\n",
    "ax[1].axhline(0, color=\"black\", linestyle=\"--\", linewidth=1,alpha=0.5) \n",
    "ax02 = ax[1].twinx()\n",
    "ax02.fill_between(t, 0, slp_pos_mean, color=\"red\", alpha=0.5)\n",
    "ax02.set_ylim(0.2, 0.75)\n",
    "ax02.tick_params(axis=\"y\", colors=\"red\")\n",
    "ax02.set_ylabel(\"Prob of positive\\nslope\", fontsize=14)\n",
    "\n",
    "\n",
    "bin_centers = t[:-1] + np.diff(t) / 2\n",
    "bin_edges = np.concatenate(\n",
    "    ([t[0] - (t[1] - t[0]) / 2], bin_centers, [t[-1] + (t[1] - t[0]) / 2]))\n",
    "ax[2].hist(cp_ndvi, bins=bin_edges, color=\"black\", alpha=0.5)\n",
    "ax[2].set_ylabel(\"Frequency of\\ndetected CPs\", fontsize=14, color=\"black\")\n",
    "ax[2].set_xlim(1984, 2014)\n",
    "ax[2].vlines(most_common_years,\n",
    "             ax[2].get_ylim()[0],\n",
    "             ax[2].get_ylim()[1],\n",
    "             color=\"black\",\n",
    "             linestyle=\"--\")"
   ]
  },
  {
   "cell_type": "code",
   "execution_count": null,
   "metadata": {},
   "outputs": [],
   "source": []
  },
  {
   "cell_type": "code",
   "execution_count": null,
   "metadata": {},
   "outputs": [],
   "source": []
  },
  {
   "cell_type": "code",
   "execution_count": null,
   "metadata": {},
   "outputs": [],
   "source": [
    "ndvi_changed = ndvi.where(changed == True)\n",
    "ndvi_not_changed = ndvi.where(not_changed == True)\n",
    "I = (np.isfinite(ndvi_changed).sum(dim=\"time\") > 25)\n",
    "ndvi_ok = ndvi_changed.where(I == True)\n",
    "ndvi_changed_mean = ndvi_changed.mean([\"lat\", \"lon\"])\n",
    "ndvi_region_mean_rbeast = rb.beast(ndvi_changed_mean.values,\n",
    "                                   season=\"none\",\n",
    "                                   start=1984,\n",
    "                                   tseg_minlength=1,\n",
    "                                   detrend=True)\n",
    "\n",
    "rb.plot(ndvi_region_mean_rbeast)"
   ]
  },
  {
   "cell_type": "code",
   "execution_count": null,
   "metadata": {},
   "outputs": [],
   "source": []
  },
  {
   "cell_type": "code",
   "execution_count": null,
   "metadata": {},
   "outputs": [],
   "source": [
    "# ef = lc.isel(band=0)\n",
    "# sh = lc.isel(band=1)\n",
    "# hb = lc.isel(band=2)\n",
    "# sparse = lc.isel(band=3)\n",
    "# barren = lc.isel(band=4)\n",
    "ef_changed = lc_changed.isel(band=0)\n",
    "sh_changed = lc_changed.isel(band=1)\n",
    "hb_changed = lc_changed.isel(band=2)\n",
    "sparse_changed = lc_changed.isel(band=3)\n",
    "barren_changed = lc_changed.isel(band=4)\n",
    "\n",
    "metadata = rb.args(whichDimIsTime=1, season=\"none\", startTime=1984)\n",
    "prior = rb.args(trendMinSepDist=1)\n",
    "mcmc = rb.args(seed=1)\n",
    "extra = rb.args(  # a set of options to specify the outputs or computational configurations\n",
    "    dumpInputData=\n",
    "    True,  # make a copy of the aggregated input data in the beast ouput\n",
    "    numThreadsPerCPU=2,  # Paralell  computing: use 2 threads per cpu core\n",
    "    numParThreads=\n",
    "    0,  # `0` means using all CPU cores: total num of ParThreads = numThreadsPerCPU * core Num\n",
    "    printOptions=False,\n",
    "    computeTrendSlope=True)\n",
    "ef_changed_rbeast = rb.beast123(ef_changed.values, metadata, prior, mcmc,\n",
    "                                extra)\n",
    "sh_changed_rbeast = rb.beast123(sh_changed.values, metadata, prior, mcmc,\n",
    "                                extra)\n",
    "hb_changed_rbeast = rb.beast123(hb_changed.values, metadata, prior, mcmc,\n",
    "                                extra)\n",
    "sparse_changed_rbeast = rb.beast123(sparse_changed.values, metadata, prior,\n",
    "                                    mcmc, extra)\n",
    "barren_changed_rbeast = rb.beast123(barren_changed.values, metadata, prior,\n",
    "                                    mcmc, extra)\n"
   ]
  },
  {
   "cell_type": "code",
   "execution_count": null,
   "metadata": {},
   "outputs": [],
   "source": [
    "ef_changed_rbeast.trend.cpOccPr.shape"
   ]
  },
  {
   "cell_type": "code",
   "execution_count": null,
   "metadata": {},
   "outputs": [],
   "source": [
    "Y_pred_ef = lai4g.copy(data=ef_changed_rbeast.trend.Y).stack(\n",
    "    z=[\"lat\", \"lon\"]).to_pandas().dropna(axis=1)\n",
    "Y_pred_ef_mean = Y_pred_ef.mean(axis=1)\n",
    "Y_pred_ef_std = Y_pred_ef.std(axis=1)\n",
    "SD_pred_ef = lai4g.copy(data=ef_changed_rbeast.trend.SD).stack(\n",
    "    z=[\"lat\", \"lon\"]).to_pandas().dropna(axis=1)\n",
    "SD_pred_ef_mean = SD_pred_ef.mean(axis=1)\n",
    "\n",
    "Y_pred_sh = lai4g.copy(data=sh_changed_rbeast.trend.Y).stack(\n",
    "    z=[\"lat\", \"lon\"]).to_pandas().dropna(axis=1)\n",
    "Y_pred_sh_mean = Y_pred_sh.mean(axis=1)\n",
    "Y_pred_sh_std = Y_pred_sh.std(axis=1)\n",
    "SD_pred_sh = lai4g.copy(data=sh_changed_rbeast.trend.SD).stack(\n",
    "    z=[\"lat\", \"lon\"]).to_pandas().dropna(axis=1)\n",
    "SD_pred_sh_mean = SD_pred_sh.mean(axis=1)\n",
    "\n",
    "Y_pred_sparse = lai4g.copy(data=sparse_changed_rbeast.trend.Y).stack(\n",
    "    z=[\"lat\", \"lon\"]).to_pandas().dropna(axis=1)\n",
    "Y_pred_sparse_mean = Y_pred_sparse.mean(axis=1)\n",
    "Y_pred_sparse_std = Y_pred_sparse.std(axis=1)\n",
    "SD_pred_sparse = lai4g.copy(data=sparse_changed_rbeast.trend.SD).stack(\n",
    "    z=[\"lat\", \"lon\"]).to_pandas().dropna(axis=1)\n",
    "SD_pred_sparse_mean = SD_pred_sparse.mean(axis=1)"
   ]
  },
  {
   "cell_type": "code",
   "execution_count": null,
   "metadata": {},
   "outputs": [],
   "source": [
    "ef_changed_cp = repo.copy(data=ef_changed_rbeast.trend.cp[0, :, :])\n",
    "sh_changed_cp = repo.copy(data=sh_changed_rbeast.trend.cp[0, :, :])\n",
    "hb_changed_cp = repo.copy(data=hb_changed_rbeast.trend.cp[0, :, :])\n",
    "sparse_changed_cp = repo.copy(data=sparse_changed_rbeast.trend.cp[0, :, :])\n",
    "barren_changed_cp = repo.copy(data=barren_changed_rbeast.trend.cp[0, :, :])\n",
    "\n",
    "ef_changed_cpPr = repo.copy(data=ef_changed_rbeast.trend.cpPr[0, :, :])\n",
    "sh_changed_cpPr = repo.copy(data=sh_changed_rbeast.trend.cpPr[0, :, :])\n",
    "hb_changed_cpPr = repo.copy(data=hb_changed_rbeast.trend.cpPr[0, :, :])\n",
    "sparse_changed_cpPr = repo.copy(data=sparse_changed_rbeast.trend.cpPr[0, :, :])\n",
    "barren_changed_cpPr = repo.copy(data=barren_changed_rbeast.trend.cpPr[0, :, :])\n",
    "\n",
    "ef_changed_cp_sig = ef_changed_cp.where(ef_changed_cpPr > 0.5)\n",
    "sh_changed_cp_sig = sh_changed_cp.where(sh_changed_cpPr > 0.5)\n",
    "hb_changed_cp_sig = hb_changed_cp.where(hb_changed_cpPr > 0.5)\n",
    "sparse_changed_cp_sig = sparse_changed_cp.where(sparse_changed_cpPr > 0.5)\n",
    "barren_changed_cp_sig = barren_changed_cp.where(barren_changed_cpPr > 0.5)"
   ]
  },
  {
   "cell_type": "code",
   "execution_count": null,
   "metadata": {},
   "outputs": [],
   "source": [
    "changed.sum() / (not_changed.sum() + changed.sum())\n"
   ]
  },
  {
   "cell_type": "code",
   "execution_count": null,
   "metadata": {},
   "outputs": [],
   "source": [
    "ef_region_mean = ef_changed.mean([\"lat\", \"lon\"])  # Evergreen forest\n",
    "sh_region_mean = sh_changed.mean([\"lat\", \"lon\"])  # shrub\n",
    "hb_region_mean = hb_changed.mean([\"lat\", \"lon\"])  # herb\n",
    "sparse_region_mean = sparse_changed.mean([\"lat\", \"lon\"])  # herb\n",
    "barren_region_mean = barren_changed.mean([\"lat\", \"lon\"])  # herb\n",
    "\n",
    "ef_region_mean_rbeast = rb.beast(ef_region_mean.values,\n",
    "                                 season=\"none\",\n",
    "                                 start=1984,\n",
    "                                 tseg_minlength=1,\n",
    "                                 detrend=True)\n",
    "sh_region_mean_rbeast = rb.beast(sh_region_mean.values,\n",
    "                                 season=\"none\",\n",
    "                                 start=1984,\n",
    "                                 tseg_minlength=1,\n",
    "                                 detrend=True)\n",
    "hb_region_mean_rbeast = rb.beast(hb_region_mean.values,\n",
    "                                 season=\"none\",\n",
    "                                 start=1984,\n",
    "                                 tseg_minlength=1,\n",
    "                                 detrend=True)\n",
    "sparse_region_mean_rbeast = rb.beast(sparse_region_mean.values,\n",
    "                                     season=\"none\",\n",
    "                                     start=1984,\n",
    "                                     tseg_minlength=1,\n",
    "                                     detrend=True)\n",
    "barren_region_mean_rbeast = rb.beast(barren_region_mean.values,\n",
    "                                     season=\"none\",\n",
    "                                     start=1984,\n",
    "                                     tseg_minlength=1,\n",
    "                                     detrend=True)\n",
    "\n",
    "rb.plot(ef_region_mean_rbeast)\n",
    "rb.plot(sh_region_mean_rbeast)\n",
    "rb.plot(hb_region_mean_rbeast)\n",
    "rb.plot(sparse_region_mean_rbeast)\n",
    "rb.plot(barren_region_mean_rbeast)"
   ]
  },
  {
   "cell_type": "code",
   "execution_count": null,
   "metadata": {},
   "outputs": [],
   "source": [
    "print(sparse_region_mean_rbeast.trend.cp)"
   ]
  },
  {
   "cell_type": "code",
   "execution_count": null,
   "metadata": {},
   "outputs": [],
   "source": [
    "net_change_mean_rbeast = rb.beast(net_change.mean([\"lat\", \"lon\"]).values,\n",
    "                                  season=\"none\",\n",
    "                                  start=1985,\n",
    "                                  tseg_minlength=1)\n",
    "rb.plot(net_change_mean_rbeast)"
   ]
  },
  {
   "cell_type": "code",
   "execution_count": null,
   "metadata": {},
   "outputs": [],
   "source": [
    "metadata = rb.args(whichDimIsTime=1, season=\"none\", startTime=1985)\n",
    "prior = rb.args(trendMinSepDist=1)\n",
    "mcmc = rb.args(seed=1)\n",
    "extra = rb.args(  # a set of options to specify the outputs or computational configurations\n",
    "    dumpInputData=\n",
    "    True,  # make a copy of the aggregated input data in the beast ouput\n",
    "    numThreadsPerCPU=2,  # Paralell  computing: use 2 threads per cpu core\n",
    "    numParThreads=\n",
    "    0,  # `0` means using all CPU cores: total num of ParThreads = numThreadsPerCPU * core Num\n",
    "    printOptions=False,\n",
    "    computeTrendSlope=True)\n",
    "net_changed_rbeast = rb.beast123(net_change.values, metadata, prior, mcmc,\n",
    "                                 extra)\n"
   ]
  },
  {
   "cell_type": "code",
   "execution_count": null,
   "metadata": {},
   "outputs": [],
   "source": [
    "net_changed_cp = repo.copy(data=net_changed_rbeast.trend.cp[0, :, :])\n",
    "net_changed_cpPr = repo.copy(data=net_changed_rbeast.trend.cpPr[0, :, :])\n",
    "net_changed_cp_sig = net_changed_cp.where(ef_changed_cpPr > 0.5)"
   ]
  },
  {
   "cell_type": "code",
   "execution_count": null,
   "metadata": {},
   "outputs": [],
   "source": [
    "avs = []\n",
    "sums = []\n",
    "for year in np.arange(1985, 2014):\n",
    "\n",
    "    net_change_cp = net_change.sel(time=year).where(net_changed_cp_sig == year)\n",
    "    avs.append(net_change_cp.mean().values)\n",
    "    sums.append((net_changed_cp_sig == year).sum().values)\n"
   ]
  },
  {
   "attachments": {},
   "cell_type": "markdown",
   "metadata": {},
   "source": [
    "Now lets work on NDVI\n"
   ]
  },
  {
   "cell_type": "code",
   "execution_count": null,
   "metadata": {},
   "outputs": [],
   "source": [
    "ndvi_changed = ndvi.where(changed == True)\n",
    "ndvi_not_changed = ndvi.where(not_changed == True)\n",
    "I = (np.isfinite(ndvi_changed).sum(dim=\"time\") > 25)\n",
    "ndvi_ok = ndvi_changed.where(I == True)\n",
    "ndvi_changed_mean = ndvi_changed.mean([\"lat\", \"lon\"])\n",
    "ndvi_region_mean_rbeast = rb.beast(ndvi_changed_mean.values,\n",
    "                                   season=\"none\",\n",
    "                                   start=1984,\n",
    "                                   tseg_minlength=1,\n",
    "                                   detrend=True)\n",
    "\n",
    "rb.plot(ndvi_region_mean_rbeast)\n",
    "# tmp.append(ndvi_region_mean_rbeast.marg_lik)"
   ]
  },
  {
   "cell_type": "code",
   "execution_count": null,
   "metadata": {},
   "outputs": [],
   "source": [
    "metadata = rb.args(whichDimIsTime=1, season=\"none\", startTime=1984)\n",
    "prior = rb.args(trendMinSepDist=1)\n",
    "mcmc = rb.args(seed=1)\n",
    "extra = rb.args(  # a set of options to specify the outputs or computational configurations\n",
    "    dumpInputData=\n",
    "    True,  # make a copy of the aggregated input data in the beast ouput\n",
    "    numThreadsPerCPU=2,  # Paralell  computing: use 2 threads per cpu core\n",
    "    numParThreads=\n",
    "    0,  # `0` means using all CPU cores: total num of ParThreads = numThreadsPerCPU * core Num\n",
    "    printOptions=False,\n",
    "    computeTrendSlope=True)\n",
    "ndvi_changed_rbeast = rb.beast123(\n",
    "    ndvi_changed.round(2).values, metadata, prior, mcmc, extra)\n",
    "Y = ndvi_changed_rbeast.trend.Y.reshape(30, -1)\n",
    "Y_ok = Y[:, np.isfinite(Y).all(0)]\n",
    "plt.plot(t, np.mean(Y_ok, 1))\n",
    "plt.scatter(t, np.mean(Y_ok, 1))\n"
   ]
  },
  {
   "cell_type": "code",
   "execution_count": null,
   "metadata": {},
   "outputs": [],
   "source": [
    "ndvi_changed_cp = repo.copy(data=ndvi_changed_rbeast.trend.cp[0, :, :])\n",
    "ndvi_changed_cpPr = repo.copy(data=ndvi_changed_rbeast.trend.cpPr[0, :, :])\n",
    "ndvi_changed_cp_sig = ndvi_changed_cp.where(ndvi_changed_cpPr > 0.5)\n",
    "ndvi_changed_cp_sig.plot.hist(bins=np.arange(1984, 2014))\n",
    "tmp = ndvi_changed_cp_sig.where(ef_changed_cp_sig == 1995)\n",
    "tmp.plot.hist(bins=np.arange(1984, 2014))\n"
   ]
  },
  {
   "cell_type": "code",
   "execution_count": null,
   "metadata": {},
   "outputs": [],
   "source": [
    "lai_changed = lai4g.where(changed == True)\n",
    "lai_not_changed = lai4g.where(not_changed == True)\n",
    "I = (np.isfinite(lai_changed).sum(dim=\"time\") > 25)\n",
    "lai_ok = lai_changed.where(I == True)\n",
    "lai_changed_mean = lai_changed.mean([\"lat\", \"lon\"])\n",
    "lai_region_mean_rbeast = rb.beast(lai_changed_mean.values,\n",
    "                                  season=\"none\",\n",
    "                                  start=1984,\n",
    "                                  tseg_minlength=1,\n",
    "                                  detrend=True)\n",
    "\n",
    "rb.plot(lai_region_mean_rbeast)"
   ]
  },
  {
   "cell_type": "code",
   "execution_count": null,
   "metadata": {},
   "outputs": [],
   "source": [
    "metadata = rb.args(whichDimIsTime=1, season=\"none\", startTime=1984)\n",
    "prior = rb.args(trendMinSepDist=1)\n",
    "mcmc = rb.args(seed=1)\n",
    "extra = rb.args(  # a set of options to specify the outputs or computational configurations\n",
    "    dumpInputData=\n",
    "    True,  # make a copy of the aggregated input data in the beast ouput\n",
    "    numThreadsPerCPU=2,  # Paralell  computing: use 2 threads per cpu core\n",
    "    numParThreads=\n",
    "    0,  # `0` means using all CPU cores: total num of ParThreads = numThreadsPerCPU * core Num\n",
    "    printOptions=False,\n",
    "    computeTrendSlope=True)\n",
    "lai_changed_rbeast = rb.beast123(\n",
    "    lai_changed.round(2).values, metadata, prior, mcmc, extra)\n"
   ]
  },
  {
   "cell_type": "code",
   "execution_count": null,
   "metadata": {},
   "outputs": [],
   "source": [
    "Y = lai_changed_rbeast.trend.Y.reshape(30, -1)\n",
    "Y_ok = Y[:, np.isfinite(Y).all(0)]\n",
    "plt.plot(t, np.mean(Y_ok, 1))\n",
    "plt.scatter(t, np.mean(Y_ok, 1))\n"
   ]
  },
  {
   "cell_type": "code",
   "execution_count": null,
   "metadata": {},
   "outputs": [],
   "source": [
    "metadata = rb.args(whichDimIsTime=1, season=\"none\", startTime=1984)\n",
    "prior = rb.args(trendMinSepDist=1)\n",
    "mcmc = rb.args(seed=1)\n",
    "extra = rb.args(  # a set of options to specify the outputs or computational configurations\n",
    "    dumpInputData=\n",
    "    True,  # make a copy of the aggregated input data in the beast ouput\n",
    "    numThreadsPerCPU=2,  # Paralell  computing: use 2 threads per cpu core\n",
    "    numParThreads=\n",
    "    0,  # `0` means using all CPU cores: total num of ParThreads = numThreadsPerCPU * core Num\n",
    "    printOptions=False,\n",
    "    computeTrendSlope=True)\n",
    "ndvi_rbeast = rb.beast123(ndvi.values, metadata, prior, mcmc, extra)\n",
    "Y = ndvi_rbeast.trend.Y.reshape(30, -1)\n",
    "Y_ok = Y[:, np.isfinite(Y).all(0)]\n",
    "plt.plot(t, np.mean(Y_ok, 1))\n"
   ]
  },
  {
   "cell_type": "code",
   "execution_count": null,
   "metadata": {},
   "outputs": [],
   "source": [
    "metadata = rb.args(whichDimIsTime=1, season=\"none\", startTime=1984)\n",
    "prior = rb.args(trendMinSepDist=1)\n",
    "mcmc = rb.args(seed=1)\n",
    "extra = rb.args(  # a set of options to specify the outputs or computational configurations\n",
    "    dumpInputData=\n",
    "    True,  # make a copy of the aggregated input data in the beast ouput\n",
    "    numThreadsPerCPU=2,  # Paralell  computing: use 2 threads per cpu core\n",
    "    numParThreads=\n",
    "    0,  # `0` means using all CPU cores: total num of ParThreads = numThreadsPerCPU * core Num\n",
    "    printOptions=False,\n",
    "    computeTrendSlope=True)\n",
    "ndvi_not_changed_rbeast = rb.beast123(\n",
    "    ndvi_not_changed.round(2).values, metadata, prior, mcmc, extra)\n",
    "Y = ndvi_not_changed_rbeast.trend.Y.reshape(30, -1)\n",
    "Y_ok = Y[:, np.isfinite(Y).all(0)]\n",
    "plt.plot(t, np.mean(Y_ok, 1))\n"
   ]
  },
  {
   "attachments": {},
   "cell_type": "markdown",
   "metadata": {},
   "source": [
    "### Causal inference for the entire region\n"
   ]
  },
  {
   "cell_type": "code",
   "execution_count": null,
   "metadata": {},
   "outputs": [],
   "source": [
    "changed_1994 = (ef_changed_cp_sig == 1994)\n",
    "lc_changed_1994 = lc.where(changed_1994 == True)\n",
    "lc_changed_1994.mean([\"lat\", \"lon\"]).to_pandas().plot(\n",
    "    kind=\"bar\",\n",
    "    stacked=True,\n",
    "    title=\"LC of pixels where there was a significant change in 1994\")"
   ]
  },
  {
   "cell_type": "code",
   "execution_count": null,
   "metadata": {},
   "outputs": [],
   "source": [
    "ef_1984_1993 = lc_changed_1994.sel(time=slice(\"1984\", \"1993\")).isel(band=0)\n",
    "ef_1984_1993_mean = ef_1984_1993.mean([\"time\"])\n",
    "ef_1995_2013 = lc_changed.isel(band=0).sel(time=slice(\"1995\", \"2013\"))\n",
    "post_dist_rec = ef_1995_2013 >= (ef_1984_1993_mean)\n",
    "a = xr.apply_ufunc(year_detect,\n",
    "                   post_dist_rec,\n",
    "                   input_core_dims=[[\"time\"]],\n",
    "                   vectorize=True)\n",
    "ef_changed_1994 = lc_changed_1994.isel(band=0).stack(\n",
    "    z=[\"lat\", \"lon\"]).to_pandas().dropna(axis=1)\n",
    "ef_changed_1994.plot(legend=False)\n",
    "np.isfinite(a.where(a > 5)).sum()\n"
   ]
  },
  {
   "cell_type": "code",
   "execution_count": null,
   "metadata": {},
   "outputs": [],
   "source": [
    "ndvi_changed_1994 = ndvi.where(changed_1994 == True)\n",
    "ndvi_changed_1994_mean = ndvi_changed_1994.mean([\"lat\", \"lon\"])\n",
    "ndvi_changed_1994_mean_rbeast = rb.beast(ndvi_changed_1994_mean.values,\n",
    "                                         season=\"none\",\n",
    "                                         start=1984,\n",
    "                                         tseg_minlength=1)\n",
    "# rb.plot(lai_not_changed_mean_rbeast)\n",
    "rb.plot(ndvi_changed_1994_mean_rbeast)"
   ]
  },
  {
   "cell_type": "code",
   "execution_count": null,
   "metadata": {},
   "outputs": [],
   "source": [
    "metadata = rb.args(whichDimIsTime=1, season=\"none\", startTime=1984)\n",
    "prior = rb.args(trendMinSepDist=1)\n",
    "mcmc = rb.args(seed=1)\n",
    "extra = rb.args(  # a set of options to specify the outputs or computational configurations\n",
    "    dumpInputData=\n",
    "    True,  # make a copy of the aggregated input data in the beast ouput\n",
    "    numThreadsPerCPU=2,  # Paralell  computing: use 2 threads per cpu core\n",
    "    numParThreads=\n",
    "    0,  # `0` means using all CPU cores: total num of ParThreads = numThreadsPerCPU * core Num\n",
    "    printOptions=False,\n",
    "    computeTrendSlope=True)\n",
    "ndvi_changed_1994_rbeast = rb.beast123(\n",
    "    ndvi_changed_1994.round(2).values, metadata, prior, mcmc, extra)\n",
    "Y_tmp = lai.copy(data=ndvi_changed_1994_rbeast.trend.Y)\n",
    "Y_tmp.mean([\"lat\", \"lon\"]).plot()\n"
   ]
  },
  {
   "cell_type": "code",
   "execution_count": null,
   "metadata": {},
   "outputs": [],
   "source": [
    "y_1993 = Y_tmp.sel(time=\"1993\").squeeze()\n",
    "y_1994 = Y_tmp.sel(time=\"1994\").squeeze()\n",
    "y_1999 = Y_tmp.sel(time=\"1999\").squeeze()\n",
    "dndvi_regrowth = (y_1999 - y_1994)\n",
    "dndvi_regrowth.plot.hist()"
   ]
  },
  {
   "cell_type": "code",
   "execution_count": null,
   "metadata": {},
   "outputs": [],
   "source": [
    "dndvi_disturb = y_1993 - y_1994\n",
    "dndvi_disturb.plot.hist()"
   ]
  },
  {
   "cell_type": "code",
   "execution_count": null,
   "metadata": {},
   "outputs": [],
   "source": [
    "pre_dist_mean = Y_tmp.sel(time=slice(\"1984\", \"1993\")).mean(\"time\")\n",
    "post_dist = Y_tmp.sel(time=slice(\"1995\", \"2013\"))\n",
    "post_dist_rec = post_dist >= (pre_dist_mean)\n"
   ]
  },
  {
   "cell_type": "code",
   "execution_count": null,
   "metadata": {},
   "outputs": [],
   "source": [
    "def year_detect(x):\n",
    "    if (x == False).all():\n",
    "        return np.nan\n",
    "    idx = next((i for i, j in enumerate(x) if j), None)\n",
    "    return idx\n",
    "\n",
    "\n",
    "a = xr.apply_ufunc(year_detect,\n",
    "                   post_dist_rec,\n",
    "                   input_core_dims=[[\"time\"]],\n",
    "                   vectorize=True)\n"
   ]
  },
  {
   "cell_type": "code",
   "execution_count": null,
   "metadata": {},
   "outputs": [],
   "source": [
    "print(\"time to recover: \" + str((a + 1).mean().values))\n"
   ]
  },
  {
   "cell_type": "code",
   "execution_count": null,
   "metadata": {},
   "outputs": [],
   "source": [
    "Y_1994 = ndvi_changed_1994_rbeast.trend.Y.reshape(30, -1)\n",
    "Y_ok = Y[:, np.isfinite(Y).all(0)]\n",
    "plt.plot(t, np.mean(Y_1994, 1))\n"
   ]
  },
  {
   "cell_type": "code",
   "execution_count": null,
   "metadata": {},
   "outputs": [],
   "source": [
    "ndvi_changed_stacked = ndvi_changed_1994.stack(z=[\"lon\", \"lat\"])\n",
    "ndvi_not_changed_stacked = ndvi_not_changed.stack(z=[\"lon\", \"lat\"])\n",
    "# select a random year and calculate the distances within 50 km radius and get all indices\n",
    "changed_year_ndvi = ndvi_changed_stacked.isel(time=10)\n",
    "df = changed_year_ndvi.to_dataframe()\n",
    "coords = np.radians(df[[\"lat\", \"lon\"]])\n",
    "dist = DistanceMetric.get_metric(\"haversine\")\n",
    "tree = BallTree(coords, metric=dist)\n",
    "indices = tree.query_radius(coords, r=0.005)"
   ]
  },
  {
   "cell_type": "code",
   "execution_count": null,
   "metadata": {},
   "outputs": [],
   "source": [
    "lai_changed_1994 = lai4g.where(changed_1994 == True)\n",
    "lai_changed_1994_mean = lai_changed_1994.mean([\"lat\", \"lon\"])\n",
    "lai_changed_1994_mean_rbeast = rb.beast(lai_changed_1994_mean.values,\n",
    "                                        season=\"none\",\n",
    "                                        start=1984,\n",
    "                                        tseg_minlength=1)\n",
    "# rb.plot(lai_not_changed_mean_rbeast)\n",
    "rb.plot(lai_changed_1994_mean_rbeast)"
   ]
  },
  {
   "cell_type": "code",
   "execution_count": null,
   "metadata": {},
   "outputs": [],
   "source": [
    "metadata = rb.args(whichDimIsTime=1, season=\"none\", startTime=1984)\n",
    "prior = rb.args(trendMinSepDist=1)\n",
    "mcmc = rb.args(seed=1)\n",
    "extra = rb.args(  # a set of options to specify the outputs or computational configurations\n",
    "    dumpInputData=\n",
    "    True,  # make a copy of the aggregated input data in the beast ouput\n",
    "    numThreadsPerCPU=2,  # Paralell  computing: use 2 threads per cpu core\n",
    "    numParThreads=\n",
    "    0,  # `0` means using all CPU cores: total num of ParThreads = numThreadsPerCPU * core Num\n",
    "    printOptions=False,\n",
    "    computeTrendSlope=True)\n",
    "lai_changed_1994_rbeast = rb.beast123(\n",
    "    lai_changed_1994.round(2).values, metadata, prior, mcmc, extra)\n",
    "Y_tmp = lai.copy(data=lai_changed_1994_rbeast.trend.Y)\n",
    "Y_tmp.mean([\"lat\", \"lon\"]).plot()\n"
   ]
  },
  {
   "cell_type": "code",
   "execution_count": null,
   "metadata": {},
   "outputs": [],
   "source": []
  },
  {
   "cell_type": "code",
   "execution_count": null,
   "metadata": {},
   "outputs": [],
   "source": [
    "data_ndvi = []\n",
    "arr_idx = []\n",
    "# lc_changed_1994_diff_net_data = []\n",
    "n = len(indices)\n",
    "for k in tqdm(range(n)):\n",
    "    # for k in tqdm(np.arange(457635, 457640)):\n",
    "    data = []\n",
    "    idx = indices[k]\n",
    "    # Get the changed NDVI values of the centeral pixel\n",
    "    center_pixel = idx[np.where(idx == k)]\n",
    "    center_pixel_ndvi = ndvi_changed_stacked[:, center_pixel].values.squeeze()\n",
    "\n",
    "    # continue if the central pixel is nan\n",
    "    # if np.isnan(center_pixel_ndvi).all():\n",
    "    #     continue\n",
    "    if np.isnan(center_pixel_ndvi).sum() > 5:\n",
    "        continue\n",
    "\n",
    "    data.append(center_pixel_ndvi)\n",
    "\n",
    "    # Go over the neighboring pixels and get the NDVI values of unchanged pixels\n",
    "    for i in range(len(idx)):\n",
    "        if idx[i] == center_pixel:\n",
    "            continue\n",
    "        tmp = ndvi_not_changed_stacked[:, idx[i]].values.squeeze()\n",
    "        # skip if the neighboring pixel is all nans\n",
    "        # if np.isnan(tmp).all():\n",
    "        #     continue\n",
    "        if np.isnan(tmp).sum() > 5:\n",
    "            continue\n",
    "        data.append(tmp)\n",
    "    data_ndvi.append(np.array(data).transpose())\n",
    "    arr_idx.append(k)  # Get the index of changed pixel\n",
    "    # lc_changed_1994_diff_net_data.append(lc_changed_1994_diff_net_stacked[k].values)"
   ]
  },
  {
   "cell_type": "code",
   "execution_count": null,
   "metadata": {},
   "outputs": [],
   "source": [
    "with open(\"../../working/ndvi_1994_data\", \"wb\") as fp:\n",
    "    pickle.dump(data_ndvi, fp)\n",
    "with open(\"../../working/arr_idx_1994\", \"wb\") as fp:\n",
    "    pickle.dump(arr_idx, fp)"
   ]
  },
  {
   "cell_type": "code",
   "execution_count": null,
   "metadata": {},
   "outputs": [],
   "source": [
    "ndvi_changed_1994_mean = ndvi_changed_1994.mean([\"lat\", \"lon\"])"
   ]
  },
  {
   "cell_type": "code",
   "execution_count": null,
   "metadata": {},
   "outputs": [],
   "source": [
    "initial_array = np.array(data_ndvi[0])[:, 1:]\n",
    "# for k in range(len(data_lai)):\n",
    "for k in np.arange(1, len(data_ndvi)):\n",
    "    tmp1 = np.array(data_ndvi[k])[:, 1:]\n",
    "    if k == 1:\n",
    "        all_data_not_changed = np.concatenate([initial_array, tmp1], axis=1)\n",
    "        continue\n",
    "    all_data_not_changed = np.concatenate([all_data_not_changed, tmp1], axis=1)\n"
   ]
  },
  {
   "cell_type": "code",
   "execution_count": null,
   "metadata": {},
   "outputs": [],
   "source": [
    "ndvi_not_changed_1994 = np.nanmean(all_data_not_changed, axis=1)"
   ]
  },
  {
   "cell_type": "code",
   "execution_count": null,
   "metadata": {},
   "outputs": [],
   "source": [
    "X = np.array([ndvi_changed_1994_mean.values,\n",
    "              ndvi_not_changed_1994]).transpose()\n",
    "plt.plot(t, X)\n"
   ]
  },
  {
   "cell_type": "code",
   "execution_count": null,
   "metadata": {},
   "outputs": [],
   "source": [
    "with open(\"../../working/ndvi_changed_mean_1994\", \"wb\") as fp:\n",
    "    pickle.dump(X, fp)"
   ]
  },
  {
   "cell_type": "code",
   "execution_count": null,
   "metadata": {},
   "outputs": [],
   "source": [
    "t2 = pd.date_range(start=pd.datetime(1984, 1, 1),\n",
    "                   periods=X.shape[0],\n",
    "                   freq=\"AS-JUL\")\n",
    "df_tmp = pd.DataFrame(data=X, index=t2)\n",
    "pre_priod = [\"19840701\", \"19930701\"]\n",
    "post_priod = [\"19940701\", \"20130701\"]\n",
    "ci = CausalImpact(\n",
    "    df_tmp,\n",
    "    pre_priod,\n",
    "    post_priod,\n",
    "    model_args={\n",
    "        \"fit_method\": \"hmc\",\n",
    "        \"standardize\": True,\n",
    "        # \"prior_level_sd\": 0.1,\n",
    "    },\n",
    ")\n",
    "print(ci.summary())\n",
    "ci.plot()"
   ]
  },
  {
   "cell_type": "code",
   "execution_count": null,
   "metadata": {},
   "outputs": [],
   "source": []
  },
  {
   "cell_type": "code",
   "execution_count": null,
   "metadata": {},
   "outputs": [],
   "source": [
    "import random\n",
    "\n",
    "data = pd.read_pickle(\"../../working/ndvi_1994_data\")\n",
    "t2 = pd.date_range(start=pd.datetime(1984, 1, 1), periods=30, freq=\"AS-JUL\")\n",
    "# for k in range(len(data_ndvi)):\n",
    "k = 0\n",
    "m = data[k]\n",
    "mask = np.isnan(m)\n",
    "m[mask] = np.interp(np.flatnonzero(mask), np.flatnonzero(~mask), m[~mask])\n",
    "df_tmp = pd.DataFrame(data=m, index=t2)\n",
    "pre_priod = [\"19840701\", \"19930701\"]\n",
    "post_priod = [\"19940701\", \"20130701\"]\n",
    "random.seed(2)\n",
    "ci = CausalImpact(\n",
    "    df_tmp,\n",
    "    pre_priod,\n",
    "    post_priod,\n",
    "    model_args={\n",
    "        \"fit_method\": \"hmc\",\n",
    "        \"standardize\": True,\n",
    "        # \"prior_level_sd\": None,\n",
    "    },\n",
    ")\n",
    "print(ci.summary())\n"
   ]
  },
  {
   "cell_type": "code",
   "execution_count": null,
   "metadata": {},
   "outputs": [],
   "source": [
    "m = data_ndvi[0]\n",
    "imp = IterativeImputer(random_state=0)\n",
    "imp.fit(m)\n",
    "X = imp.transform(m)\n",
    "df_tmp = pd.DataFrame(data=X, index=t2)\n",
    "pre_priod = [\"19840701\", \"19930701\"]\n",
    "post_priod = [\"19940701\", \"20130701\"]\n",
    "random.seed(2)\n",
    "ci = CausalImpact(\n",
    "    df_tmp,\n",
    "    pre_priod,\n",
    "    post_priod,\n",
    "    model_args={\n",
    "        \"fit_method\": \"hmc\",\n",
    "        \"standardize\": True,\n",
    "        # \"prior_level_sd\": None,\n",
    "    },\n",
    ")"
   ]
  },
  {
   "cell_type": "code",
   "execution_count": null,
   "metadata": {},
   "outputs": [],
   "source": [
    "print(ci.summary())\n",
    "ci.plot()"
   ]
  },
  {
   "cell_type": "code",
   "execution_count": null,
   "metadata": {},
   "outputs": [],
   "source": [
    "import random\n",
    "import asyncio\n",
    "\n",
    "\n",
    "def background(f):\n",
    "\n",
    "    def wrapped(*args, **kwargs):\n",
    "        return asyncio.get_event_loop().run_in_executor(\n",
    "            None, f, *args, **kwargs)\n",
    "\n",
    "    return wrapped\n",
    "\n",
    "\n",
    "@background\n",
    "def causal_inference(k, t2, data, res):\n",
    "    print(\"-----------------------------------\\n\")\n",
    "    print(\"Pixel number:\" + str(k))\n",
    "    print(\"-----------------------------------\\n\")\n",
    "\n",
    "    m = data[k]\n",
    "    imp = IterativeImputer(random_state=0)\n",
    "    imp.fit(m)\n",
    "    X = imp.transform(m)\n",
    "    df_tmp = pd.DataFrame(data=X, index=t2)\n",
    "    pre_priod = [\"19840701\", \"19930701\"]\n",
    "    post_priod = [\"19940701\", \"20130701\"]\n",
    "    random.seed(2)\n",
    "    ci = CausalImpact(\n",
    "        df_tmp,\n",
    "        pre_priod,\n",
    "        post_priod,\n",
    "        model_args={\n",
    "            \"fit_method\": \"hmc\",\n",
    "            \"standardize\": True,\n",
    "            # \"prior_level_sd\": None,\n",
    "        },\n",
    "    )\n",
    "    outs = [\n",
    "        ci.p_value,\n",
    "        ci.summary_data.loc[\"actual\"][\"average\"],\n",
    "        ci.summary_data.loc[\"predicted\"][\"average\"],\n",
    "        ci.summary_data.loc[\"abs_effect\"][\"average\"],\n",
    "        ci.summary_data.loc[\"rel_effect\"][\"average\"],\n",
    "        ci.summary_data.loc[\"actual\"][\"cumulative\"],\n",
    "        ci.summary_data.loc[\"predicted\"][\"cumulative\"],\n",
    "        ci.summary_data.loc[\"abs_effect\"][\"cumulative\"],\n",
    "        ci.summary_data.loc[\"rel_effect\"][\"cumulative\"],\n",
    "    ]\n",
    "    res.append(outs)\n",
    "    return res\n",
    "    # except:\n",
    "    #     outs = [np.repeat(np.nan, 9)]\n",
    "    #     res.append(outs)\n",
    "    #     return res"
   ]
  },
  {
   "cell_type": "code",
   "execution_count": null,
   "metadata": {},
   "outputs": [],
   "source": [
    "res = []\n",
    "for i in range(len(data_ndvi)):\n",
    "    causal_inference(i, t2, data_ndvi, res)\n"
   ]
  },
  {
   "cell_type": "code",
   "execution_count": null,
   "metadata": {},
   "outputs": [],
   "source": [
    "res"
   ]
  },
  {
   "cell_type": "code",
   "execution_count": null,
   "metadata": {},
   "outputs": [],
   "source": [
    "len(data_ndvi)"
   ]
  },
  {
   "cell_type": "code",
   "execution_count": null,
   "metadata": {},
   "outputs": [],
   "source": [
    "        a = [\n",
    "            ci.p_value,\n",
    "            ci.summary_data.loc[\"actual\"][\"average\"],\n",
    "            ci.summary_data.loc[\"predicted\"][\"average\"],\n",
    "            ci.summary_data.loc[\"abs_effect\"][\"average\"],\n",
    "            ci.summary_data.loc[\"rel_effect\"][\"average\"],\n",
    "            ci.summary_data.loc[\"actual\"][\"cumulative\"],\n",
    "            ci.summary_data.loc[\"predicted\"][\"cumulative\"],\n",
    "            ci.summary_data.loc[\"abs_effect\"][\"cumulative\"],\n",
    "            ci.summary_data.loc[\"rel_effect\"][\"cumulative\"],\n",
    "        ]"
   ]
  },
  {
   "cell_type": "code",
   "execution_count": null,
   "metadata": {},
   "outputs": [],
   "source": [
    "len(res)"
   ]
  },
  {
   "cell_type": "code",
   "execution_count": null,
   "metadata": {},
   "outputs": [],
   "source": [
    "pre_priod = [\"19840701\", \"19930701\"]\n",
    "post_priod = [\"19940701\", \"20130701\"]\n",
    "k = 250\n",
    "m = data_ndvi[k]\n",
    "# imp = IterativeImputer(random_state=0)\n",
    "# imp.fit(m)\n",
    "# X = imp.transform(m)\n",
    "df_tmp = pd.DataFrame(data=m, index=t2)\n",
    "df_tmp.iloc[:, 0].plot()\n"
   ]
  },
  {
   "cell_type": "code",
   "execution_count": null,
   "metadata": {},
   "outputs": [],
   "source": [
    "data_ndvi[250].shape"
   ]
  },
  {
   "cell_type": "code",
   "execution_count": null,
   "metadata": {},
   "outputs": [],
   "source": [
    "ci = CausalImpact(\n",
    "    df_tmp,\n",
    "    pre_priod,\n",
    "    post_priod,\n",
    "    model_args={\n",
    "        \"fit_method\": \"hmc\",\n",
    "        \"standardize\": True,\n",
    "        # \"prior_level_sd\": 0.1,\n",
    "    },\n",
    ")\n",
    "print(ci.summary())\n",
    "ci.plot()\n"
   ]
  },
  {
   "cell_type": "code",
   "execution_count": null,
   "metadata": {},
   "outputs": [],
   "source": [
    "print(ci.summary())"
   ]
  },
  {
   "cell_type": "code",
   "execution_count": null,
   "metadata": {},
   "outputs": [],
   "source": [
    "X = np.array([ndvi_changed_1994_mean.values,\n",
    "              ndvi_not_changed_mean.values]).transpose()\n",
    "plt.plot(t, X)\n"
   ]
  },
  {
   "cell_type": "code",
   "execution_count": null,
   "metadata": {},
   "outputs": [],
   "source": [
    "t2 = pd.date_range(start=pd.datetime(1984, 1, 1),\n",
    "                   periods=X.shape[0],\n",
    "                   freq=\"AS-JUL\")\n",
    "df_tmp = pd.DataFrame(data=X, index=t2)\n",
    "df_tmp"
   ]
  },
  {
   "cell_type": "code",
   "execution_count": null,
   "metadata": {},
   "outputs": [],
   "source": [
    "pre_priod = [\"19840701\", \"20040701\"]\n",
    "post_priod = [\"20050701\", \"20130701\"]\n",
    "ci = CausalImpact(\n",
    "    df_tmp,\n",
    "    pre_priod,\n",
    "    post_priod,\n",
    "    model_args={\n",
    "        \"fit_method\": \"hmc\",\n",
    "        \"standardize\": True,\n",
    "        \"prior_level_sd\": 0.1,\n",
    "    },\n",
    ")\n",
    "print(ci.summary())\n",
    "ci.plot()"
   ]
  },
  {
   "cell_type": "code",
   "execution_count": null,
   "metadata": {},
   "outputs": [],
   "source": []
  },
  {
   "cell_type": "code",
   "execution_count": null,
   "metadata": {},
   "outputs": [],
   "source": []
  },
  {
   "cell_type": "code",
   "execution_count": null,
   "metadata": {},
   "outputs": [],
   "source": []
  },
  {
   "cell_type": "code",
   "execution_count": null,
   "metadata": {},
   "outputs": [],
   "source": [
    "I = np.isfinite(ndvi).all(dim=\"time\")\n",
    "ndvi_ok = ndvi.where(I == True)\n"
   ]
  },
  {
   "cell_type": "code",
   "execution_count": null,
   "metadata": {},
   "outputs": [],
   "source": [
    "out1 = rb.beast(ndvi.mean([\"lat\", \"lon\"]).values,\n",
    "                season=\"none\",\n",
    "                start=1984,\n",
    "                tseg_minlength=1,\n",
    "                detrend=True)\n",
    "# out2 = rb.beast(lai.mean([\"lat\",\"lon\"]).values,\n",
    "#                                  season=\"none\",\n",
    "#                                  start=1984,\n",
    "#                                  tseg_minlength=3)\n",
    "# out3 = rb.beast(lai4g.mean([\"lat\",\"lon\"]).values,\n",
    "#                                  season=\"none\",\n",
    "#                                  start=1984,\n",
    "#                                  tseg_minlength=3)\n",
    "print(out1.marg_lik)\n",
    "# rb.plot(out1)\n",
    "# rb.plot(out2)\n",
    "# rb.plot(out3)"
   ]
  },
  {
   "cell_type": "code",
   "execution_count": null,
   "metadata": {},
   "outputs": [],
   "source": []
  },
  {
   "attachments": {},
   "cell_type": "markdown",
   "metadata": {},
   "source": [
    "### Apply Rbeast on landcover classes\n"
   ]
  },
  {
   "cell_type": "code",
   "execution_count": null,
   "metadata": {},
   "outputs": [],
   "source": [
    "# Only EF, shrub and DF. Changes in other classes are not that substantial\n",
    "ef_region_mean = percent.isel(band=0).mean([\"lat\", \"lon\"])  # Evergreen forest\n",
    "sh_region_mean = percent.isel(band=2).mean([\"lat\", \"lon\"])  # shrub\n",
    "hb_region_mean = percent.isel(band=3).mean([\"lat\", \"lon\"])  # herb\n",
    "sparse_region_mean = percent.isel(band=4).mean([\"lat\", \"lon\"])  # herb\n",
    "barren_region_mean = percent.isel(band=5).mean([\"lat\", \"lon\"])  # herb\n",
    "\n",
    "ef_region_mean_rbeast = rb.beast(ef_region_mean.values,\n",
    "                                 season=\"none\",\n",
    "                                 start=1984,\n",
    "                                 tseg_minlength=3)\n",
    "sh_region_mean_rbeast = rb.beast(sh_region_mean.values,\n",
    "                                 season=\"none\",\n",
    "                                 start=1984,\n",
    "                                 tseg_minlength=3)\n",
    "hb_region_mean_rbeast = rb.beast(hb_region_mean.values,\n",
    "                                 season=\"none\",\n",
    "                                 start=1984,\n",
    "                                 tseg_minlength=3)\n",
    "sparse_region_mean_rbeast = rb.beast(sparse_region_mean.values,\n",
    "                                     season=\"none\",\n",
    "                                     start=1984,\n",
    "                                     tseg_minlength=3)\n",
    "barren_region_mean_rbeast = rb.beast(barren_region_mean.values,\n",
    "                                     season=\"none\",\n",
    "                                     start=1984,\n",
    "                                     tseg_minlength=3)\n"
   ]
  },
  {
   "cell_type": "code",
   "execution_count": null,
   "metadata": {},
   "outputs": [],
   "source": [
    "rb.plot(ef_region_mean_rbeast)"
   ]
  },
  {
   "attachments": {},
   "cell_type": "markdown",
   "metadata": {},
   "source": [
    "### Apply Rbeast on regional mean of LAI\n"
   ]
  },
  {
   "cell_type": "code",
   "execution_count": null,
   "metadata": {},
   "outputs": [],
   "source": [
    "lai_region_mean = lai.mean([\"lat\", \"lon\"])\n",
    "lai_region_mean_rbeast = rb.beast(lai_region_mean.values,\n",
    "                                  season=\"none\",\n",
    "                                  start=1984,\n",
    "                                  tseg_minlength=3)\n",
    "rb.plot(lai_region_mean_rbeast)"
   ]
  },
  {
   "cell_type": "code",
   "execution_count": null,
   "metadata": {},
   "outputs": [],
   "source": [
    "temp_region_mean = temp.mean([\"lat\", \"lon\"])\n",
    "temp_region_mean_rbeast = rb.beast(temp_region_mean.values,\n",
    "                                   season=\"none\",\n",
    "                                   start=1984,\n",
    "                                   tseg_minlength=3)\n",
    "rb.plot(temp_region_mean_rbeast)\n",
    "print([\n",
    "    temp_region_mean_rbeast.trend.cp[0], temp_region_mean_rbeast.trend.cpPr[0]\n",
    "])\n"
   ]
  },
  {
   "cell_type": "code",
   "execution_count": null,
   "metadata": {},
   "outputs": [],
   "source": [
    "d2m_region_mean = d2m.mean([\"lat\", \"lon\"])\n",
    "d2m_region_mean_rbeast = rb.beast(d2m_region_mean.values,\n",
    "                                  season=\"none\",\n",
    "                                  start=1984,\n",
    "                                  tseg_minlength=3)\n",
    "rb.plot(d2m_region_mean_rbeast)\n",
    "print(\n",
    "    [d2m_region_mean_rbeast.trend.cp[0], d2m_region_mean_rbeast.trend.cpPr[0]])\n"
   ]
  },
  {
   "cell_type": "code",
   "execution_count": null,
   "metadata": {},
   "outputs": [],
   "source": [
    "ssr_region_mean = ssr.mean([\"lat\", \"lon\"])\n",
    "ssr_region_mean_rbeast = rb.beast(ssr_region_mean.values,\n",
    "                                  season=\"none\",\n",
    "                                  start=1984,\n",
    "                                  tseg_minlength=3)\n",
    "rb.plot(ssr_region_mean_rbeast)\n",
    "print(\n",
    "    [ssr_region_mean_rbeast.trend.cp[0], ssr_region_mean_rbeast.trend.cpPr[0]])\n"
   ]
  },
  {
   "cell_type": "code",
   "execution_count": null,
   "metadata": {},
   "outputs": [],
   "source": [
    "sw_region_mean = sw.mean([\"lat\", \"lon\"])\n",
    "sw_region_mean_rbeast = rb.beast(sw_region_mean.values,\n",
    "                                 season=\"none\",\n",
    "                                 start=1984,\n",
    "                                 tseg_minlength=3)\n",
    "rb.plot(sw_region_mean_rbeast)\n",
    "print([sw_region_mean_rbeast.trend.cp[0], sw_region_mean_rbeast.trend.cpPr[0]])\n"
   ]
  },
  {
   "cell_type": "code",
   "execution_count": null,
   "metadata": {},
   "outputs": [],
   "source": [
    "tp_region_mean = tp.mean([\"lat\", \"lon\"])\n",
    "tp_region_mean_rbeast = rb.beast(tp_region_mean.values,\n",
    "                                 season=\"none\",\n",
    "                                 start=1984,\n",
    "                                 tseg_minlength=3)\n",
    "rb.plot(tp_region_mean_rbeast)\n",
    "print([tp_region_mean_rbeast.trend.cp[0], tp_region_mean_rbeast.trend.cpPr[0]])\n"
   ]
  },
  {
   "attachments": {},
   "cell_type": "markdown",
   "metadata": {},
   "source": [
    "### Apply Rbeast on all pixels of LAI and environemntal variables\n"
   ]
  },
  {
   "cell_type": "code",
   "execution_count": null,
   "metadata": {},
   "outputs": [],
   "source": [
    "metadata = rb.args(whichDimIsTime=1, season=\"none\", startTime=1984)\n",
    "prior = rb.args(trendMinSepDist=3, trendMaxKnotNum=4)\n",
    "mcmc = rb.args(seed=1)\n",
    "extra = rb.args(  # a set of options to specify the outputs or computational configurations\n",
    "    dumpInputData=\n",
    "    True,  # make a copy of the aggregated input data in the beast ouput\n",
    "    numThreadsPerCPU=2,  # Paralell  computing: use 2 threads per cpu core\n",
    "    numParThreads=\n",
    "    0,  # `0` means using all CPU cores: total num of ParThreads = numThreadsPerCPU * core Num\n",
    "    printOptions=False,\n",
    "    computeTrendSlope=True)\n",
    "season = \"none\"\n",
    "lai_rbeast = rb.beast123(lai.values, metadata, prior, mcmc, extra)"
   ]
  },
  {
   "cell_type": "code",
   "execution_count": null,
   "metadata": {},
   "outputs": [],
   "source": [
    "metadata = rb.args(whichDimIsTime=1, season=\"none\", startTime=1984)\n",
    "prior = rb.args(trendMinSepDist=3, trendMaxKnotNum=4)\n",
    "mcmc = rb.args(seed=1)\n",
    "extra = rb.args(  # a set of options to specify the outputs or computational configurations\n",
    "    dumpInputData=\n",
    "    True,  # make a copy of the aggregated input data in the beast ouput\n",
    "    numThreadsPerCPU=2,  # Paralell  computing: use 2 threads per cpu core\n",
    "    numParThreads=\n",
    "    0,  # `0` means using all CPU cores: total num of ParThreads = numThreadsPerCPU * core Num\n",
    "    printOptions=False,\n",
    "    computeTrendSlope=True)\n",
    "season = \"none\"\n",
    "temp_rbeast = rb.beast123(temp.values, metadata, prior, mcmc, extra)"
   ]
  },
  {
   "cell_type": "code",
   "execution_count": null,
   "metadata": {},
   "outputs": [],
   "source": [
    "metadata = rb.args(whichDimIsTime=1, season=\"none\", startTime=1984)\n",
    "prior = rb.args(trendMinSepDist=3, trendMaxKnotNum=4)\n",
    "mcmc = rb.args(seed=1)\n",
    "extra = rb.args(  # a set of options to specify the outputs or computational configurations\n",
    "    dumpInputData=\n",
    "    True,  # make a copy of the aggregated input data in the beast ouput\n",
    "    numThreadsPerCPU=2,  # Paralell  computing: use 2 threads per cpu core\n",
    "    numParThreads=\n",
    "    0,  # `0` means using all CPU cores: total num of ParThreads = numThreadsPerCPU * core Num\n",
    "    printOptions=False,\n",
    "    computeTrendSlope=True)\n",
    "season = \"none\"\n",
    "d2m_rbeast = rb.beast123(d2m.values, metadata, prior, mcmc, extra)"
   ]
  },
  {
   "cell_type": "code",
   "execution_count": null,
   "metadata": {},
   "outputs": [],
   "source": [
    "metadata = rb.args(whichDimIsTime=1, season=\"none\", startTime=1984)\n",
    "prior = rb.args(trendMinSepDist=3, trendMaxKnotNum=4)\n",
    "mcmc = rb.args(seed=1)\n",
    "extra = rb.args(  # a set of options to specify the outputs or computational configurations\n",
    "    dumpInputData=\n",
    "    True,  # make a copy of the aggregated input data in the beast ouput\n",
    "    numThreadsPerCPU=2,  # Paralell  computing: use 2 threads per cpu core\n",
    "    numParThreads=\n",
    "    0,  # `0` means using all CPU cores: total num of ParThreads = numThreadsPerCPU * core Num\n",
    "    printOptions=False,\n",
    "    computeTrendSlope=True)\n",
    "season = \"none\"\n",
    "ssr_rbeast = rb.beast123(ssr.values, metadata, prior, mcmc, extra)"
   ]
  },
  {
   "cell_type": "code",
   "execution_count": null,
   "metadata": {},
   "outputs": [],
   "source": [
    "metadata = rb.args(whichDimIsTime=1, season=\"none\", startTime=1984)\n",
    "prior = rb.args(trendMinSepDist=3, trendMaxKnotNum=4)\n",
    "mcmc = rb.args(seed=1)\n",
    "extra = rb.args(  # a set of options to specify the outputs or computational configurations\n",
    "    dumpInputData=\n",
    "    True,  # make a copy of the aggregated input data in the beast ouput\n",
    "    numThreadsPerCPU=2,  # Paralell  computing: use 2 threads per cpu core\n",
    "    numParThreads=\n",
    "    0,  # `0` means using all CPU cores: total num of ParThreads = numThreadsPerCPU * core Num\n",
    "    printOptions=False,\n",
    "    computeTrendSlope=True)\n",
    "season = \"none\"\n",
    "sw_rbeast = rb.beast123(sw.values, metadata, prior, mcmc, extra)"
   ]
  },
  {
   "cell_type": "code",
   "execution_count": null,
   "metadata": {},
   "outputs": [],
   "source": [
    "metadata = rb.args(whichDimIsTime=1, season=\"none\", startTime=1984)\n",
    "prior = rb.args(trendMinSepDist=3, trendMaxKnotNum=4)\n",
    "mcmc = rb.args(seed=1)\n",
    "extra = rb.args(  # a set of options to specify the outputs or computational configurations\n",
    "    dumpInputData=\n",
    "    True,  # make a copy of the aggregated input data in the beast ouput\n",
    "    numThreadsPerCPU=2,  # Paralell  computing: use 2 threads per cpu core\n",
    "    numParThreads=\n",
    "    0,  # `0` means using all CPU cores: total num of ParThreads = numThreadsPerCPU * core Num\n",
    "    printOptions=False,\n",
    "    computeTrendSlope=True)\n",
    "season = \"none\"\n",
    "tp_rbeast = rb.beast123(tp.values, metadata, prior, mcmc, extra)"
   ]
  },
  {
   "attachments": {},
   "cell_type": "markdown",
   "metadata": {},
   "source": [
    "### Find changed pixels:\n",
    "\n",
    "Pixels when at least once in a time period there was a change in LC more than 2%\n"
   ]
  },
  {
   "cell_type": "code",
   "execution_count": null,
   "metadata": {},
   "outputs": [],
   "source": [
    "# stable pixels where classes has not changed more than 2%\n",
    "# lc_diff = lc.diff(\"time\")\n",
    "# changed = (abs(lc_diff) >= 0.1).any(dim=[\"time\", \"band\"])\n",
    "# not_changed = (abs(lc_diff) < 0.1).all(dim=[\"time\", \"band\"])\n",
    "# lc_changed = lc.where(changed==True)"
   ]
  },
  {
   "cell_type": "code",
   "execution_count": null,
   "metadata": {},
   "outputs": [],
   "source": [
    "lc_diff = lc.diff(\"time\")\n",
    "net_change = lc_diff.where(lc_diff > 0.0).sum(\"band\")\n",
    "changed = (net_change >= 0.05).any(dim=\"time\")\n",
    "not_changed = (net_change < 0.05).all(dim=\"time\")\n",
    "lc_changed = lc.where(changed == True)\n",
    "lc_not_changed = lc.where(not_changed == True)\n",
    "lc_changed.mean([\"lat\", \"lon\"]).to_pandas().plot(kind=\"bar\",\n",
    "                                                 stacked=True,\n",
    "                                                 title=\"LC changed\")\n",
    "lc_not_changed.mean([\"lat\", \"lon\"]).to_pandas().plot(kind=\"bar\",\n",
    "                                                     stacked=True,\n",
    "                                                     title=\"LC Not changed\")\n"
   ]
  },
  {
   "cell_type": "code",
   "execution_count": null,
   "metadata": {},
   "outputs": [],
   "source": [
    "ndvi_changed = ndvi.where(changed == True)\n",
    "ndvi_not_changed = ndvi.where(not_changed == True)\n",
    "lai4g_changed = lai4g.where(changed == True)\n",
    "lai4g_not_changed = lai4g.where(not_changed == True)\n"
   ]
  },
  {
   "cell_type": "code",
   "execution_count": null,
   "metadata": {},
   "outputs": [],
   "source": [
    "ndvi_changed_mean = ndvi_changed.mean([\"lat\", \"lon\"])\n",
    "ndvi_not_changed_mean = ndvi_not_changed.mean([\"lat\", \"lon\"])\n",
    "\n",
    "ndvi_changed_mean_rbeast = rb.beast(ndvi_changed_mean.values,\n",
    "                                    season=\"none\",\n",
    "                                    start=1984,\n",
    "                                    tseg_minlength=3)\n",
    "ndvi_not_changed_mean_rbeast = rb.beast(ndvi_not_changed_mean.values,\n",
    "                                        season=\"none\",\n",
    "                                        start=1984,\n",
    "                                        tseg_minlength=3)\n",
    "rb.plot(ndvi_changed_mean_rbeast)\n",
    "rb.plot(ndvi_not_changed_mean_rbeast)"
   ]
  },
  {
   "cell_type": "code",
   "execution_count": null,
   "metadata": {},
   "outputs": [],
   "source": [
    "I1, I2 = np.argwhere(arr.values == 423153)[0]\n",
    "percent[:, :, I1, I2].squeeze().to_pandas().plot(kind=\"bar\", stacked=True)\n"
   ]
  },
  {
   "cell_type": "code",
   "execution_count": null,
   "metadata": {},
   "outputs": [],
   "source": [
    "ndvi_changed[:, I1, I2]\n"
   ]
  },
  {
   "cell_type": "code",
   "execution_count": null,
   "metadata": {},
   "outputs": [],
   "source": [
    "ndvi_changed[:, I1, I2]\n",
    "out = rb.beast(ndvi[:, I1, I2].values,\n",
    "               season=\"none\",\n",
    "               start=1984,\n",
    "               tseg_minlength=3)\n",
    "rb.plot(out)"
   ]
  },
  {
   "cell_type": "code",
   "execution_count": null,
   "metadata": {},
   "outputs": [],
   "source": [
    "out = rb.beast(lai4g_changed[:, I1, I2].values,\n",
    "               season=\"none\",\n",
    "               start=1984,\n",
    "               tseg_minlength=3)\n",
    "rb.plot(out)"
   ]
  },
  {
   "cell_type": "code",
   "execution_count": null,
   "metadata": {},
   "outputs": [],
   "source": [
    "out = rb.beast(lai_changed[:, I1, I2].values,\n",
    "               season=\"none\",\n",
    "               start=1984,\n",
    "               tseg_minlength=3)\n",
    "rb.plot(out)"
   ]
  },
  {
   "attachments": {},
   "cell_type": "markdown",
   "metadata": {},
   "source": [
    "Apply LAI to changed and not changed seperately\n"
   ]
  },
  {
   "cell_type": "code",
   "execution_count": null,
   "metadata": {},
   "outputs": [],
   "source": [
    "lai_changed = lai.where(changed == True)\n",
    "lai_not_changed = lai.where(not_changed == True)\n",
    "\n",
    "temp_changed = temp.where(changed == True)\n",
    "temp_not_changed = temp.where(not_changed == True)\n",
    "\n",
    "temp_changed = temp.where(changed == True)\n",
    "temp_not_changed = temp.where(not_changed == True)\n",
    "\n",
    "d2m_changed = d2m.where(changed == True)\n",
    "d2m_not_changed = d2m.where(not_changed == True)\n",
    "\n",
    "ssr_changed = ssr.where(changed == True)\n",
    "ssr_not_changed = ssr.where(not_changed == True)\n",
    "\n",
    "sw_changed = sw.where(changed == True)\n",
    "sw_not_changed = sw.where(not_changed == True)\n",
    "\n",
    "tp_changed = tp.where(changed == True)\n",
    "tp_not_changed = tp.where(not_changed == True)\n",
    "\n",
    "vpd_changed = vpd.where(changed == True)\n",
    "vpd_not_changed = vpd.where(not_changed == True)\n",
    "\n",
    "co2_changed = co2.where(changed == True)\n",
    "co2_not_changed = co2.where(not_changed == True)\n"
   ]
  },
  {
   "cell_type": "code",
   "execution_count": null,
   "metadata": {},
   "outputs": [],
   "source": [
    "vpd_region_mean = vpd.mean([\"lat\", \"lon\"])\n",
    "vpd_region_mean_rbeast = rb.beast(vpd_region_mean.values,\n",
    "                                  season=\"none\",\n",
    "                                  start=1984,\n",
    "                                  tseg_minlength=3)\n",
    "rb.plot(vpd_region_mean_rbeast)"
   ]
  },
  {
   "cell_type": "code",
   "execution_count": null,
   "metadata": {},
   "outputs": [],
   "source": [
    "lai_changed_mean = lai_changed.mean([\"lat\", \"lon\"])\n",
    "lai_not_changed_mean = lai_not_changed.mean([\"lat\", \"lon\"])\n",
    "\n",
    "lai_changed_mean_rbeast = rb.beast(lai_changed_mean.values,\n",
    "                                   season=\"none\",\n",
    "                                   start=1984,\n",
    "                                   tseg_minlength=3)\n",
    "lai_not_changed_mean_rbeast = rb.beast(lai_not_changed_mean.values,\n",
    "                                       season=\"none\",\n",
    "                                       start=1984,\n",
    "                                       tseg_minlength=3)\n",
    "rb.plot(lai_changed_mean_rbeast)\n",
    "rb.plot(lai_not_changed_mean_rbeast)"
   ]
  },
  {
   "cell_type": "code",
   "execution_count": null,
   "metadata": {},
   "outputs": [],
   "source": [
    "slp_not_changed = lai_not_changed_mean_rbeast.trend.slp\n",
    "slp_changed = lai_changed_mean_rbeast.trend.slp\n",
    "\n",
    "plt.plot(t_short, slp_not_changed, color=\"green\")\n",
    "plt.scatter(t_short, slp_not_changed, color=\"green\")\n",
    "plt.plot(t_short, slp_changed, color=\"red\")\n",
    "plt.scatter(t_short, slp_changed, color=\"red\")\n",
    "\n",
    "slp_mean_not_changed_1984_1994 = slp_not_changed[0:11]\n",
    "slp_mean_not_changed_1995_2001 = slp_not_changed[11:18]\n",
    "slp_mean_not_changed_2002_2013 = slp_not_changed[18:]\n",
    "\n",
    "slp_mean_changed_1984_1994 = slp_changed[0:11]\n",
    "slp_mean_changed_1995_2001 = slp_changed[11:18]\n",
    "slp_mean_changed_2002_2013 = slp_changed[18:]\n",
    "\n",
    "print(\"average slope for not changed lai 1984-1994: \" +\n",
    "      str(np.round(slp_mean_not_changed_1984_1994.mean(), 2)))\n",
    "print(\"average slope for not changed lai 1995_2001: \" +\n",
    "      str(np.round(slp_mean_not_changed_1995_2001.mean(), 2)))\n",
    "print(\"average slope for not changed lai 2002_2013: \" +\n",
    "      str(np.round(slp_mean_not_changed_2002_2013.mean(), 2)))\n",
    "\n",
    "print(\"average slope for changed lai 1984-1994: \" +\n",
    "      str(np.round(slp_mean_changed_1984_1994.mean(), 2)))\n",
    "print(\"average slope for changed lai 1995_2001: \" +\n",
    "      str(np.round(slp_mean_changed_1995_2001.mean(), 2)))\n",
    "print(\"average slope for changed lai 2002-2013: \" +\n",
    "      str(np.round(slp_mean_changed_2002_2013.mean(), 2)))\n",
    "# print(lai_changed_mean_rbeast.trend.slp[12:18].mean())"
   ]
  },
  {
   "attachments": {},
   "cell_type": "markdown",
   "metadata": {},
   "source": [
    "Confirm the regional mean results by doing it over all pixles\n"
   ]
  },
  {
   "cell_type": "code",
   "execution_count": null,
   "metadata": {},
   "outputs": [],
   "source": [
    "fig, ax = plt.subplots(2, 3, figsize=(22, 12))\n",
    "ax = np.ravel(ax)\n",
    "lai_slp = lai.copy(data=lai_rbeast.trend.slp)\n",
    "lai_slp_not_changed = lai_slp.where(not_changed == True)\n",
    "lai_slp_changed = lai_slp.where(changed == True)\n",
    "\n",
    "lai_slp_not_changed_1984_1994 = lai_slp_not_changed.isel(\n",
    "    time=np.arange(0, 11)).mean(\"time\")\n",
    "lai_slp_not_changed_1984_1994.plot(ax=ax[0], robust=True)\n",
    "\n",
    "ax[0].set_title(\"Not changed 1984-1994\")\n",
    "# # lai_slp_not_changed.isel(time=np.arange(0,11)).mean()\n",
    "\n",
    "lai_slp_not_changed_1995_2001 = lai_slp_not_changed.isel(\n",
    "    time=np.arange(11, 18)).mean(\"time\")\n",
    "lai_slp_not_changed_1995_2001.plot(ax=ax[1], robust=True)\n",
    "ax[1].set_title(\"Not changed 1995-2001\")\n",
    "\n",
    "# # # lai_slp_not_changed.isel(time=np.arange(11,18)).mean()\n",
    "lai_slp_not_changed_2001_2013 = lai_slp_not_changed.isel(\n",
    "    time=np.arange(18, 30)).mean(\"time\")\n",
    "lai_slp_not_changed_2001_2013.plot(ax=ax[2], robust=True)\n",
    "\n",
    "ax[2].set_title(\"Not changed 2002-2013\")\n",
    "# lai_slp_not_changed.isel(time=np.arange(18,30)).mean()\n",
    "lai_slp_changed_1984_1994 = lai_slp_changed.isel(\n",
    "    time=np.arange(0, 11)).mean(\"time\")\n",
    "lai_slp_changed_1984_1994.plot(ax=ax[3], robust=True)\n",
    "ax[3].set_title(\"Changed 1984-1994\")\n",
    "\n",
    "lai_slp_changed_1995_2001 = lai_slp_changed.isel(\n",
    "    time=np.arange(11, 18)).mean(\"time\")\n",
    "lai_slp_changed_1995_2001.plot(ax=ax[4], robust=True)\n",
    "ax[4].set_title(\"Changed 1995-2001\")\n",
    "\n",
    "lai_slp_changed_2001_2013 = lai_slp_changed.isel(\n",
    "    time=np.arange(18, 30)).mean(\"time\")\n",
    "lai_slp_changed_2001_2013.plot(ax=ax[5], robust=True)\n",
    "ax[5].set_title(\"Changed 2002-2013\")\n",
    "\n",
    "# metadata = rb.args(whichDimIsTime=1, season=\"none\", startTime=1984)\n",
    "# prior = rb.args(trendMinSepDist=3, trendMaxKnotNum=4)\n",
    "# mcmc = rb.args(seed=1)\n",
    "# extra = rb.args(  # a set of options to specify the outputs or computational configurations\n",
    "#     dumpInputData=\n",
    "#     True,  # make a copy of the aggregated input data in the beast ouput\n",
    "#     numThreadsPerCPU=2,  # Paralell  computing: use 2 threads per cpu core\n",
    "#     numParThreads=\n",
    "#     0,  # `0` means using all CPU cores: total num of ParThreads = numThreadsPerCPU * core Num\n",
    "#     printOptions=False,\n",
    "#     computeTrendSlope = True\n",
    "# )\n",
    "# season = \"none\"\n",
    "# lai_not_changed_rbeast = rb.beast123(lai_not_changed.values, metadata, prior, mcmc, extra)"
   ]
  },
  {
   "cell_type": "code",
   "execution_count": null,
   "metadata": {},
   "outputs": [],
   "source": [
    "lai_greenup = (lai_slp_not_changed_1995_2001 - lai_slp_not_changed_1984_1994\n",
    "               ) / abs(lai_slp_not_changed_1984_1994)\n",
    "lai_greenup_mean = lai_greenup.mean()\n",
    "lai_greenup_std = lai_greenup.std()\n",
    "lai_greenup_zscore = (lai_greenup - lai_greenup_mean) / lai_greenup_std\n",
    "lai_greenup_clean = lai_greenup.where(outliers_index(lai_greenup) == False)\n",
    "(lai_greenup_clean * 100).plot()\n"
   ]
  },
  {
   "cell_type": "code",
   "execution_count": null,
   "metadata": {},
   "outputs": [],
   "source": [
    "lai_rbeast_y = lai.copy(data=lai_rbeast.trend.Y)\n",
    "lai_rbeast_y_stack = lai_rbeast_y.stack(z=[\"lon\", \"lat\"])\n",
    "lai_rbeast_y_stack_df = lai_rbeast_y_stack.transpose().to_pandas()\n",
    "lai_rbeast_y_stack_df = lai_rbeast_y_stack_df.dropna()\n",
    "lai_rbeast_y.mean([\"lat\", \"lon\"]).plot()\n"
   ]
  },
  {
   "cell_type": "code",
   "execution_count": null,
   "metadata": {},
   "outputs": [],
   "source": [
    "lai_slp_not_changed_1984_1994 = lai_slp_not_changed.isel(\n",
    "    time=np.arange(0, 11)).mean(\"time\")\n",
    "lai_slp_not_changed_1995_2001 = lai_slp_not_changed.isel(\n",
    "    time=np.arange(11, 18)).mean(\"time\")\n",
    "\n",
    "browned_1984_1994 = np.isfinite(\n",
    "    lai_slp_not_changed_1984_1994.where(lai_slp_not_changed_1984_1994 <= 0))\n",
    "# sw_not_changed.where(browned_1984_1994==True).mean([\"lat\",\"lon\"]).plot()\n",
    "tmp = rb.beast(tp_not_changed.where(browned_1984_1994 == True).mean(\n",
    "    [\"lat\", \"lon\"]).values,\n",
    "               season=\"none\",\n",
    "               start=1984,\n",
    "               tseg_minlength=3)\n",
    "rb.plot(tmp)\n",
    "# lai_slp_not_changed_1995_2001.where(browned_1984_1994==True)"
   ]
  },
  {
   "cell_type": "code",
   "execution_count": null,
   "metadata": {},
   "outputs": [],
   "source": [
    "tmp.trend.cp"
   ]
  },
  {
   "attachments": {},
   "cell_type": "markdown",
   "metadata": {},
   "source": [
    "Perform Rbeast analyses on the Lc where a they change at some point in time\n"
   ]
  },
  {
   "cell_type": "code",
   "execution_count": null,
   "metadata": {},
   "outputs": [],
   "source": [
    "ef_changed = lc_changed.isel(band=0)\n",
    "metadata = rb.args(whichDimIsTime=1, season=\"none\", startTime=1984)\n",
    "prior = rb.args(trendMinSepDist=3, trendMaxKnotNum=4)\n",
    "mcmc = rb.args(seed=1)\n",
    "extra = rb.args(  # a set of options to specify the outputs or computational configurations\n",
    "    dumpInputData=\n",
    "    True,  # make a copy of the aggregated input data in the beast ouput\n",
    "    numThreadsPerCPU=2,  # Paralell  computing: use 2 threads per cpu core\n",
    "    numParThreads=\n",
    "    0,  # `0` means using all CPU cores: total num of ParThreads = numThreadsPerCPU * core Num\n",
    "    printOptions=False,\n",
    "    missingValue=0.3,\n",
    ")\n",
    "season = \"none\"\n",
    "ef_rbeast = rb.beast123(ef_changed.values, metadata, prior, mcmc, extra)"
   ]
  },
  {
   "cell_type": "code",
   "execution_count": null,
   "metadata": {},
   "outputs": [],
   "source": [
    "sh_changed = lc_changed.isel(band=1)\n",
    "metadata = rb.args(whichDimIsTime=1, season=\"none\", startTime=1984)\n",
    "prior = rb.args(trendMinSepDist=3, trendMaxKnotNum=4)\n",
    "mcmc = rb.args(seed=1)\n",
    "extra = rb.args(  # a set of options to specify the outputs or computational configurations\n",
    "    dumpInputData=\n",
    "    True,  # make a copy of the aggregated input data in the beast ouput\n",
    "    numThreadsPerCPU=2,  # Paralell  computing: use 2 threads per cpu core\n",
    "    numParThreads=\n",
    "    0,  # `0` means using all CPU cores: total num of ParThreads = numThreadsPerCPU * core Num\n",
    "    printOptions=False,\n",
    "    missingValue=0.3,\n",
    ")\n",
    "season = \"none\"\n",
    "sh_rbeast = rb.beast123(sh_changed.values, metadata, prior, mcmc, extra)"
   ]
  },
  {
   "cell_type": "code",
   "execution_count": null,
   "metadata": {},
   "outputs": [],
   "source": [
    "hb_changed = lc_changed.isel(band=2)\n",
    "metadata = rb.args(whichDimIsTime=1, season=\"none\", startTime=1984)\n",
    "prior = rb.args(trendMinSepDist=3, trendMaxKnotNum=4)\n",
    "mcmc = rb.args(seed=1)\n",
    "extra = rb.args(  # a set of options to specify the outputs or computational configurations\n",
    "    dumpInputData=\n",
    "    True,  # make a copy of the aggregated input data in the beast ouput\n",
    "    numThreadsPerCPU=2,  # Paralell  computing: use 2 threads per cpu core\n",
    "    numParThreads=\n",
    "    0,  # `0` means using all CPU cores: total num of ParThreads = numThreadsPerCPU * core Num\n",
    "    printOptions=False,\n",
    "    missingValue=0.3,\n",
    ")\n",
    "season = \"none\"\n",
    "hb_rbeast = rb.beast123(hb_changed.values, metadata, prior, mcmc, extra)"
   ]
  },
  {
   "cell_type": "code",
   "execution_count": null,
   "metadata": {},
   "outputs": [],
   "source": [
    "sparse_changed = lc_changed.isel(band=3)\n",
    "metadata = rb.args(whichDimIsTime=1, season=\"none\", startTime=1984)\n",
    "prior = rb.args(trendMinSepDist=3, trendMaxKnotNum=4)\n",
    "mcmc = rb.args(seed=1)\n",
    "extra = rb.args(  # a set of options to specify the outputs or computational configurations\n",
    "    dumpInputData=\n",
    "    True,  # make a copy of the aggregated input data in the beast ouput\n",
    "    numThreadsPerCPU=2,  # Paralell  computing: use 2 threads per cpu core\n",
    "    numParThreads=\n",
    "    0,  # `0` means using all CPU cores: total num of ParThreads = numThreadsPerCPU * core Num\n",
    "    printOptions=False,\n",
    "    missingValue=0.3,\n",
    ")\n",
    "sparse_rbeast = rb.beast123(sparse_changed.values, metadata, prior, mcmc,\n",
    "                            extra)\n"
   ]
  },
  {
   "cell_type": "code",
   "execution_count": null,
   "metadata": {},
   "outputs": [],
   "source": [
    "barren_changed = lc_changed.isel(band=4)\n",
    "metadata = rb.args(whichDimIsTime=1, season=\"none\", startTime=1984)\n",
    "prior = rb.args(trendMinSepDist=3, trendMaxKnotNum=4)\n",
    "mcmc = rb.args(seed=1)\n",
    "extra = rb.args(  # a set of options to specify the outputs or computational configurations\n",
    "    dumpInputData=\n",
    "    True,  # make a copy of the aggregated input data in the beast ouput\n",
    "    numThreadsPerCPU=2,  # Paralell  computing: use 2 threads per cpu core\n",
    "    numParThreads=\n",
    "    0,  # `0` means using all CPU cores: total num of ParThreads = numThreadsPerCPU * core Num\n",
    "    printOptions=False,\n",
    "    missingValue=0.3,\n",
    ")\n",
    "barren_rbeast = rb.beast123(barren_changed.values, metadata, prior, mcmc,\n",
    "                            extra)\n"
   ]
  },
  {
   "attachments": {},
   "cell_type": "markdown",
   "metadata": {},
   "source": [
    "Find pixels where there was a cp in 1994 with cpPr >0.5\n"
   ]
  },
  {
   "cell_type": "code",
   "execution_count": null,
   "metadata": {},
   "outputs": [],
   "source": [
    "ef_cp = repo.copy(data=ef_rbeast.trend.cp[0, :, :])\n",
    "sh_cp = repo.copy(data=sh_rbeast.trend.cp[0, :, :])\n",
    "hb_cp = repo.copy(data=hb_rbeast.trend.cp[0, :, :])\n",
    "sparse_cp = repo.copy(data=sparse_rbeast.trend.cp[0, :, :])\n",
    "barren_cp = repo.copy(data=barren_rbeast.trend.cp[0, :, :])\n",
    "\n",
    "ef_cpPr = repo.copy(data=ef_rbeast.trend.cpPr[0, :, :])\n",
    "sh_cpPr = repo.copy(data=sh_rbeast.trend.cpPr[0, :, :])\n",
    "hb_cpPr = repo.copy(data=hb_rbeast.trend.cpPr[0, :, :])\n",
    "sparse_cpPr = repo.copy(data=sparse_rbeast.trend.cpPr[0, :, :])\n",
    "barren_cpPr = repo.copy(data=barren_rbeast.trend.cpPr[0, :, :])\n",
    "\n",
    "ef_cp_sig = ef_cp.where(ef_cpPr > 0.5)\n",
    "sh_cp_sig = sh_cp.where(sh_cpPr > 0.5)\n",
    "hb_cp_sig = hb_cp.where(hb_cpPr > 0.5)\n",
    "sparse_cp_sig = sparse_cp.where(sparse_cpPr > 0.5)\n",
    "barren_cp_sig = barren_cp.where(barren_cpPr > 0.5)\n",
    "changed_1994 = (ef_cp_sig == 1994) | (sh_cp_sig == 1994) | (\n",
    "    hb_cp_sig == 1994) | (sparse_cp_sig == 1994) | (barren_cp_sig == 1994)\n"
   ]
  },
  {
   "attachments": {},
   "cell_type": "markdown",
   "metadata": {},
   "source": [
    "# Prepare for casual inference\n"
   ]
  },
  {
   "cell_type": "code",
   "execution_count": null,
   "metadata": {},
   "outputs": [],
   "source": [
    "lc_changed_1994 = lc.where(changed_1994 == True)\n",
    "lc_changed_1994.mean([\"lat\", \"lon\"]).to_pandas().plot(\n",
    "    kind=\"bar\",\n",
    "    stacked=True,\n",
    "    title=\"LC of pixels where there was a significant change in 1994\")\n"
   ]
  },
  {
   "cell_type": "code",
   "execution_count": null,
   "metadata": {},
   "outputs": [],
   "source": [
    "ndvi_changed_1994 = lai.where(\n",
    "    changed_1994 == True)  # Lai values where LC changed in 1994\n",
    "lai_not_changed = lai.where(not_changed == True)"
   ]
  },
  {
   "cell_type": "code",
   "execution_count": null,
   "metadata": {},
   "outputs": [],
   "source": [
    "# net_change_1994 = net_change.where(changed_1994==True)\n",
    "# net_change_1994.sel(time=1994).plot.hist()"
   ]
  },
  {
   "cell_type": "code",
   "execution_count": null,
   "metadata": {},
   "outputs": [],
   "source": [
    "ndvi_changed_stacked = ndvi_changed_1994.stack(z=[\"lon\", \"lat\"])\n",
    "lai_not_changed_stacked = lai_not_changed.stack(z=[\"lon\", \"lat\"])\n",
    "# arr_stacked = arr.stack(z=[\"lon\", \"lat\"])\n",
    "# net_change_1994_stacked = net_change_1994.stack(z=[\"lon\", \"lat\"])\n",
    "\n",
    "# select a random year and calculate the distances within 50 km radius and get all indices\n",
    "changed_year_ndvi = ndvi_changed_stacked.isel(time=10)\n",
    "df = changed_year_ndvi.to_dataframe()\n",
    "coords = np.radians(df[[\"lat\", \"lon\"]])\n",
    "dist = DistanceMetric.get_metric(\"haversine\")\n",
    "tree = BallTree(coords, metric=dist)\n",
    "indices = tree.query_radius(coords, r=0.005)"
   ]
  },
  {
   "attachments": {},
   "cell_type": "markdown",
   "metadata": {},
   "source": [
    "Create dataset for CausalImpact analyses\n"
   ]
  },
  {
   "cell_type": "code",
   "execution_count": null,
   "metadata": {},
   "outputs": [],
   "source": [
    "data_lai = []\n",
    "arr_idx = []\n",
    "# lc_changed_1994_diff_net_data = []\n",
    "n = len(indices)\n",
    "for k in tqdm(range(n)):\n",
    "    # for k in tqdm(np.arange(457635, 457640)):\n",
    "    data = []\n",
    "    idx = indices[k]\n",
    "    # Get the changed LAI values of the centeral pixel\n",
    "    center_pixel = idx[np.where(idx == k)]\n",
    "    center_pixel_ndvi = ndvi_changed_stacked[:, center_pixel].values.squeeze()\n",
    "\n",
    "    # continue if the central pixel is nan\n",
    "    if np.isnan(center_pixel_ndvi).all():\n",
    "        continue\n",
    "\n",
    "    data.append(center_pixel_ndvi)\n",
    "\n",
    "    # Go over the neighboring pixels and get the LAI values of unchanged pixels\n",
    "    for i in range(len(idx)):\n",
    "        if idx[i] == center_pixel:\n",
    "            continue\n",
    "        tmp = lai_not_changed_stacked[:, idx[i]].values.squeeze()\n",
    "        # skip if the neighboring pixel is all nans\n",
    "        if np.isnan(tmp).all():\n",
    "            continue\n",
    "        data.append(tmp)\n",
    "    data_lai.append(np.array(data).transpose())\n",
    "    arr_idx.append(k)  # Get the index of changed pixel\n",
    "    # lc_changed_1994_diff_net_data.append(lc_changed_1994_diff_net_stacked[k].values)"
   ]
  },
  {
   "cell_type": "markdown",
   "metadata": {},
   "source": [
    "Save all the outputs\n"
   ]
  },
  {
   "cell_type": "code",
   "execution_count": null,
   "metadata": {},
   "outputs": [],
   "source": [
    "with open(\"../outputs/lai_region_mean_rbeast\", \"wb\") as fp:\n",
    "    pickle.dump(lai_region_mean_rbeast, fp)\n",
    "lai_region_mean.to_netcdf(\"../outputs/lai_region_mean.nc\")\n",
    "with open(\"../outputs/lai_rbeast\", \"wb\") as fp:\n",
    "    pickle.dump(lai_rbeast, fp)\n",
    "with open(\"../outputs/EF_rbeast\", \"wb\") as fp:\n",
    "    pickle.dump(ef_rbeast, fp)\n",
    "with open(\"../outputs/SH_rbeast\", \"wb\") as fp:\n",
    "    pickle.dump(sh_rbeast, fp)\n",
    "with open(\"../outputs/HB_rbeast\", \"wb\") as fp:\n",
    "    pickle.dump(sh_rbeast, fp)\n",
    "with open(\"../outputs/SPARSE_rbeast\", \"wb\") as fp:\n",
    "    pickle.dump(sparse_rbeast, fp)\n",
    "with open(\"../outputs/BARREN_rbeast\", \"wb\") as fp:\n",
    "    pickle.dump(barren_rbeast, fp)\n",
    "with open(\"../outputs/EF_region_mean_rbeast\", \"wb\") as fp:\n",
    "    pickle.dump(ef_region_mean_rbeast, fp)\n",
    "with open(\"../outputs/SH_region_mean_rbeast\", \"wb\") as fp:\n",
    "    pickle.dump(sh_region_mean_rbeast, fp)\n",
    "with open(\"../outputs/HB_region_mean_rbeast\", \"wb\") as fp:\n",
    "    pickle.dump(hb_region_mean_rbeast, fp)\n",
    "with open(\"../outputs/SPARSE_region_mean_rbeast\", \"wb\") as fp:\n",
    "    pickle.dump(sparse_region_mean_rbeast, fp)\n",
    "with open(\"../outputs/BARREN_region_mean_rbeast\", \"wb\") as fp:\n",
    "    pickle.dump(barren_region_mean_rbeast, fp)\n",
    "with open(\"../outputs/lai_1994_data\", \"wb\") as fp:\n",
    "    pickle.dump(data_lai, fp)\n",
    "with open(\"../outputs/arr_idx_1994\", \"wb\") as fp:\n",
    "    pickle.dump(arr_idx, fp)\n",
    "# with open(\"../outputs/lc_changed_1994_diff_net_data\", \"wb\") as fp:\n",
    "#     pickle.dump(lc_changed_1994_diff_net_data, fp)\n",
    "\n",
    "ef_region_mean.to_netcdf(\"../outputs/EF_region_mean.nc\")\n",
    "sh_region_mean.to_netcdf(\"../outputs/SH_region_mean.nc\")\n",
    "hb_region_mean.to_netcdf(\"../outputs/HB_region_mean.nc\")\n",
    "sparse_region_mean.to_netcdf(\"../outputs/SPARSE_region_mean.nc\")\n",
    "barren_region_mean.to_netcdf(\"../outputs/BARREN_region_mean.nc\")\n",
    "\n",
    "changed_1994.to_netcdf(\"../outputs/changed_1994.nc\")\n",
    "ndvi_changed_1994.to_netcdf(\"../outputs/lai_changed_1994.nc\")\n",
    "lai_not_changed.to_netcdf(\"../outputs/lai_not_changed.nc\")"
   ]
  },
  {
   "cell_type": "code",
   "execution_count": null,
   "metadata": {},
   "outputs": [],
   "source": [
    "changed_1994 = xr.open_dataarray(\"../outputs/changed_1994.nc\")\n",
    "ndvi_changed_1994 = xr.open_dataarray(\"../outputs/lai_changed_1994.nc\")\n",
    "data_lai = pd.read_pickle(\"../outputs/lai_1994_data\")"
   ]
  },
  {
   "attachments": {},
   "cell_type": "markdown",
   "metadata": {},
   "source": [
    "Run counter factual analyses for the mean of the entire LAI values that has gone through some major changes in LC in 1994\n"
   ]
  },
  {
   "cell_type": "code",
   "execution_count": null,
   "metadata": {},
   "outputs": [],
   "source": [
    "# changed_1994 = xr.open_dataarray(\"../outputs/changed_1994.nc\")\n",
    "# lai_changed_1994 = xr.open_dataarray(\"../outputs/lai_changed_1994.nc\")\n",
    "# lai_not_changed = xr.open_dataarray(\"../outputs/lai_not_changed.nc\")"
   ]
  },
  {
   "cell_type": "code",
   "execution_count": null,
   "metadata": {},
   "outputs": [],
   "source": [
    "lai_changed_1994_mean = ndvi_changed_1994.mean([\"lat\", \"lon\"])\n"
   ]
  },
  {
   "cell_type": "code",
   "execution_count": null,
   "metadata": {},
   "outputs": [],
   "source": [
    "ndvi_changed_1994_mean_rbeast = rb.beast(lai_changed_1994_mean.values,\n",
    "                                         season=\"none\",\n",
    "                                         start=1984,\n",
    "                                         tseg_minlength=3)\n",
    "# rb.plot(lai_not_changed_mean_rbeast)\n",
    "rb.plot(ndvi_changed_1994_mean_rbeast)"
   ]
  },
  {
   "cell_type": "code",
   "execution_count": null,
   "metadata": {},
   "outputs": [],
   "source": [
    "slp_changed_1994 = ndvi_changed_1994_mean_rbeast.trend.slp\n",
    "\n",
    "plt.plot(t_short, slp_not_changed, color=\"green\")\n",
    "plt.scatter(t_short, slp_not_changed, color=\"green\")\n",
    "plt.plot(t_short, slp_changed_1994, color=\"red\")\n",
    "plt.scatter(t_short, slp_changed_1994, color=\"red\")\n",
    "\n",
    "slp_mean_not_changed_1984_1994 = slp_not_changed[0:11]\n",
    "slp_mean_not_changed_1995_2001 = slp_not_changed[11:18]\n",
    "slp_mean_not_changed_2002_2013 = slp_not_changed[18:]\n",
    "\n",
    "slp_mean_changed_1984_1994 = slp_changed_1994[0:11]\n",
    "slp_mean_changed_1995_2001 = slp_changed_1994[11:18]\n",
    "slp_mean_changed_2002_2013 = slp_changed_1994[18:]\n",
    "\n",
    "print(\"average slope for not changed lai 1984-1994: \" +\n",
    "      str(np.round(slp_mean_not_changed_1984_1994.mean(), 2)))\n",
    "print(\"average slope for not changed lai 1995_2001: \" +\n",
    "      str(np.round(slp_mean_not_changed_1995_2001.mean(), 2)))\n",
    "print(\"average slope for not changed lai 2002_2013: \" +\n",
    "      str(np.round(slp_mean_not_changed_2002_2013.mean(), 2)))\n",
    "\n",
    "print(\"average slope for changed lai 1984-1994: \" +\n",
    "      str(np.round(slp_mean_changed_1984_1994.mean(), 2)))\n",
    "print(\"average slope for changed lai 1995_2001: \" +\n",
    "      str(np.round(slp_mean_changed_1995_2001.mean(), 2)))\n",
    "print(\"average slope for changed lai 2002-2013: \" +\n",
    "      str(np.round(slp_mean_changed_2002_2013.mean(), 2)))\n"
   ]
  },
  {
   "cell_type": "code",
   "execution_count": null,
   "metadata": {},
   "outputs": [],
   "source": [
    "lai_changed_1994_mean.plot(label=\"LAI where LC changed in 1994\")\n",
    "lai_not_changed_mean.plot(label=\"LAI where LC not changed\")\n",
    "plt.legend()"
   ]
  },
  {
   "cell_type": "code",
   "execution_count": null,
   "metadata": {},
   "outputs": [],
   "source": [
    "initial_array = np.array(data_lai[0])[:, 1:]\n",
    "# for k in range(len(data_lai)):\n",
    "for k in np.arange(1, len(data_lai)):\n",
    "    tmp1 = np.array(data_lai[k])[:, 1:]\n",
    "    if k == 1:\n",
    "        all_data_not_changed = np.concatenate([initial_array, tmp1], axis=1)\n",
    "        continue\n",
    "    all_data_not_changed = np.concatenate([all_data_not_changed, tmp1], axis=1)\n"
   ]
  },
  {
   "cell_type": "code",
   "execution_count": null,
   "metadata": {},
   "outputs": [],
   "source": [
    "lai_not_changed_1994 = np.nanmean(all_data_not_changed, axis=1)\n",
    "plt.plot(lai_changed_1994_mean.values, color='red')\n",
    "plt.plot(lai_not_changed_1994, color=\"green\")\n",
    "plt.plot(lai_not_changed_mean.values, color='blue')\n"
   ]
  },
  {
   "cell_type": "code",
   "execution_count": null,
   "metadata": {},
   "outputs": [],
   "source": [
    "X = np.array([lai_changed_1994_mean.values, lai_not_changed_1994]).transpose()\n",
    "X.shape"
   ]
  },
  {
   "cell_type": "code",
   "execution_count": null,
   "metadata": {},
   "outputs": [],
   "source": [
    "t2 = pd.date_range(start=pd.datetime(1984, 1, 1), periods=X.shape[0], freq=\"A\")\n",
    "df_tmp = pd.DataFrame(data=X, index=t2)\n",
    "pre_priod = [\"19841231\", \"19941231\"]\n",
    "post_priod = [\"19961231\", \"20131231\"]\n",
    "ci = CausalImpact(\n",
    "    df_tmp,\n",
    "    pre_priod,\n",
    "    post_priod,\n",
    "    model_args={\n",
    "        \"fit_method\": \"hmc\",\n",
    "        \"standardize\": True,\n",
    "        # \"prior_level_sd\": 0.1,\n",
    "    },\n",
    ")\n",
    "print(ci.summary())\n",
    "ci.plot()"
   ]
  },
  {
   "attachments": {},
   "cell_type": "markdown",
   "metadata": {},
   "source": [
    "We need to confirm the results above by running the CI over all the pixels.\n"
   ]
  },
  {
   "cell_type": "code",
   "execution_count": null,
   "metadata": {},
   "outputs": [],
   "source": [
    "# Open the CI_out file which is produced by causaliference_parallel_final.\n",
    "CI_out = pd.read_pickle(dir + \"/working/CI_out\")\n",
    "arr_idx = pd.read_pickle(dir + \"working/arr_idx\")\n",
    "tmp_f = np.empty((9, len(CI_out)))\n",
    "tmp_f[:] = np.nan\n",
    "\n",
    "df = pd.DataFrame(\n",
    "    tmp_f,\n",
    "    index=[\n",
    "        \"p_value\",\n",
    "        \"actual\",\n",
    "        \"predicted\",\n",
    "        \"abs_effect\",\n",
    "        \"rel_effect\",\n",
    "        \"actual_cum\",\n",
    "        \"predicted_cum\",\n",
    "        \"abs_effect_cum\",\n",
    "        \"rel_effect_cum\",\n",
    "    ],\n",
    ")\n",
    "# Read data and create a dataframe for some statistical analyses\n",
    "for i in range(len(CI_out)):\n",
    "    df.iloc[:, i] = np.array(CI_out[i]).squeeze()\n"
   ]
  },
  {
   "attachments": {},
   "cell_type": "markdown",
   "metadata": {},
   "source": [
    "### Random forest to get LAI from environmental variables\n"
   ]
  },
  {
   "cell_type": "code",
   "execution_count": null,
   "metadata": {},
   "outputs": [],
   "source": [
    "def xr_detrend(da):\n",
    "    t = da[\"time\"]\n",
    "    da[\"time\"] = range(len(da[\"time\"]))\n",
    "    p = da.polyfit(dim=\"time\", deg=1)\n",
    "    p_slope = p.polyfit_coefficients.isel(degree=0)\n",
    "    fit = xr.dot(da[\"time\"], p_slope)\n",
    "    detr = da - fit\n",
    "    detr[\"time\"] = t\n",
    "    da[\"time\"] = t\n",
    "    return detr"
   ]
  },
  {
   "cell_type": "code",
   "execution_count": null,
   "metadata": {},
   "outputs": [],
   "source": [
    "temp_not_changed_mean = temp_not_changed.mean([\"time\"])\n",
    "temp_not_changed_anomaly = (temp_not_changed - temp_not_changed_mean)\n",
    "\n",
    "d2m_not_changed_mean = d2m_not_changed.mean([\"time\"])\n",
    "d2m_not_changed_anomaly = (d2m_not_changed - d2m_not_changed_mean)\n",
    "\n",
    "ssr_not_changed_mean = ssr_not_changed.mean([\"time\"])\n",
    "ssr_not_changed_anomaly = (ssr_not_changed - ssr_not_changed_mean)\n",
    "\n",
    "sw_not_changed_mean = sw_not_changed.mean([\"time\"])\n",
    "sw_not_changed_anomaly = (sw_not_changed - sw_not_changed_mean)\n",
    "\n",
    "tp_not_changed_mean = tp_not_changed.mean([\"time\"])\n",
    "tp_not_changed_anomaly = (tp_not_changed - tp_not_changed_mean)\n",
    "\n",
    "co2_not_changed_mean = co2_not_changed.mean([\"time\"])\n",
    "co2_not_changed_anomaly = (co2_not_changed - co2_not_changed_mean)\n",
    "\n",
    "temp_not_changed_detrend = xr_detrend(temp_not_changed)\n",
    "d2m_not_changed_detrend = xr_detrend(d2m_not_changed)\n",
    "co2_not_changed_detrend = xr_detrend(co2_not_changed)\n",
    "sw_not_changed_detrend = xr_detrend(sw_not_changed)\n",
    "ssr_not_changed_detrend = xr_detrend(ssr_not_changed)\n",
    "\n",
    "temp_not_changed_anomaly_detrend = xr_detrend(temp_not_changed_anomaly)\n",
    "d2m_not_changed_anomaly_detrend = xr_detrend(d2m_not_changed_anomaly)\n",
    "ssr_not_changed_anomaly_detrend = xr_detrend(ssr_not_changed_anomaly)\n",
    "sw_not_changed_anomaly_detrend = xr_detrend(sw_not_changed_anomaly)\n",
    "tp_not_changed_anomaly_detrend = xr_detrend(tp_not_changed_anomaly)\n",
    "co2_not_changed_anomaly_detrend = xr_detrend(co2_not_changed_anomaly)"
   ]
  },
  {
   "cell_type": "code",
   "execution_count": null,
   "metadata": {},
   "outputs": [],
   "source": [
    "lai_not_changed_stacked = lai_not_changed.stack(\n",
    "    z=[\"time\", \"lat\", \"lon\"]).values\n",
    "\n",
    "temp_not_changed_stacked = temp_not_changed.stack(\n",
    "    z=[\"time\", \"lat\", \"lon\"]).values\n",
    "d2m_not_changed_stacked = d2m_not_changed.stack(\n",
    "    z=[\"time\", \"lat\", \"lon\"]).values\n",
    "ssr_not_changed_stacked = ssr_not_changed.stack(\n",
    "    z=[\"time\", \"lat\", \"lon\"]).values\n",
    "sw_not_changed_stacked = sw_not_changed.stack(z=[\"time\", \"lat\", \"lon\"]).values\n",
    "tp_not_changed_stacked = tp_not_changed.stack(z=[\"time\", \"lat\", \"lon\"]).values\n",
    "co2_not_changed_stacked = co2_not_changed.stack(\n",
    "    z=[\"time\", \"lat\", \"lon\"]).values\n",
    "\n",
    "temp_not_changed_detrend_stacked = temp_not_changed_detrend.stack(\n",
    "    z=[\"time\", \"lat\", \"lon\"]).values\n",
    "d2m_not_changed_detrend_stacked = d2m_not_changed_detrend.stack(\n",
    "    z=[\"time\", \"lat\", \"lon\"]).values\n",
    "co2_not_changed_detrend_stacked = co2_not_changed_detrend.stack(\n",
    "    z=[\"time\", \"lat\", \"lon\"]).values\n",
    "sw_not_changed_detrend_stacked = sw_not_changed_detrend.stack(\n",
    "    z=[\"time\", \"lat\", \"lon\"]).values\n",
    "ssr_not_changed_detrend_stacked = ssr_not_changed_detrend.stack(\n",
    "    z=[\"time\", \"lat\", \"lon\"]).values\n",
    "\n",
    "temp_not_changed_anomaly_stacked = temp_not_changed_anomaly.stack(\n",
    "    z=[\"time\", \"lat\", \"lon\"])\n",
    "d2m_not_changed_anomaly_stacked = d2m_not_changed_anomaly.stack(\n",
    "    z=[\"time\", \"lat\", \"lon\"]).values\n",
    "ssr_not_changed_anomaly_stacked = ssr_not_changed_anomaly.stack(\n",
    "    z=[\"time\", \"lat\", \"lon\"]).values\n",
    "sw_not_changed_anomaly_stacked = sw_not_changed_anomaly.stack(\n",
    "    z=[\"time\", \"lat\", \"lon\"]).values\n",
    "ssr_not_changed_anomaly_stacked = ssr_not_changed_anomaly.stack(\n",
    "    z=[\"time\", \"lat\", \"lon\"]).values\n",
    "tp_not_changed_anomaly_stacked = tp_not_changed_anomaly.stack(\n",
    "    z=[\"time\", \"lat\", \"lon\"]).values\n",
    "co2_not_changed_anomaly_stacked = co2_not_changed_anomaly.stack(\n",
    "    z=[\"time\", \"lat\", \"lon\"]).values\n",
    "\n",
    "temp_not_changed_anomaly_detrend_stacked = temp_not_changed_anomaly_detrend.stack(\n",
    "    z=[\"time\", \"lat\", \"lon\"]).values\n",
    "d2m_not_changed_anomaly_detrend_stacked = d2m_not_changed_anomaly_detrend.stack(\n",
    "    z=[\"time\", \"lat\", \"lon\"]).values\n",
    "ssr_not_changed_anomaly_detrend_stacked = ssr_not_changed_anomaly_detrend.stack(\n",
    "    z=[\"time\", \"lat\", \"lon\"]).values\n",
    "sw_not_changed_anomaly_detrend_stacked = sw_not_changed_anomaly_detrend.stack(\n",
    "    z=[\"time\", \"lat\", \"lon\"]).values\n",
    "tp_not_changed_anomaly_detrend_stacked = tp_not_changed_anomaly_detrend.stack(\n",
    "    z=[\"time\", \"lat\", \"lon\"]).values\n",
    "co2_not_changed_anomaly_detrend_stacked = co2_not_changed_anomaly_detrend.stack(\n",
    "    z=[\"time\", \"lat\", \"lon\"]).values\n"
   ]
  },
  {
   "cell_type": "code",
   "execution_count": null,
   "metadata": {},
   "outputs": [],
   "source": [
    "all_stacked = np.array([\n",
    "    lai_not_changed_stacked, temp_not_changed_stacked, d2m_not_changed_stacked,\n",
    "    ssr_not_changed_stacked, sw_not_changed_stacked, tp_not_changed_stacked,\n",
    "    co2_not_changed_stacked\n",
    "]).transpose()\n",
    "df = pd.DataFrame(data=all_stacked,\n",
    "                  columns=[\"lai\", \"temp\", \"d2m\", \"ssr\", \"sw\", \"tp\", \"co2\"])\n",
    "df = df.dropna(axis=0, how=\"any\")\n",
    "df_clean = df[(np.abs(stats.zscore(df)) < 3).all(axis=1)]\n",
    "df_subset = df_clean.sample(n=1000000)\n",
    "df_subset.head()"
   ]
  },
  {
   "cell_type": "code",
   "execution_count": null,
   "metadata": {},
   "outputs": [],
   "source": [
    "df_test = df_subset.sample(frac=0.1)\n",
    "df_train = df_subset.loc[~df_subset.index.isin(df_test.index)]\n",
    "X_train = df_train.iloc[:, 1:]\n",
    "y_train = df_train.iloc[:, 0]\n",
    "X_test = df_test.iloc[:, 1:]\n",
    "y_test = df_test.iloc[:, 0]\n",
    "X_all = df.iloc[:, 1:]\n",
    "x_all = df.iloc[:, 0]\n"
   ]
  },
  {
   "cell_type": "code",
   "execution_count": null,
   "metadata": {},
   "outputs": [],
   "source": [
    "from sklearn.ensemble import RandomForestRegressor\n",
    "from sklearn.metrics import r2_score\n",
    "\n",
    "rf = RandomForestRegressor(n_estimators=1000, n_jobs=-1, random_state=42)\n",
    "rf.fit(X_train, y_train)\n",
    "predictions = rf.predict(X_test)\n",
    "importances = rf.feature_importances_\n",
    "std = np.std([tree.feature_importances_ for tree in rf.estimators_], axis=0)"
   ]
  },
  {
   "cell_type": "code",
   "execution_count": null,
   "metadata": {},
   "outputs": [],
   "source": [
    "fig, Ax = plt.subplots(1, 2, figsize=(8, 4))\n",
    "ax = np.ravel(Ax)\n",
    "ax[0].scatter(y_test, predictions)\n",
    "ax[0].set_xlabel(\"Observed\")\n",
    "ax[0].set_ylabel(\"Predictions\")\n",
    "print(r2_score(y_test, predictions))\n",
    "feature_names = [\"temp\", \"d2m\", \"ssr\", \"sw\", \"tp\", \"co2\"]\n",
    "rf_importances = pd.Series(importances, index=feature_names)\n",
    "rf_importances.plot.bar(yerr=std, ax=ax[1])"
   ]
  },
  {
   "cell_type": "code",
   "execution_count": null,
   "metadata": {},
   "outputs": [],
   "source": [
    "all_predict = rf.predict(X_all)\n",
    "plt.scatter(all_predict, df[\"lai\"])\n",
    "print(r2_score(df[\"lai\"], all_predict))"
   ]
  },
  {
   "cell_type": "code",
   "execution_count": null,
   "metadata": {},
   "outputs": [],
   "source": [
    "I = df.index\n",
    "tmp = percent.isel(band=0).where(not_changed == True)\n",
    "predict_stack = tmp.stack(z=[\"time\", \"lat\", \"lon\"])\n",
    "predict_stack[:] = np.nan\n",
    "print(predict_stack.mean().values)\n",
    "print(np.nanmean(lai_not_changed_stacked))\n",
    "print(len(predict_stack))\n",
    "predict_stack_values = predict_stack.values\n",
    "\n",
    "predict_stack_values[I] = all_predict\n",
    "predict_stack.values = predict_stack_values\n",
    "\n",
    "predict_unstack = predict_stack.unstack()\n",
    "print(predict_unstack.mean())\n",
    "plt.plot(t, predict_unstack.mean([\"lat\", \"lon\"]).values, color=\"green\")\n",
    "plt.plot(t, lai_not_changed.mean([\"lat\", \"lon\"]).values, color=\"red\")\n"
   ]
  },
  {
   "cell_type": "code",
   "execution_count": null,
   "metadata": {},
   "outputs": [],
   "source": [
    "temp_detrend_stacked = np.array([\n",
    "    lai_not_changed_stacked, temp_not_changed_detrend_stacked,\n",
    "    d2m_not_changed_stacked, ssr_not_changed_stacked, sw_not_changed_stacked,\n",
    "    tp_not_changed_stacked, co2_not_changed_stacked\n",
    "]).transpose()\n",
    "df_detrend_temp = pd.DataFrame(\n",
    "    data=temp_detrend_stacked,\n",
    "    columns=[\"lai\", \"temp\", \"d2m\", \"ssr\", \"sw\", \"tp\", \"co2\"])\n",
    "df_detrend_temp = df_detrend_temp.dropna(axis=0, how=\"any\")\n",
    "df_detrend_temp"
   ]
  },
  {
   "cell_type": "code",
   "execution_count": null,
   "metadata": {},
   "outputs": [],
   "source": [
    "X_detrend = df_detrend_temp.iloc[:, 1:]\n",
    "temp_detrend_pred = rf.predict(X_detrend)"
   ]
  },
  {
   "cell_type": "code",
   "execution_count": null,
   "metadata": {},
   "outputs": [],
   "source": [
    "II = df_detrend_temp.index\n",
    "tmp = percent.isel(band=0).where(not_changed == True)\n",
    "predict_stack_detrend = tmp.stack(z=[\"time\", \"lat\", \"lon\"])\n",
    "predict_stack_detrend[:] = np.nan\n",
    "print(predict_stack_detrend.mean().values)\n",
    "print(np.nanmean(lai_not_changed_stacked))\n",
    "print(len(predict_stack_detrend))\n",
    "predict_stack_detrend_values = predict_stack_detrend.values\n",
    "\n",
    "predict_stack_detrend_values[II] = temp_detrend_pred\n",
    "predict_stack_detrend.values = predict_stack_detrend_values\n",
    "\n",
    "predict_detrend_unstack = predict_stack_detrend.unstack()\n",
    "print(predict_detrend_unstack.mean().values)\n",
    "plt.plot(t, predict_detrend_unstack.mean([\"lat\", \"lon\"]).values, color=\"green\")\n",
    "plt.plot(t, lai_not_changed.mean([\"lat\", \"lon\"]).values, color=\"red\")\n"
   ]
  },
  {
   "cell_type": "code",
   "execution_count": null,
   "metadata": {},
   "outputs": [],
   "source": [
    "temp1 = temp_not_changed.sel(time=slice(\"1984\", \"1994\"))\n",
    "temp2 = temp_not_changed_detrend.sel(time=slice(\"1995\", \"2013\"))\n",
    "temp_combined = xr.concat([temp1, temp2], dim=\"time\")\n",
    "temp_combined_stacked = temp_combined.stack(z=[\"time\", \"lat\", \"lon\"]).values\n",
    "\n",
    "ssr1 = ssr_not_changed.sel(time=slice(\"1984\", \"1994\"))\n",
    "ssr2 = ssr_not_changed_detrend.sel(time=slice(\"1995\", \"2013\"))\n",
    "ssr_combined = xr.concat([ssr1, ssr2], dim=\"time\")\n",
    "ssr_combined_stacked = ssr_combined.stack(z=[\"time\", \"lat\", \"lon\"]).values\n",
    "\n",
    "co21 = co2_not_changed.sel(time=slice(\"1984\", \"1994\"))\n",
    "co22 = co2_not_changed_detrend.sel(time=slice(\"1995\", \"2013\"))\n",
    "co2_combined = xr.concat([co21, co22], dim=\"time\")\n",
    "co2_combined_stacked = co2_combined.stack(z=[\"time\", \"lat\", \"lon\"]).values\n"
   ]
  },
  {
   "cell_type": "code",
   "execution_count": null,
   "metadata": {},
   "outputs": [],
   "source": [
    "temp_fixed = xr.where(temp_not_changed > 0, 265.62, temp_not_changed)\n",
    "temp_fixed_stacked = temp_fixed.stack(z=[\"time\", \"lat\", \"lon\"]).values\n"
   ]
  },
  {
   "cell_type": "code",
   "execution_count": null,
   "metadata": {},
   "outputs": [],
   "source": [
    "temp_detrend_stacked = np.array([\n",
    "    lai_not_changed_stacked, temp_combined_stacked, d2m_not_changed_stacked,\n",
    "    ssr_not_changed_stacked, sw_not_changed_stacked, tp_not_changed_stacked,\n",
    "    co2_not_changed_stacked\n",
    "]).transpose()\n",
    "df_detrend_temp = pd.DataFrame(\n",
    "    data=temp_detrend_stacked,\n",
    "    columns=[\"lai\", \"temp\", \"d2m\", \"ssr\", \"sw\", \"tp\", \"co2\"])\n",
    "df_detrend_temp = df_detrend_temp.dropna(axis=0, how=\"any\")\n",
    "X_combined = df_detrend_temp.iloc[:, 1:]\n",
    "df_detrend_temp.shape"
   ]
  },
  {
   "cell_type": "code",
   "execution_count": null,
   "metadata": {},
   "outputs": [],
   "source": [
    "temp_detrend_pred = rf.predict(X_combined)"
   ]
  },
  {
   "cell_type": "code",
   "execution_count": null,
   "metadata": {},
   "outputs": [],
   "source": [
    "II = df_detrend_temp.index\n",
    "tmp = percent.isel(band=0).where(not_changed == True)\n",
    "predict_stack_detrend = tmp.stack(z=[\"time\", \"lat\", \"lon\"])\n",
    "predict_stack_detrend[:] = np.nan\n",
    "print(predict_stack_detrend.mean().values)\n",
    "print(np.nanmean(lai_not_changed_stacked))\n",
    "print(len(predict_stack_detrend))\n",
    "predict_stack_detrend_values = predict_stack_detrend.values\n",
    "\n",
    "predict_stack_detrend_values[II] = temp_detrend_pred\n",
    "predict_stack_detrend.values = predict_stack_detrend_values\n",
    "\n",
    "predict_detrend_unstack = predict_stack_detrend.unstack()\n",
    "print(predict_detrend_unstack.mean().values)\n",
    "plt.plot(t, predict_detrend_unstack.mean([\"lat\", \"lon\"]).values, color=\"green\")\n",
    "plt.plot(t, lai_not_changed.mean([\"lat\", \"lon\"]).values, color=\"red\")\n"
   ]
  },
  {
   "cell_type": "code",
   "execution_count": null,
   "metadata": {},
   "outputs": [],
   "source": []
  },
  {
   "cell_type": "code",
   "execution_count": null,
   "metadata": {},
   "outputs": [],
   "source": [
    "from sklearn.ensemble import RandomForestRegressor\n",
    "from sklearn.model_selection import RandomizedSearchCV\n",
    "from pprint import pprint\n",
    "# Number of trees in random forest\n",
    "n_estimators = [int(x) for x in np.linspace(start=200, stop=2000, num=10)]\n",
    "# Number of features to consider at every split\n",
    "max_features = ['auto', 'sqrt']\n",
    "# Maximum number of levels in tree\n",
    "max_depth = [int(x) for x in np.linspace(10, 110, num=11)]\n",
    "max_depth.append(None)\n",
    "# Minimum number of samples required to split a node\n",
    "min_samples_split = [2, 5, 10]\n",
    "# Minimum number of samples required at each leaf node\n",
    "min_samples_leaf = [1, 2, 4]\n",
    "# Method of selecting samples for training each tree\n",
    "bootstrap = [True, False]\n",
    "# Create the random grid\n",
    "random_grid = {\n",
    "    'n_estimators': n_estimators,\n",
    "    'max_features': max_features,\n",
    "    'max_depth': max_depth,\n",
    "    'min_samples_split': min_samples_split,\n",
    "    'min_samples_leaf': min_samples_leaf,\n",
    "    'bootstrap': bootstrap\n",
    "}\n",
    "pprint(random_grid)"
   ]
  },
  {
   "cell_type": "code",
   "execution_count": null,
   "metadata": {},
   "outputs": [],
   "source": [
    "# Use the random grid to search for best hyperparameters\n",
    "# First create the base model to tune\n",
    "rf = RandomForestRegressor()\n",
    "# Random search of parameters, using 3 fold cross validation,\n",
    "# search across 100 different combinations, and use all available cores\n",
    "rf_random = RandomizedSearchCV(estimator=rf,\n",
    "                               param_distributions=random_grid,\n",
    "                               n_iter=100,\n",
    "                               cv=3,\n",
    "                               random_state=42,\n",
    "                               n_jobs=-1)\n",
    "# Fit the random search model\n",
    "rf_random.fit(X_train, y_train)"
   ]
  },
  {
   "cell_type": "code",
   "execution_count": null,
   "metadata": {},
   "outputs": [],
   "source": [
    "print(rf_random.best_params_)\n",
    "\n",
    "\n",
    "def evaluate(model, test_features, test_labels):\n",
    "    predictions = model.predict(test_features)\n",
    "    errors = abs(predictions - test_labels)\n",
    "    mape = 100 * np.mean(errors / test_labels)\n",
    "    accuracy = 100 - mape\n",
    "    print('Model Performance')\n",
    "    print('Average Error: {:0.4f} degrees.'.format(np.mean(errors)))\n",
    "    print('Accuracy = {:0.2f}%.'.format(accuracy))\n",
    "\n",
    "    return accuracy\n",
    "\n",
    "\n",
    "base_model = RandomForestRegressor(n_estimators=10, random_state=42)\n",
    "base_model.fit(X_train, y_train)\n",
    "base_accuracy = evaluate(base_model, X_test, y_test)\n",
    "\n",
    "best_random = rf_random.best_estimator_\n",
    "random_accuracy = evaluate(best_random, X_test, y_test)\n",
    "pprint('Improvement of {:0.2f}%.'.format(\n",
    "    100 * (random_accuracy - base_accuracy) / base_accuracy))\n",
    "\n",
    "# X_new = df_clean.iloc[:, 1:]\n",
    "# y_new = df_clean.iloc[:, 0]\n",
    "# new_predict = rf.predict(X_new)\n",
    "# plt.scatter(y_new, new_predict)"
   ]
  },
  {
   "cell_type": "code",
   "execution_count": null,
   "metadata": {},
   "outputs": [],
   "source": [
    "from sklearn.metrics import r2_score\n",
    "\n",
    "best_random = rf_random.best_estimator_\n",
    "y_predict = best_random.predict(X_test)\n",
    "plt.scatter(y_test, y_predict)\n",
    "print(r2_score(y_test, predictions))\n",
    "# X_new = df_clean.iloc[:, 1:]\n",
    "# y_new = df_clean.iloc[:, 0]\n",
    "# plt.scatter(y_new, y_predict)"
   ]
  },
  {
   "cell_type": "code",
   "execution_count": null,
   "metadata": {},
   "outputs": [],
   "source": [
    "temp_detrend_predict = rf.predict(X_temp_detrend_df.values)\n",
    "co2_detrend_predict = rf.predict(X_co2_detrend_df.values)\n",
    "sw_detrend_predict = rf.predict(X_sw_detrend_df.values)"
   ]
  },
  {
   "cell_type": "code",
   "execution_count": null,
   "metadata": {},
   "outputs": [],
   "source": [
    "co2_detrend_predict.mean()"
   ]
  },
  {
   "cell_type": "code",
   "execution_count": null,
   "metadata": {},
   "outputs": [],
   "source": [
    "I = df_clean.index\n",
    "lai_ef = lai.where(ef_fixed == True)\n",
    "lai_stack_orig = lai_ef.stack(z=[\"time\", \"lat\", \"lon\"])\n",
    "tmp = percent.isel(band=0).where(ef_fixed == True)\n",
    "predict_stack = tmp.stack(z=[\"time\", \"lat\", \"lon\"])\n",
    "predict_stack[:] = np.nan\n",
    "print(predict_stack.mean().values)\n",
    "print(lai_stack_orig.mean().values)\n",
    "for k in range(len(I)):\n",
    "    predict_stack[I[k]] = temp_detrend_predict[k]\n",
    "    # tmp_stack[I[k]] = 5\n",
    "predict_unstack = predict_stack.unstack()\n",
    "predict_unstack.mean()\n",
    "plt.plot(t, predict_unstack.mean([\"lat\", \"lon\"]).values, color=\"green\")\n",
    "plt.plot(t, lai_ef.mean([\"lat\", \"lon\"]).values, color=\"red\")\n"
   ]
  },
  {
   "cell_type": "code",
   "execution_count": null,
   "metadata": {},
   "outputs": [],
   "source": []
  },
  {
   "cell_type": "code",
   "execution_count": null,
   "metadata": {},
   "outputs": [],
   "source": [
    "tmp.mean()"
   ]
  },
  {
   "cell_type": "code",
   "execution_count": null,
   "metadata": {},
   "outputs": [],
   "source": [
    "predict_unstack.identical(tmp)\n",
    "# tmp.mean([\"lat\",\"lon\"]).plot()\n"
   ]
  },
  {
   "cell_type": "code",
   "execution_count": null,
   "metadata": {},
   "outputs": [],
   "source": [
    "predict_unstack.mean([\"lat\", \"lon\"]).plot()\n",
    "tmp.mean([\"lat\", \"lon\"]).plot(color=\"red\")\n"
   ]
  },
  {
   "cell_type": "code",
   "execution_count": null,
   "metadata": {},
   "outputs": [],
   "source": [
    "tmp.mean([\"lat\", \"lon\"]).plot()\n"
   ]
  },
  {
   "cell_type": "code",
   "execution_count": null,
   "metadata": {},
   "outputs": [],
   "source": [
    "df_clean"
   ]
  },
  {
   "cell_type": "code",
   "execution_count": null,
   "metadata": {},
   "outputs": [],
   "source": [
    "from sklearn.model_selection import RandomizedSearchCV\n",
    "from pprint import pprint\n",
    "# Number of trees in random forest\n",
    "n_estimators = [int(x) for x in np.linspace(start=200, stop=2000, num=10)]\n",
    "# Number of features to consider at every split\n",
    "max_features = ['auto', 'sqrt']\n",
    "# Maximum number of levels in tree\n",
    "max_depth = [int(x) for x in np.linspace(10, 110, num=11)]\n",
    "max_depth.append(None)\n",
    "# Minimum number of samples required to split a node\n",
    "min_samples_split = [2, 5, 10]\n",
    "# Minimum number of samples required at each leaf node\n",
    "min_samples_leaf = [1, 2, 4]\n",
    "# Method of selecting samples for training each tree\n",
    "bootstrap = [True, False]\n",
    "# Create the random grid\n",
    "random_grid = {\n",
    "    'n_estimators': n_estimators,\n",
    "    'max_features': max_features,\n",
    "    'max_depth': max_depth,\n",
    "    'min_samples_split': min_samples_split,\n",
    "    'min_samples_leaf': min_samples_leaf,\n",
    "    'bootstrap': bootstrap\n",
    "}\n",
    "pprint(random_grid)\n",
    "{\n",
    "    'bootstrap': [True, False],\n",
    "    'max_depth': [10, 20, 30, 40, 50, 60, 70, 80, 90, 100, None],\n",
    "    'max_features': ['auto', 'sqrt'],\n",
    "    'min_samples_leaf': [1, 2, 4],\n",
    "    'min_samples_split': [2, 5, 10],\n",
    "    'n_estimators': [200, 400, 600, 800, 1000, 1200, 1400, 1600, 1800, 2000]\n",
    "}\n"
   ]
  },
  {
   "cell_type": "code",
   "execution_count": null,
   "metadata": {},
   "outputs": [],
   "source": [
    "# Use the random grid to search for best hyperparameters\n",
    "# First create the base model to tune\n",
    "rf = RandomForestRegressor()\n",
    "# Random search of parameters, using 3 fold cross validation,\n",
    "# search across 100 different combinations, and use all available cores\n",
    "rf_random = RandomizedSearchCV(estimator=rf,\n",
    "                               param_distributions=random_grid,\n",
    "                               n_iter=100,\n",
    "                               cv=3,\n",
    "                               random_state=42,\n",
    "                               n_jobs=-1)\n",
    "# Fit the random search model\n",
    "rf_random.fit(X_train, y_train)"
   ]
  },
  {
   "cell_type": "code",
   "execution_count": null,
   "metadata": {},
   "outputs": [],
   "source": [
    "rf_random.best_params_"
   ]
  },
  {
   "cell_type": "code",
   "execution_count": null,
   "metadata": {},
   "outputs": [],
   "source": [
    "def evaluate(model, test_features, test_labels):\n",
    "    predictions = model.predict(test_features)\n",
    "    errors = abs(predictions - test_labels)\n",
    "    mape = 100 * np.mean(errors / test_labels)\n",
    "    accuracy = 100 - mape\n",
    "    print('Model Performance')\n",
    "    print('Average Error: {:0.4f} degrees.'.format(np.mean(errors)))\n",
    "    print('Accuracy = {:0.2f}%.'.format(accuracy))\n",
    "\n",
    "    return accuracy\n",
    "\n",
    "\n",
    "base_model = RandomForestRegressor(n_estimators=1000,\n",
    "                                   n_jobs=-1,\n",
    "                                   random_state=42)\n",
    "base_model.fit(X_train, y_train)\n",
    "base_accuracy = evaluate(base_model, X_test, y_test)\n",
    "\n",
    "best_random = rf_random.best_estimator_\n",
    "random_accuracy = evaluate(best_random, X_test, y_test)\n",
    "print('Improvement of {:0.2f}%.'.format(\n",
    "    100 * (random_accuracy - base_accuracy) / base_accuracy))\n"
   ]
  },
  {
   "cell_type": "code",
   "execution_count": null,
   "metadata": {},
   "outputs": [],
   "source": [
    "from sklearn.model_selection import GridSearchCV\n",
    "# Create the parameter grid based on the results of random search\n",
    "param_grid = {\n",
    "    'bootstrap': [True],\n",
    "    'max_depth': [80, 90, 100, 110],\n",
    "    'max_features': [2, 3],\n",
    "    'min_samples_leaf': [3, 4, 5],\n",
    "    'min_samples_split': [8, 10, 12],\n",
    "    'n_estimators': [100, 200, 300, 1000]\n",
    "}\n",
    "# Create a based model\n",
    "rf = RandomForestRegressor()\n",
    "# Instantiate the grid search model\n",
    "grid_search = GridSearchCV(estimator=rf,\n",
    "                           param_grid=param_grid,\n",
    "                           cv=3,\n",
    "                           n_jobs=-1,\n",
    "                           verbose=2)\n"
   ]
  },
  {
   "cell_type": "code",
   "execution_count": null,
   "metadata": {},
   "outputs": [],
   "source": [
    "\n"
   ]
  },
  {
   "cell_type": "code",
   "execution_count": null,
   "metadata": {},
   "outputs": [],
   "source": [
    "arr_val = arr.values\n",
    "repo[:] = np.nan\n",
    "\n",
    "p_value = np.empty((repo.shape[0], repo.shape[1]))\n",
    "p_value[:] = np.nan\n",
    "\n",
    "actual = np.empty((repo.shape[0], repo.shape[1]))\n",
    "actual[:] = np.nans\n",
    "\n",
    "predicted = np.empty((repo.shape[0], repo.shape[1]))\n",
    "predicted[:] = np.nan\n",
    "\n",
    "abs_effect = np.empty((repo.shape[0], repo.shape[1]))\n",
    "abs_effect[:] = np.nan\n",
    "\n",
    "rel_effect = np.empty((repo.shape[0], repo.shape[1]))\n",
    "rel_effect[:] = np.nan\n",
    "\n",
    "actual_cum = np.empty((repo.shape[0], repo.shape[1]))\n",
    "actual_cum[:] = np.nan\n",
    "\n",
    "predicted_cum = np.empty((repo.shape[0], repo.shape[1]))\n",
    "predicted_cum[:] = np.nan\n",
    "\n",
    "abs_effect_cum = np.empty((repo.shape[0], repo.shape[1]))\n",
    "abs_effect_cum[:] = np.nan\n",
    "\n",
    "rel_effect_cum = np.empty((repo.shape[0], repo.shape[1]))\n",
    "rel_effect_cum[:] = np.nan\n",
    "\n",
    "for i in range(len(arr_idx)):\n",
    "    I = np.argwhere(arr_val == arr_idx[i])\n",
    "    p_value[I[0][0], I[0][1]] = df.loc[\"p_value\"][i]\n",
    "    actual[I[0][0], I[0][1]] = df.loc[\"actual\"][i]\n",
    "    predicted[I[0][0], I[0][1]] = df.loc[\"predicted\"][i]\n",
    "    abs_effect[I[0][0], I[0][1]] = df.loc[\"abs_effect\"][i]\n",
    "    rel_effect[I[0][0], I[0][1]] = df.loc[\"rel_effect\"][i]\n",
    "    actual_cum[I[0][0], I[0][1]] = df.loc[\"actual_cum\"][i]\n",
    "    predicted_cum[I[0][0], I[0][1]] = df.loc[\"predicted_cum\"][i]\n",
    "    abs_effect_cum[I[0][0], I[0][1]] = df.loc[\"abs_effect_cum\"][i]\n",
    "    rel_effect_cum[I[0][0], I[0][1]] = df.loc[\"rel_effect_cum\"][i]\n"
   ]
  },
  {
   "cell_type": "code",
   "execution_count": null,
   "metadata": {},
   "outputs": [],
   "source": [
    "CI_p_value = repo.copy(data=p_value)\n",
    "CI_actual = repo.copy(data=actual)\n",
    "CI_predicted = repo.copy(data=predicted)\n",
    "CI_abs_effect = repo.copy(data=abs_effect)\n"
   ]
  },
  {
   "cell_type": "code",
   "execution_count": null,
   "metadata": {},
   "outputs": [],
   "source": [
    "CI_abs_effect.where(CI_p_value <= 0.05).plot.hist()\n"
   ]
  },
  {
   "cell_type": "code",
   "execution_count": null,
   "metadata": {},
   "outputs": [],
   "source": [
    "abs_effect[np.where(p_value <= 0.05)].mean()\n"
   ]
  },
  {
   "cell_type": "code",
   "execution_count": null,
   "metadata": {},
   "outputs": [],
   "source": [
    "b = df.loc[\"abs_effect\"].where(df.loc[\"p_value\"] <= 0.05)\n",
    "b.mean()"
   ]
  }
 ],
 "metadata": {
  "kernelspec": {
   "display_name": "geospatial",
   "language": "python",
   "name": "python3"
  },
  "language_info": {
   "codemirror_mode": {
    "name": "ipython",
    "version": 3
   },
   "file_extension": ".py",
   "mimetype": "text/x-python",
   "name": "python",
   "nbconvert_exporter": "python",
   "pygments_lexer": "ipython3",
   "version": "3.9.16"
  },
  "orig_nbformat": 4
 },
 "nbformat": 4,
 "nbformat_minor": 2
}
