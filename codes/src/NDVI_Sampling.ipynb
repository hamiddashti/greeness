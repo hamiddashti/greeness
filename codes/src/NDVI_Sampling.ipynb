{
 "cells": [
  {
   "cell_type": "code",
   "execution_count": 1,
   "metadata": {},
   "outputs": [
    {
     "name": "stdout",
     "output_type": "stream",
     "text": [
      "Initialization done!\n"
     ]
    },
    {
     "name": "stderr",
     "output_type": "stream",
     "text": [
      "/data/home/hamiddashti/hamid/nasa_above/greeness/codes/src/my_funs.py:9: UserWarning: Shapely 2.0 is installed, but because PyGEOS is also installed, GeoPandas will still use PyGEOS by default for now. To force to use and test Shapely 2.0, you have to set the environment variable USE_PYGEOS=0. You can do this before starting the Python process, or in your code before importing geopandas:\n",
      "\n",
      "import os\n",
      "os.environ['USE_PYGEOS'] = '0'\n",
      "import geopandas\n",
      "\n",
      "In a future release, GeoPandas will switch to using Shapely by default. If you are using PyGEOS directly (calling PyGEOS functions on geometries from GeoPandas), this will then stop working and you are encouraged to migrate from PyGEOS to Shapely 2.0 (https://shapely.readthedocs.io/en/latest/migration_pygeos.html).\n",
      "  import geopandas as gpd\n",
      "2023-08-12 06:32:35.745440: I tensorflow/core/platform/cpu_feature_guard.cc:182] This TensorFlow binary is optimized to use available CPU instructions in performance-critical operations.\n",
      "To enable the following instructions: AVX2 FMA, in other operations, rebuild TensorFlow with the appropriate compiler flags.\n",
      "2023-08-12 06:32:36.619504: W tensorflow/compiler/tf2tensorrt/utils/py_utils.cc:38] TF-TRT Warning: Could not find TensorRT\n"
     ]
    }
   ],
   "source": [
    "import xarray as xr\n",
    "import matplotlib.pylab as plt\n",
    "import Rbeast as rb\n",
    "import numpy as np\n",
    "import cartopy.crs as ccrss\n",
    "import cartopy.feature as cf\n",
    "import matplotlib as mpl\n",
    "import pandas as pd\n",
    "import my_funs\n",
    "from sklearn.experimental import enable_iterative_imputer\n",
    "from sklearn.neighbors import BallTree, DistanceMetric\n",
    "from causalimpact import CausalImpact\n",
    "import pickle\n",
    "from sklearn.impute import IterativeImputer\n",
    "from dask.diagnostics import ProgressBar\n",
    "from tqdm import tqdm\n",
    "from scipy import stats\n",
    "from joblib import Parallel, delayed\n",
    "\n",
    "mpl.rcParams[\"mathtext.default\"] = \"regular\"\n",
    "import matplotlib.gridspec as gridspec\n",
    "from mpl_toolkits.axes_grid1 import make_axes_locatable\n",
    "from my_funs import outliers_index\n",
    "dir = \"/data/home/hamiddashti/hamid/nasa_above/greeness/data/\""
   ]
  },
  {
   "cell_type": "code",
   "execution_count": 2,
   "metadata": {},
   "outputs": [
    {
     "name": "stderr",
     "output_type": "stream",
     "text": [
      "100%|██████████| 2000000/2000000 [01:34<00:00, 21145.31it/s]\n"
     ]
    }
   ],
   "source": [
    "n = 2000000\n",
    "tmp = xr.open_dataarray(dir+\"processed_data/landsat/mosaic/mosaic_NDVI_1984_TM5.tif\",engine=\"rasterio\").squeeze()\n",
    "rng = np.random.default_rng(seed=2)\n",
    "lats = []\n",
    "lons=[]\n",
    "for i in tqdm(range(n)):\n",
    "    lat = rng.choice(tmp.shape[0], 1, replace=False)\n",
    "    lon = rng.choice(tmp.shape[1], 1, replace=False)\n",
    "    lats.append(lat)\n",
    "    lons.append(lon)\n",
    "lats = np.array(lats).squeeze()\n",
    "lons = np.array(lons).squeeze()"
   ]
  },
  {
   "cell_type": "code",
   "execution_count": 3,
   "metadata": {},
   "outputs": [],
   "source": [
    "def var_extract(j,da):\n",
    "    res = (da.isel(y=lats[j],x=lons[j]).values)\n",
    "    return res"
   ]
  },
  {
   "cell_type": "code",
   "execution_count": 4,
   "metadata": {},
   "outputs": [
    {
     "name": "stdout",
     "output_type": "stream",
     "text": [
      "/data/home/hamiddashti/hamid/nasa_above/greeness/data//raw_data/landcover/mosaic/mosaic_1984.tif\n",
      "/data/home/hamiddashti/hamid/nasa_above/greeness/data//raw_data/landcover/mosaic/mosaic_1985.tif\n",
      "/data/home/hamiddashti/hamid/nasa_above/greeness/data//raw_data/landcover/mosaic/mosaic_1986.tif\n",
      "/data/home/hamiddashti/hamid/nasa_above/greeness/data//raw_data/landcover/mosaic/mosaic_1987.tif\n",
      "/data/home/hamiddashti/hamid/nasa_above/greeness/data//raw_data/landcover/mosaic/mosaic_1988.tif\n",
      "/data/home/hamiddashti/hamid/nasa_above/greeness/data//raw_data/landcover/mosaic/mosaic_1989.tif\n",
      "/data/home/hamiddashti/hamid/nasa_above/greeness/data//raw_data/landcover/mosaic/mosaic_1990.tif\n",
      "/data/home/hamiddashti/hamid/nasa_above/greeness/data//raw_data/landcover/mosaic/mosaic_1991.tif\n",
      "/data/home/hamiddashti/hamid/nasa_above/greeness/data//raw_data/landcover/mosaic/mosaic_1992.tif\n",
      "/data/home/hamiddashti/hamid/nasa_above/greeness/data//raw_data/landcover/mosaic/mosaic_1993.tif\n",
      "/data/home/hamiddashti/hamid/nasa_above/greeness/data//raw_data/landcover/mosaic/mosaic_1994.tif\n",
      "/data/home/hamiddashti/hamid/nasa_above/greeness/data//raw_data/landcover/mosaic/mosaic_1995.tif\n",
      "/data/home/hamiddashti/hamid/nasa_above/greeness/data//raw_data/landcover/mosaic/mosaic_1996.tif\n",
      "/data/home/hamiddashti/hamid/nasa_above/greeness/data//raw_data/landcover/mosaic/mosaic_1997.tif\n",
      "/data/home/hamiddashti/hamid/nasa_above/greeness/data//raw_data/landcover/mosaic/mosaic_1998.tif\n",
      "/data/home/hamiddashti/hamid/nasa_above/greeness/data//raw_data/landcover/mosaic/mosaic_1999.tif\n",
      "/data/home/hamiddashti/hamid/nasa_above/greeness/data//raw_data/landcover/mosaic/mosaic_2000.tif\n",
      "/data/home/hamiddashti/hamid/nasa_above/greeness/data//raw_data/landcover/mosaic/mosaic_2001.tif\n",
      "/data/home/hamiddashti/hamid/nasa_above/greeness/data//raw_data/landcover/mosaic/mosaic_2002.tif\n",
      "/data/home/hamiddashti/hamid/nasa_above/greeness/data//raw_data/landcover/mosaic/mosaic_2003.tif\n",
      "/data/home/hamiddashti/hamid/nasa_above/greeness/data//raw_data/landcover/mosaic/mosaic_2004.tif\n",
      "/data/home/hamiddashti/hamid/nasa_above/greeness/data//raw_data/landcover/mosaic/mosaic_2005.tif\n",
      "/data/home/hamiddashti/hamid/nasa_above/greeness/data//raw_data/landcover/mosaic/mosaic_2006.tif\n",
      "/data/home/hamiddashti/hamid/nasa_above/greeness/data//raw_data/landcover/mosaic/mosaic_2007.tif\n",
      "/data/home/hamiddashti/hamid/nasa_above/greeness/data//raw_data/landcover/mosaic/mosaic_2008.tif\n",
      "/data/home/hamiddashti/hamid/nasa_above/greeness/data//raw_data/landcover/mosaic/mosaic_2009.tif\n",
      "/data/home/hamiddashti/hamid/nasa_above/greeness/data//raw_data/landcover/mosaic/mosaic_2010.tif\n",
      "/data/home/hamiddashti/hamid/nasa_above/greeness/data//raw_data/landcover/mosaic/mosaic_2011.tif\n",
      "/data/home/hamiddashti/hamid/nasa_above/greeness/data//raw_data/landcover/mosaic/mosaic_2012.tif\n",
      "/data/home/hamiddashti/hamid/nasa_above/greeness/data//raw_data/landcover/mosaic/mosaic_2013.tif\n",
      "/data/home/hamiddashti/hamid/nasa_above/greeness/data//raw_data/landcover/mosaic/mosaic_2014.tif\n"
     ]
    }
   ],
   "source": [
    "lc = []\n",
    "da  = xr.open_dataarray(dir+\"/raw_data/landcover/mosaic/mosaic_1984.tif\")\n",
    "years = np.arange(1984,2015)\n",
    "for year in years:\n",
    "    fname = dir+ \"/raw_data/landcover/mosaic/mosaic_\"+str(year)+\".tif\"\n",
    "    da = xr.open_dataarray(fname,engine=\"rasterio\").squeeze()\n",
    "    print(fname)\n",
    "    # for j in tqdm(range(len(lats))):\n",
    "    #     ndvi.append(da.isel(y=lats[j],x=lons[j]).values)\n",
    "    lc.append(Parallel(n_jobs=16)(delayed(var_extract)(j,da)\n",
    "                            for j in range(len(lats))))\n",
    "lc_array = np.array(lc).transpose()\n",
    "with open('../data/lc_array.pickle', 'wb') as handle:\n",
    "    pickle.dump(lc_array, handle, protocol=pickle.HIGHEST_PROTOCOL)"
   ]
  },
  {
   "cell_type": "code",
   "execution_count": 5,
   "metadata": {},
   "outputs": [
    {
     "name": "stdout",
     "output_type": "stream",
     "text": [
      "/data/home/hamiddashti/hamid/nasa_above/greeness/data/processed_data/landsat/mosaic/mosaic_NDVI_1984_TM5.tif\n",
      "/data/home/hamiddashti/hamid/nasa_above/greeness/data/processed_data/landsat/mosaic/mosaic_NDVI_1985_TM5.tif\n",
      "/data/home/hamiddashti/hamid/nasa_above/greeness/data/processed_data/landsat/mosaic/mosaic_NDVI_1986_TM5.tif\n",
      "/data/home/hamiddashti/hamid/nasa_above/greeness/data/processed_data/landsat/mosaic/mosaic_NDVI_1987_TM5.tif\n",
      "/data/home/hamiddashti/hamid/nasa_above/greeness/data/processed_data/landsat/mosaic/mosaic_NDVI_1988_TM5.tif\n",
      "/data/home/hamiddashti/hamid/nasa_above/greeness/data/processed_data/landsat/mosaic/mosaic_NDVI_1989_TM5.tif\n",
      "/data/home/hamiddashti/hamid/nasa_above/greeness/data/processed_data/landsat/mosaic/mosaic_NDVI_1990_TM5.tif\n",
      "/data/home/hamiddashti/hamid/nasa_above/greeness/data/processed_data/landsat/mosaic/mosaic_NDVI_1991_TM5.tif\n",
      "/data/home/hamiddashti/hamid/nasa_above/greeness/data/processed_data/landsat/mosaic/mosaic_NDVI_1992_TM5.tif\n",
      "/data/home/hamiddashti/hamid/nasa_above/greeness/data/processed_data/landsat/mosaic/mosaic_NDVI_1993_TM5.tif\n",
      "/data/home/hamiddashti/hamid/nasa_above/greeness/data/processed_data/landsat/mosaic/mosaic_NDVI_1994_TM5.tif\n",
      "/data/home/hamiddashti/hamid/nasa_above/greeness/data/processed_data/landsat/mosaic/mosaic_NDVI_1995_TM5.tif\n",
      "/data/home/hamiddashti/hamid/nasa_above/greeness/data/processed_data/landsat/mosaic/mosaic_NDVI_1996_TM5.tif\n",
      "/data/home/hamiddashti/hamid/nasa_above/greeness/data/processed_data/landsat/mosaic/mosaic_NDVI_1997_TM5.tif\n",
      "/data/home/hamiddashti/hamid/nasa_above/greeness/data/processed_data/landsat/mosaic/mosaic_NDVI_1998_TM5.tif\n",
      "/data/home/hamiddashti/hamid/nasa_above/greeness/data/processed_data/landsat/mosaic/mosaic_NDVI_1999_TM5.tif\n",
      "/data/home/hamiddashti/hamid/nasa_above/greeness/data/processed_data/landsat/mosaic/mosaic_NDVI_2000_ETM.tif\n",
      "/data/home/hamiddashti/hamid/nasa_above/greeness/data/processed_data/landsat/mosaic/mosaic_NDVI_2001_ETM.tif\n",
      "/data/home/hamiddashti/hamid/nasa_above/greeness/data/processed_data/landsat/mosaic/mosaic_NDVI_2002_ETM.tif\n",
      "/data/home/hamiddashti/hamid/nasa_above/greeness/data/processed_data/landsat/mosaic/mosaic_NDVI_2003_ETM.tif\n",
      "/data/home/hamiddashti/hamid/nasa_above/greeness/data/processed_data/landsat/mosaic/mosaic_NDVI_2004_ETM.tif\n",
      "/data/home/hamiddashti/hamid/nasa_above/greeness/data/processed_data/landsat/mosaic/mosaic_NDVI_2005_ETM.tif\n",
      "/data/home/hamiddashti/hamid/nasa_above/greeness/data/processed_data/landsat/mosaic/mosaic_NDVI_2006_ETM.tif\n",
      "/data/home/hamiddashti/hamid/nasa_above/greeness/data/processed_data/landsat/mosaic/mosaic_NDVI_2007_ETM.tif\n",
      "/data/home/hamiddashti/hamid/nasa_above/greeness/data/processed_data/landsat/mosaic/mosaic_NDVI_2008_ETM.tif\n",
      "/data/home/hamiddashti/hamid/nasa_above/greeness/data/processed_data/landsat/mosaic/mosaic_NDVI_2009_ETM.tif\n",
      "/data/home/hamiddashti/hamid/nasa_above/greeness/data/processed_data/landsat/mosaic/mosaic_NDVI_2010_ETM.tif\n",
      "/data/home/hamiddashti/hamid/nasa_above/greeness/data/processed_data/landsat/mosaic/mosaic_NDVI_2011_ETM.tif\n",
      "/data/home/hamiddashti/hamid/nasa_above/greeness/data/processed_data/landsat/mosaic/mosaic_NDVI_2012_ETM.tif\n",
      "/data/home/hamiddashti/hamid/nasa_above/greeness/data/processed_data/landsat/mosaic/mosaic_NDVI_2013_ETM.tif\n",
      "/data/home/hamiddashti/hamid/nasa_above/greeness/data/processed_data/landsat/mosaic/mosaic_NDVI_2014_ETM.tif\n"
     ]
    }
   ],
   "source": [
    "years = np.arange(1984,2015)\n",
    "ndvi = []\n",
    "for year in years:\n",
    "    if year<=1999:\n",
    "        fname = dir+\"processed_data/landsat/mosaic/mosaic_NDVI_\"+str(year)+\"_TM5.tif\"\n",
    "        da = xr.open_dataarray(fname,engine=\"rasterio\").squeeze()\n",
    "        print(fname)\n",
    "        # for j in tqdm(range(len(lats))):\n",
    "        #     ndvi.append(da.isel(y=lats[j],x=lons[j]).values)\n",
    "        ndvi.append(Parallel(n_jobs=16)(delayed(var_extract)(j,da)\n",
    "                              for j in range(len(lats))))\n",
    "        continue\n",
    "    fname = dir+\"processed_data/landsat/mosaic/mosaic_NDVI_\"+str(year)+\"_ETM.tif\"\n",
    "    da = xr.open_dataarray(fname,engine=\"rasterio\").squeeze()\n",
    "    print(fname)\n",
    "    # for j in tqdm(range(len(lats))):\n",
    "    #     ndvi.append(da.isel(y=lats[j],x=lons[j]).values)\n",
    "    ndvi.append(Parallel(n_jobs=16)(delayed(var_extract)(j,da)\n",
    "                              for j in range(len(lats))))\n",
    "ndvi_array = np.array(ndvi).transpose()\n",
    "with open('../data/ndvi_array.pickle', 'wb') as handle:\n",
    "    pickle.dump(ndvi_array, handle, protocol=pickle.HIGHEST_PROTOCOL)"
   ]
  },
  {
   "cell_type": "code",
   "execution_count": 6,
   "metadata": {},
   "outputs": [
    {
     "name": "stdout",
     "output_type": "stream",
     "text": [
      "/data/home/hamiddashti/hamid/nasa_above/greeness/data/processed_data/landsat/mosaic/mosaic_NIR_1984_TM5.tif\n",
      "/data/home/hamiddashti/hamid/nasa_above/greeness/data/processed_data/landsat/mosaic/mosaic_NIR_1985_TM5.tif\n",
      "/data/home/hamiddashti/hamid/nasa_above/greeness/data/processed_data/landsat/mosaic/mosaic_NIR_1986_TM5.tif\n",
      "/data/home/hamiddashti/hamid/nasa_above/greeness/data/processed_data/landsat/mosaic/mosaic_NIR_1987_TM5.tif\n",
      "/data/home/hamiddashti/hamid/nasa_above/greeness/data/processed_data/landsat/mosaic/mosaic_NIR_1988_TM5.tif\n",
      "/data/home/hamiddashti/hamid/nasa_above/greeness/data/processed_data/landsat/mosaic/mosaic_NIR_1989_TM5.tif\n",
      "/data/home/hamiddashti/hamid/nasa_above/greeness/data/processed_data/landsat/mosaic/mosaic_NIR_1990_TM5.tif\n",
      "/data/home/hamiddashti/hamid/nasa_above/greeness/data/processed_data/landsat/mosaic/mosaic_NIR_1991_TM5.tif\n",
      "/data/home/hamiddashti/hamid/nasa_above/greeness/data/processed_data/landsat/mosaic/mosaic_NIR_1992_TM5.tif\n",
      "/data/home/hamiddashti/hamid/nasa_above/greeness/data/processed_data/landsat/mosaic/mosaic_NIR_1993_TM5.tif\n",
      "/data/home/hamiddashti/hamid/nasa_above/greeness/data/processed_data/landsat/mosaic/mosaic_NIR_1994_TM5.tif\n",
      "/data/home/hamiddashti/hamid/nasa_above/greeness/data/processed_data/landsat/mosaic/mosaic_NIR_1995_TM5.tif\n",
      "/data/home/hamiddashti/hamid/nasa_above/greeness/data/processed_data/landsat/mosaic/mosaic_NIR_1996_TM5.tif\n",
      "/data/home/hamiddashti/hamid/nasa_above/greeness/data/processed_data/landsat/mosaic/mosaic_NIR_1997_TM5.tif\n",
      "/data/home/hamiddashti/hamid/nasa_above/greeness/data/processed_data/landsat/mosaic/mosaic_NIR_1998_TM5.tif\n",
      "/data/home/hamiddashti/hamid/nasa_above/greeness/data/processed_data/landsat/mosaic/mosaic_NIR_1999_TM5.tif\n",
      "/data/home/hamiddashti/hamid/nasa_above/greeness/data/processed_data/landsat/mosaic/mosaic_NIR_2000_ETM.tif\n",
      "/data/home/hamiddashti/hamid/nasa_above/greeness/data/processed_data/landsat/mosaic/mosaic_NIR_2001_ETM.tif\n",
      "/data/home/hamiddashti/hamid/nasa_above/greeness/data/processed_data/landsat/mosaic/mosaic_NIR_2002_ETM.tif\n",
      "/data/home/hamiddashti/hamid/nasa_above/greeness/data/processed_data/landsat/mosaic/mosaic_NIR_2003_ETM.tif\n",
      "/data/home/hamiddashti/hamid/nasa_above/greeness/data/processed_data/landsat/mosaic/mosaic_NIR_2004_ETM.tif\n",
      "/data/home/hamiddashti/hamid/nasa_above/greeness/data/processed_data/landsat/mosaic/mosaic_NIR_2005_ETM.tif\n",
      "/data/home/hamiddashti/hamid/nasa_above/greeness/data/processed_data/landsat/mosaic/mosaic_NIR_2006_ETM.tif\n",
      "/data/home/hamiddashti/hamid/nasa_above/greeness/data/processed_data/landsat/mosaic/mosaic_NIR_2007_ETM.tif\n",
      "/data/home/hamiddashti/hamid/nasa_above/greeness/data/processed_data/landsat/mosaic/mosaic_NIR_2008_ETM.tif\n",
      "/data/home/hamiddashti/hamid/nasa_above/greeness/data/processed_data/landsat/mosaic/mosaic_NIR_2009_ETM.tif\n",
      "/data/home/hamiddashti/hamid/nasa_above/greeness/data/processed_data/landsat/mosaic/mosaic_NIR_2010_ETM.tif\n",
      "/data/home/hamiddashti/hamid/nasa_above/greeness/data/processed_data/landsat/mosaic/mosaic_NIR_2011_ETM.tif\n",
      "/data/home/hamiddashti/hamid/nasa_above/greeness/data/processed_data/landsat/mosaic/mosaic_NIR_2012_ETM.tif\n",
      "/data/home/hamiddashti/hamid/nasa_above/greeness/data/processed_data/landsat/mosaic/mosaic_NIR_2013_ETM.tif\n",
      "/data/home/hamiddashti/hamid/nasa_above/greeness/data/processed_data/landsat/mosaic/mosaic_NIR_2014_ETM.tif\n"
     ]
    }
   ],
   "source": [
    "years = np.arange(1984,2015)\n",
    "nir = []\n",
    "for year in years:\n",
    "    if year<=1999:\n",
    "        fname = dir+\"processed_data/landsat/mosaic/mosaic_NIR_\"+str(year)+\"_TM5.tif\"\n",
    "        da = xr.open_dataarray(fname,engine=\"rasterio\").squeeze()\n",
    "        print(fname)\n",
    "        # for j in tqdm(range(len(lats))):\n",
    "        #     ndvi.append(da.isel(y=lats[j],x=lons[j]).values)\n",
    "        nir.append(Parallel(n_jobs=16)(delayed(var_extract)(j,da)\n",
    "                              for j in range(len(lats))))\n",
    "        continue\n",
    "    fname = dir+\"processed_data/landsat/mosaic/mosaic_NIR_\"+str(year)+\"_ETM.tif\"\n",
    "    da = xr.open_dataarray(fname,engine=\"rasterio\").squeeze()\n",
    "    print(fname)\n",
    "    # for j in tqdm(range(len(lats))):\n",
    "    #     ndvi.append(da.isel(y=lats[j],x=lons[j]).values)\n",
    "    nir.append(Parallel(n_jobs=16)(delayed(var_extract)(j,da)\n",
    "                              for j in range(len(lats))))\n",
    "nir_array = np.array(nir).transpose()\n",
    "with open('../data/nir_array.pickle', 'wb') as handle:\n",
    "    pickle.dump(nir_array, handle, protocol=pickle.HIGHEST_PROTOCOL)"
   ]
  },
  {
   "cell_type": "code",
   "execution_count": null,
   "metadata": {},
   "outputs": [],
   "source": [
    "#Sequential code\n",
    "years = np.arange(1984,1985)\n",
    "fname=[]\n",
    "ndvi = []\n",
    "for year in years:\n",
    "    if year<=1999:\n",
    "        fname = dir+\"mosaic_NDVI_\"+str(year)+\"_TM5.tif\"\n",
    "        da = xr.open_dataarray(fname,engine=\"rasterio\").squeeze()\n",
    "        print(fname)\n",
    "        for j in tqdm(range(len(lats))):\n",
    "            ndvi.append(da.isel(y=lats[j],x=lons[j]).values)\n",
    "        continue\n",
    "    fname = dir+\"mosaic_NDVI_\"+str(year)+\"_ETM.tif\"\n",
    "    da = xr.open_dataarray(fname,engine=\"rasterio\").squeeze()\n",
    "    print(fname)\n",
    "    for j in tqdm(range(len(lats))):\n",
    "        ndvi.append(da.isel(y=lats[j],x=lons[j]).values)\n",
    "ndvi_array = np.array(ndvi).reshape(n,len(years),order=\"F\")\n",
    "with open('../../working/ndvi.pickle', 'wb') as handle:\n",
    "    pickle.dump(ndvi_array, handle, protocol=pickle.HIGHEST_PROTOCOL)"
   ]
  }
 ],
 "metadata": {
  "kernelspec": {
   "display_name": "geo",
   "language": "python",
   "name": "python3"
  },
  "language_info": {
   "codemirror_mode": {
    "name": "ipython",
    "version": 3
   },
   "file_extension": ".py",
   "mimetype": "text/x-python",
   "name": "python",
   "nbconvert_exporter": "python",
   "pygments_lexer": "ipython3",
   "version": "3.9.16"
  },
  "orig_nbformat": 4
 },
 "nbformat": 4,
 "nbformat_minor": 2
}
