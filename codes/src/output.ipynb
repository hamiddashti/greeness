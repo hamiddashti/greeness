{
 "cells": [
  {
   "cell_type": "markdown",
   "id": "bf803f7a",
   "metadata": {
    "papermill": {
     "duration": 0.005461,
     "end_time": "2023-03-01T16:59:28.687882",
     "exception": false,
     "start_time": "2023-03-01T16:59:28.682421",
     "status": "completed"
    },
    "tags": []
   },
   "source": [
    "### Resampling landsat\n",
    "Resample the landsat 30 * 30 m data to the NOAA LAI resolution (0.05 * 0.05). \n",
    "We use the reproject_rematch from rioxarray which it performs the reprojection and then take the area based average. \n"
   ]
  },
  {
   "cell_type": "code",
   "execution_count": 1,
   "id": "6eef9ae9",
   "metadata": {
    "execution": {
     "iopub.execute_input": "2023-03-01T16:59:28.696099Z",
     "iopub.status.busy": "2023-03-01T16:59:28.695366Z",
     "iopub.status.idle": "2023-03-01T16:59:29.997792Z",
     "shell.execute_reply": "2023-03-01T16:59:29.996688Z"
    },
    "papermill": {
     "duration": 1.309768,
     "end_time": "2023-03-01T16:59:30.001285",
     "exception": false,
     "start_time": "2023-03-01T16:59:28.691517",
     "status": "completed"
    },
    "tags": []
   },
   "outputs": [],
   "source": [
    "# prepare the libraries and data paths\n",
    "import xarray as xr\n",
    "import numpy as np\n",
    "import rioxarray\n",
    "from rasterio.enums import Resampling\n",
    "import glob\n",
    "import pandas as pd\n",
    "import time\n",
    "\n",
    "dir = \"/data/home/hamiddashti/hamid/nasa_above/greeness/\"\n",
    "\n",
    "in_dir = dir + (\"data/processed_data/landsat/mosaic/\")\n",
    "out_dir = dir + \"data/processed_data/landsat/resampled/\""
   ]
  },
  {
   "cell_type": "markdown",
   "id": "05ef0202",
   "metadata": {
    "papermill": {
     "duration": 0.003266,
     "end_time": "2023-03-01T16:59:30.008488",
     "exception": false,
     "start_time": "2023-03-01T16:59:30.005222",
     "status": "completed"
    },
    "tags": []
   },
   "source": [
    "target image is only a sample NOAA LAI"
   ]
  },
  {
   "cell_type": "code",
   "execution_count": 2,
   "id": "8f01a257",
   "metadata": {
    "execution": {
     "iopub.execute_input": "2023-03-01T16:59:30.016366Z",
     "iopub.status.busy": "2023-03-01T16:59:30.016128Z",
     "iopub.status.idle": "2023-03-01T16:59:30.351509Z",
     "shell.execute_reply": "2023-03-01T16:59:30.350323Z"
    },
    "papermill": {
     "duration": 0.342978,
     "end_time": "2023-03-01T16:59:30.354820",
     "exception": false,
     "start_time": "2023-03-01T16:59:30.011842",
     "status": "completed"
    },
    "tags": []
   },
   "outputs": [],
   "source": [
    "target_image = xr.open_dataset(\n",
    "    dir + \"data/processed_data/noaa_nc/lai_fapar/resampled/lai_monthly_resample_mean.nc\"\n",
    ")[\"LAI\"].isel(time=5)\n",
    "target_image = target_image.rio.write_crs(\"EPSG:4326\").rename({\"latitude\":\"y\",\"longitude\":\"x\"})"
   ]
  },
  {
   "cell_type": "markdown",
   "id": "d2a76c3d",
   "metadata": {
    "papermill": {
     "duration": 0.003555,
     "end_time": "2023-03-01T16:59:30.362293",
     "exception": false,
     "start_time": "2023-03-01T16:59:30.358738",
     "status": "completed"
    },
    "tags": []
   },
   "source": [
    "If out of memory use Dask"
   ]
  },
  {
   "cell_type": "code",
   "execution_count": 3,
   "id": "3a56b4ba",
   "metadata": {
    "execution": {
     "iopub.execute_input": "2023-03-01T16:59:30.369126Z",
     "iopub.status.busy": "2023-03-01T16:59:30.368890Z"
    },
    "papermill": {
     "duration": 130.093088,
     "end_time": "2023-03-01T17:01:40.458867",
     "exception": false,
     "start_time": "2023-03-01T16:59:30.365779",
     "status": "completed"
    },
    "tags": []
   },
   "outputs": [
    {
     "name": "stdout",
     "output_type": "stream",
     "text": [
      "TM5 year:1984\n"
     ]
    }
   ],
   "source": [
    "# Resampling TM5 data\n",
    "for i in np.arange(1984, 2012):\n",
    "    print(\"TM5 year:\" + str(i))\n",
    "    time.sleep(1)\n",
    "    source_image = xr.open_dataarray(in_dir + \"mosaic_NDVI_\" + str(i) + \"_TM5.tif\",engine=\"rasterio\")\n",
    "    resampled = source_image.rio.reproject_match(\n",
    "        target_image, resampling=Resampling.average\n",
    "    )\n",
    "    resampled.squeeze().to_netcdf(out_dir + \"NDVI_resampled_\" + str(i) + \"_TM5.nc\")\n",
    "    del resampled"
   ]
  },
  {
   "cell_type": "code",
   "execution_count": null,
   "id": "0bc29fd7",
   "metadata": {
    "papermill": {
     "duration": null,
     "end_time": null,
     "exception": null,
     "start_time": null,
     "status": "completed"
    },
    "tags": []
   },
   "outputs": [],
   "source": [
    "for i in np.arange(1999, 2014):\n",
    "    print(\"ETM year:\" + str(i))\n",
    "    source_image = xr.open_dataarray(in_dir + \"mosaic_NDVI_\" + str(i) + \"_ETM.tif\",engine=\"rasterio\")\n",
    "    resampled = source_image.rio.reproject_match(\n",
    "        target_image, resampling=Resampling.average\n",
    "    )\n",
    "    resampled.squeeze().to_netcdf(out_dir + \"NDVI_resampled_\" + str(i) + \"_ETM.nc\")\n",
    "    del resampled"
   ]
  },
  {
   "cell_type": "code",
   "execution_count": null,
   "id": "57dfc99c",
   "metadata": {
    "papermill": {
     "duration": null,
     "end_time": null,
     "exception": null,
     "start_time": null,
     "status": "completed"
    },
    "tags": []
   },
   "outputs": [],
   "source": [
    "# ds = (\n",
    "#     xr.open_mfdataset(out_dir + \"NDVI_*\", concat_dim=\"time\", combine=\"nested\")\n",
    "#     .drop(\"spatial_ref\")\n",
    "#     .to_array()\n",
    "#     .squeeze()\n",
    "#     .rename({\"y\": \"latitude\", \"x\": \"longitude\"})\n",
    "# )\n",
    "# times= pd.date_range(\"1984\",\"2015\",freq = \"A\")\n",
    "# ds[\"time\"] = times\n",
    "# ds"
   ]
  }
 ],
 "metadata": {
  "kernelspec": {
   "display_name": "Python 3.9.13 ('geospatial')",
   "language": "python",
   "name": "python3"
  },
  "language_info": {
   "codemirror_mode": {
    "name": "ipython",
    "version": 3
   },
   "file_extension": ".py",
   "mimetype": "text/x-python",
   "name": "python",
   "nbconvert_exporter": "python",
   "pygments_lexer": "ipython3",
   "version": "3.9.13"
  },
  "papermill": {
   "default_parameters": {},
   "duration": 134.807668,
   "end_time": "2023-03-01T17:01:41.878611",
   "environment_variables": {},
   "exception": null,
   "input_path": "regridding_landsat.ipynb",
   "output_path": "output.ipynb",
   "parameters": {},
   "start_time": "2023-03-01T16:59:27.070943",
   "version": "2.3.4"
  },
  "vscode": {
   "interpreter": {
    "hash": "58d4357dc51a73699c5449b037ed9e8ebf9460004e4993ef846dc1036514c650"
   }
  }
 },
 "nbformat": 4,
 "nbformat_minor": 5
}