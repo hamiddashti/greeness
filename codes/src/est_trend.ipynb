{
 "cells": [
  {
   "cell_type": "code",
   "execution_count": 6,
   "metadata": {},
   "outputs": [],
   "source": [
    "import xarray as xr \n",
    "import matplotlib.pylab as plt\n",
    "import my_funs\n",
    "\n",
    "dir = \"/data/home/hamiddashti/hamid/nasa_above/greeness/\"\n",
    "out_dir = \"/data/home/hamiddashti/hamid/nasa_above/greeness/data/processed_data/noaa_nc/\"\n",
    "\n",
    "\n",
    "var_ts = xr.open_dataarray(\n",
    "    dir + \"data/processed_data/noaa_nc/lai_fapar/resampled/lai_growing.nc\"\n",
    ")\n",
    "\n",
    "var_ts= var_ts.rename({\"latitude\":\"lat\",\"longitude\":\"lon\"})"
   ]
  },
  {
   "cell_type": "markdown",
   "metadata": {},
   "source": [
    "Estimate trend using Theilsen mehtod and its significant using Mann-Kandall test"
   ]
  },
  {
   "cell_type": "code",
   "execution_count": 8,
   "metadata": {},
   "outputs": [],
   "source": [
    "ds = my_funs.est_trend(var_ts,\"theilsen\")"
   ]
  },
  {
   "cell_type": "code",
   "execution_count": 12,
   "metadata": {},
   "outputs": [],
   "source": [
    "ds.to_netcdf(out_dir+\"lai_fapar/trend/lai_growing_trend.nc\")"
   ]
  }
 ],
 "metadata": {
  "kernelspec": {
   "display_name": "Python 3.9.13 ('geospatial')",
   "language": "python",
   "name": "python3"
  },
  "language_info": {
   "codemirror_mode": {
    "name": "ipython",
    "version": 3
   },
   "file_extension": ".py",
   "mimetype": "text/x-python",
   "name": "python",
   "nbconvert_exporter": "python",
   "pygments_lexer": "ipython3",
   "version": "3.9.13"
  },
  "orig_nbformat": 4,
  "vscode": {
   "interpreter": {
    "hash": "58d4357dc51a73699c5449b037ed9e8ebf9460004e4993ef846dc1036514c650"
   }
  }
 },
 "nbformat": 4,
 "nbformat_minor": 2
}
