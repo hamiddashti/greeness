{
 "cells": [
  {
   "cell_type": "code",
   "execution_count": 1,
   "metadata": {},
   "outputs": [],
   "source": [
    "import xarray as xr \n",
    "import matplotlib.pylab as plt\n",
    "import my_funs\n",
    "\n",
    "dir = \"/data/home/hamiddashti/hamid/nasa_above/greeness/\"\n",
    "out_dir = \"/data/home/hamiddashti/hamid/nasa_above/greeness/data/processed_data/noaa_nc/\"\n",
    "\n",
    "\n",
    "var_ts = xr.open_dataarray(\n",
    "    dir + \"data/processed_data/noaa_nc/lai_fapar/resampled/lai_growing.nc\"\n",
    ")\n",
    "\n",
    "var_ts= var_ts.rename({\"latitude\":\"lat\",\"longitude\":\"lon\"})\n",
    "var_ts = var_ts[:,100:150,400:450]\n",
    "# var_ts = var_ts[:,0:10,0:10]\n",
    "\n"
   ]
  },
  {
   "cell_type": "code",
   "execution_count": 55,
   "metadata": {},
   "outputs": [],
   "source": [
    "import numpy as np\n",
    "import pandas as pd\n",
    "from sklearn.linear_model import LinearRegression, TheilSenRegressor\n",
    "import pymannkendall as mk\n",
    "\n",
    "\n",
    "def _theilsen_mannkendall(y):\n",
    "    x = np.arange(len(y)).reshape(-1, 1)\n",
    "    if np.isnan(y).all():\n",
    "        return np.nan, np.nan, np.nan\n",
    "\n",
    "    I = np.where(np.isnan(y))\n",
    "    if len(I[0]) > 1:\n",
    "        return np.nan, np.nan, np.nan\n",
    "\n",
    "    yy = np.delete(y, I)\n",
    "    x = np.arange(len(yy)).reshape(-1, 1)\n",
    "    result = mk.original_test(yy)\n",
    "    # reg = TheilSenRegressor(random_state=0).fit(x, yy)\n",
    "    # return result.slope, result.p, result.h\n",
    "    # return result.slope\n",
    "    return float(result.slope), float(result.p), float(result.h)\n",
    "\n",
    "def est_trend(xrd, method, **kwargs):\n",
    "    if method == \"theilsen\":\n",
    "        cof, p, h = xr.apply_ufunc(\n",
    "            _theilsen_mannkendall,\n",
    "            xrd,\n",
    "            input_core_dims=[[\"time\"]],\n",
    "            output_core_dims=[[], [], []],\n",
    "            # dask=\"parallelized\",\n",
    "            # output_dtypes=float,\n",
    "            vectorize=True,\n",
    "        )\n",
    "        ds_out = cof.to_dataset()\n",
    "        ds_out[\"p_value\"] = p\n",
    "        ds_out[\"h\"] = h\n",
    "        return ds_out\n"
   ]
  },
  {
   "cell_type": "code",
   "execution_count": 2,
   "metadata": {},
   "outputs": [],
   "source": [
    "ds = my_funs.est_trend(var_ts,\"theilsen\")"
   ]
  }
 ],
 "metadata": {
  "kernelspec": {
   "display_name": "Python 3.9.13 ('geospatial')",
   "language": "python",
   "name": "python3"
  },
  "language_info": {
   "codemirror_mode": {
    "name": "ipython",
    "version": 3
   },
   "file_extension": ".py",
   "mimetype": "text/x-python",
   "name": "python",
   "nbconvert_exporter": "python",
   "pygments_lexer": "ipython3",
   "version": "3.9.13"
  },
  "orig_nbformat": 4,
  "vscode": {
   "interpreter": {
    "hash": "58d4357dc51a73699c5449b037ed9e8ebf9460004e4993ef846dc1036514c650"
   }
  }
 },
 "nbformat": 4,
 "nbformat_minor": 2
}
