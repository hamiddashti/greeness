{
 "cells": [
  {
   "cell_type": "code",
   "execution_count": 1,
   "metadata": {},
   "outputs": [
    {
     "name": "stdout",
     "output_type": "stream",
     "text": [
      "Initialization done!\n"
     ]
    },
    {
     "name": "stderr",
     "output_type": "stream",
     "text": [
      "/data/home/hamiddashti/hamid/nasa_above/greeness/codes/src/my_funs.py:9: UserWarning: Shapely 2.0 is installed, but because PyGEOS is also installed, GeoPandas will still use PyGEOS by default for now. To force to use and test Shapely 2.0, you have to set the environment variable USE_PYGEOS=0. You can do this before starting the Python process, or in your code before importing geopandas:\n",
      "\n",
      "import os\n",
      "os.environ['USE_PYGEOS'] = '0'\n",
      "import geopandas\n",
      "\n",
      "In a future release, GeoPandas will switch to using Shapely by default. If you are using PyGEOS directly (calling PyGEOS functions on geometries from GeoPandas), this will then stop working and you are encouraged to migrate from PyGEOS to Shapely 2.0 (https://shapely.readthedocs.io/en/latest/migration_pygeos.html).\n",
      "  import geopandas as gpd\n",
      "2023-08-02 20:34:30.801428: I tensorflow/core/platform/cpu_feature_guard.cc:182] This TensorFlow binary is optimized to use available CPU instructions in performance-critical operations.\n",
      "To enable the following instructions: AVX2 FMA, in other operations, rebuild TensorFlow with the appropriate compiler flags.\n",
      "2023-08-02 20:34:39.205102: W tensorflow/compiler/tf2tensorrt/utils/py_utils.cc:38] TF-TRT Warning: Could not find TensorRT\n"
     ]
    }
   ],
   "source": [
    "import xarray as xr\n",
    "import matplotlib.pylab as plt\n",
    "import Rbeast as rb\n",
    "import numpy as np\n",
    "import cartopy.crs as ccrss\n",
    "import cartopy.feature as cf\n",
    "import matplotlib as mpl\n",
    "import pandas as pd\n",
    "import my_funs\n",
    "from sklearn.experimental import enable_iterative_imputer\n",
    "from sklearn.neighbors import BallTree, DistanceMetric\n",
    "from causalimpact import CausalImpact\n",
    "import pickle\n",
    "from sklearn.impute import IterativeImputer\n",
    "from dask.diagnostics import ProgressBar\n",
    "from tqdm import tqdm\n",
    "from scipy import stats\n",
    "\n",
    "mpl.rcParams[\"mathtext.default\"] = \"regular\"\n",
    "import matplotlib.gridspec as gridspec\n",
    "from mpl_toolkits.axes_grid1 import make_axes_locatable\n",
    "from my_funs import outliers_index\n",
    "\n",
    "dir = \"/data/home/hamiddashti/hamid/nasa_above/greeness/\"\n",
    "out_dir = dir + \"/codes/outputs/\"\n",
    "Fig_dir = dir + \"/codes/manuscript/figures/\""
   ]
  },
  {
   "cell_type": "code",
   "execution_count": 2,
   "metadata": {},
   "outputs": [],
   "source": [
    "percent = xr.open_dataset(\n",
    "    \"../data/percent_cover.nc\")[\"__xarray_dataarray_variable__\"]\n",
    "percent = percent.sel(time=slice(\n",
    "    1984, 2013))  # select to 2013 consistent with LAI and NDVI\n",
    "# Maximum annual LAI\n",
    "lai = xr.open_dataarray(\"../data/lai_annual_resample_max.nc\").rename({\n",
    "    \"latitude\":\n",
    "    \"lat\",\n",
    "    \"longitude\":\n",
    "    \"lon\"\n",
    "})\n",
    "lai_long = xr.open_dataarray(\"../data/lai_all.nc\")\n",
    "\n",
    "percent[\"lat\"] = lai[\"lat\"]\n",
    "percent[\"lon\"] = lai[\"lon\"]\n",
    "\n",
    "temp = xr.open_dataarray(\"../data/t2m_annual_resample_mean.nc\")\n",
    "temp = temp.sel(time=slice(\"1984\", \"2013\"))\n",
    "\n",
    "d2m = xr.open_dataarray(\"../data/d2m_annual_resample_mean.nc\")\n",
    "d2m = d2m.sel(time=slice(\"1984\", \"2013\"))\n",
    "\n",
    "ssr = xr.open_dataarray(\"../data/ssr_annual_resample_mean.nc\")\n",
    "ssr = ssr.sel(time=slice(\"1984\", \"2013\"))\n",
    "\n",
    "sw = xr.open_dataarray(\"../data/swvl1_annual_resample_total.nc\")\n",
    "sw = sw.sel(time=slice(\"1984\", \"2013\"))\n",
    "\n",
    "tp = xr.open_dataarray(\"../data/tp_annual_resample_total.nc\")\n",
    "tp = tp.sel(time=slice(\"1984\", \"2013\")) * 1000  # convert [m] to [mm]\n",
    "\n",
    "vpd = xr.open_dataarray(\"../data/vpd_annual_resample_mean.nc\")\n",
    "vpd = vpd.sel(time=slice(\"1984\", \"2013\")) * 1000  # convert [kPa] to [Pa]\n",
    "\n",
    "co2 = xr.open_dataarray(\"../data/co2_annual_resample_mean.nc\")\n",
    "\n",
    "# Only focus on vegetative classes\n",
    "lc = percent.isel(band=[0, 2, 3, 4, 5])\n",
    "t_short = pd.date_range(start=\"1984\", end=\"2014\", freq=\"A-Dec\").year\n",
    "t_long = pd.date_range(start=\"1984\", end=\"2022\", freq=\"A-Dec\").year\n",
    "\n",
    "t = pd.date_range(start=\"1984\", end=\"2014\", freq=\"A-Dec\").year\n",
    "arr = xr.open_dataarray(\"../data/arr_id.nc\")\n",
    "# Just a simple xarray structure to replace data with other arrays calculated later (for the ease of plotting)\n",
    "repo = lai.isel(time=0)"
   ]
  },
  {
   "attachments": {},
   "cell_type": "markdown",
   "metadata": {},
   "source": [
    "### Apply Rbeast on landcover classes\n"
   ]
  },
  {
   "cell_type": "code",
   "execution_count": null,
   "metadata": {},
   "outputs": [],
   "source": [
    "# Only EF, shrub and DF. Changes in other classes are not that substantial\n",
    "ef_region_mean = percent.isel(band=0).mean([\"lat\", \"lon\"])  # Evergreen forest\n",
    "sh_region_mean = percent.isel(band=2).mean([\"lat\", \"lon\"])  # shrub\n",
    "hb_region_mean = percent.isel(band=3).mean([\"lat\", \"lon\"])  # herb\n",
    "sparse_region_mean = percent.isel(band=4).mean([\"lat\", \"lon\"])  # herb\n",
    "barren_region_mean = percent.isel(band=5).mean([\"lat\", \"lon\"])  # herb\n",
    "\n",
    "ef_region_mean_rbeast = rb.beast(ef_region_mean.values,\n",
    "                                 season=\"none\",\n",
    "                                 start=1984,\n",
    "                                 tseg_minlength=3)\n",
    "sh_region_mean_rbeast = rb.beast(sh_region_mean.values,\n",
    "                                 season=\"none\",\n",
    "                                 start=1984,\n",
    "                                 tseg_minlength=3)\n",
    "hb_region_mean_rbeast = rb.beast(hb_region_mean.values,\n",
    "                                 season=\"none\",\n",
    "                                 start=1984,\n",
    "                                 tseg_minlength=3)\n",
    "sparse_region_mean_rbeast = rb.beast(sparse_region_mean.values,\n",
    "                                     season=\"none\",\n",
    "                                     start=1984,\n",
    "                                     tseg_minlength=3)\n",
    "barren_region_mean_rbeast = rb.beast(barren_region_mean.values,\n",
    "                                     season=\"none\",\n",
    "                                     start=1984,\n",
    "                                     tseg_minlength=3)\n"
   ]
  },
  {
   "attachments": {},
   "cell_type": "markdown",
   "metadata": {},
   "source": [
    "### Apply Rbeast on regional mean of LAI\n"
   ]
  },
  {
   "cell_type": "code",
   "execution_count": null,
   "metadata": {},
   "outputs": [],
   "source": [
    "lai_region_mean = lai.mean([\"lat\", \"lon\"])\n",
    "lai_region_mean_rbeast = rb.beast(lai_region_mean.values,\n",
    "                                  season=\"none\",\n",
    "                                  start=1984,\n",
    "                                  tseg_minlength=3)\n",
    "rb.plot(lai_region_mean_rbeast)"
   ]
  },
  {
   "cell_type": "code",
   "execution_count": null,
   "metadata": {},
   "outputs": [],
   "source": [
    "temp_region_mean = temp.mean([\"lat\", \"lon\"])\n",
    "temp_region_mean_rbeast = rb.beast(temp_region_mean.values,\n",
    "                                   season=\"none\",\n",
    "                                   start=1984,\n",
    "                                   tseg_minlength=3)\n",
    "rb.plot(temp_region_mean_rbeast)\n",
    "print([\n",
    "    temp_region_mean_rbeast.trend.cp[0], temp_region_mean_rbeast.trend.cpPr[0]\n",
    "])\n"
   ]
  },
  {
   "cell_type": "code",
   "execution_count": null,
   "metadata": {},
   "outputs": [],
   "source": [
    "d2m_region_mean = d2m.mean([\"lat\", \"lon\"])\n",
    "d2m_region_mean_rbeast = rb.beast(d2m_region_mean.values,\n",
    "                                  season=\"none\",\n",
    "                                  start=1984,\n",
    "                                  tseg_minlength=3)\n",
    "rb.plot(d2m_region_mean_rbeast)\n",
    "print(\n",
    "    [d2m_region_mean_rbeast.trend.cp[0], d2m_region_mean_rbeast.trend.cpPr[0]])\n"
   ]
  },
  {
   "cell_type": "code",
   "execution_count": null,
   "metadata": {},
   "outputs": [],
   "source": [
    "ssr_region_mean = ssr.mean([\"lat\", \"lon\"])\n",
    "ssr_region_mean_rbeast = rb.beast(ssr_region_mean.values,\n",
    "                                  season=\"none\",\n",
    "                                  start=1984,\n",
    "                                  tseg_minlength=3)\n",
    "rb.plot(ssr_region_mean_rbeast)\n",
    "print(\n",
    "    [ssr_region_mean_rbeast.trend.cp[0], ssr_region_mean_rbeast.trend.cpPr[0]])\n"
   ]
  },
  {
   "cell_type": "code",
   "execution_count": null,
   "metadata": {},
   "outputs": [],
   "source": [
    "sw_region_mean = sw.mean([\"lat\", \"lon\"])\n",
    "sw_region_mean_rbeast = rb.beast(sw_region_mean.values,\n",
    "                                 season=\"none\",\n",
    "                                 start=1984,\n",
    "                                 tseg_minlength=3)\n",
    "rb.plot(sw_region_mean_rbeast)\n",
    "print([sw_region_mean_rbeast.trend.cp[0], sw_region_mean_rbeast.trend.cpPr[0]])\n"
   ]
  },
  {
   "cell_type": "code",
   "execution_count": null,
   "metadata": {},
   "outputs": [],
   "source": [
    "tp_region_mean = tp.mean([\"lat\", \"lon\"])\n",
    "tp_region_mean_rbeast = rb.beast(tp_region_mean.values,\n",
    "                                 season=\"none\",\n",
    "                                 start=1984,\n",
    "                                 tseg_minlength=3)\n",
    "rb.plot(tp_region_mean_rbeast)\n",
    "print([tp_region_mean_rbeast.trend.cp[0], tp_region_mean_rbeast.trend.cpPr[0]])\n"
   ]
  },
  {
   "attachments": {},
   "cell_type": "markdown",
   "metadata": {},
   "source": [
    "### Apply Rbeast on all pixels of LAI and environemntal variables\n"
   ]
  },
  {
   "cell_type": "code",
   "execution_count": null,
   "metadata": {},
   "outputs": [],
   "source": [
    "metadata = rb.args(whichDimIsTime=1, season=\"none\", startTime=1984)\n",
    "prior = rb.args(trendMinSepDist=3, trendMaxKnotNum=4)\n",
    "mcmc = rb.args(seed=1)\n",
    "extra = rb.args(  # a set of options to specify the outputs or computational configurations\n",
    "    dumpInputData=\n",
    "    True,  # make a copy of the aggregated input data in the beast ouput\n",
    "    numThreadsPerCPU=2,  # Paralell  computing: use 2 threads per cpu core\n",
    "    numParThreads=\n",
    "    0,  # `0` means using all CPU cores: total num of ParThreads = numThreadsPerCPU * core Num\n",
    "    printOptions=False,\n",
    "    computeTrendSlope=True)\n",
    "season = \"none\"\n",
    "lai_rbeast = rb.beast123(lai.values, metadata, prior, mcmc, extra)"
   ]
  },
  {
   "cell_type": "code",
   "execution_count": null,
   "metadata": {},
   "outputs": [],
   "source": [
    "metadata = rb.args(whichDimIsTime=1, season=\"none\", startTime=1984)\n",
    "prior = rb.args(trendMinSepDist=3, trendMaxKnotNum=4)\n",
    "mcmc = rb.args(seed=1)\n",
    "extra = rb.args(  # a set of options to specify the outputs or computational configurations\n",
    "    dumpInputData=\n",
    "    True,  # make a copy of the aggregated input data in the beast ouput\n",
    "    numThreadsPerCPU=2,  # Paralell  computing: use 2 threads per cpu core\n",
    "    numParThreads=\n",
    "    0,  # `0` means using all CPU cores: total num of ParThreads = numThreadsPerCPU * core Num\n",
    "    printOptions=False,\n",
    "    computeTrendSlope=True)\n",
    "season = \"none\"\n",
    "temp_rbeast = rb.beast123(temp.values, metadata, prior, mcmc, extra)"
   ]
  },
  {
   "cell_type": "code",
   "execution_count": null,
   "metadata": {},
   "outputs": [],
   "source": [
    "metadata = rb.args(whichDimIsTime=1, season=\"none\", startTime=1984)\n",
    "prior = rb.args(trendMinSepDist=3, trendMaxKnotNum=4)\n",
    "mcmc = rb.args(seed=1)\n",
    "extra = rb.args(  # a set of options to specify the outputs or computational configurations\n",
    "    dumpInputData=\n",
    "    True,  # make a copy of the aggregated input data in the beast ouput\n",
    "    numThreadsPerCPU=2,  # Paralell  computing: use 2 threads per cpu core\n",
    "    numParThreads=\n",
    "    0,  # `0` means using all CPU cores: total num of ParThreads = numThreadsPerCPU * core Num\n",
    "    printOptions=False,\n",
    "    computeTrendSlope=True)\n",
    "season = \"none\"\n",
    "d2m_rbeast = rb.beast123(d2m.values, metadata, prior, mcmc, extra)"
   ]
  },
  {
   "cell_type": "code",
   "execution_count": null,
   "metadata": {},
   "outputs": [],
   "source": [
    "metadata = rb.args(whichDimIsTime=1, season=\"none\", startTime=1984)\n",
    "prior = rb.args(trendMinSepDist=3, trendMaxKnotNum=4)\n",
    "mcmc = rb.args(seed=1)\n",
    "extra = rb.args(  # a set of options to specify the outputs or computational configurations\n",
    "    dumpInputData=\n",
    "    True,  # make a copy of the aggregated input data in the beast ouput\n",
    "    numThreadsPerCPU=2,  # Paralell  computing: use 2 threads per cpu core\n",
    "    numParThreads=\n",
    "    0,  # `0` means using all CPU cores: total num of ParThreads = numThreadsPerCPU * core Num\n",
    "    printOptions=False,\n",
    "    computeTrendSlope=True)\n",
    "season = \"none\"\n",
    "ssr_rbeast = rb.beast123(ssr.values, metadata, prior, mcmc, extra)"
   ]
  },
  {
   "cell_type": "code",
   "execution_count": null,
   "metadata": {},
   "outputs": [],
   "source": [
    "metadata = rb.args(whichDimIsTime=1, season=\"none\", startTime=1984)\n",
    "prior = rb.args(trendMinSepDist=3, trendMaxKnotNum=4)\n",
    "mcmc = rb.args(seed=1)\n",
    "extra = rb.args(  # a set of options to specify the outputs or computational configurations\n",
    "    dumpInputData=\n",
    "    True,  # make a copy of the aggregated input data in the beast ouput\n",
    "    numThreadsPerCPU=2,  # Paralell  computing: use 2 threads per cpu core\n",
    "    numParThreads=\n",
    "    0,  # `0` means using all CPU cores: total num of ParThreads = numThreadsPerCPU * core Num\n",
    "    printOptions=False,\n",
    "    computeTrendSlope=True)\n",
    "season = \"none\"\n",
    "sw_rbeast = rb.beast123(sw.values, metadata, prior, mcmc, extra)"
   ]
  },
  {
   "cell_type": "code",
   "execution_count": null,
   "metadata": {},
   "outputs": [],
   "source": [
    "metadata = rb.args(whichDimIsTime=1, season=\"none\", startTime=1984)\n",
    "prior = rb.args(trendMinSepDist=3, trendMaxKnotNum=4)\n",
    "mcmc = rb.args(seed=1)\n",
    "extra = rb.args(  # a set of options to specify the outputs or computational configurations\n",
    "    dumpInputData=\n",
    "    True,  # make a copy of the aggregated input data in the beast ouput\n",
    "    numThreadsPerCPU=2,  # Paralell  computing: use 2 threads per cpu core\n",
    "    numParThreads=\n",
    "    0,  # `0` means using all CPU cores: total num of ParThreads = numThreadsPerCPU * core Num\n",
    "    printOptions=False,\n",
    "    computeTrendSlope=True)\n",
    "season = \"none\"\n",
    "tp_rbeast = rb.beast123(tp.values, metadata, prior, mcmc, extra)"
   ]
  },
  {
   "attachments": {},
   "cell_type": "markdown",
   "metadata": {},
   "source": [
    "### Find changed pixels:\n",
    "\n",
    "Pixels when at least once in a time period there was a change in LC more than 2%\n"
   ]
  },
  {
   "cell_type": "code",
   "execution_count": null,
   "metadata": {},
   "outputs": [],
   "source": [
    "# stable pixels where classes has not changed more than 2%\n",
    "# lc_diff = lc.diff(\"time\")\n",
    "# changed = (abs(lc_diff) >= 0.1).any(dim=[\"time\", \"band\"])\n",
    "# not_changed = (abs(lc_diff) < 0.1).all(dim=[\"time\", \"band\"])\n",
    "# lc_changed = lc.where(changed==True)"
   ]
  },
  {
   "cell_type": "code",
   "execution_count": 3,
   "metadata": {},
   "outputs": [
    {
     "data": {
      "text/plain": [
       "<AxesSubplot:title={'center':'LC Not changed'}, xlabel='time'>"
      ]
     },
     "execution_count": 3,
     "metadata": {},
     "output_type": "execute_result"
    },
    {
     "data": {
      "image/png": "[encoded data removed]",
      "text/plain": [
       "<Figure size 640x480 with 1 Axes>"
      ]
     },
     "metadata": {},
     "output_type": "display_data"
    },
    {
     "data": {
      "image/png": "[encoded data removed]",
      "text/plain": [
       "<Figure size 640x480 with 1 Axes>"
      ]
     },
     "metadata": {},
     "output_type": "display_data"
    }
   ],
   "source": [
    "lc_diff = lc.diff(\"time\")\n",
    "net_change = lc_diff.where(lc_diff > 0.0).sum(\"band\")\n",
    "changed = (net_change >= 0.1).any(dim=\"time\")\n",
    "not_changed = (net_change < 0.1).all(dim=\"time\")\n",
    "lc_changed = lc.where(changed == True)\n",
    "lc_not_changed = lc.where(not_changed == True)\n",
    "lc_changed.mean([\"lat\", \"lon\"]).to_pandas().plot(kind=\"bar\",\n",
    "                                                 stacked=True,\n",
    "                                                 title=\"LC changed\")\n",
    "lc_not_changed.mean([\"lat\", \"lon\"]).to_pandas().plot(kind=\"bar\",\n",
    "                                                     stacked=True,\n",
    "                                                     title=\"LC Not changed\")\n"
   ]
  },
  {
   "attachments": {},
   "cell_type": "markdown",
   "metadata": {},
   "source": [
    "Apply LAI to changed and not changed seperately\n"
   ]
  },
  {
   "cell_type": "code",
   "execution_count": 4,
   "metadata": {},
   "outputs": [],
   "source": [
    "lai_changed = lai.where(changed == True)\n",
    "lai_not_changed = lai.where(not_changed == True)\n",
    "\n",
    "temp_changed = temp.where(changed == True)\n",
    "temp_not_changed = temp.where(not_changed == True)\n",
    "\n",
    "temp_changed = temp.where(changed == True)\n",
    "temp_not_changed = temp.where(not_changed == True)\n",
    "\n",
    "d2m_changed = d2m.where(changed == True)\n",
    "d2m_not_changed = d2m.where(not_changed == True)\n",
    "\n",
    "ssr_changed = ssr.where(changed == True)\n",
    "ssr_not_changed = ssr.where(not_changed == True)\n",
    "\n",
    "sw_changed = sw.where(changed == True)\n",
    "sw_not_changed = sw.where(not_changed == True)\n",
    "\n",
    "tp_changed = tp.where(changed == True)\n",
    "tp_not_changed = tp.where(not_changed == True)\n",
    "\n",
    "vpd_changed = vpd.where(changed == True)\n",
    "vpd_not_changed = vpd.where(not_changed == True)\n",
    "\n",
    "co2_changed = co2.where(changed == True)\n",
    "co2_not_changed = co2.where(not_changed == True)\n"
   ]
  },
  {
   "cell_type": "code",
   "execution_count": null,
   "metadata": {},
   "outputs": [],
   "source": [
    "vpd_region_mean = vpd.mean([\"lat\", \"lon\"])\n",
    "vpd_region_mean_rbeast = rb.beast(vpd_region_mean.values,\n",
    "                                  season=\"none\",\n",
    "                                  start=1984,\n",
    "                                  tseg_minlength=3)\n",
    "rb.plot(vpd_region_mean_rbeast)"
   ]
  },
  {
   "cell_type": "code",
   "execution_count": null,
   "metadata": {},
   "outputs": [],
   "source": [
    "lai_changed_mean = lai_changed.mean([\"lat\", \"lon\"])\n",
    "lai_not_changed_mean = lai_not_changed.mean([\"lat\", \"lon\"])\n",
    "\n",
    "lai_changed_mean_rbeast = rb.beast(lai_changed_mean.values,\n",
    "                                   season=\"none\",\n",
    "                                   start=1984,\n",
    "                                   tseg_minlength=3)\n",
    "lai_not_changed_mean_rbeast = rb.beast(lai_not_changed_mean.values,\n",
    "                                       season=\"none\",\n",
    "                                       start=1984,\n",
    "                                       tseg_minlength=3)\n",
    "rb.plot(lai_changed_mean_rbeast)\n",
    "rb.plot(lai_not_changed_mean_rbeast)"
   ]
  },
  {
   "cell_type": "code",
   "execution_count": null,
   "metadata": {},
   "outputs": [],
   "source": [
    "slp_not_changed = lai_not_changed_mean_rbeast.trend.slp\n",
    "slp_changed = lai_changed_mean_rbeast.trend.slp\n",
    "\n",
    "plt.plot(t_short, slp_not_changed, color=\"green\")\n",
    "plt.scatter(t_short, slp_not_changed, color=\"green\")\n",
    "plt.plot(t_short, slp_changed, color=\"red\")\n",
    "plt.scatter(t_short, slp_changed, color=\"red\")\n",
    "\n",
    "slp_mean_not_changed_1984_1994 = slp_not_changed[0:11]\n",
    "slp_mean_not_changed_1995_2001 = slp_not_changed[11:18]\n",
    "slp_mean_not_changed_2002_2013 = slp_not_changed[18:]\n",
    "\n",
    "slp_mean_changed_1984_1994 = slp_changed[0:11]\n",
    "slp_mean_changed_1995_2001 = slp_changed[11:18]\n",
    "slp_mean_changed_2002_2013 = slp_changed[18:]\n",
    "\n",
    "print(\"average slope for not changed lai 1984-1994: \" +\n",
    "      str(np.round(slp_mean_not_changed_1984_1994.mean(), 2)))\n",
    "print(\"average slope for not changed lai 1995_2001: \" +\n",
    "      str(np.round(slp_mean_not_changed_1995_2001.mean(), 2)))\n",
    "print(\"average slope for not changed lai 2002_2013: \" +\n",
    "      str(np.round(slp_mean_not_changed_2002_2013.mean(), 2)))\n",
    "\n",
    "print(\"average slope for changed lai 1984-1994: \" +\n",
    "      str(np.round(slp_mean_changed_1984_1994.mean(), 2)))\n",
    "print(\"average slope for changed lai 1995_2001: \" +\n",
    "      str(np.round(slp_mean_changed_1995_2001.mean(), 2)))\n",
    "print(\"average slope for changed lai 2002-2013: \" +\n",
    "      str(np.round(slp_mean_changed_2002_2013.mean(), 2)))\n",
    "# print(lai_changed_mean_rbeast.trend.slp[12:18].mean())"
   ]
  },
  {
   "attachments": {},
   "cell_type": "markdown",
   "metadata": {},
   "source": [
    "Confirm the regional mean results by doing it over all pixles\n"
   ]
  },
  {
   "cell_type": "code",
   "execution_count": null,
   "metadata": {},
   "outputs": [],
   "source": [
    "fig, ax = plt.subplots(2, 3, figsize=(22, 12))\n",
    "ax = np.ravel(ax)\n",
    "lai_slp = lai.copy(data=lai_rbeast.trend.slp)\n",
    "lai_slp_not_changed = lai_slp.where(not_changed == True)\n",
    "lai_slp_changed = lai_slp.where(changed == True)\n",
    "\n",
    "lai_slp_not_changed_1984_1994 = lai_slp_not_changed.isel(\n",
    "    time=np.arange(0, 11)).mean(\"time\")\n",
    "lai_slp_not_changed_1984_1994.plot(ax=ax[0], robust=True)\n",
    "\n",
    "ax[0].set_title(\"Not changed 1984-1994\")\n",
    "# # lai_slp_not_changed.isel(time=np.arange(0,11)).mean()\n",
    "\n",
    "lai_slp_not_changed_1995_2001 = lai_slp_not_changed.isel(\n",
    "    time=np.arange(11, 18)).mean(\"time\")\n",
    "lai_slp_not_changed_1995_2001.plot(ax=ax[1], robust=True)\n",
    "ax[1].set_title(\"Not changed 1995-2001\")\n",
    "\n",
    "# # # lai_slp_not_changed.isel(time=np.arange(11,18)).mean()\n",
    "lai_slp_not_changed_2001_2013 = lai_slp_not_changed.isel(\n",
    "    time=np.arange(18, 30)).mean(\"time\")\n",
    "lai_slp_not_changed_2001_2013.plot(ax=ax[2], robust=True)\n",
    "\n",
    "ax[2].set_title(\"Not changed 2002-2013\")\n",
    "# lai_slp_not_changed.isel(time=np.arange(18,30)).mean()\n",
    "lai_slp_changed_1984_1994 = lai_slp_changed.isel(\n",
    "    time=np.arange(0, 11)).mean(\"time\")\n",
    "lai_slp_changed_1984_1994.plot(ax=ax[3], robust=True)\n",
    "ax[3].set_title(\"Changed 1984-1994\")\n",
    "\n",
    "lai_slp_changed_1995_2001 = lai_slp_changed.isel(\n",
    "    time=np.arange(11, 18)).mean(\"time\")\n",
    "lai_slp_changed_1995_2001.plot(ax=ax[4], robust=True)\n",
    "ax[4].set_title(\"Changed 1995-2001\")\n",
    "\n",
    "lai_slp_changed_2001_2013 = lai_slp_changed.isel(\n",
    "    time=np.arange(18, 30)).mean(\"time\")\n",
    "lai_slp_changed_2001_2013.plot(ax=ax[5], robust=True)\n",
    "ax[5].set_title(\"Changed 2002-2013\")\n",
    "\n",
    "# metadata = rb.args(whichDimIsTime=1, season=\"none\", startTime=1984)\n",
    "# prior = rb.args(trendMinSepDist=3, trendMaxKnotNum=4)\n",
    "# mcmc = rb.args(seed=1)\n",
    "# extra = rb.args(  # a set of options to specify the outputs or computational configurations\n",
    "#     dumpInputData=\n",
    "#     True,  # make a copy of the aggregated input data in the beast ouput\n",
    "#     numThreadsPerCPU=2,  # Paralell  computing: use 2 threads per cpu core\n",
    "#     numParThreads=\n",
    "#     0,  # `0` means using all CPU cores: total num of ParThreads = numThreadsPerCPU * core Num\n",
    "#     printOptions=False,\n",
    "#     computeTrendSlope = True\n",
    "# )\n",
    "# season = \"none\"\n",
    "# lai_not_changed_rbeast = rb.beast123(lai_not_changed.values, metadata, prior, mcmc, extra)"
   ]
  },
  {
   "cell_type": "code",
   "execution_count": null,
   "metadata": {},
   "outputs": [],
   "source": [
    "lai_greenup = (lai_slp_not_changed_1995_2001 - lai_slp_not_changed_1984_1994\n",
    "               ) / abs(lai_slp_not_changed_1984_1994)\n",
    "lai_greenup_mean = lai_greenup.mean()\n",
    "lai_greenup_std = lai_greenup.std()\n",
    "lai_greenup_zscore = (lai_greenup - lai_greenup_mean) / lai_greenup_std\n",
    "lai_greenup_clean = lai_greenup.where(outliers_index(lai_greenup) == False)\n",
    "(lai_greenup_clean * 100).plot()\n"
   ]
  },
  {
   "cell_type": "code",
   "execution_count": null,
   "metadata": {},
   "outputs": [],
   "source": [
    "lai_rbeast_y = lai.copy(data=lai_rbeast.trend.Y)\n",
    "lai_rbeast_y_stack = lai_rbeast_y.stack(z=[\"lon\", \"lat\"])\n",
    "lai_rbeast_y_stack_df = lai_rbeast_y_stack.transpose().to_pandas()\n",
    "lai_rbeast_y_stack_df = lai_rbeast_y_stack_df.dropna()\n",
    "lai_rbeast_y.mean([\"lat\", \"lon\"]).plot()\n"
   ]
  },
  {
   "cell_type": "code",
   "execution_count": null,
   "metadata": {},
   "outputs": [],
   "source": [
    "lai_slp_not_changed_1984_1994 = lai_slp_not_changed.isel(\n",
    "    time=np.arange(0, 11)).mean(\"time\")\n",
    "lai_slp_not_changed_1995_2001 = lai_slp_not_changed.isel(\n",
    "    time=np.arange(11, 18)).mean(\"time\")\n",
    "\n",
    "browned_1984_1994 = np.isfinite(\n",
    "    lai_slp_not_changed_1984_1994.where(lai_slp_not_changed_1984_1994 <= 0))\n",
    "# sw_not_changed.where(browned_1984_1994==True).mean([\"lat\",\"lon\"]).plot()\n",
    "tmp = rb.beast(tp_not_changed.where(browned_1984_1994 == True).mean(\n",
    "    [\"lat\", \"lon\"]).values,\n",
    "               season=\"none\",\n",
    "               start=1984,\n",
    "               tseg_minlength=3)\n",
    "rb.plot(tmp)\n",
    "# lai_slp_not_changed_1995_2001.where(browned_1984_1994==True)"
   ]
  },
  {
   "cell_type": "code",
   "execution_count": null,
   "metadata": {},
   "outputs": [],
   "source": [
    "tmp.trend.cp"
   ]
  },
  {
   "attachments": {},
   "cell_type": "markdown",
   "metadata": {},
   "source": [
    "Perform Rbeast analyses on the Lc where a they change at some point in time\n"
   ]
  },
  {
   "cell_type": "code",
   "execution_count": null,
   "metadata": {},
   "outputs": [],
   "source": [
    "ef_changed = lc_changed.isel(band=0)\n",
    "metadata = rb.args(whichDimIsTime=1, season=\"none\", startTime=1984)\n",
    "prior = rb.args(trendMinSepDist=3, trendMaxKnotNum=4)\n",
    "mcmc = rb.args(seed=1)\n",
    "extra = rb.args(  # a set of options to specify the outputs or computational configurations\n",
    "    dumpInputData=\n",
    "    True,  # make a copy of the aggregated input data in the beast ouput\n",
    "    numThreadsPerCPU=2,  # Paralell  computing: use 2 threads per cpu core\n",
    "    numParThreads=\n",
    "    0,  # `0` means using all CPU cores: total num of ParThreads = numThreadsPerCPU * core Num\n",
    "    printOptions=False,\n",
    "    missingValue=0.3,\n",
    ")\n",
    "season = \"none\"\n",
    "ef_rbeast = rb.beast123(ef_changed.values, metadata, prior, mcmc, extra)"
   ]
  },
  {
   "cell_type": "code",
   "execution_count": null,
   "metadata": {},
   "outputs": [],
   "source": [
    "sh_changed = lc_changed.isel(band=1)\n",
    "metadata = rb.args(whichDimIsTime=1, season=\"none\", startTime=1984)\n",
    "prior = rb.args(trendMinSepDist=3, trendMaxKnotNum=4)\n",
    "mcmc = rb.args(seed=1)\n",
    "extra = rb.args(  # a set of options to specify the outputs or computational configurations\n",
    "    dumpInputData=\n",
    "    True,  # make a copy of the aggregated input data in the beast ouput\n",
    "    numThreadsPerCPU=2,  # Paralell  computing: use 2 threads per cpu core\n",
    "    numParThreads=\n",
    "    0,  # `0` means using all CPU cores: total num of ParThreads = numThreadsPerCPU * core Num\n",
    "    printOptions=False,\n",
    "    missingValue=0.3,\n",
    ")\n",
    "season = \"none\"\n",
    "sh_rbeast = rb.beast123(sh_changed.values, metadata, prior, mcmc, extra)"
   ]
  },
  {
   "cell_type": "code",
   "execution_count": null,
   "metadata": {},
   "outputs": [],
   "source": [
    "hb_changed = lc_changed.isel(band=2)\n",
    "metadata = rb.args(whichDimIsTime=1, season=\"none\", startTime=1984)\n",
    "prior = rb.args(trendMinSepDist=3, trendMaxKnotNum=4)\n",
    "mcmc = rb.args(seed=1)\n",
    "extra = rb.args(  # a set of options to specify the outputs or computational configurations\n",
    "    dumpInputData=\n",
    "    True,  # make a copy of the aggregated input data in the beast ouput\n",
    "    numThreadsPerCPU=2,  # Paralell  computing: use 2 threads per cpu core\n",
    "    numParThreads=\n",
    "    0,  # `0` means using all CPU cores: total num of ParThreads = numThreadsPerCPU * core Num\n",
    "    printOptions=False,\n",
    "    missingValue=0.3,\n",
    ")\n",
    "season = \"none\"\n",
    "hb_rbeast = rb.beast123(hb_changed.values, metadata, prior, mcmc, extra)"
   ]
  },
  {
   "cell_type": "code",
   "execution_count": null,
   "metadata": {},
   "outputs": [],
   "source": [
    "sparse_changed = lc_changed.isel(band=3)\n",
    "metadata = rb.args(whichDimIsTime=1, season=\"none\", startTime=1984)\n",
    "prior = rb.args(trendMinSepDist=3, trendMaxKnotNum=4)\n",
    "mcmc = rb.args(seed=1)\n",
    "extra = rb.args(  # a set of options to specify the outputs or computational configurations\n",
    "    dumpInputData=\n",
    "    True,  # make a copy of the aggregated input data in the beast ouput\n",
    "    numThreadsPerCPU=2,  # Paralell  computing: use 2 threads per cpu core\n",
    "    numParThreads=\n",
    "    0,  # `0` means using all CPU cores: total num of ParThreads = numThreadsPerCPU * core Num\n",
    "    printOptions=False,\n",
    "    missingValue=0.3,\n",
    ")\n",
    "sparse_rbeast = rb.beast123(sparse_changed.values, metadata, prior, mcmc,\n",
    "                            extra)\n"
   ]
  },
  {
   "cell_type": "code",
   "execution_count": null,
   "metadata": {},
   "outputs": [],
   "source": [
    "barren_changed = lc_changed.isel(band=4)\n",
    "metadata = rb.args(whichDimIsTime=1, season=\"none\", startTime=1984)\n",
    "prior = rb.args(trendMinSepDist=3, trendMaxKnotNum=4)\n",
    "mcmc = rb.args(seed=1)\n",
    "extra = rb.args(  # a set of options to specify the outputs or computational configurations\n",
    "    dumpInputData=\n",
    "    True,  # make a copy of the aggregated input data in the beast ouput\n",
    "    numThreadsPerCPU=2,  # Paralell  computing: use 2 threads per cpu core\n",
    "    numParThreads=\n",
    "    0,  # `0` means using all CPU cores: total num of ParThreads = numThreadsPerCPU * core Num\n",
    "    printOptions=False,\n",
    "    missingValue=0.3,\n",
    ")\n",
    "barren_rbeast = rb.beast123(barren_changed.values, metadata, prior, mcmc,\n",
    "                            extra)\n"
   ]
  },
  {
   "attachments": {},
   "cell_type": "markdown",
   "metadata": {},
   "source": [
    "Find pixels where there was a cp in 1994 with cpPr >0.5\n"
   ]
  },
  {
   "cell_type": "code",
   "execution_count": null,
   "metadata": {},
   "outputs": [],
   "source": [
    "ef_cp = repo.copy(data=ef_rbeast.trend.cp[0, :, :])\n",
    "sh_cp = repo.copy(data=sh_rbeast.trend.cp[0, :, :])\n",
    "hb_cp = repo.copy(data=hb_rbeast.trend.cp[0, :, :])\n",
    "sparse_cp = repo.copy(data=sparse_rbeast.trend.cp[0, :, :])\n",
    "barren_cp = repo.copy(data=barren_rbeast.trend.cp[0, :, :])\n",
    "\n",
    "ef_cpPr = repo.copy(data=ef_rbeast.trend.cpPr[0, :, :])\n",
    "sh_cpPr = repo.copy(data=sh_rbeast.trend.cpPr[0, :, :])\n",
    "hb_cpPr = repo.copy(data=hb_rbeast.trend.cpPr[0, :, :])\n",
    "sparse_cpPr = repo.copy(data=sparse_rbeast.trend.cpPr[0, :, :])\n",
    "barren_cpPr = repo.copy(data=barren_rbeast.trend.cpPr[0, :, :])\n",
    "\n",
    "ef_cp_sig = ef_cp.where(ef_cpPr > 0.5)\n",
    "sh_cp_sig = sh_cp.where(sh_cpPr > 0.5)\n",
    "hb_cp_sig = hb_cp.where(hb_cpPr > 0.5)\n",
    "sparse_cp_sig = sparse_cp.where(sparse_cpPr > 0.5)\n",
    "barren_cp_sig = barren_cp.where(barren_cpPr > 0.5)\n",
    "changed_1994 = (ef_cp_sig == 1994) | (sh_cp_sig == 1994) | (\n",
    "    hb_cp_sig == 1994) | (sparse_cp_sig == 1994) | (barren_cp_sig == 1994)\n"
   ]
  },
  {
   "attachments": {},
   "cell_type": "markdown",
   "metadata": {},
   "source": [
    "# Prepare for casual inference\n"
   ]
  },
  {
   "cell_type": "code",
   "execution_count": null,
   "metadata": {},
   "outputs": [],
   "source": [
    "lc_changed_1994 = lc.where(changed_1994 == True)\n",
    "lc_changed_1994.mean([\"lat\", \"lon\"]).to_pandas().plot(\n",
    "    kind=\"bar\",\n",
    "    stacked=True,\n",
    "    title=\"LC of pixels where there was a significant change in 1994\")\n"
   ]
  },
  {
   "cell_type": "code",
   "execution_count": null,
   "metadata": {},
   "outputs": [],
   "source": [
    "lai_changed_1994 = lai.where(\n",
    "    changed_1994 == True)  # Lai values where LC changed in 1994\n",
    "lai_not_changed = lai.where(not_changed == True)"
   ]
  },
  {
   "cell_type": "code",
   "execution_count": null,
   "metadata": {},
   "outputs": [],
   "source": [
    "# net_change_1994 = net_change.where(changed_1994==True)\n",
    "# net_change_1994.sel(time=1994).plot.hist()"
   ]
  },
  {
   "cell_type": "code",
   "execution_count": null,
   "metadata": {},
   "outputs": [],
   "source": [
    "lai_changed_stacked = lai_changed_1994.stack(z=[\"lon\", \"lat\"])\n",
    "lai_not_changed_stacked = lai_not_changed.stack(z=[\"lon\", \"lat\"])\n",
    "# arr_stacked = arr.stack(z=[\"lon\", \"lat\"])\n",
    "# net_change_1994_stacked = net_change_1994.stack(z=[\"lon\", \"lat\"])\n",
    "\n",
    "# select a random year and calculate the distances within 50 km radius and get all indices\n",
    "changed_year_lai = lai_changed_stacked.isel(time=10)\n",
    "df = changed_year_lai.to_dataframe()\n",
    "coords = np.radians(df[[\"lat\", \"lon\"]])\n",
    "dist = DistanceMetric.get_metric(\"haversine\")\n",
    "tree = BallTree(coords, metric=dist)\n",
    "indices = tree.query_radius(coords, r=0.005)"
   ]
  },
  {
   "attachments": {},
   "cell_type": "markdown",
   "metadata": {},
   "source": [
    "Create dataset for CausalImpact analyses\n"
   ]
  },
  {
   "cell_type": "code",
   "execution_count": null,
   "metadata": {},
   "outputs": [],
   "source": [
    "data_lai = []\n",
    "arr_idx = []\n",
    "# lc_changed_1994_diff_net_data = []\n",
    "n = len(indices)\n",
    "for k in tqdm(range(n)):\n",
    "    # for k in tqdm(np.arange(457635, 457640)):\n",
    "    data = []\n",
    "    idx = indices[k]\n",
    "    # Get the changed LAI values of the centeral pixel\n",
    "    center_pixel = idx[np.where(idx == k)]\n",
    "    center_pixel_lai = lai_changed_stacked[:, center_pixel].values.squeeze()\n",
    "\n",
    "    # continue if the central pixel is nan\n",
    "    if np.isnan(center_pixel_lai).all():\n",
    "        continue\n",
    "\n",
    "    data.append(center_pixel_lai)\n",
    "\n",
    "    # Go over the neighboring pixels and get the LAI values of unchanged pixels\n",
    "    for i in range(len(idx)):\n",
    "        if idx[i] == center_pixel:\n",
    "            continue\n",
    "        tmp = lai_not_changed_stacked[:, idx[i]].values.squeeze()\n",
    "        # skip if the neighboring pixel is all nans\n",
    "        if np.isnan(tmp).all():\n",
    "            continue\n",
    "        data.append(tmp)\n",
    "    data_lai.append(np.array(data).transpose())\n",
    "    arr_idx.append(k)  # Get the index of changed pixel\n",
    "    # lc_changed_1994_diff_net_data.append(lc_changed_1994_diff_net_stacked[k].values)"
   ]
  },
  {
   "cell_type": "markdown",
   "metadata": {},
   "source": [
    "Save all the outputs\n"
   ]
  },
  {
   "cell_type": "code",
   "execution_count": null,
   "metadata": {},
   "outputs": [],
   "source": [
    "with open(\"../outputs/lai_region_mean_rbeast\", \"wb\") as fp:\n",
    "    pickle.dump(lai_region_mean_rbeast, fp)\n",
    "lai_region_mean.to_netcdf(\"../outputs/lai_region_mean.nc\")\n",
    "with open(\"../outputs/lai_rbeast\", \"wb\") as fp:\n",
    "    pickle.dump(lai_rbeast, fp)\n",
    "with open(\"../outputs/EF_rbeast\", \"wb\") as fp:\n",
    "    pickle.dump(ef_rbeast, fp)\n",
    "with open(\"../outputs/SH_rbeast\", \"wb\") as fp:\n",
    "    pickle.dump(sh_rbeast, fp)\n",
    "with open(\"../outputs/HB_rbeast\", \"wb\") as fp:\n",
    "    pickle.dump(sh_rbeast, fp)\n",
    "with open(\"../outputs/SPARSE_rbeast\", \"wb\") as fp:\n",
    "    pickle.dump(sparse_rbeast, fp)\n",
    "with open(\"../outputs/BARREN_rbeast\", \"wb\") as fp:\n",
    "    pickle.dump(barren_rbeast, fp)\n",
    "with open(\"../outputs/EF_region_mean_rbeast\", \"wb\") as fp:\n",
    "    pickle.dump(ef_region_mean_rbeast, fp)\n",
    "with open(\"../outputs/SH_region_mean_rbeast\", \"wb\") as fp:\n",
    "    pickle.dump(sh_region_mean_rbeast, fp)\n",
    "with open(\"../outputs/HB_region_mean_rbeast\", \"wb\") as fp:\n",
    "    pickle.dump(hb_region_mean_rbeast, fp)\n",
    "with open(\"../outputs/SPARSE_region_mean_rbeast\", \"wb\") as fp:\n",
    "    pickle.dump(sparse_region_mean_rbeast, fp)\n",
    "with open(\"../outputs/BARREN_region_mean_rbeast\", \"wb\") as fp:\n",
    "    pickle.dump(barren_region_mean_rbeast, fp)\n",
    "with open(\"../outputs/lai_1994_data\", \"wb\") as fp:\n",
    "    pickle.dump(data_lai, fp)\n",
    "with open(\"../outputs/arr_idx_1994\", \"wb\") as fp:\n",
    "    pickle.dump(arr_idx, fp)\n",
    "# with open(\"../outputs/lc_changed_1994_diff_net_data\", \"wb\") as fp:\n",
    "#     pickle.dump(lc_changed_1994_diff_net_data, fp)\n",
    "\n",
    "ef_region_mean.to_netcdf(\"../outputs/EF_region_mean.nc\")\n",
    "sh_region_mean.to_netcdf(\"../outputs/SH_region_mean.nc\")\n",
    "hb_region_mean.to_netcdf(\"../outputs/HB_region_mean.nc\")\n",
    "sparse_region_mean.to_netcdf(\"../outputs/SPARSE_region_mean.nc\")\n",
    "barren_region_mean.to_netcdf(\"../outputs/BARREN_region_mean.nc\")\n",
    "\n",
    "changed_1994.to_netcdf(\"../outputs/changed_1994.nc\")\n",
    "lai_changed_1994.to_netcdf(\"../outputs/lai_changed_1994.nc\")\n",
    "lai_not_changed.to_netcdf(\"../outputs/lai_not_changed.nc\")"
   ]
  },
  {
   "attachments": {},
   "cell_type": "markdown",
   "metadata": {},
   "source": [
    "Run counter factual analyses for the mean of the entire LAI values that has gone through some major changes in LC in 1994\n"
   ]
  },
  {
   "cell_type": "code",
   "execution_count": null,
   "metadata": {},
   "outputs": [],
   "source": [
    "# changed_1994 = xr.open_dataarray(\"../outputs/changed_1994.nc\")\n",
    "# lai_changed_1994 = xr.open_dataarray(\"../outputs/lai_changed_1994.nc\")\n",
    "# lai_not_changed = xr.open_dataarray(\"../outputs/lai_not_changed.nc\")"
   ]
  },
  {
   "cell_type": "code",
   "execution_count": null,
   "metadata": {},
   "outputs": [],
   "source": [
    "lai_changed_1994_mean = lai_changed_1994.mean([\"lat\", \"lon\"])\n"
   ]
  },
  {
   "cell_type": "code",
   "execution_count": null,
   "metadata": {},
   "outputs": [],
   "source": [
    "lai_changed_1994_mean_rbeast = rb.beast(lai_changed_1994_mean.values,\n",
    "                                        season=\"none\",\n",
    "                                        start=1984,\n",
    "                                        tseg_minlength=3)\n",
    "rb.plot(lai_not_changed_mean_rbeast)\n",
    "rb.plot(lai_changed_1994_mean_rbeast)"
   ]
  },
  {
   "cell_type": "code",
   "execution_count": null,
   "metadata": {},
   "outputs": [],
   "source": [
    "slp_changed_1994 = lai_changed_1994_mean_rbeast.trend.slp\n",
    "\n",
    "plt.plot(t_short, slp_not_changed, color=\"green\")\n",
    "plt.scatter(t_short, slp_not_changed, color=\"green\")\n",
    "plt.plot(t_short, slp_changed_1994, color=\"red\")\n",
    "plt.scatter(t_short, slp_changed_1994, color=\"red\")\n",
    "\n",
    "slp_mean_not_changed_1984_1994 = slp_not_changed[0:11]\n",
    "slp_mean_not_changed_1995_2001 = slp_not_changed[11:18]\n",
    "slp_mean_not_changed_2002_2013 = slp_not_changed[18:]\n",
    "\n",
    "slp_mean_changed_1984_1994 = slp_changed_1994[0:11]\n",
    "slp_mean_changed_1995_2001 = slp_changed_1994[11:18]\n",
    "slp_mean_changed_2002_2013 = slp_changed_1994[18:]\n",
    "\n",
    "print(\"average slope for not changed lai 1984-1994: \" +\n",
    "      str(np.round(slp_mean_not_changed_1984_1994.mean(), 2)))\n",
    "print(\"average slope for not changed lai 1995_2001: \" +\n",
    "      str(np.round(slp_mean_not_changed_1995_2001.mean(), 2)))\n",
    "print(\"average slope for not changed lai 2002_2013: \" +\n",
    "      str(np.round(slp_mean_not_changed_2002_2013.mean(), 2)))\n",
    "\n",
    "print(\"average slope for changed lai 1984-1994: \" +\n",
    "      str(np.round(slp_mean_changed_1984_1994.mean(), 2)))\n",
    "print(\"average slope for changed lai 1995_2001: \" +\n",
    "      str(np.round(slp_mean_changed_1995_2001.mean(), 2)))\n",
    "print(\"average slope for changed lai 2002-2013: \" +\n",
    "      str(np.round(slp_mean_changed_2002_2013.mean(), 2)))\n"
   ]
  },
  {
   "cell_type": "code",
   "execution_count": null,
   "metadata": {},
   "outputs": [],
   "source": [
    "lai_changed_1994_mean.plot(label=\"LAI where LC changed in 1994\")\n",
    "lai_not_changed_mean.plot(label=\"LAI where LC not changed\")\n",
    "plt.legend()"
   ]
  },
  {
   "cell_type": "code",
   "execution_count": null,
   "metadata": {},
   "outputs": [],
   "source": [
    "initial_array = np.array(data_lai[0])[:, 1:]\n",
    "# for k in range(len(data_lai)):\n",
    "for k in np.arange(1, len(data_lai)):\n",
    "    tmp1 = np.array(data_lai[k])[:, 1:]\n",
    "    if k == 1:\n",
    "        all_data_not_changed = np.concatenate([initial_array, tmp1], axis=1)\n",
    "        continue\n",
    "    all_data_not_changed = np.concatenate([all_data_not_changed, tmp1], axis=1)\n"
   ]
  },
  {
   "cell_type": "code",
   "execution_count": null,
   "metadata": {},
   "outputs": [],
   "source": [
    "lai_not_changed_1994 = np.nanmean(all_data_not_changed, axis=1)\n",
    "plt.plot(lai_changed_1994_mean.values, color='red')\n",
    "plt.plot(lai_not_changed_1994, color=\"green\")\n",
    "plt.plot(lai_not_changed_mean.values, color='blue')\n"
   ]
  },
  {
   "cell_type": "code",
   "execution_count": null,
   "metadata": {},
   "outputs": [],
   "source": [
    "X = np.array([lai_changed_1994_mean.values, lai_not_changed_1994]).transpose()\n",
    "X.shape"
   ]
  },
  {
   "cell_type": "code",
   "execution_count": null,
   "metadata": {},
   "outputs": [],
   "source": [
    "t2 = pd.date_range(start=pd.datetime(1984, 1, 1), periods=X.shape[0], freq=\"A\")\n",
    "df_tmp = pd.DataFrame(data=X, index=t2)\n",
    "pre_priod = [\"19841231\", \"19941231\"]\n",
    "post_priod = [\"19961231\", \"20131231\"]\n",
    "ci = CausalImpact(\n",
    "    df_tmp,\n",
    "    pre_priod,\n",
    "    post_priod,\n",
    "    model_args={\n",
    "        \"fit_method\": \"hmc\",\n",
    "        \"standardize\": True,\n",
    "        # \"prior_level_sd\": 0.1,\n",
    "    },\n",
    ")\n",
    "print(ci.summary())\n",
    "ci.plot()"
   ]
  },
  {
   "attachments": {},
   "cell_type": "markdown",
   "metadata": {},
   "source": [
    "We need to confirm the results above by running the CI over all the pixels.\n"
   ]
  },
  {
   "cell_type": "code",
   "execution_count": null,
   "metadata": {},
   "outputs": [],
   "source": [
    "# Open the CI_out file which is produced by causaliference_parallel_final.\n",
    "CI_out = pd.read_pickle(dir + \"/working/CI_out\")\n",
    "arr_idx = pd.read_pickle(dir + \"working/arr_idx\")\n",
    "tmp_f = np.empty((9, len(CI_out)))\n",
    "tmp_f[:] = np.nan\n",
    "\n",
    "df = pd.DataFrame(\n",
    "    tmp_f,\n",
    "    index=[\n",
    "        \"p_value\",\n",
    "        \"actual\",\n",
    "        \"predicted\",\n",
    "        \"abs_effect\",\n",
    "        \"rel_effect\",\n",
    "        \"actual_cum\",\n",
    "        \"predicted_cum\",\n",
    "        \"abs_effect_cum\",\n",
    "        \"rel_effect_cum\",\n",
    "    ],\n",
    ")\n",
    "# Read data and create a dataframe for some statistical analyses\n",
    "for i in range(len(CI_out)):\n",
    "    df.iloc[:, i] = np.array(CI_out[i]).squeeze()\n"
   ]
  },
  {
   "attachments": {},
   "cell_type": "markdown",
   "metadata": {},
   "source": [
    "### Random forest to get LAI from environmental variables\n"
   ]
  },
  {
   "cell_type": "code",
   "execution_count": 5,
   "metadata": {},
   "outputs": [],
   "source": [
    "def xr_detrend(da):\n",
    "    t = da[\"time\"]\n",
    "    da[\"time\"] = range(len(da[\"time\"]))\n",
    "    p = da.polyfit(dim=\"time\", deg=1)\n",
    "    p_slope = p.polyfit_coefficients.isel(degree=0)\n",
    "    fit = xr.dot(da[\"time\"], p_slope)\n",
    "    detr = da - fit\n",
    "    detr[\"time\"] = t\n",
    "    da[\"time\"] = t\n",
    "    return detr"
   ]
  },
  {
   "cell_type": "code",
   "execution_count": 6,
   "metadata": {},
   "outputs": [],
   "source": [
    "temp_not_changed_mean = temp_not_changed.mean([\"time\"])\n",
    "temp_not_changed_anomaly = (temp_not_changed - temp_not_changed_mean)\n",
    "\n",
    "d2m_not_changed_mean = d2m_not_changed.mean([\"time\"])\n",
    "d2m_not_changed_anomaly = (d2m_not_changed - d2m_not_changed_mean)\n",
    "\n",
    "ssr_not_changed_mean = ssr_not_changed.mean([\"time\"])\n",
    "ssr_not_changed_anomaly = (ssr_not_changed - ssr_not_changed_mean)\n",
    "\n",
    "sw_not_changed_mean = sw_not_changed.mean([\"time\"])\n",
    "sw_not_changed_anomaly = (sw_not_changed - sw_not_changed_mean)\n",
    "\n",
    "tp_not_changed_mean = tp_not_changed.mean([\"time\"])\n",
    "tp_not_changed_anomaly = (tp_not_changed - tp_not_changed_mean)\n",
    "\n",
    "co2_not_changed_mean = co2_not_changed.mean([\"time\"])\n",
    "co2_not_changed_anomaly = (co2_not_changed - co2_not_changed_mean)\n",
    "\n",
    "temp_not_changed_detrend = xr_detrend(temp_not_changed)\n",
    "d2m_not_changed_detrend = xr_detrend(d2m_not_changed)\n",
    "co2_not_changed_detrend = xr_detrend(co2_not_changed)\n",
    "sw_not_changed_detrend = xr_detrend(sw_not_changed)\n",
    "ssr_not_changed_detrend = xr_detrend(ssr_not_changed)\n",
    "\n",
    "temp_not_changed_anomaly_detrend = xr_detrend(temp_not_changed_anomaly)\n",
    "d2m_not_changed_anomaly_detrend = xr_detrend(d2m_not_changed_anomaly)\n",
    "ssr_not_changed_anomaly_detrend = xr_detrend(ssr_not_changed_anomaly)\n",
    "sw_not_changed_anomaly_detrend = xr_detrend(sw_not_changed_anomaly)\n",
    "tp_not_changed_anomaly_detrend = xr_detrend(tp_not_changed_anomaly)\n",
    "co2_not_changed_anomaly_detrend = xr_detrend(co2_not_changed_anomaly)"
   ]
  },
  {
   "cell_type": "code",
   "execution_count": 7,
   "metadata": {},
   "outputs": [],
   "source": [
    "lai_not_changed_stacked = lai_not_changed.stack(\n",
    "    z=[\"time\", \"lat\", \"lon\"]).values\n",
    "\n",
    "temp_not_changed_stacked = temp_not_changed.stack(\n",
    "    z=[\"time\", \"lat\", \"lon\"]).values\n",
    "d2m_not_changed_stacked = d2m_not_changed.stack(\n",
    "    z=[\"time\", \"lat\", \"lon\"]).values\n",
    "ssr_not_changed_stacked = ssr_not_changed.stack(\n",
    "    z=[\"time\", \"lat\", \"lon\"]).values\n",
    "sw_not_changed_stacked = sw_not_changed.stack(z=[\"time\", \"lat\", \"lon\"]).values\n",
    "tp_not_changed_stacked = tp_not_changed.stack(z=[\"time\", \"lat\", \"lon\"]).values\n",
    "co2_not_changed_stacked = co2_not_changed.stack(\n",
    "    z=[\"time\", \"lat\", \"lon\"]).values\n",
    "\n",
    "temp_not_changed_detrend_stacked = temp_not_changed_detrend.stack(\n",
    "    z=[\"time\", \"lat\", \"lon\"]).values\n",
    "d2m_not_changed_detrend_stacked = d2m_not_changed_detrend.stack(\n",
    "    z=[\"time\", \"lat\", \"lon\"]).values\n",
    "co2_not_changed_detrend_stacked = co2_not_changed_detrend.stack(\n",
    "    z=[\"time\", \"lat\", \"lon\"]).values\n",
    "sw_not_changed_detrend_stacked = sw_not_changed_detrend.stack(\n",
    "    z=[\"time\", \"lat\", \"lon\"]).values\n",
    "ssr_not_changed_detrend_stacked = ssr_not_changed_detrend.stack(\n",
    "    z=[\"time\", \"lat\", \"lon\"]).values\n",
    "\n",
    "temp_not_changed_anomaly_stacked = temp_not_changed_anomaly.stack(\n",
    "    z=[\"time\", \"lat\", \"lon\"])\n",
    "d2m_not_changed_anomaly_stacked = d2m_not_changed_anomaly.stack(\n",
    "    z=[\"time\", \"lat\", \"lon\"]).values\n",
    "ssr_not_changed_anomaly_stacked = ssr_not_changed_anomaly.stack(\n",
    "    z=[\"time\", \"lat\", \"lon\"]).values\n",
    "sw_not_changed_anomaly_stacked = sw_not_changed_anomaly.stack(\n",
    "    z=[\"time\", \"lat\", \"lon\"]).values\n",
    "ssr_not_changed_anomaly_stacked = ssr_not_changed_anomaly.stack(\n",
    "    z=[\"time\", \"lat\", \"lon\"]).values\n",
    "tp_not_changed_anomaly_stacked = tp_not_changed_anomaly.stack(\n",
    "    z=[\"time\", \"lat\", \"lon\"]).values\n",
    "co2_not_changed_anomaly_stacked = co2_not_changed_anomaly.stack(\n",
    "    z=[\"time\", \"lat\", \"lon\"]).values\n",
    "\n",
    "temp_not_changed_anomaly_detrend_stacked = temp_not_changed_anomaly_detrend.stack(\n",
    "    z=[\"time\", \"lat\", \"lon\"]).values\n",
    "d2m_not_changed_anomaly_detrend_stacked = d2m_not_changed_anomaly_detrend.stack(\n",
    "    z=[\"time\", \"lat\", \"lon\"]).values\n",
    "ssr_not_changed_anomaly_detrend_stacked = ssr_not_changed_anomaly_detrend.stack(\n",
    "    z=[\"time\", \"lat\", \"lon\"]).values\n",
    "sw_not_changed_anomaly_detrend_stacked = sw_not_changed_anomaly_detrend.stack(\n",
    "    z=[\"time\", \"lat\", \"lon\"]).values\n",
    "tp_not_changed_anomaly_detrend_stacked = tp_not_changed_anomaly_detrend.stack(\n",
    "    z=[\"time\", \"lat\", \"lon\"]).values\n",
    "co2_not_changed_anomaly_detrend_stacked = co2_not_changed_anomaly_detrend.stack(\n",
    "    z=[\"time\", \"lat\", \"lon\"]).values\n"
   ]
  },
  {
   "cell_type": "code",
   "execution_count": 17,
   "metadata": {},
   "outputs": [
    {
     "data": {
      "text/html": [
       "<div>\n",
       "<style scoped>\n",
       "    .dataframe tbody tr th:only-of-type {\n",
       "        vertical-align: middle;\n",
       "    }\n",
       "\n",
       "    .dataframe tbody tr th {\n",
       "        vertical-align: top;\n",
       "    }\n",
       "\n",
       "    .dataframe thead th {\n",
       "        text-align: right;\n",
       "    }\n",
       "</style>\n",
       "<table border=\"1\" class=\"dataframe\">\n",
       "  <thead>\n",
       "    <tr style=\"text-align: right;\">\n",
       "      <th></th>\n",
       "      <th>lai</th>\n",
       "      <th>temp</th>\n",
       "      <th>d2m</th>\n",
       "      <th>ssr</th>\n",
       "      <th>sw</th>\n",
       "      <th>tp</th>\n",
       "      <th>co2</th>\n",
       "    </tr>\n",
       "  </thead>\n",
       "  <tbody>\n",
       "    <tr>\n",
       "      <th>9751203</th>\n",
       "      <td>0.399</td>\n",
       "      <td>258.014313</td>\n",
       "      <td>254.785217</td>\n",
       "      <td>4593728.0</td>\n",
       "      <td>2.344478</td>\n",
       "      <td>6.752880</td>\n",
       "      <td>370.120992</td>\n",
       "    </tr>\n",
       "    <tr>\n",
       "      <th>4424881</th>\n",
       "      <td>1.867</td>\n",
       "      <td>265.212738</td>\n",
       "      <td>261.128143</td>\n",
       "      <td>7323159.5</td>\n",
       "      <td>3.943449</td>\n",
       "      <td>12.174065</td>\n",
       "      <td>356.419001</td>\n",
       "    </tr>\n",
       "    <tr>\n",
       "      <th>17328042</th>\n",
       "      <td>3.415</td>\n",
       "      <td>267.503540</td>\n",
       "      <td>263.292511</td>\n",
       "      <td>7561061.5</td>\n",
       "      <td>2.558651</td>\n",
       "      <td>24.352423</td>\n",
       "      <td>396.508585</td>\n",
       "    </tr>\n",
       "    <tr>\n",
       "      <th>3363415</th>\n",
       "      <td>2.238</td>\n",
       "      <td>271.207184</td>\n",
       "      <td>268.247040</td>\n",
       "      <td>4948815.5</td>\n",
       "      <td>4.431841</td>\n",
       "      <td>26.257879</td>\n",
       "      <td>353.864365</td>\n",
       "    </tr>\n",
       "    <tr>\n",
       "      <th>3225363</th>\n",
       "      <td>1.351</td>\n",
       "      <td>263.554932</td>\n",
       "      <td>260.198059</td>\n",
       "      <td>6629517.5</td>\n",
       "      <td>1.678997</td>\n",
       "      <td>7.208736</td>\n",
       "      <td>354.154940</td>\n",
       "    </tr>\n",
       "  </tbody>\n",
       "</table>\n",
       "</div>"
      ],
      "text/plain": [
       "            lai        temp         d2m        ssr        sw         tp  \\\n",
       "9751203   0.399  258.014313  254.785217  4593728.0  2.344478   6.752880   \n",
       "4424881   1.867  265.212738  261.128143  7323159.5  3.943449  12.174065   \n",
       "17328042  3.415  267.503540  263.292511  7561061.5  2.558651  24.352423   \n",
       "3363415   2.238  271.207184  268.247040  4948815.5  4.431841  26.257879   \n",
       "3225363   1.351  263.554932  260.198059  6629517.5  1.678997   7.208736   \n",
       "\n",
       "                 co2  \n",
       "9751203   370.120992  \n",
       "4424881   356.419001  \n",
       "17328042  396.508585  \n",
       "3363415   353.864365  \n",
       "3225363   354.154940  "
      ]
     },
     "execution_count": 17,
     "metadata": {},
     "output_type": "execute_result"
    }
   ],
   "source": [
    "all_stacked = np.array([\n",
    "    lai_not_changed_stacked, temp_not_changed_stacked, d2m_not_changed_stacked,\n",
    "    ssr_not_changed_stacked, sw_not_changed_stacked, tp_not_changed_stacked,\n",
    "    co2_not_changed_stacked\n",
    "]).transpose()\n",
    "df = pd.DataFrame(data=all_stacked,\n",
    "                  columns=[\"lai\", \"temp\", \"d2m\", \"ssr\", \"sw\", \"tp\", \"co2\"])\n",
    "df = df.dropna(axis=0, how=\"any\")\n",
    "df_clean = df[(np.abs(stats.zscore(df)) < 3).all(axis=1)]\n",
    "df_subset = df_clean.sample(n=3000000)\n",
    "df_subset.head()"
   ]
  },
  {
   "cell_type": "code",
   "execution_count": 18,
   "metadata": {},
   "outputs": [],
   "source": [
    "df_test = df_subset.sample(frac=0.1)\n",
    "df_train = df_subset.loc[~df_subset.index.isin(df_test.index)]\n",
    "X_train = df_train.iloc[:, 1:]\n",
    "y_train = df_train.iloc[:, 0]\n",
    "X_test = df_test.iloc[:, 1:]\n",
    "y_test = df_test.iloc[:, 0]\n",
    "X_all = df.iloc[:, 1:]\n",
    "x_all = df.iloc[:, 0]\n"
   ]
  },
  {
   "cell_type": "code",
   "execution_count": 19,
   "metadata": {},
   "outputs": [],
   "source": [
    "from sklearn.ensemble import RandomForestRegressor\n",
    "from sklearn.metrics import r2_score\n",
    "\n",
    "rf = RandomForestRegressor(n_estimators=1600, n_jobs=-1, random_state=42)\n",
    "rf.fit(X_train, y_train)\n",
    "predictions = rf.predict(X_test)\n",
    "importances = rf.feature_importances_\n",
    "std = np.std([tree.feature_importances_ for tree in rf.estimators_], axis=0)"
   ]
  },
  {
   "cell_type": "code",
   "execution_count": 20,
   "metadata": {},
   "outputs": [
    {
     "name": "stdout",
     "output_type": "stream",
     "text": [
      "0.9100503176534412\n"
     ]
    },
    {
     "data": {
      "text/plain": [
       "<AxesSubplot:>"
      ]
     },
     "execution_count": 20,
     "metadata": {},
     "output_type": "execute_result"
    },
    {
     "data": {
      "image/png": "[encoded data removed]",
      "text/plain": [
       "<Figure size 800x400 with 2 Axes>"
      ]
     },
     "metadata": {},
     "output_type": "display_data"
    }
   ],
   "source": [
    "fig, Ax = plt.subplots(1, 2, figsize=(8, 4))\n",
    "ax = np.ravel(Ax)\n",
    "ax[0].scatter(y_test, predictions)\n",
    "ax[0].set_xlabel(\"Observed\")\n",
    "ax[0].set_ylabel(\"Predictions\")\n",
    "print(r2_score(y_test, predictions))\n",
    "feature_names = [\"temp\", \"d2m\", \"ssr\", \"sw\", \"tp\", \"co2\"]\n",
    "rf_importances = pd.Series(importances, index=feature_names)\n",
    "rf_importances.plot.bar(yerr=std, ax=ax[1])"
   ]
  },
  {
   "cell_type": "code",
   "execution_count": 21,
   "metadata": {},
   "outputs": [],
   "source": [
    "all_predict = rf.predict(X_all)\n",
    "plt.scatter(all_predict, df[\"lai\"])\n",
    "print(r2_score(df[\"lai\"], all_predict))"
   ]
  },
  {
   "cell_type": "code",
   "execution_count": 13,
   "metadata": {},
   "outputs": [
    {
     "name": "stdout",
     "output_type": "stream",
     "text": [
      "nan\n",
      "1.978365\n",
      "18117120\n",
      "<xarray.DataArray '__xarray_dataarray_variable__' ()>\n",
      "array(1.9854021, dtype=float32)\n",
      "Coordinates:\n",
      "    band         int64 1\n",
      "    spatial_ref  int64 0\n"
     ]
    },
    {
     "data": {
      "text/plain": [
       "[<matplotlib.lines.Line2D at 0x7f83b277b730>]"
      ]
     },
     "execution_count": 13,
     "metadata": {},
     "output_type": "execute_result"
    },
    {
     "data": {
      "image/png": "[encoded data removed]",
      "text/plain": [
       "<Figure size 640x480 with 1 Axes>"
      ]
     },
     "metadata": {},
     "output_type": "display_data"
    }
   ],
   "source": [
    "I = df.index\n",
    "tmp = percent.isel(band=0).where(not_changed == True)\n",
    "predict_stack = tmp.stack(z=[\"time\", \"lat\", \"lon\"])\n",
    "predict_stack[:] = np.nan\n",
    "print(predict_stack.mean().values)\n",
    "print(np.nanmean(lai_not_changed_stacked))\n",
    "print(len(predict_stack))\n",
    "predict_stack_values = predict_stack.values\n",
    "\n",
    "predict_stack_values[I] = all_predict\n",
    "predict_stack.values = predict_stack_values\n",
    "\n",
    "predict_unstack = predict_stack.unstack()\n",
    "print(predict_unstack.mean())\n",
    "plt.plot(t, predict_unstack.mean([\"lat\", \"lon\"]).values, color=\"green\")\n",
    "plt.plot(t, lai_not_changed.mean([\"lat\", \"lon\"]).values, color=\"red\")\n"
   ]
  },
  {
   "cell_type": "code",
   "execution_count": 14,
   "metadata": {},
   "outputs": [
    {
     "data": {
      "text/plain": [
       "(6883915, 7)"
      ]
     },
     "execution_count": 14,
     "metadata": {},
     "output_type": "execute_result"
    }
   ],
   "source": [
    "temp_detrend_stacked = np.array([\n",
    "    lai_not_changed_stacked, temp_not_changed_anomaly_detrend_stacked,\n",
    "    d2m_not_changed_stacked, ssr_not_changed_stacked, sw_not_changed_stacked,\n",
    "    tp_not_changed_stacked, co2_not_changed_stacked\n",
    "]).transpose()\n",
    "df_detrend_temp = pd.DataFrame(\n",
    "    data=temp_detrend_stacked,\n",
    "    columns=[\"lai\", \"temp\", \"d2m\", \"ssr\", \"sw\", \"tp\", \"co2\"])\n",
    "df_detrend_temp = df_detrend_temp.dropna(axis=0, how=\"any\")\n",
    "df_detrend_temp.shape"
   ]
  },
  {
   "cell_type": "code",
   "execution_count": 15,
   "metadata": {},
   "outputs": [],
   "source": [
    "X_detrend = df_detrend_temp.iloc[:, 1:]\n",
    "temp_detrend_pred = rf.predict(X_detrend)"
   ]
  },
  {
   "cell_type": "code",
   "execution_count": 16,
   "metadata": {},
   "outputs": [
    {
     "name": "stdout",
     "output_type": "stream",
     "text": [
      "nan\n",
      "1.978365\n",
      "18117120\n",
      "2.0405889\n"
     ]
    },
    {
     "data": {
      "text/plain": [
       "[<matplotlib.lines.Line2D at 0x7f83cc4e8a30>]"
      ]
     },
     "execution_count": 16,
     "metadata": {},
     "output_type": "execute_result"
    },
    {
     "data": {
      "image/png": "[encoded data removed]",
      "text/plain": [
       "<Figure size 640x480 with 1 Axes>"
      ]
     },
     "metadata": {},
     "output_type": "display_data"
    }
   ],
   "source": [
    "II = df_detrend_temp.index\n",
    "tmp = percent.isel(band=0).where(not_changed == True)\n",
    "predict_stack_detrend = tmp.stack(z=[\"time\", \"lat\", \"lon\"])\n",
    "predict_stack_detrend[:] = np.nan\n",
    "print(predict_stack_detrend.mean().values)\n",
    "print(np.nanmean(lai_not_changed_stacked))\n",
    "print(len(predict_stack_detrend))\n",
    "predict_stack_detrend_values = predict_stack_detrend.values\n",
    "\n",
    "predict_stack_detrend_values[II] = temp_detrend_pred\n",
    "predict_stack_detrend.values = predict_stack_detrend_values\n",
    "\n",
    "predict_detrend_unstack = predict_stack_detrend.unstack()\n",
    "print(predict_detrend_unstack.mean().values)\n",
    "plt.plot(t, predict_detrend_unstack.mean([\"lat\", \"lon\"]).values, color=\"green\")\n",
    "plt.plot(t, lai_not_changed.mean([\"lat\", \"lon\"]).values, color=\"red\")\n"
   ]
  },
  {
   "cell_type": "code",
   "execution_count": null,
   "metadata": {},
   "outputs": [],
   "source": [
    "temp1 = temp_not_changed.sel(time=slice(\"1984\", \"1994\"))\n",
    "temp2 = temp_not_changed_detrend.sel(time=slice(\"1995\", \"2013\"))\n",
    "temp_combined = xr.concat([temp1, temp2], dim=\"time\")\n",
    "temp_combined_stacked = temp_combined.stack(z=[\"time\", \"lat\", \"lon\"]).values\n",
    "\n",
    "ssr1 = ssr_not_changed.sel(time=slice(\"1984\", \"1994\"))\n",
    "ssr2 = ssr_not_changed_detrend.sel(time=slice(\"1995\", \"2013\"))\n",
    "ssr_combined = xr.concat([ssr1, ssr2], dim=\"time\")\n",
    "ssr_combined_stacked = ssr_combined.stack(z=[\"time\", \"lat\", \"lon\"]).values\n",
    "\n",
    "co21 = co2_not_changed.sel(time=slice(\"1984\", \"1994\"))\n",
    "co22 = co2_not_changed_detrend.sel(time=slice(\"1995\", \"2013\"))\n",
    "co2_combined = xr.concat([co21, co22], dim=\"time\")\n",
    "co2_combined_stacked = co2_combined.stack(z=[\"time\", \"lat\", \"lon\"]).values\n"
   ]
  },
  {
   "cell_type": "code",
   "execution_count": null,
   "metadata": {},
   "outputs": [],
   "source": [
    "ssr2.mean()"
   ]
  },
  {
   "cell_type": "code",
   "execution_count": null,
   "metadata": {},
   "outputs": [],
   "source": [
    "temp_fixed = xr.where(temp_not_changed > 0, 265.62, temp_not_changed)\n",
    "temp_fixed_stacked = temp_fixed.stack(z=[\"time\", \"lat\", \"lon\"]).values\n"
   ]
  },
  {
   "cell_type": "code",
   "execution_count": null,
   "metadata": {},
   "outputs": [],
   "source": [
    "temp_detrend_stacked = np.array([\n",
    "    lai_not_changed_stacked, temp_combined_stacked, d2m_not_changed_stacked,\n",
    "    ssr_not_changed_stacked, sw_not_changed_stacked, tp_not_changed_stacked,\n",
    "    co2_combined_stacked\n",
    "]).transpose()\n",
    "df_detrend_temp = pd.DataFrame(\n",
    "    data=temp_detrend_stacked,\n",
    "    columns=[\"lai\", \"temp\", \"d2m\", \"ssr\", \"sw\", \"tp\", \"co2\"])\n",
    "df_detrend_temp = df_detrend_temp.dropna(axis=0, how=\"any\")\n",
    "X_combined = df_detrend_temp.iloc[:, 1:]\n",
    "df_detrend_temp.shape"
   ]
  },
  {
   "cell_type": "code",
   "execution_count": null,
   "metadata": {},
   "outputs": [],
   "source": [
    "temp_detrend_pred = rf.predict(X_combined)"
   ]
  },
  {
   "cell_type": "code",
   "execution_count": null,
   "metadata": {},
   "outputs": [],
   "source": [
    "II = df_detrend_temp.index\n",
    "tmp = percent.isel(band=0).where(not_changed == True)\n",
    "predict_stack_detrend = tmp.stack(z=[\"time\", \"lat\", \"lon\"])\n",
    "predict_stack_detrend[:] = np.nan\n",
    "print(predict_stack_detrend.mean().values)\n",
    "print(np.nanmean(lai_not_changed_stacked))\n",
    "print(len(predict_stack_detrend))\n",
    "predict_stack_detrend_values = predict_stack_detrend.values\n",
    "\n",
    "predict_stack_detrend_values[II] = temp_detrend_pred\n",
    "predict_stack_detrend.values = predict_stack_detrend_values\n",
    "\n",
    "predict_detrend_unstack = predict_stack_detrend.unstack()\n",
    "print(predict_detrend_unstack.mean().values)\n",
    "plt.plot(t, predict_detrend_unstack.mean([\"lat\", \"lon\"]).values, color=\"green\")\n",
    "plt.plot(t, lai_not_changed.mean([\"lat\", \"lon\"]).values, color=\"red\")\n"
   ]
  },
  {
   "cell_type": "code",
   "execution_count": null,
   "metadata": {},
   "outputs": [],
   "source": []
  },
  {
   "cell_type": "code",
   "execution_count": null,
   "metadata": {},
   "outputs": [],
   "source": [
    "from sklearn.ensemble import RandomForestRegressor\n",
    "from sklearn.model_selection import RandomizedSearchCV\n",
    "from pprint import pprint\n",
    "# Number of trees in random forest\n",
    "n_estimators = [int(x) for x in np.linspace(start=200, stop=2000, num=10)]\n",
    "# Number of features to consider at every split\n",
    "max_features = ['auto', 'sqrt']\n",
    "# Maximum number of levels in tree\n",
    "max_depth = [int(x) for x in np.linspace(10, 110, num=11)]\n",
    "max_depth.append(None)\n",
    "# Minimum number of samples required to split a node\n",
    "min_samples_split = [2, 5, 10]\n",
    "# Minimum number of samples required at each leaf node\n",
    "min_samples_leaf = [1, 2, 4]\n",
    "# Method of selecting samples for training each tree\n",
    "bootstrap = [True, False]\n",
    "# Create the random grid\n",
    "random_grid = {\n",
    "    'n_estimators': n_estimators,\n",
    "    'max_features': max_features,\n",
    "    'max_depth': max_depth,\n",
    "    'min_samples_split': min_samples_split,\n",
    "    'min_samples_leaf': min_samples_leaf,\n",
    "    'bootstrap': bootstrap\n",
    "}\n",
    "pprint(random_grid)"
   ]
  },
  {
   "cell_type": "code",
   "execution_count": null,
   "metadata": {},
   "outputs": [],
   "source": [
    "# Use the random grid to search for best hyperparameters\n",
    "# First create the base model to tune\n",
    "rf = RandomForestRegressor()\n",
    "# Random search of parameters, using 3 fold cross validation,\n",
    "# search across 100 different combinations, and use all available cores\n",
    "rf_random = RandomizedSearchCV(estimator=rf,\n",
    "                               param_distributions=random_grid,\n",
    "                               n_iter=100,\n",
    "                               cv=3,\n",
    "                               random_state=42,\n",
    "                               n_jobs=-1)\n",
    "# Fit the random search model\n",
    "rf_random.fit(X_train, y_train)"
   ]
  },
  {
   "cell_type": "code",
   "execution_count": null,
   "metadata": {},
   "outputs": [],
   "source": [
    "print(rf_random.best_params_)\n",
    "\n",
    "\n",
    "def evaluate(model, test_features, test_labels):\n",
    "    predictions = model.predict(test_features)\n",
    "    errors = abs(predictions - test_labels)\n",
    "    mape = 100 * np.mean(errors / test_labels)\n",
    "    accuracy = 100 - mape\n",
    "    print('Model Performance')\n",
    "    print('Average Error: {:0.4f} degrees.'.format(np.mean(errors)))\n",
    "    print('Accuracy = {:0.2f}%.'.format(accuracy))\n",
    "\n",
    "    return accuracy\n",
    "\n",
    "\n",
    "base_model = RandomForestRegressor(n_estimators=10, random_state=42)\n",
    "base_model.fit(X_train, y_train)\n",
    "base_accuracy = evaluate(base_model, X_test, y_test)\n",
    "\n",
    "best_random = rf_random.best_estimator_\n",
    "random_accuracy = evaluate(best_random, X_test, y_test)\n",
    "pprint('Improvement of {:0.2f}%.'.format(\n",
    "    100 * (random_accuracy - base_accuracy) / base_accuracy))\n",
    "\n",
    "# X_new = df_clean.iloc[:, 1:]\n",
    "# y_new = df_clean.iloc[:, 0]\n",
    "# new_predict = rf.predict(X_new)\n",
    "# plt.scatter(y_new, new_predict)"
   ]
  },
  {
   "cell_type": "code",
   "execution_count": null,
   "metadata": {},
   "outputs": [],
   "source": [
    "from sklearn.metrics import r2_score\n",
    "\n",
    "best_random = rf_random.best_estimator_\n",
    "y_predict = best_random.predict(X_test)\n",
    "plt.scatter(y_test, y_predict)\n",
    "print(r2_score(y_test, predictions))\n",
    "# X_new = df_clean.iloc[:, 1:]\n",
    "# y_new = df_clean.iloc[:, 0]\n",
    "# plt.scatter(y_new, y_predict)"
   ]
  },
  {
   "cell_type": "code",
   "execution_count": null,
   "metadata": {},
   "outputs": [],
   "source": [
    "temp_detrend_predict = rf.predict(X_temp_detrend_df.values)\n",
    "co2_detrend_predict = rf.predict(X_co2_detrend_df.values)\n",
    "sw_detrend_predict = rf.predict(X_sw_detrend_df.values)"
   ]
  },
  {
   "cell_type": "code",
   "execution_count": null,
   "metadata": {},
   "outputs": [],
   "source": [
    "co2_detrend_predict.mean()"
   ]
  },
  {
   "cell_type": "code",
   "execution_count": null,
   "metadata": {},
   "outputs": [],
   "source": [
    "I = df_clean.index\n",
    "lai_ef = lai.where(ef_fixed == True)\n",
    "lai_stack_orig = lai_ef.stack(z=[\"time\", \"lat\", \"lon\"])\n",
    "tmp = percent.isel(band=0).where(ef_fixed == True)\n",
    "predict_stack = tmp.stack(z=[\"time\", \"lat\", \"lon\"])\n",
    "predict_stack[:] = np.nan\n",
    "print(predict_stack.mean().values)\n",
    "print(lai_stack_orig.mean().values)\n",
    "for k in range(len(I)):\n",
    "    predict_stack[I[k]] = temp_detrend_predict[k]\n",
    "    # tmp_stack[I[k]] = 5\n",
    "predict_unstack = predict_stack.unstack()\n",
    "predict_unstack.mean()\n",
    "plt.plot(t, predict_unstack.mean([\"lat\", \"lon\"]).values, color=\"green\")\n",
    "plt.plot(t, lai_ef.mean([\"lat\", \"lon\"]).values, color=\"red\")\n"
   ]
  },
  {
   "cell_type": "code",
   "execution_count": null,
   "metadata": {},
   "outputs": [],
   "source": []
  },
  {
   "cell_type": "code",
   "execution_count": null,
   "metadata": {},
   "outputs": [],
   "source": [
    "tmp.mean()"
   ]
  },
  {
   "cell_type": "code",
   "execution_count": null,
   "metadata": {},
   "outputs": [],
   "source": [
    "predict_unstack.identical(tmp)\n",
    "# tmp.mean([\"lat\",\"lon\"]).plot()\n"
   ]
  },
  {
   "cell_type": "code",
   "execution_count": null,
   "metadata": {},
   "outputs": [],
   "source": [
    "predict_unstack.mean([\"lat\", \"lon\"]).plot()\n",
    "tmp.mean([\"lat\", \"lon\"]).plot(color=\"red\")\n"
   ]
  },
  {
   "cell_type": "code",
   "execution_count": null,
   "metadata": {},
   "outputs": [],
   "source": [
    "tmp.mean([\"lat\", \"lon\"]).plot()\n"
   ]
  },
  {
   "cell_type": "code",
   "execution_count": null,
   "metadata": {},
   "outputs": [],
   "source": [
    "df_clean"
   ]
  },
  {
   "cell_type": "code",
   "execution_count": null,
   "metadata": {},
   "outputs": [],
   "source": [
    "from sklearn.model_selection import RandomizedSearchCV\n",
    "from pprint import pprint\n",
    "# Number of trees in random forest\n",
    "n_estimators = [int(x) for x in np.linspace(start=200, stop=2000, num=10)]\n",
    "# Number of features to consider at every split\n",
    "max_features = ['auto', 'sqrt']\n",
    "# Maximum number of levels in tree\n",
    "max_depth = [int(x) for x in np.linspace(10, 110, num=11)]\n",
    "max_depth.append(None)\n",
    "# Minimum number of samples required to split a node\n",
    "min_samples_split = [2, 5, 10]\n",
    "# Minimum number of samples required at each leaf node\n",
    "min_samples_leaf = [1, 2, 4]\n",
    "# Method of selecting samples for training each tree\n",
    "bootstrap = [True, False]\n",
    "# Create the random grid\n",
    "random_grid = {\n",
    "    'n_estimators': n_estimators,\n",
    "    'max_features': max_features,\n",
    "    'max_depth': max_depth,\n",
    "    'min_samples_split': min_samples_split,\n",
    "    'min_samples_leaf': min_samples_leaf,\n",
    "    'bootstrap': bootstrap\n",
    "}\n",
    "pprint(random_grid)\n",
    "{\n",
    "    'bootstrap': [True, False],\n",
    "    'max_depth': [10, 20, 30, 40, 50, 60, 70, 80, 90, 100, None],\n",
    "    'max_features': ['auto', 'sqrt'],\n",
    "    'min_samples_leaf': [1, 2, 4],\n",
    "    'min_samples_split': [2, 5, 10],\n",
    "    'n_estimators': [200, 400, 600, 800, 1000, 1200, 1400, 1600, 1800, 2000]\n",
    "}\n"
   ]
  },
  {
   "cell_type": "code",
   "execution_count": null,
   "metadata": {},
   "outputs": [],
   "source": [
    "# Use the random grid to search for best hyperparameters\n",
    "# First create the base model to tune\n",
    "rf = RandomForestRegressor()\n",
    "# Random search of parameters, using 3 fold cross validation,\n",
    "# search across 100 different combinations, and use all available cores\n",
    "rf_random = RandomizedSearchCV(estimator=rf,\n",
    "                               param_distributions=random_grid,\n",
    "                               n_iter=100,\n",
    "                               cv=3,\n",
    "                               random_state=42,\n",
    "                               n_jobs=-1)\n",
    "# Fit the random search model\n",
    "rf_random.fit(X_train, y_train)"
   ]
  },
  {
   "cell_type": "code",
   "execution_count": null,
   "metadata": {},
   "outputs": [],
   "source": [
    "rf_random.best_params_"
   ]
  },
  {
   "cell_type": "code",
   "execution_count": null,
   "metadata": {},
   "outputs": [],
   "source": [
    "def evaluate(model, test_features, test_labels):\n",
    "    predictions = model.predict(test_features)\n",
    "    errors = abs(predictions - test_labels)\n",
    "    mape = 100 * np.mean(errors / test_labels)\n",
    "    accuracy = 100 - mape\n",
    "    print('Model Performance')\n",
    "    print('Average Error: {:0.4f} degrees.'.format(np.mean(errors)))\n",
    "    print('Accuracy = {:0.2f}%.'.format(accuracy))\n",
    "\n",
    "    return accuracy\n",
    "\n",
    "\n",
    "base_model = RandomForestRegressor(n_estimators=1000,\n",
    "                                   n_jobs=-1,\n",
    "                                   random_state=42)\n",
    "base_model.fit(X_train, y_train)\n",
    "base_accuracy = evaluate(base_model, X_test, y_test)\n",
    "\n",
    "best_random = rf_random.best_estimator_\n",
    "random_accuracy = evaluate(best_random, X_test, y_test)\n",
    "print('Improvement of {:0.2f}%.'.format(\n",
    "    100 * (random_accuracy - base_accuracy) / base_accuracy))\n"
   ]
  },
  {
   "cell_type": "code",
   "execution_count": null,
   "metadata": {},
   "outputs": [],
   "source": [
    "from sklearn.model_selection import GridSearchCV\n",
    "# Create the parameter grid based on the results of random search\n",
    "param_grid = {\n",
    "    'bootstrap': [True],\n",
    "    'max_depth': [80, 90, 100, 110],\n",
    "    'max_features': [2, 3],\n",
    "    'min_samples_leaf': [3, 4, 5],\n",
    "    'min_samples_split': [8, 10, 12],\n",
    "    'n_estimators': [100, 200, 300, 1000]\n",
    "}\n",
    "# Create a based model\n",
    "rf = RandomForestRegressor()\n",
    "# Instantiate the grid search model\n",
    "grid_search = GridSearchCV(estimator=rf,\n",
    "                           param_grid=param_grid,\n",
    "                           cv=3,\n",
    "                           n_jobs=-1,\n",
    "                           verbose=2)\n"
   ]
  },
  {
   "cell_type": "code",
   "execution_count": null,
   "metadata": {},
   "outputs": [],
   "source": [
    "\n"
   ]
  },
  {
   "cell_type": "code",
   "execution_count": null,
   "metadata": {},
   "outputs": [],
   "source": [
    "arr_val = arr.values\n",
    "repo[:] = np.nan\n",
    "\n",
    "p_value = np.empty((repo.shape[0], repo.shape[1]))\n",
    "p_value[:] = np.nan\n",
    "\n",
    "actual = np.empty((repo.shape[0], repo.shape[1]))\n",
    "actual[:] = np.nans\n",
    "\n",
    "predicted = np.empty((repo.shape[0], repo.shape[1]))\n",
    "predicted[:] = np.nan\n",
    "\n",
    "abs_effect = np.empty((repo.shape[0], repo.shape[1]))\n",
    "abs_effect[:] = np.nan\n",
    "\n",
    "rel_effect = np.empty((repo.shape[0], repo.shape[1]))\n",
    "rel_effect[:] = np.nan\n",
    "\n",
    "actual_cum = np.empty((repo.shape[0], repo.shape[1]))\n",
    "actual_cum[:] = np.nan\n",
    "\n",
    "predicted_cum = np.empty((repo.shape[0], repo.shape[1]))\n",
    "predicted_cum[:] = np.nan\n",
    "\n",
    "abs_effect_cum = np.empty((repo.shape[0], repo.shape[1]))\n",
    "abs_effect_cum[:] = np.nan\n",
    "\n",
    "rel_effect_cum = np.empty((repo.shape[0], repo.shape[1]))\n",
    "rel_effect_cum[:] = np.nan\n",
    "\n",
    "for i in range(len(arr_idx)):\n",
    "    I = np.argwhere(arr_val == arr_idx[i])\n",
    "    p_value[I[0][0], I[0][1]] = df.loc[\"p_value\"][i]\n",
    "    actual[I[0][0], I[0][1]] = df.loc[\"actual\"][i]\n",
    "    predicted[I[0][0], I[0][1]] = df.loc[\"predicted\"][i]\n",
    "    abs_effect[I[0][0], I[0][1]] = df.loc[\"abs_effect\"][i]\n",
    "    rel_effect[I[0][0], I[0][1]] = df.loc[\"rel_effect\"][i]\n",
    "    actual_cum[I[0][0], I[0][1]] = df.loc[\"actual_cum\"][i]\n",
    "    predicted_cum[I[0][0], I[0][1]] = df.loc[\"predicted_cum\"][i]\n",
    "    abs_effect_cum[I[0][0], I[0][1]] = df.loc[\"abs_effect_cum\"][i]\n",
    "    rel_effect_cum[I[0][0], I[0][1]] = df.loc[\"rel_effect_cum\"][i]\n"
   ]
  },
  {
   "cell_type": "code",
   "execution_count": null,
   "metadata": {},
   "outputs": [],
   "source": [
    "CI_p_value = repo.copy(data=p_value)\n",
    "CI_actual = repo.copy(data=actual)\n",
    "CI_predicted = repo.copy(data=predicted)\n",
    "CI_abs_effect = repo.copy(data=abs_effect)\n"
   ]
  },
  {
   "cell_type": "code",
   "execution_count": null,
   "metadata": {},
   "outputs": [],
   "source": [
    "CI_abs_effect.where(CI_p_value <= 0.05).plot.hist()\n"
   ]
  },
  {
   "cell_type": "code",
   "execution_count": null,
   "metadata": {},
   "outputs": [],
   "source": [
    "abs_effect[np.where(p_value <= 0.05)].mean()\n"
   ]
  },
  {
   "cell_type": "code",
   "execution_count": null,
   "metadata": {},
   "outputs": [],
   "source": [
    "b = df.loc[\"abs_effect\"].where(df.loc[\"p_value\"] <= 0.05)\n",
    "b.mean()"
   ]
  }
 ],
 "metadata": {
  "kernelspec": {
   "display_name": "geospatial",
   "language": "python",
   "name": "python3"
  },
  "language_info": {
   "codemirror_mode": {
    "name": "ipython",
    "version": 3
   },
   "file_extension": ".py",
   "mimetype": "text/x-python",
   "name": "python",
   "nbconvert_exporter": "python",
   "pygments_lexer": "ipython3",
   "version": "3.9.16"
  },
  "orig_nbformat": 4
 },
 "nbformat": 4,
 "nbformat_minor": 2
}
