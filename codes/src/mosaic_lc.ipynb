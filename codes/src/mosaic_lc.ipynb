{
 "cells": [
  {
   "cell_type": "code",
   "execution_count": 2,
   "metadata": {},
   "outputs": [],
   "source": [
    "import xarray as xr\n",
    "import pandas as pd\n",
    "import rasterio\n",
    "from rasterio.merge import merge\n",
    "import glob\n",
    "import numpy as np\n"
   ]
  },
  {
   "cell_type": "code",
   "execution_count": 13,
   "metadata": {},
   "outputs": [],
   "source": [
    "dir =\"/data/home/hamiddashti/hamid/nasa_above/greeness/data/\"\n",
    "out_dir = dir+\"raw_data/landcover/mosaic/\"\n",
    "fnames = glob.glob(dir + \"raw_data/landcover/raw/Annual_Landcover_ABoVE_1691/data/*Simplified*\")\n"
   ]
  },
  {
   "cell_type": "code",
   "execution_count": 16,
   "metadata": {},
   "outputs": [
    {
     "data": {
      "text/plain": [
       "['/data/home/hamiddashti/hamid/nasa_above/greeness/data/raw_data/landcover/raw/Annual_Landcover_ABoVE_1691/data/ABoVE_LandCover_Simplified_Bh06v03.tif',\n",
       " '/data/home/hamiddashti/hamid/nasa_above/greeness/data/raw_data/landcover/raw/Annual_Landcover_ABoVE_1691/data/ABoVE_LandCover_Simplified_Bh16v14.tif']"
      ]
     },
     "execution_count": 16,
     "metadata": {},
     "output_type": "execute_result"
    }
   ],
   "source": []
  },
  {
   "cell_type": "code",
   "execution_count": 14,
   "metadata": {},
   "outputs": [
    {
     "data": {
      "text/plain": [
       "[<open DatasetReader name='/data/home/hamiddashti/hamid/nasa_above/greeness/data/raw_data/landcover/raw/Annual_Landcover_ABoVE_1691/data/ABoVE_LandCover_Simplified_Bh06v03.tif' mode='r'>,\n",
       " <open DatasetReader name='/data/home/hamiddashti/hamid/nasa_above/greeness/data/raw_data/landcover/raw/Annual_Landcover_ABoVE_1691/data/ABoVE_LandCover_Simplified_Bh16v14.tif' mode='r'>]"
      ]
     },
     "execution_count": 14,
     "metadata": {},
     "output_type": "execute_result"
    }
   ],
   "source": [
    "src_files_to_mosaic = []\n",
    "for fp in fnames:\n",
    "    src = rasterio.open(fp)\n",
    "    src_files_to_mosaic.append(src)\n",
    "src_files_to_mosaic"
   ]
  },
  {
   "cell_type": "code",
   "execution_count": 15,
   "metadata": {},
   "outputs": [
    {
     "name": "stdout",
     "output_type": "stream",
     "text": [
      "mosaic year: 1984\n",
      "mosaic year: 1985\n"
     ]
    }
   ],
   "source": [
    "years = pd.date_range(start='1984', end='1986', freq='A').year\n",
    "for i in range(1, len(years) + 1):\n",
    "    print(f\"mosaic year: {years[i-1]}\")\n",
    "    mosaic, out_trans = merge(src_files_to_mosaic, indexes=[i])\n",
    "    out_meta = src.meta.copy()\n",
    "    # Update the metadata\n",
    "    out_meta.update({\n",
    "        \"driver\": \"GTiff\",\n",
    "        \"height\": mosaic.shape[1],\n",
    "        \"width\": mosaic.shape[2],\n",
    "        \"transform\": out_trans,\n",
    "        \"crs\": src.crs,\n",
    "        \"count\": 1\n",
    "    })\n",
    "\n",
    "    with rasterio.open(out_dir + \"mosaic_\" + str(years[i - 1]) + \".tif\",\n",
    "                       \"w\",\n",
    "                       **out_meta,\n",
    "                       compress='lzw') as dest:\n",
    "        dest.write(mosaic)"
   ]
  }
 ],
 "metadata": {
  "kernelspec": {
   "display_name": "Python 3.9.13 ('geospatial')",
   "language": "python",
   "name": "python3"
  },
  "language_info": {
   "codemirror_mode": {
    "name": "ipython",
    "version": 3
   },
   "file_extension": ".py",
   "mimetype": "text/x-python",
   "name": "python",
   "nbconvert_exporter": "python",
   "pygments_lexer": "ipython3",
   "version": "3.9.13"
  },
  "orig_nbformat": 4,
  "vscode": {
   "interpreter": {
    "hash": "58d4357dc51a73699c5449b037ed9e8ebf9460004e4993ef846dc1036514c650"
   }
  }
 },
 "nbformat": 4,
 "nbformat_minor": 2
}
