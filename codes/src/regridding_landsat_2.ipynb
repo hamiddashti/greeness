{
 "cells": [
  {
   "cell_type": "code",
   "execution_count": 1,
   "metadata": {},
   "outputs": [],
   "source": [
    "import xarray as xr\n",
    "import numpy as np\n",
    "import rioxarray\n",
    "from rasterio.enums import Resampling\n",
    "import glob\n",
    "import pandas as pd\n",
    "import time\n",
    "from dask.diagnostics import ProgressBar\n",
    "import xesmf as xe\n",
    "import dask.distributed\n",
    "import dask\n",
    "\n",
    "dir = \"/data/home/hamiddashti/hamid/nasa_above/greeness/\"\n",
    "\n",
    "in_dir = dir + (\"data/processed_data/landsat/mosaic/\")\n",
    "out_dir = dir + (\"data/processed_data/landsat/resampled/\")\n",
    "\n",
    "target_image = xr.open_dataset(\n",
    "    dir +\n",
    "    \"data/processed_data/noaa_nc/lai_fapar/resampled/lai_annual_resample_max_1984_2013.nc\"\n",
    ")[\"LAI\"].isel(time=5)\n",
    "arr = xr.open_dataarray(\"../data/arr_id.nc\")\n",
    "target_image = target_image.rio.write_crs(\"EPSG:4326\").rename({\n",
    "    \"latitude\": \"lat\",\n",
    "    \"longitude\": \"lon\"\n",
    "})\n",
    "# Grid of the target image \n",
    "lat1 = target_image[\"lat\"].values\n",
    "lon1 = target_image[\"lon\"].values"
   ]
  },
  {
   "attachments": {},
   "cell_type": "markdown",
   "metadata": {},
   "source": [
    "Resmpling TM and ETM NDVI and make the values between the two sensors consistent"
   ]
  },
  {
   "cell_type": "code",
   "execution_count": null,
   "metadata": {},
   "outputs": [],
   "source": [
    "for i in np.arange(1995,2015):\n",
    "    print(\"resampling NDVI TM of the year : \"+str(i))\n",
    "    ref_image = xr.open_dataarray(in_dir + \"mosaic_NDVI_\"+str(i)+\"_TM5.tif\", engine=\"rasterio\",chunks={\"y\":2500,\"x\":2500})\n",
    "    ref_reproj = ref_image.rio.reproject(4326,esampling=Resampling.nearest)\n",
    "    ref_reproj = ref_reproj.rename({\"y\": \"lat\",\"x\": \"lon\"}).squeeze()\n",
    "    var_regridded = ref_reproj.interp(lat=lat1,lon=lon1,method='linear')\n",
    "    var_regridded.to_netcdf(dir+\"data/processed_data/landsat/resampled/NDVI_resampled_\"+str(i)+\"_TM_v2.nc\")"
   ]
  },
  {
   "cell_type": "code",
   "execution_count": null,
   "metadata": {},
   "outputs": [],
   "source": [
    "for i in np.arange(1999,2015):\n",
    "    print(\"Correcting and resampling ETM of the year : \"+str(i))\n",
    "    ref_image = xr.open_dataarray(in_dir + \"mosaic_NDVI_\"+str(i)+\"_ETM.tif\", engine=\"rasterio\",chunks={\"y\":2500,\"x\":2500})\n",
    "    ref_image = ref_image/10000\n",
    "    ref_image_cor = (ref_image+0.015)/1.095\n",
    "    ref_image_cor = ref_image_cor*10000\n",
    "    ref_reproj = ref_image_cor.rio.reproject(4326,esampling=Resampling.nearest)\n",
    "    ref_reproj = ref_reproj.rename({\"y\": \"lat\",\"x\": \"lon\"}).squeeze()\n",
    "    var_regridded = ref_reproj.interp(lat=lat1,lon=lon1,method='linear')\n",
    "    var_regridded.to_netcdf(dir+\"data/processed_data/landsat/resampled/NDVI_resampled_\"+str(i)+\"_ETMCor_v2.nc\")"
   ]
  },
  {
   "cell_type": "code",
   "execution_count": null,
   "metadata": {},
   "outputs": [],
   "source": [
    "# Correcting for large values outside of the region. \n",
    "for i in range(1999,2015):\n",
    "    print(i)\n",
    "    da=xr.open_dataset(dir+\"data/processed_data/landsat/resampled/NDVI_resampled_\"+str(i)+\"_ETMCor_v2.nc\")[\"band_data\"]\n",
    "    da = da.where(da<10000)\n",
    "    da.to_netcdf(dir+\"data/processed_data/landsat/resampled/NDVI_resampled_\"+str(i)+\"_ETMCor_v3.nc\")\n",
    "\n",
    "fnames= []\n",
    "for i in np.arange(1984,2015):\n",
    "    if i<=1999:\n",
    "        fnames.append(dir+\"data/processed_data/landsat/resampled/NDVI_resampled_\"+str(i)+\"_TM_v2.nc\")\n",
    "        continue\n",
    "    fnames.append(dir+\"data/processed_data/landsat/resampled/NDVI_resampled_\"+str(i)+\"_ETMCor_v3.nc\") \n",
    "t=pd.date_range(start=\"1984\",end=\"2015\",freq=\"A\").year\n",
    "ds = xr.open_mfdataset(fnames,concat_dim=\"time\",combine=\"nested\").rename_vars({\"band_data\":\"NDVI\"})\n",
    "ds[\"time\"]=t\n",
    "da = ds[\"NDVI\"]\n",
    "da.to_netcdf(dir+\"data/processed_data/landsat/resampled/NDVI_resampled_v2.nc\")"
   ]
  },
  {
   "cell_type": "markdown",
   "metadata": {},
   "source": [
    "Resmpling TM and ETM NIR and make the values between the two sensors consistent"
   ]
  },
  {
   "cell_type": "code",
   "execution_count": null,
   "metadata": {},
   "outputs": [],
   "source": [
    "for i in np.arange(1984,1995):\n",
    "    print(\"resampling NIR TM of the year : \"+str(i))\n",
    "    ref_image = xr.open_dataarray(in_dir + \"mosaic_NIR_\"+str(i)+\"_TM5.tif\", engine=\"rasterio\",chunks={\"y\":2500,\"x\":2500})\n",
    "    ref_reproj = ref_image.rio.reproject(4326,esampling=Resampling.nearest)\n",
    "    ref_reproj = ref_reproj.rename({\"y\": \"lat\",\"x\": \"lon\"}).squeeze()\n",
    "    var_regridded = ref_reproj.interp(lat=lat1,lon=lon1,method='linear')\n",
    "    var_regridded.to_netcdf(dir+\"data/processed_data/landsat/resampled/NIR_resampled_\"+str(i)+\"_TM_v2.nc\")"
   ]
  },
  {
   "cell_type": "code",
   "execution_count": null,
   "metadata": {},
   "outputs": [],
   "source": [
    "for i in np.arange(1999,2015):\n",
    "    print(\"Correcting and resampling NIR ETM of the year : \"+str(i))\n",
    "    ref_image = xr.open_dataarray(in_dir + \"mosaic_NIR_\"+str(i)+\"_ETM.tif\", engine=\"rasterio\",chunks={\"y\":2500,\"x\":2500})\n",
    "    ref_image = ref_image/10000\n",
    "    ref_image_cor = (ref_image+0.004)/1.052\n",
    "    ref_image_cor = ref_image_cor*10000\n",
    "    ref_reproj = ref_image_cor.rio.reproject(4326,esampling=Resampling.nearest)\n",
    "    ref_reproj = ref_reproj.rename({\"y\": \"lat\",\"x\": \"lon\"}).squeeze()\n",
    "    var_regridded = ref_reproj.interp(lat=lat1,lon=lon1,method='linear')\n",
    "    var_regridded.to_netcdf(dir+\"data/processed_data/landsat/resampled/NIR_resampled_\"+str(i)+\"_ETMCor_v2.nc\")"
   ]
  },
  {
   "cell_type": "code",
   "execution_count": null,
   "metadata": {},
   "outputs": [],
   "source": [
    "# Correcting for large values outside of the region. \n",
    "for i in range(1999,2015):\n",
    "    print(i)\n",
    "    da=xr.open_dataset(dir+\"data/processed_data/landsat/resampled/NIR_resampled_\"+str(i)+\"_ETMCor_v2.nc\")[\"band_data\"]\n",
    "    da = da.where(da<10000)\n",
    "    da.to_netcdf(dir+\"data/processed_data/landsat/resampled/NIR_resampled_\"+str(i)+\"_ETMCor_v3.nc\")\n",
    "fnames= []\n",
    "for i in np.arange(1984,2015):\n",
    "    if i<=1999:\n",
    "        fnames.append(dir+\"data/processed_data/landsat/resampled/NIR_resampled_\"+str(i)+\"_TM_v2.nc\")\n",
    "        continue\n",
    "    fnames.append(dir+\"data/processed_data/landsat/resampled/NIR_resampled_\"+str(i)+\"_ETMCor_v3.nc\") \n",
    "t=pd.date_range(start=\"1984\",end=\"2015\",freq=\"A\").year\n",
    "ds = xr.open_mfdataset(fnames,concat_dim=\"time\",combine=\"nested\").rename_vars({\"band_data\":\"NIR\"})\n",
    "ds[\"time\"]=t\n",
    "da = ds[\"NIR\"]\n",
    "da.to_netcdf(dir+\"data/processed_data/landsat/resampled/NIR_resampled_v2.nc\")"
   ]
  },
  {
   "cell_type": "code",
   "execution_count": null,
   "metadata": {},
   "outputs": [],
   "source": [
    "for i in np.arange(1984,2013):\n",
    "    print(\"resampling SWIR TM of the year : \"+str(i))\n",
    "    ref_image = xr.open_dataarray(in_dir + \"mosaic_SWIR2_\"+str(i)+\"_TM5.tif\", engine=\"rasterio\",chunks={\"y\":2500,\"x\":2500})\n",
    "    ref_reproj = ref_image.rio.reproject(4326,esampling=Resampling.nearest)\n",
    "    ref_reproj = ref_reproj.rename({\"y\": \"lat\",\"x\": \"lon\"}).squeeze()\n",
    "    var_regridded = ref_reproj.interp(lat=lat1,lon=lon1,method='linear')\n",
    "    var_regridded.to_netcdf(dir+\"data/processed_data/landsat/resampled/SWIR2_resampled_\"+str(i)+\"_TM_v2.nc\")"
   ]
  },
  {
   "cell_type": "code",
   "execution_count": null,
   "metadata": {},
   "outputs": [],
   "source": [
    "for i in np.arange(1999,2015):\n",
    "\n",
    "    print(\"Correcting and resampling SWIR ETM of the year : \"+str(i))\n",
    "    ref_image = xr.open_dataarray(in_dir + \"mosaic_SWIR2_\"+str(i)+\"_ETM.tif\", engine=\"rasterio\",chunks={\"y\":2500,\"x\":2500})\n",
    "    ref_image = ref_image/10000\n",
    "    ref_image_cor = (ref_image-0.003)/0.903\n",
    "    ref_image_cor = ref_image_cor*10000\n",
    "    ref_reproj = ref_image_cor.rio.reproject(4326,esampling=Resampling.nearest)\n",
    "    ref_reproj = ref_reproj.rename({\"y\": \"lat\",\"x\": \"lon\"}).squeeze()\n",
    "    var_regridded = ref_reproj.interp(lat=lat1,lon=lon1,method='linear')\n",
    "    var_regridded.to_netcdf(dir+\"data/processed_data/landsat/resampled/SWIR2_resampled_\"+str(i)+\"_ETMCor_v2.nc\")"
   ]
  },
  {
   "cell_type": "code",
   "execution_count": 2,
   "metadata": {},
   "outputs": [
    {
     "name": "stdout",
     "output_type": "stream",
     "text": [
      "Calculate NBR and NIRv TM: 2006\n"
     ]
    },
    {
     "name": "stderr",
     "output_type": "stream",
     "text": [
      "/data/home/hamiddashti/miniconda3/envs/geo/lib/python3.9/site-packages/dask/core.py:119: RuntimeWarning: divide by zero encountered in divide\n",
      "  return func(*(_execute_task(a, cache) for a in args))\n",
      "/data/home/hamiddashti/miniconda3/envs/geo/lib/python3.9/site-packages/scipy/interpolate/_interpolate.py:698: RuntimeWarning: invalid value encountered in subtract\n",
      "  slope = (y_hi - y_lo) / (x_hi - x_lo)[:, None]\n",
      "/data/home/hamiddashti/miniconda3/envs/geo/lib/python3.9/site-packages/scipy/interpolate/_interpolate.py:701: RuntimeWarning: invalid value encountered in add\n",
      "  y_new = slope*(x_new - x_lo)[:, None] + y_lo\n"
     ]
    },
    {
     "name": "stdout",
     "output_type": "stream",
     "text": [
      "Calculate NBR and NIRv TM: 2007\n"
     ]
    },
    {
     "name": "stderr",
     "output_type": "stream",
     "text": [
      "/data/home/hamiddashti/miniconda3/envs/geo/lib/python3.9/site-packages/dask/core.py:119: RuntimeWarning: divide by zero encountered in divide\n",
      "  return func(*(_execute_task(a, cache) for a in args))\n",
      "/data/home/hamiddashti/miniconda3/envs/geo/lib/python3.9/site-packages/scipy/interpolate/_interpolate.py:698: RuntimeWarning: invalid value encountered in subtract\n",
      "  slope = (y_hi - y_lo) / (x_hi - x_lo)[:, None]\n",
      "/data/home/hamiddashti/miniconda3/envs/geo/lib/python3.9/site-packages/scipy/interpolate/_interpolate.py:701: RuntimeWarning: invalid value encountered in add\n",
      "  y_new = slope*(x_new - x_lo)[:, None] + y_lo\n"
     ]
    },
    {
     "name": "stdout",
     "output_type": "stream",
     "text": [
      "Calculate NBR and NIRv TM: 2008\n"
     ]
    },
    {
     "name": "stderr",
     "output_type": "stream",
     "text": [
      "/data/home/hamiddashti/miniconda3/envs/geo/lib/python3.9/site-packages/dask/core.py:119: RuntimeWarning: divide by zero encountered in divide\n",
      "  return func(*(_execute_task(a, cache) for a in args))\n",
      "/data/home/hamiddashti/miniconda3/envs/geo/lib/python3.9/site-packages/scipy/interpolate/_interpolate.py:698: RuntimeWarning: invalid value encountered in subtract\n",
      "  slope = (y_hi - y_lo) / (x_hi - x_lo)[:, None]\n",
      "/data/home/hamiddashti/miniconda3/envs/geo/lib/python3.9/site-packages/scipy/interpolate/_interpolate.py:701: RuntimeWarning: invalid value encountered in add\n",
      "  y_new = slope*(x_new - x_lo)[:, None] + y_lo\n"
     ]
    },
    {
     "name": "stdout",
     "output_type": "stream",
     "text": [
      "Calculate NBR and NIRv TM: 2009\n"
     ]
    },
    {
     "name": "stderr",
     "output_type": "stream",
     "text": [
      "/data/home/hamiddashti/miniconda3/envs/geo/lib/python3.9/site-packages/dask/core.py:119: RuntimeWarning: divide by zero encountered in divide\n",
      "  return func(*(_execute_task(a, cache) for a in args))\n",
      "/data/home/hamiddashti/miniconda3/envs/geo/lib/python3.9/site-packages/scipy/interpolate/_interpolate.py:698: RuntimeWarning: invalid value encountered in subtract\n",
      "  slope = (y_hi - y_lo) / (x_hi - x_lo)[:, None]\n",
      "/data/home/hamiddashti/miniconda3/envs/geo/lib/python3.9/site-packages/scipy/interpolate/_interpolate.py:701: RuntimeWarning: invalid value encountered in add\n",
      "  y_new = slope*(x_new - x_lo)[:, None] + y_lo\n"
     ]
    },
    {
     "name": "stdout",
     "output_type": "stream",
     "text": [
      "Calculate NBR and NIRv TM: 2010\n"
     ]
    },
    {
     "name": "stderr",
     "output_type": "stream",
     "text": [
      "/data/home/hamiddashti/miniconda3/envs/geo/lib/python3.9/site-packages/dask/core.py:119: RuntimeWarning: divide by zero encountered in divide\n",
      "  return func(*(_execute_task(a, cache) for a in args))\n",
      "/data/home/hamiddashti/miniconda3/envs/geo/lib/python3.9/site-packages/scipy/interpolate/_interpolate.py:698: RuntimeWarning: invalid value encountered in subtract\n",
      "  slope = (y_hi - y_lo) / (x_hi - x_lo)[:, None]\n",
      "/data/home/hamiddashti/miniconda3/envs/geo/lib/python3.9/site-packages/scipy/interpolate/_interpolate.py:701: RuntimeWarning: invalid value encountered in add\n",
      "  y_new = slope*(x_new - x_lo)[:, None] + y_lo\n"
     ]
    },
    {
     "name": "stdout",
     "output_type": "stream",
     "text": [
      "Calculate NBR and NIRv TM: 2011\n"
     ]
    },
    {
     "name": "stderr",
     "output_type": "stream",
     "text": [
      "/data/home/hamiddashti/miniconda3/envs/geo/lib/python3.9/site-packages/dask/core.py:119: RuntimeWarning: divide by zero encountered in divide\n",
      "  return func(*(_execute_task(a, cache) for a in args))\n",
      "/data/home/hamiddashti/miniconda3/envs/geo/lib/python3.9/site-packages/scipy/interpolate/_interpolate.py:698: RuntimeWarning: invalid value encountered in subtract\n",
      "  slope = (y_hi - y_lo) / (x_hi - x_lo)[:, None]\n",
      "/data/home/hamiddashti/miniconda3/envs/geo/lib/python3.9/site-packages/scipy/interpolate/_interpolate.py:701: RuntimeWarning: invalid value encountered in add\n",
      "  y_new = slope*(x_new - x_lo)[:, None] + y_lo\n"
     ]
    },
    {
     "name": "stdout",
     "output_type": "stream",
     "text": [
      "Calculate NBR and NIRv TM: 2012\n",
      "Unexpected exception formatting exception. Falling back to standard exception\n"
     ]
    },
    {
     "name": "stderr",
     "output_type": "stream",
     "text": [
      "Traceback (most recent call last):\n",
      "  File \"/data/home/hamiddashti/miniconda3/envs/geo/lib/python3.9/site-packages/xarray/backends/file_manager.py\", line 210, in _acquire_with_cache_info\n",
      "    file = self._cache[self._key]\n",
      "  File \"/data/home/hamiddashti/miniconda3/envs/geo/lib/python3.9/site-packages/xarray/backends/lru_cache.py\", line 56, in __getitem__\n",
      "    value = self._cache[key]\n",
      "KeyError: [<function open at 0x7fb8d3bea670>, ('/data/home/hamiddashti/hamid/nasa_above/greeness/data/processed_data/landsat/mosaic/mosaic_NIR_2012_TM5.tif',), 'r', (('sharing', False),), '0ccdffd7-3ba3-4a81-b72f-d632888431cf']\n",
      "\n",
      "During handling of the above exception, another exception occurred:\n",
      "\n",
      "Traceback (most recent call last):\n",
      "  File \"rasterio/_base.pyx\", line 308, in rasterio._base.DatasetBase.__init__\n",
      "  File \"rasterio/_base.pyx\", line 219, in rasterio._base.open_dataset\n",
      "  File \"rasterio/_err.pyx\", line 221, in rasterio._err.exc_wrap_pointer\n",
      "rasterio._err.CPLE_OpenFailedError: /data/home/hamiddashti/hamid/nasa_above/greeness/data/processed_data/landsat/mosaic/mosaic_NIR_2012_TM5.tif: No such file or directory\n",
      "\n",
      "During handling of the above exception, another exception occurred:\n",
      "\n",
      "Traceback (most recent call last):\n",
      "  File \"/data/home/hamiddashti/miniconda3/envs/geo/lib/python3.9/site-packages/IPython/core/interactiveshell.py\", line 3460, in run_code\n",
      "    exec(code_obj, self.user_global_ns, self.user_ns)\n",
      "  File \"/tmp/ipykernel_2609634/2305169297.py\", line 3, in <module>\n",
      "    nir = xr.open_dataarray(in_dir + \"mosaic_NIR_\"+str(i)+\"_TM5.tif\", engine=\"rasterio\",chunks={\"y\":2500,\"x\":2500})\n",
      "  File \"/data/home/hamiddashti/miniconda3/envs/geo/lib/python3.9/site-packages/xarray/backends/api.py\", line 687, in open_dataarray\n",
      "    dataset = open_dataset(\n",
      "  File \"/data/home/hamiddashti/miniconda3/envs/geo/lib/python3.9/site-packages/xarray/backends/api.py\", line 526, in open_dataset\n",
      "    backend_ds = backend.open_dataset(\n",
      "  File \"/data/home/hamiddashti/miniconda3/envs/geo/lib/python3.9/site-packages/rioxarray/xarray_plugin.py\", line 56, in open_dataset\n",
      "    rds = _io.open_rasterio(\n",
      "  File \"/data/home/hamiddashti/miniconda3/envs/geo/lib/python3.9/site-packages/rioxarray/_io.py\", line 1087, in open_rasterio\n",
      "    riods = manager.acquire()\n",
      "  File \"/data/home/hamiddashti/miniconda3/envs/geo/lib/python3.9/site-packages/xarray/backends/file_manager.py\", line 192, in acquire\n",
      "    file, _ = self._acquire_with_cache_info(needs_lock)\n",
      "  File \"/data/home/hamiddashti/miniconda3/envs/geo/lib/python3.9/site-packages/xarray/backends/file_manager.py\", line 216, in _acquire_with_cache_info\n",
      "    file = self._opener(*self._args, **kwargs)\n",
      "  File \"/data/home/hamiddashti/miniconda3/envs/geo/lib/python3.9/site-packages/rasterio/env.py\", line 451, in wrapper\n",
      "    return f(*args, **kwds)\n",
      "  File \"/data/home/hamiddashti/miniconda3/envs/geo/lib/python3.9/site-packages/rasterio/__init__.py\", line 304, in open\n",
      "    dataset = DatasetReader(path, driver=driver, sharing=sharing, **kwargs)\n",
      "  File \"rasterio/_base.pyx\", line 310, in rasterio._base.DatasetBase.__init__\n",
      "rasterio.errors.RasterioIOError: /data/home/hamiddashti/hamid/nasa_above/greeness/data/processed_data/landsat/mosaic/mosaic_NIR_2012_TM5.tif: No such file or directory\n",
      "\n",
      "During handling of the above exception, another exception occurred:\n",
      "\n",
      "Traceback (most recent call last):\n",
      "  File \"/data/home/hamiddashti/miniconda3/envs/geo/lib/python3.9/site-packages/IPython/core/interactiveshell.py\", line 2057, in showtraceback\n",
      "    stb = self.InteractiveTB.structured_traceback(\n",
      "  File \"/data/home/hamiddashti/miniconda3/envs/geo/lib/python3.9/site-packages/IPython/core/ultratb.py\", line 1288, in structured_traceback\n",
      "    return FormattedTB.structured_traceback(\n",
      "  File \"/data/home/hamiddashti/miniconda3/envs/geo/lib/python3.9/site-packages/IPython/core/ultratb.py\", line 1177, in structured_traceback\n",
      "    return VerboseTB.structured_traceback(\n",
      "  File \"/data/home/hamiddashti/miniconda3/envs/geo/lib/python3.9/site-packages/IPython/core/ultratb.py\", line 1049, in structured_traceback\n",
      "    formatted_exceptions += self.format_exception_as_a_whole(etype, evalue, etb, lines_of_context,\n",
      "  File \"/data/home/hamiddashti/miniconda3/envs/geo/lib/python3.9/site-packages/IPython/core/ultratb.py\", line 935, in format_exception_as_a_whole\n",
      "    self.get_records(etb, number_of_lines_of_context, tb_offset) if etb else []\n",
      "  File \"/data/home/hamiddashti/miniconda3/envs/geo/lib/python3.9/site-packages/IPython/core/ultratb.py\", line 1003, in get_records\n",
      "    lines, first = inspect.getsourcelines(etb.tb_frame)\n",
      "  File \"/data/home/hamiddashti/miniconda3/envs/geo/lib/python3.9/inspect.py\", line 1006, in getsourcelines\n",
      "    lines, lnum = findsource(object)\n",
      "  File \"/data/home/hamiddashti/miniconda3/envs/geo/lib/python3.9/inspect.py\", line 835, in findsource\n",
      "    raise OSError('could not get source code')\n",
      "OSError: could not get source code\n"
     ]
    }
   ],
   "source": [
    "for i in np.arange(2006,2013):\n",
    "    print(\"Calculate NBR and NIRv TM: \"+str(i))\n",
    "    nir = xr.open_dataarray(in_dir + \"mosaic_NIR_\"+str(i)+\"_TM5.tif\", engine=\"rasterio\",chunks={\"y\":2500,\"x\":2500})\n",
    "    swir = xr.open_dataarray(in_dir + \"mosaic_SWIR2_\"+str(i)+\"_TM5.tif\", engine=\"rasterio\",chunks={\"y\":2500,\"x\":2500})\n",
    "    ndvi = xr.open_dataarray(in_dir + \"mosaic_NDVI_\"+str(i)+\"_TM5.tif\", engine=\"rasterio\",chunks={\"y\":2500,\"x\":2500})\n",
    "    nbr = (nir-swir)/(nir+swir)\n",
    "    nirv = ndvi*nir\n",
    "    nbr_reproj = nbr.rio.reproject(4326,esampling=Resampling.nearest)\n",
    "    nirv_reproj = nirv.rio.reproject(4326,esampling=Resampling.nearest)\n",
    "    nbr_reproj = nbr_reproj.rename({\"y\": \"lat\",\"x\": \"lon\"}).squeeze()\n",
    "    nirv_reproj = nirv_reproj.rename({\"y\": \"lat\",\"x\": \"lon\"}).squeeze()\n",
    "    nbr_regridded = nbr_reproj.interp(lat=lat1,lon=lon1,method='linear')\n",
    "    nirv_regridded = nirv_reproj.interp(lat=lat1,lon=lon1,method='linear')\n",
    "    nbr_regridded.to_netcdf(dir+\"data/processed_data/landsat/resampled/nbr_resampled_\"+str(i)+\"_TM_v2.nc\")\n",
    "    nirv_regridded.to_netcdf(dir+\"data/processed_data/landsat/resampled/nirv_resampled_\"+str(i)+\"_TM_v2.nc\")\n"
   ]
  },
  {
   "cell_type": "code",
   "execution_count": 4,
   "metadata": {},
   "outputs": [],
   "source": [
    "num_workers = 4\n",
    "num_threads_per_worker = 1\n",
    "\n",
    "# Initialize a Dask cluster\n",
    "cluster = dask.distributed.LocalCluster(\n",
    "    n_workers=num_workers,\n",
    "    threads_per_worker=num_threads_per_worker,\n",
    ")\n",
    "client = dask.distributed.Client(cluster)"
   ]
  },
  {
   "cell_type": "code",
   "execution_count": 2,
   "metadata": {},
   "outputs": [
    {
     "name": "stdout",
     "output_type": "stream",
     "text": [
      "Correct SWIR: 2008\n",
      "Correct NDVI: 2008\n",
      "Correct SWIR: 2009\n",
      "Correct NDVI: 2009\n",
      "Correct SWIR: 2010\n",
      "Correct NDVI: 2010\n",
      "Correct SWIR: 2011\n",
      "Correct NDVI: 2011\n",
      "Correct SWIR: 2012\n",
      "Correct NDVI: 2012\n",
      "Correct SWIR: 2013\n",
      "Correct NDVI: 2013\n",
      "Correct SWIR: 2014\n",
      "Correct NDVI: 2014\n"
     ]
    }
   ],
   "source": [
    "for i in np.arange(1999,2008):\n",
    "    print(\"Correct SWIR: \"+str(i))\n",
    "    swir = xr.open_dataarray(in_dir + \"mosaic_SWIR2_\"+str(i)+\"_ETM.tif\", engine=\"rasterio\",chunks={\"y\":2500,\"x\":2500})\n",
    "    swir = swir/10000\n",
    "    swir_cor = (swir-0.003)/0.903\n",
    "    swir_cor = swir_cor*10000\n",
    "    swir_cor.to_netcdf(dir+\"data/processed_data/landsat/mosaic/mosaic_SWIR2_cor_\"+str(i)+\"_ETM.nc\")\n",
    "    # nir = xr.open_dataarray(in_dir + \"mosaic_NIR_\"+str(i)+\"_ETM.tif\", engine=\"rasterio\",chunks={\"y\":2500,\"x\":2500})\n",
    "    # nir = nir/10000\n",
    "    # nir_cor = (nir+0.004)/1.052\n",
    "    # nir_cor = nir_cor*10000\n",
    "    print(\"Correct NDVI: \"+str(i))\n",
    "    ndvi = xr.open_dataarray(in_dir + \"mosaic_NDVI_\"+str(i)+\"_ETM.tif\", engine=\"rasterio\",chunks={\"y\":2500,\"x\":2500})\n",
    "    ndvi = ndvi/10000\n",
    "    ndvi_cor = (ndvi+0.015)/1.095\n",
    "    ndvi_cor = ndvi_cor*10000\n",
    "    ndvi_cor.to_netcdf(dir+\"data/processed_data/landsat/mosaic/mosaic_NDVI_cor_\"+str(i)+\"_ETM.nc\")\n",
    "    # nbr_cor = (nir_cor-swir_cor)/(nir_cor+swir_cor)\n",
    "    # nirv_cor = ndvi_cor*nir_cor\n",
    "    # nbr_cor_reproj = nbr_cor.rio.reproject(4326,esampling=Resampling.nearest)\n",
    "    # nirv_cor_reproj = nirv_cor.rio.reproject(4326,esampling=Resampling.nearest)\n",
    "    # nbr_cor_reproj = nbr_cor_reproj.rename({\"y\": \"lat\",\"x\": \"lon\"}).squeeze()\n",
    "    # nirv_cor_reproj = nirv_cor_reproj.rename({\"y\": \"lat\",\"x\": \"lon\"}).squeeze()\n",
    "    # nbr_cor_regridded = nbr_cor_reproj.interp(lat=lat1,lon=lon1,method='linear')\n",
    "    # nirv_cor_regridded = nirv_cor_reproj.interp(lat=lat1,lon=lon1,method='linear')\n",
    "    # nbr_cor_regridded.to_netcdf(dir+\"data/processed_data/landsat/resampled/nbr_resampled_\"+str(i)+\"_ETM_v2.nc\")\n",
    "    # nirv_cor_regridded.to_netcdf(dir+\"data/processed_data/landsat/resampled/nirv_resampled_\"+str(i)+\"_ETM_v2.nc\")\n"
   ]
  },
  {
   "cell_type": "code",
   "execution_count": 3,
   "metadata": {},
   "outputs": [
    {
     "name": "stdout",
     "output_type": "stream",
     "text": [
      "Correct NIR: 2011\n",
      "Correct NIR: 2012\n",
      "Correct NIR: 2013\n",
      "Correct NIR: 2014\n"
     ]
    }
   ],
   "source": [
    "for i in np.arange(2011,2015):\n",
    "    print(\"Correct NIR: \"+str(i))\n",
    "    nir = xr.open_dataarray(in_dir + \"mosaic_NIR_\"+str(i)+\"_ETM.tif\", engine=\"rasterio\",chunks={\"y\":2500,\"x\":2500})\n",
    "    nir = nir/10000\n",
    "    nir_cor = (nir+0.004)/1.052\n",
    "    nir_cor = nir_cor*10000\n",
    "    nir_cor.to_netcdf(dir+\"data/processed_data/landsat/mosaic/mosaic_NIR_cor_\"+str(i)+\"_ETM.nc\")"
   ]
  }
 ],
 "metadata": {
  "kernelspec": {
   "display_name": "geospatial",
   "language": "python",
   "name": "python3"
  },
  "language_info": {
   "codemirror_mode": {
    "name": "ipython",
    "version": 3
   },
   "file_extension": ".py",
   "mimetype": "text/x-python",
   "name": "python",
   "nbconvert_exporter": "python",
   "pygments_lexer": "ipython3",
   "version": "3.9.16"
  },
  "orig_nbformat": 4
 },
 "nbformat": 4,
 "nbformat_minor": 2
}
