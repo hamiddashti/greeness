{
 "cells": [
  {
   "cell_type": "code",
   "execution_count": 1,
   "metadata": {},
   "outputs": [],
   "source": [
    "import xarray as xr\n",
    "import numpy as np\n",
    "import rioxarray\n",
    "from rasterio.enums import Resampling\n",
    "import glob\n",
    "import pandas as pd\n",
    "import time\n",
    "from dask.diagnostics import ProgressBar\n",
    "import xesmf as xe\n",
    "import dask.distributed\n",
    "\n",
    "dir = \"/data/home/hamiddashti/hamid/nasa_above/greeness/\"\n",
    "\n",
    "in_dir = dir + (\"data/processed_data/landsat/mosaic/\")\n",
    "out_dir = dir + (\"data/processed_data/landsat/resampled/\")\n",
    "\n",
    "target_image = xr.open_dataset(\n",
    "    dir +\n",
    "    \"data/processed_data/noaa_nc/lai_fapar/resampled/lai_annual_resample_max_1984_2013.nc\"\n",
    ")[\"LAI\"].isel(time=5)\n",
    "arr = xr.open_dataarray(\"../data/arr_id.nc\")\n",
    "target_image = target_image.rio.write_crs(\"EPSG:4326\").rename({\n",
    "    \"latitude\": \"lat\",\n",
    "    \"longitude\": \"lon\"\n",
    "})\n",
    "# Grid of the target image \n",
    "lat1 = target_image[\"lat\"].values\n",
    "lon1 = target_image[\"lon\"].values"
   ]
  },
  {
   "attachments": {},
   "cell_type": "markdown",
   "metadata": {},
   "source": [
    "Resmpling TM and ETM NDVI and make the values between the two sensors consistent"
   ]
  },
  {
   "cell_type": "code",
   "execution_count": null,
   "metadata": {},
   "outputs": [],
   "source": [
    "for i in np.arange(1995,2015):\n",
    "    print(\"resampling NDVI TM of the year : \"+str(i))\n",
    "    ref_image = xr.open_dataarray(in_dir + \"mosaic_NDVI_\"+str(i)+\"_TM5.tif\", engine=\"rasterio\",chunks={\"y\":2500,\"x\":2500})\n",
    "    ref_reproj = ref_image.rio.reproject(4326,esampling=Resampling.nearest)\n",
    "    ref_reproj = ref_reproj.rename({\"y\": \"lat\",\"x\": \"lon\"}).squeeze()\n",
    "    var_regridded = ref_reproj.interp(lat=lat1,lon=lon1,method='linear')\n",
    "    var_regridded.to_netcdf(dir+\"data/processed_data/landsat/resampled/NDVI_resampled_\"+str(i)+\"_TM_v2.nc\")"
   ]
  },
  {
   "cell_type": "code",
   "execution_count": null,
   "metadata": {},
   "outputs": [],
   "source": [
    "for i in np.arange(1999,2015):\n",
    "    print(\"Correcting and resampling ETM of the year : \"+str(i))\n",
    "    ref_image = xr.open_dataarray(in_dir + \"mosaic_NDVI_\"+str(i)+\"_ETM.tif\", engine=\"rasterio\",chunks={\"y\":2500,\"x\":2500})\n",
    "    ref_image = ref_image/10000\n",
    "    ref_image_cor = (ref_image+0.015)/1.095\n",
    "    ref_image_cor = ref_image_cor*10000\n",
    "    ref_reproj = ref_image_cor.rio.reproject(4326,esampling=Resampling.nearest)\n",
    "    ref_reproj = ref_reproj.rename({\"y\": \"lat\",\"x\": \"lon\"}).squeeze()\n",
    "    var_regridded = ref_reproj.interp(lat=lat1,lon=lon1,method='linear')\n",
    "    var_regridded.to_netcdf(dir+\"data/processed_data/landsat/resampled/NDVI_resampled_\"+str(i)+\"_ETMCor_v2.nc\")"
   ]
  },
  {
   "cell_type": "code",
   "execution_count": null,
   "metadata": {},
   "outputs": [],
   "source": [
    "# Correcting for large values outside of the region. \n",
    "for i in range(1999,2015):\n",
    "    print(i)\n",
    "    da=xr.open_dataset(dir+\"data/processed_data/landsat/resampled/NDVI_resampled_\"+str(i)+\"_ETMCor_v2.nc\")[\"band_data\"]\n",
    "    da = da.where(da<10000)\n",
    "    da.to_netcdf(dir+\"data/processed_data/landsat/resampled/NDVI_resampled_\"+str(i)+\"_ETMCor_v3.nc\")\n",
    "\n",
    "fnames= []\n",
    "for i in np.arange(1984,2015):\n",
    "    if i<=1999:\n",
    "        fnames.append(dir+\"data/processed_data/landsat/resampled/NDVI_resampled_\"+str(i)+\"_TM_v2.nc\")\n",
    "        continue\n",
    "    fnames.append(dir+\"data/processed_data/landsat/resampled/NDVI_resampled_\"+str(i)+\"_ETMCor_v3.nc\") \n",
    "t=pd.date_range(start=\"1984\",end=\"2015\",freq=\"A\").year\n",
    "ds = xr.open_mfdataset(fnames,concat_dim=\"time\",combine=\"nested\").rename_vars({\"band_data\":\"NDVI\"})\n",
    "ds[\"time\"]=t\n",
    "da = ds[\"NDVI\"]\n",
    "da.to_netcdf(dir+\"data/processed_data/landsat/resampled/NDVI_resampled_v2.nc\")"
   ]
  },
  {
   "cell_type": "markdown",
   "metadata": {},
   "source": [
    "Resmpling TM and ETM NIR and make the values between the two sensors consistent"
   ]
  },
  {
   "cell_type": "code",
   "execution_count": null,
   "metadata": {},
   "outputs": [],
   "source": [
    "for i in np.arange(1984,1995):\n",
    "    print(\"resampling NIR TM of the year : \"+str(i))\n",
    "    ref_image = xr.open_dataarray(in_dir + \"mosaic_NIR_\"+str(i)+\"_TM5.tif\", engine=\"rasterio\",chunks={\"y\":2500,\"x\":2500})\n",
    "    ref_reproj = ref_image.rio.reproject(4326,esampling=Resampling.nearest)\n",
    "    ref_reproj = ref_reproj.rename({\"y\": \"lat\",\"x\": \"lon\"}).squeeze()\n",
    "    var_regridded = ref_reproj.interp(lat=lat1,lon=lon1,method='linear')\n",
    "    var_regridded.to_netcdf(dir+\"data/processed_data/landsat/resampled/NIR_resampled_\"+str(i)+\"_TM_v2.nc\")"
   ]
  },
  {
   "cell_type": "code",
   "execution_count": null,
   "metadata": {},
   "outputs": [],
   "source": [
    "for i in np.arange(1999,2015):\n",
    "    print(\"Correcting and resampling NIR ETM of the year : \"+str(i))\n",
    "    ref_image = xr.open_dataarray(in_dir + \"mosaic_NIR_\"+str(i)+\"_ETM.tif\", engine=\"rasterio\",chunks={\"y\":2500,\"x\":2500})\n",
    "    ref_image = ref_image/10000\n",
    "    ref_image_cor = (ref_image+0.004)/1.052\n",
    "    ref_image_cor = ref_image_cor*10000\n",
    "    ref_reproj = ref_image_cor.rio.reproject(4326,esampling=Resampling.nearest)\n",
    "    ref_reproj = ref_reproj.rename({\"y\": \"lat\",\"x\": \"lon\"}).squeeze()\n",
    "    var_regridded = ref_reproj.interp(lat=lat1,lon=lon1,method='linear')\n",
    "    var_regridded.to_netcdf(dir+\"data/processed_data/landsat/resampled/NIR_resampled_\"+str(i)+\"_ETMCor_v2.nc\")"
   ]
  },
  {
   "cell_type": "code",
   "execution_count": null,
   "metadata": {},
   "outputs": [],
   "source": [
    "# Correcting for large values outside of the region. \n",
    "for i in range(1999,2015):\n",
    "    print(i)\n",
    "    da=xr.open_dataset(dir+\"data/processed_data/landsat/resampled/NIR_resampled_\"+str(i)+\"_ETMCor_v2.nc\")[\"band_data\"]\n",
    "    da = da.where(da<10000)\n",
    "    da.to_netcdf(dir+\"data/processed_data/landsat/resampled/NIR_resampled_\"+str(i)+\"_ETMCor_v3.nc\")\n",
    "fnames= []\n",
    "for i in np.arange(1984,2015):\n",
    "    if i<=1999:\n",
    "        fnames.append(dir+\"data/processed_data/landsat/resampled/NIR_resampled_\"+str(i)+\"_TM_v2.nc\")\n",
    "        continue\n",
    "    fnames.append(dir+\"data/processed_data/landsat/resampled/NIR_resampled_\"+str(i)+\"_ETMCor_v3.nc\") \n",
    "t=pd.date_range(start=\"1984\",end=\"2015\",freq=\"A\").year\n",
    "ds = xr.open_mfdataset(fnames,concat_dim=\"time\",combine=\"nested\").rename_vars({\"band_data\":\"NIR\"})\n",
    "ds[\"time\"]=t\n",
    "da = ds[\"NIR\"]\n",
    "da.to_netcdf(dir+\"data/processed_data/landsat/resampled/NIR_resampled_v2.nc\")"
   ]
  },
  {
   "cell_type": "code",
   "execution_count": null,
   "metadata": {},
   "outputs": [],
   "source": [
    "for i in np.arange(1984,2013):\n",
    "    print(\"resampling SWIR TM of the year : \"+str(i))\n",
    "    ref_image = xr.open_dataarray(in_dir + \"mosaic_SWIR2_\"+str(i)+\"_TM5.tif\", engine=\"rasterio\",chunks={\"y\":2500,\"x\":2500})\n",
    "    ref_reproj = ref_image.rio.reproject(4326,esampling=Resampling.nearest)\n",
    "    ref_reproj = ref_reproj.rename({\"y\": \"lat\",\"x\": \"lon\"}).squeeze()\n",
    "    var_regridded = ref_reproj.interp(lat=lat1,lon=lon1,method='linear')\n",
    "    var_regridded.to_netcdf(dir+\"data/processed_data/landsat/resampled/SWIR2_resampled_\"+str(i)+\"_TM_v2.nc\")"
   ]
  },
  {
   "cell_type": "code",
   "execution_count": null,
   "metadata": {},
   "outputs": [],
   "source": [
    "for i in np.arange(1999,2015):\n",
    "\n",
    "    print(\"Correcting and resampling SWIR ETM of the year : \"+str(i))\n",
    "    ref_image = xr.open_dataarray(in_dir + \"mosaic_SWIR2_\"+str(i)+\"_ETM.tif\", engine=\"rasterio\",chunks={\"y\":2500,\"x\":2500})\n",
    "    ref_image = ref_image/10000\n",
    "    ref_image_cor = (ref_image-0.003)/0.903\n",
    "    ref_image_cor = ref_image_cor*10000\n",
    "    ref_reproj = ref_image_cor.rio.reproject(4326,esampling=Resampling.nearest)\n",
    "    ref_reproj = ref_reproj.rename({\"y\": \"lat\",\"x\": \"lon\"}).squeeze()\n",
    "    var_regridded = ref_reproj.interp(lat=lat1,lon=lon1,method='linear')\n",
    "    var_regridded.to_netcdf(dir+\"data/processed_data/landsat/resampled/SWIR2_resampled_\"+str(i)+\"_ETMCor_v2.nc\")"
   ]
  },
  {
   "cell_type": "code",
   "execution_count": 2,
   "metadata": {},
   "outputs": [
    {
     "name": "stdout",
     "output_type": "stream",
     "text": [
      "Calculate NBR and NIRv TM: 1984\n"
     ]
    },
    {
     "name": "stderr",
     "output_type": "stream",
     "text": [
      "/data/home/hamiddashti/miniconda3/envs/geo/lib/python3.9/site-packages/dask/core.py:119: RuntimeWarning: divide by zero encountered in divide\n",
      "  return func(*(_execute_task(a, cache) for a in args))\n",
      "/data/home/hamiddashti/miniconda3/envs/geo/lib/python3.9/site-packages/scipy/interpolate/_interpolate.py:698: RuntimeWarning: invalid value encountered in subtract\n",
      "  slope = (y_hi - y_lo) / (x_hi - x_lo)[:, None]\n",
      "/data/home/hamiddashti/miniconda3/envs/geo/lib/python3.9/site-packages/scipy/interpolate/_interpolate.py:701: RuntimeWarning: invalid value encountered in add\n",
      "  y_new = slope*(x_new - x_lo)[:, None] + y_lo\n"
     ]
    },
    {
     "name": "stdout",
     "output_type": "stream",
     "text": [
      "Calculate NBR and NIRv TM: 1985\n"
     ]
    },
    {
     "name": "stderr",
     "output_type": "stream",
     "text": [
      "/data/home/hamiddashti/miniconda3/envs/geo/lib/python3.9/site-packages/dask/core.py:119: RuntimeWarning: divide by zero encountered in divide\n",
      "  return func(*(_execute_task(a, cache) for a in args))\n",
      "/data/home/hamiddashti/miniconda3/envs/geo/lib/python3.9/site-packages/scipy/interpolate/_interpolate.py:701: RuntimeWarning: invalid value encountered in add\n",
      "  y_new = slope*(x_new - x_lo)[:, None] + y_lo\n"
     ]
    },
    {
     "name": "stdout",
     "output_type": "stream",
     "text": [
      "Calculate NBR and NIRv TM: 1986\n"
     ]
    },
    {
     "name": "stderr",
     "output_type": "stream",
     "text": [
      "/data/home/hamiddashti/miniconda3/envs/geo/lib/python3.9/site-packages/dask/core.py:119: RuntimeWarning: divide by zero encountered in divide\n",
      "  return func(*(_execute_task(a, cache) for a in args))\n",
      "/data/home/hamiddashti/miniconda3/envs/geo/lib/python3.9/site-packages/scipy/interpolate/_interpolate.py:698: RuntimeWarning: invalid value encountered in subtract\n",
      "  slope = (y_hi - y_lo) / (x_hi - x_lo)[:, None]\n",
      "/data/home/hamiddashti/miniconda3/envs/geo/lib/python3.9/site-packages/scipy/interpolate/_interpolate.py:701: RuntimeWarning: invalid value encountered in add\n",
      "  y_new = slope*(x_new - x_lo)[:, None] + y_lo\n"
     ]
    },
    {
     "name": "stdout",
     "output_type": "stream",
     "text": [
      "Calculate NBR and NIRv TM: 1987\n"
     ]
    },
    {
     "name": "stderr",
     "output_type": "stream",
     "text": [
      "/data/home/hamiddashti/miniconda3/envs/geo/lib/python3.9/site-packages/dask/core.py:119: RuntimeWarning: divide by zero encountered in divide\n",
      "  return func(*(_execute_task(a, cache) for a in args))\n",
      "/data/home/hamiddashti/miniconda3/envs/geo/lib/python3.9/site-packages/scipy/interpolate/_interpolate.py:698: RuntimeWarning: invalid value encountered in subtract\n",
      "  slope = (y_hi - y_lo) / (x_hi - x_lo)[:, None]\n",
      "/data/home/hamiddashti/miniconda3/envs/geo/lib/python3.9/site-packages/scipy/interpolate/_interpolate.py:701: RuntimeWarning: invalid value encountered in add\n",
      "  y_new = slope*(x_new - x_lo)[:, None] + y_lo\n"
     ]
    },
    {
     "name": "stdout",
     "output_type": "stream",
     "text": [
      "Calculate NBR and NIRv TM: 1988\n"
     ]
    },
    {
     "name": "stderr",
     "output_type": "stream",
     "text": [
      "/data/home/hamiddashti/miniconda3/envs/geo/lib/python3.9/site-packages/dask/core.py:119: RuntimeWarning: divide by zero encountered in divide\n",
      "  return func(*(_execute_task(a, cache) for a in args))\n",
      "/data/home/hamiddashti/miniconda3/envs/geo/lib/python3.9/site-packages/scipy/interpolate/_interpolate.py:698: RuntimeWarning: invalid value encountered in subtract\n",
      "  slope = (y_hi - y_lo) / (x_hi - x_lo)[:, None]\n",
      "/data/home/hamiddashti/miniconda3/envs/geo/lib/python3.9/site-packages/scipy/interpolate/_interpolate.py:701: RuntimeWarning: invalid value encountered in add\n",
      "  y_new = slope*(x_new - x_lo)[:, None] + y_lo\n"
     ]
    },
    {
     "name": "stdout",
     "output_type": "stream",
     "text": [
      "Calculate NBR and NIRv TM: 1989\n"
     ]
    },
    {
     "name": "stderr",
     "output_type": "stream",
     "text": [
      "/data/home/hamiddashti/miniconda3/envs/geo/lib/python3.9/site-packages/dask/core.py:119: RuntimeWarning: divide by zero encountered in divide\n",
      "  return func(*(_execute_task(a, cache) for a in args))\n",
      "/data/home/hamiddashti/miniconda3/envs/geo/lib/python3.9/site-packages/scipy/interpolate/_interpolate.py:698: RuntimeWarning: invalid value encountered in subtract\n",
      "  slope = (y_hi - y_lo) / (x_hi - x_lo)[:, None]\n",
      "/data/home/hamiddashti/miniconda3/envs/geo/lib/python3.9/site-packages/scipy/interpolate/_interpolate.py:701: RuntimeWarning: invalid value encountered in add\n",
      "  y_new = slope*(x_new - x_lo)[:, None] + y_lo\n"
     ]
    },
    {
     "name": "stdout",
     "output_type": "stream",
     "text": [
      "Calculate NBR and NIRv TM: 1990\n"
     ]
    },
    {
     "name": "stderr",
     "output_type": "stream",
     "text": [
      "/data/home/hamiddashti/miniconda3/envs/geo/lib/python3.9/site-packages/dask/core.py:119: RuntimeWarning: divide by zero encountered in divide\n",
      "  return func(*(_execute_task(a, cache) for a in args))\n"
     ]
    }
   ],
   "source": [
    "for i in np.arange(1984,2013):\n",
    "    print(\"Calculate NBR and NIRv TM: \"+str(i))\n",
    "    nir = xr.open_dataarray(in_dir + \"mosaic_NIR_\"+str(i)+\"_TM5.tif\", engine=\"rasterio\",chunks={\"y\":2500,\"x\":2500})\n",
    "    swir = xr.open_dataarray(in_dir + \"mosaic_SWIR2_\"+str(i)+\"_TM5.tif\", engine=\"rasterio\",chunks={\"y\":2500,\"x\":2500})\n",
    "    ndvi = xr.open_dataarray(in_dir + \"mosaic_NDVI_\"+str(i)+\"_TM5.tif\", engine=\"rasterio\",chunks={\"y\":2500,\"x\":2500})\n",
    "    nbr = (nir-swir)/(nir+swir)\n",
    "    nirv = ndvi*nir\n",
    "    nbr_reproj = nbr.rio.reproject(4326,esampling=Resampling.nearest)\n",
    "    nirv_reproj = nirv.rio.reproject(4326,esampling=Resampling.nearest)\n",
    "    nbr_reproj = nbr_reproj.rename({\"y\": \"lat\",\"x\": \"lon\"}).squeeze()\n",
    "    nirv_reproj = nirv_reproj.rename({\"y\": \"lat\",\"x\": \"lon\"}).squeeze()\n",
    "    nbr_regridded = nbr_reproj.interp(lat=lat1,lon=lon1,method='linear')\n",
    "    nirv_regridded = nirv_reproj.interp(lat=lat1,lon=lon1,method='linear')\n",
    "    nbr_regridded.to_netcdf(dir+\"data/processed_data/landsat/resampled/nbr_resampled_\"+str(i)+\"_TM_v2.nc\")\n",
    "    nirv_regridded.to_netcdf(dir+\"data/processed_data/landsat/resampled/nirv_resampled_\"+str(i)+\"_TM_v2.nc\")\n"
   ]
  },
  {
   "cell_type": "code",
   "execution_count": null,
   "metadata": {},
   "outputs": [],
   "source": [
    "for i in np.arange(1999,2015):\n",
    "    print(\"Calculate NBR and NIRv ETM: \"+str(i))\n",
    "    swir = xr.open_dataarray(in_dir + \"mosaic_SWIR2_\"+str(i)+\"_ETM.tif\", engine=\"rasterio\",chunks={\"y\":2500,\"x\":2500})\n",
    "    swir = swir/10000\n",
    "    swir_cor = (swir-0.003)/0.903\n",
    "    swir_cor = swir_cor*10000\n",
    "    nir = xr.open_dataarray(in_dir + \"mosaic_NIR_\"+str(i)+\"_ETM.tif\", engine=\"rasterio\",chunks={\"y\":2500,\"x\":2500})\n",
    "    nir = nir/10000\n",
    "    nir_cor = (nir+0.004)/1.052\n",
    "    nir_cor = nir_cor*10000\n",
    "    ndvi = xr.open_dataarray(in_dir + \"mosaic_NDVI_\"+str(i)+\"_ETM.tif\", engine=\"rasterio\",chunks={\"y\":2500,\"x\":2500})\n",
    "    ndvi = ndvi/10000\n",
    "    ndvi_cor = (ndvi+0.015)/1.095\n",
    "    ndvi_cor = ndvi_cor*10000\n",
    " \n",
    "    nbr_cor = (nir_cor-swir_cor)/(nir_cor+swir_cor)\n",
    "    nirv_cor = ndvi_cor*nir_cor\n",
    "    nbr_cor_reproj = nbr_cor.rio.reproject(4326,esampling=Resampling.nearest)\n",
    "    nirv_cor_reproj = nirv_cor.rio.reproject(4326,esampling=Resampling.nearest)\n",
    "    nbr_cor_reproj = nbr_cor_reproj.rename({\"y\": \"lat\",\"x\": \"lon\"}).squeeze()\n",
    "    nirv_cor_reproj = nirv_cor_reproj.rename({\"y\": \"lat\",\"x\": \"lon\"}).squeeze()\n",
    "    nbr_cor_regridded = nbr_cor_reproj.interp(lat=lat1,lon=lon1,method='linear')\n",
    "    nirv_cor_regridded = nirv_cor_reproj.interp(lat=lat1,lon=lon1,method='linear')\n",
    "    nbr_cor_regridded.to_netcdf(dir+\"data/processed_data/landsat/resampled/nbr_resampled_\"+str(i)+\"_ETM_v2.nc\")\n",
    "    nirv_cor_regridded.to_netcdf(dir+\"data/processed_data/landsat/resampled/nirv_resampled_\"+str(i)+\"_ETM_v2.nc\")\n"
   ]
  }
 ],
 "metadata": {
  "kernelspec": {
   "display_name": "geospatial",
   "language": "python",
   "name": "python3"
  },
  "language_info": {
   "codemirror_mode": {
    "name": "ipython",
    "version": 3
   },
   "file_extension": ".py",
   "mimetype": "text/x-python",
   "name": "python",
   "nbconvert_exporter": "python",
   "pygments_lexer": "ipython3",
   "version": "3.9.16"
  },
  "orig_nbformat": 4
 },
 "nbformat": 4,
 "nbformat_minor": 2
}
