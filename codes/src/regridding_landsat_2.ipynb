{
 "cells": [
  {
   "cell_type": "code",
   "execution_count": 1,
   "metadata": {},
   "outputs": [],
   "source": [
    "import xarray as xr\n",
    "import numpy as np\n",
    "import rioxarray\n",
    "from rasterio.enums import Resampling\n",
    "import glob\n",
    "import pandas as pd\n",
    "import time\n",
    "from dask.diagnostics import ProgressBar\n",
    "import xesmf as xe\n",
    "import dask.distributed\n",
    "\n",
    "dir = \"/data/home/hamiddashti/hamid/nasa_above/greeness/\"\n",
    "\n",
    "in_dir = dir + (\"data/processed_data/landsat/mosaic/\")\n",
    "out_dir = dir + (\"data/processed_data/landsat/resampled/\")\n",
    "\n",
    "target_image = xr.open_dataset(\n",
    "    dir +\n",
    "    \"data/processed_data/noaa_nc/lai_fapar/resampled/lai_annual_resample_max_1984_2013.nc\"\n",
    ")[\"LAI\"].isel(time=5)\n",
    "arr = xr.open_dataarray(\"../data/arr_id.nc\")\n",
    "target_image = target_image.rio.write_crs(\"EPSG:4326\").rename({\n",
    "    \"latitude\": \"lat\",\n",
    "    \"longitude\": \"lon\"\n",
    "})\n",
    "# Grid of the target image \n",
    "lat1 = target_image[\"lat\"].values\n",
    "lon1 = target_image[\"lon\"].values"
   ]
  },
  {
   "attachments": {},
   "cell_type": "markdown",
   "metadata": {},
   "source": [
    "Resmpling TM and ETM NDVI and make the values between the two sensors consistent"
   ]
  },
  {
   "cell_type": "code",
   "execution_count": null,
   "metadata": {},
   "outputs": [],
   "source": [
    "for i in np.arange(1995,2015):\n",
    "    print(\"resampling NDVI TM of the year : \"+str(i))\n",
    "    ref_image = xr.open_dataarray(in_dir + \"mosaic_NDVI_\"+str(i)+\"_TM5.tif\", engine=\"rasterio\",chunks={\"y\":2500,\"x\":2500})\n",
    "    ref_reproj = ref_image.rio.reproject(4326,esampling=Resampling.nearest)\n",
    "    ref_reproj = ref_reproj.rename({\"y\": \"lat\",\"x\": \"lon\"}).squeeze()\n",
    "    var_regridded = ref_reproj.interp(lat=lat1,lon=lon1,method='linear')\n",
    "    var_regridded.to_netcdf(dir+\"data/processed_data/landsat/resampled/NDVI_resampled_\"+str(i)+\"_TM_v2.nc\")"
   ]
  },
  {
   "cell_type": "code",
   "execution_count": null,
   "metadata": {},
   "outputs": [
    {
     "name": "stdout",
     "output_type": "stream",
     "text": [
      "Correcting and resampling ETM of the year : 1999\n",
      "Correcting and resampling ETM of the year : 2000\n",
      "Correcting and resampling ETM of the year : 2001\n",
      "Correcting and resampling ETM of the year : 2002\n",
      "Correcting and resampling ETM of the year : 2003\n",
      "Correcting and resampling ETM of the year : 2004\n",
      "Correcting and resampling ETM of the year : 2005\n",
      "Correcting and resampling ETM of the year : 2006\n",
      "Correcting and resampling ETM of the year : 2007\n",
      "Correcting and resampling ETM of the year : 2008\n",
      "Correcting and resampling ETM of the year : 2009\n",
      "Correcting and resampling ETM of the year : 2010\n",
      "Correcting and resampling ETM of the year : 2011\n",
      "Correcting and resampling ETM of the year : 2012\n",
      "Correcting and resampling ETM of the year : 2013\n",
      "Correcting and resampling ETM of the year : 2014\n"
     ]
    }
   ],
   "source": [
    "for i in np.arange(1999,2015):\n",
    "    print(\"Correcting and resampling ETM of the year : \"+str(i))\n",
    "    ref_image = xr.open_dataarray(in_dir + \"mosaic_NDVI_\"+str(i)+\"_ETM.tif\", engine=\"rasterio\",chunks={\"y\":2500,\"x\":2500})\n",
    "    ref_image = ref_image/10000\n",
    "    ref_image_cor = (ref_image+0.015)/1.095\n",
    "    ref_image_cor = ref_image_cor*10000\n",
    "    ref_reproj = ref_image_cor.rio.reproject(4326,esampling=Resampling.nearest)\n",
    "    ref_reproj = ref_reproj.rename({\"y\": \"lat\",\"x\": \"lon\"}).squeeze()\n",
    "    var_regridded = ref_reproj.interp(lat=lat1,lon=lon1,method='linear')\n",
    "    var_regridded.to_netcdf(dir+\"data/processed_data/landsat/resampled/NDVI_resampled_\"+str(i)+\"_ETMCor_v2.nc\")"
   ]
  },
  {
   "cell_type": "code",
   "execution_count": null,
   "metadata": {},
   "outputs": [
    {
     "name": "stdout",
     "output_type": "stream",
     "text": [
      "1999\n",
      "2000\n",
      "2001\n",
      "2002\n",
      "2003\n",
      "2004\n",
      "2005\n",
      "2006\n",
      "2007\n",
      "2008\n",
      "2009\n",
      "2010\n",
      "2011\n",
      "2012\n",
      "2013\n",
      "2014\n"
     ]
    }
   ],
   "source": [
    "# Correcting for large values outside of the region. \n",
    "for i in range(1999,2015):\n",
    "    print(i)\n",
    "    da=xr.open_dataset(dir+\"data/processed_data/landsat/resampled/NDVI_resampled_\"+str(i)+\"_ETMCor_v2.nc\")[\"band_data\"]\n",
    "    da = da.where(da<10000)\n",
    "    da.to_netcdf(dir+\"data/processed_data/landsat/resampled/NDVI_resampled_\"+str(i)+\"_ETMCor_v3.nc\")\n",
    "\n",
    "fnames= []\n",
    "for i in np.arange(1984,2015):\n",
    "    if i<=1999:\n",
    "        fnames.append(dir+\"data/processed_data/landsat/resampled/NDVI_resampled_\"+str(i)+\"_TM_v2.nc\")\n",
    "        continue\n",
    "    fnames.append(dir+\"data/processed_data/landsat/resampled/NDVI_resampled_\"+str(i)+\"_ETMCor_v3.nc\") \n",
    "t=pd.date_range(start=\"1984\",end=\"2015\",freq=\"A\").year\n",
    "ds = xr.open_mfdataset(fnames,concat_dim=\"time\",combine=\"nested\").rename_vars({\"band_data\":\"NDVI\"})\n",
    "ds[\"time\"]=t\n",
    "da = ds[\"NDVI\"]\n",
    "da.to_netcdf(dir+\"data/processed_data/landsat/resampled/NDVI_resampled_v2.nc\")"
   ]
  },
  {
   "cell_type": "markdown",
   "metadata": {},
   "source": [
    "Resmpling TM and ETM NIR and make the values between the two sensors consistent"
   ]
  },
  {
   "cell_type": "code",
   "execution_count": 4,
   "metadata": {},
   "outputs": [
    {
     "name": "stdout",
     "output_type": "stream",
     "text": [
      "resampling NIR TM of the year : 1995\n",
      "resampling NIR TM of the year : 1996\n",
      "resampling NIR TM of the year : 1997\n",
      "resampling NIR TM of the year : 1998\n",
      "resampling NIR TM of the year : 1999\n",
      "resampling NIR TM of the year : 2000\n",
      "resampling NIR TM of the year : 2001\n",
      "resampling NIR TM of the year : 2002\n",
      "resampling NIR TM of the year : 2003\n",
      "resampling NIR TM of the year : 2004\n",
      "resampling NIR TM of the year : 2005\n",
      "resampling NIR TM of the year : 2006\n",
      "resampling NIR TM of the year : 2007\n",
      "resampling NIR TM of the year : 2008\n",
      "resampling NIR TM of the year : 2009\n"
     ]
    }
   ],
   "source": [
    "for i in np.arange(1995,2015):\n",
    "    print(\"resampling NIR TM of the year : \"+str(i))\n",
    "    ref_image = xr.open_dataarray(in_dir + \"mosaic_NIR_\"+str(i)+\"_TM5.tif\", engine=\"rasterio\",chunks={\"y\":2500,\"x\":2500})\n",
    "    ref_reproj = ref_image.rio.reproject(4326,esampling=Resampling.nearest)\n",
    "    ref_reproj = ref_reproj.rename({\"y\": \"lat\",\"x\": \"lon\"}).squeeze()\n",
    "    var_regridded = ref_reproj.interp(lat=lat1,lon=lon1,method='linear')\n",
    "    var_regridded.to_netcdf(dir+\"data/processed_data/landsat/resampled/NIR_resampled_\"+str(i)+\"_TM_v2.nc\")"
   ]
  },
  {
   "cell_type": "code",
   "execution_count": null,
   "metadata": {},
   "outputs": [],
   "source": [
    "for i in np.arange(1999,2015):\n",
    "    print(\"Correcting and resampling NIR ETM of the year : \"+str(i))\n",
    "    ref_image = xr.open_dataarray(in_dir + \"mosaic_NIR_\"+str(i)+\"_ETM.tif\", engine=\"rasterio\",chunks={\"y\":2500,\"x\":2500})\n",
    "    ref_image = ref_image/10000\n",
    "    ref_image_cor = (ref_image+0.004)/1.052\n",
    "    ref_image_cor = ref_image_cor*10000\n",
    "    ref_reproj = ref_image_cor.rio.reproject(4326,esampling=Resampling.nearest)\n",
    "    ref_reproj = ref_reproj.rename({\"y\": \"lat\",\"x\": \"lon\"}).squeeze()\n",
    "    var_regridded = ref_reproj.interp(lat=lat1,lon=lon1,method='linear')\n",
    "    var_regridded.to_netcdf(dir+\"data/processed_data/landsat/resampled/NDVI_resampled_\"+str(i)+\"_ETMCor_v2.nc\")"
   ]
  },
  {
   "cell_type": "code",
   "execution_count": null,
   "metadata": {},
   "outputs": [],
   "source": []
  }
 ],
 "metadata": {
  "kernelspec": {
   "display_name": "geospatial",
   "language": "python",
   "name": "python3"
  },
  "language_info": {
   "codemirror_mode": {
    "name": "ipython",
    "version": 3
   },
   "file_extension": ".py",
   "mimetype": "text/x-python",
   "name": "python",
   "nbconvert_exporter": "python",
   "pygments_lexer": "ipython3",
   "version": "3.9.16"
  },
  "orig_nbformat": 4
 },
 "nbformat": 4,
 "nbformat_minor": 2
}
