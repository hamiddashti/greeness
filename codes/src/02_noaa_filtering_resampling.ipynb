{
 "cells": [
  {
   "cell_type": "code",
   "execution_count": 1,
   "metadata": {},
   "outputs": [],
   "source": [
    "import os\n",
    "import dask\n",
    "from dask.diagnostics import ProgressBar\n",
    "import numpy as np\n",
    "import my_funs\n",
    "import xarray as xr\n",
    "import cProfile\n",
    "import zarr\n",
    "import matplotlib.pylab as plt\n",
    "import geopandas as gpd\n",
    "import folium\n",
    "from folium.plugins import MousePosition\n",
    "\n",
    "from dask.distributed import Client, progress\n",
    "\n",
    "client = Client(processes=False)\n",
    "\n",
    "dir = \"/data/home/hamiddashti/hamid/nasa_above/greeness/\"\n",
    "out_dir = \"/data/home/hamiddashti/hamid/nasa_above/greeness/data/processed_data/\"\n"
   ]
  },
  {
   "cell_type": "markdown",
   "metadata": {},
   "source": [
    "Filtering the LAI and NDVI data based on quality control "
   ]
  },
  {
   "cell_type": "code",
   "execution_count": null,
   "metadata": {},
   "outputs": [],
   "source": [
    "ds_lai = xr.open_zarr(\n",
    "    dir + \"data/raw_data/noaa_cdr/lai_fapar/noaa_lai_fapar_clipped_raw.zarr\"\n",
    ")\n",
    "lai = ds_lai[\"LAI\"]\n",
    "fapar = ds_lai[\"FAPAR\"]\n",
    "qa_lai = ds_lai[\"QA\"]\n",
    "ds_ndvi = xr.open_zarr(dir + \"data/raw_data/noaa_cdr/ndvi/noaa_ndvi_clipped_raw.zarr\")\n",
    "ndvi = ds_ndvi[\"NDVI\"]\n",
    "qa_ndvi = ds_ndvi[\"QA\"]\n",
    "# Convert QAs to binary\n",
    "qa_lai_binary = my_funs.dec2bin(qa_lai, 9)\n",
    "qa_ndvi_binary = my_funs.dec2bin(qa_ndvi, 16)\n"
   ]
  },
  {
   "cell_type": "markdown",
   "metadata": {},
   "source": [
    "Apply mask based on binary QAs aquired from previous step"
   ]
  },
  {
   "cell_type": "code",
   "execution_count": null,
   "metadata": {},
   "outputs": [],
   "source": [
    "qa_lai_binary = qa_lai_binary.astype(str)\n",
    "qa_lai_mask = my_funs.avhrr_mask(qa_lai_binary, dask=\"allowed\", var=\"LAI\")\n",
    "lai_masked = lai.where(qa_lai_mask)\n",
    "fapar_maked = fapar.where(qa_lai_mask)\n",
    "\n",
    "qa_ndvi_binary = qa_ndvi_binary.astype(str)\n",
    "qa_mask_ndvi = my_funs.avhrr_mask(qa_ndvi_binary, dask=\"allowed\", var=\"NDVI\")\n",
    "ndvi_masked = ndvi.where(qa_mask_ndvi)\n"
   ]
  },
  {
   "cell_type": "code",
   "execution_count": null,
   "metadata": {},
   "outputs": [],
   "source": [
    "with ProgressBar():\n",
    "    lai_filtered = lai_masked.compute()\n",
    "with ProgressBar():\n",
    "    ndvi_filtered = ndvi_masked.compute()\n",
    "\n",
    "# In case staritng the dask distributed client the above progressbar does not work and we should use the following commands\n",
    "fapar_maked_ds = fapar_maked.to_dataset()\n",
    "m = client.compute(fapar_maked_ds)\n",
    "ndvi_masked_ds = ndvi_masked.to_dataset()\n",
    "m2 = client.compute(ndvi_masked_ds)\n"
   ]
  },
  {
   "cell_type": "code",
   "execution_count": null,
   "metadata": {},
   "outputs": [],
   "source": [
    "progress(m)\n",
    "fapar_maked_ds.to_zarr(\n",
    "    out_dir + \"data/processed_data/noaa_nc/lai_fapar/filtered/fapar_filtered.zarr\"\n",
    ")\n"
   ]
  },
  {
   "cell_type": "code",
   "execution_count": null,
   "metadata": {},
   "outputs": [],
   "source": [
    "progress(m2)\n",
    "ndvi_masked_ds.to_zarr(\n",
    "    out_dir + \"data/processed_data/noaa_nc/ndvi/filtered/ndvi_filtered.zarr\"\n",
    ")\n"
   ]
  },
  {
   "cell_type": "markdown",
   "metadata": {},
   "source": [
    "Resample daily LAI and NDVI to annual, growing season,seasonal and monthly"
   ]
  },
  {
   "cell_type": "code",
   "execution_count": 2,
   "metadata": {},
   "outputs": [
    {
     "name": "stdout",
     "output_type": "stream",
     "text": [
      "All done!\n"
     ]
    }
   ],
   "source": [
    "lai = xr.open_dataarray(\n",
    "    dir + \"/data/processed_data/noaa_nc/lai_fapar/filtered/lai_filtered.nc\"\n",
    ")\n",
    "\n",
    "lai_monthly_resample_mean = lai.resample(time=\"1MS\").mean()\n",
    "lai_monthly_resample_mean.to_netcdf(\n",
    "    dir + \"data/processed_data/noaa_nc/lai_fapar/resampled/lai_monthly_resample_mean.nc\"\n",
    ")\n",
    "\n",
    "lai_growing_monthly_resample_mean = lai_monthly_resample_mean.where(\n",
    "    lai_monthly_resample_mean.time.dt.month.isin([5, 6, 7, 8, 9, 10]), drop=True\n",
    ")\n",
    "lai_growing_monthly_resample_mean.to_netcdf(\n",
    "    dir\n",
    "    + \"data/processed_data/noaa_nc/lai_fapar/resampled/lai_growing_monthly_resample_mean.nc\"\n",
    ")\n",
    "print(\"lai_monthly_resample_mean Done!\")\n",
    "\n",
    "lai_monthly_resample_max = lai.resample(time=\"1MS\").max()\n",
    "lai_monthly_resample_max.to_netcdf(\n",
    "    dir + \"data/processed_data/noaa_nc/lai_fapar/resampled/lai_monthly_resample_max.nc\"\n",
    ")\n",
    "print(\"lai_monthly_resample_max Done!\")\n",
    "\n",
    "lai_monthly_group_mean = lai.groupby(\"time.month\").mean()\n",
    "lai_monthly_group_mean.to_netcdf(\n",
    "    dir + \"data/processed_data/noaa_nc/lai_fapar/resampled/lai_monthly_group_mean.nc\"\n",
    ")\n",
    "print(\"lai_monthly_group_mean Done!\")\n",
    "\n",
    "lai_monthly_group_max = lai.groupby(\"time.month\").max()\n",
    "lai_monthly_group_max.to_netcdf(\n",
    "    dir + \"data/processed_data/noaa_nc/lai_fapar/resampled/lai_monthly_group_max.nc\"\n",
    ")\n",
    "print(\"lai_monthly_group_max Done!\")\n",
    "\n",
    "lai_seasonal_resample_mean = my_funs.weighted_season_resmaple(lai)\n",
    "lai_seasonal_resample_mean.to_netcdf(\n",
    "    dir\n",
    "    + \"data/processed_data/noaa_nc/lai_fapar/resampled/lai_seasonal_resample_mean.nc\"\n",
    ")\n",
    "print(\"lai_seasonal_resample_mean Done!\")\n",
    "\n",
    "lai_seaonal_group_mean = my_funs.weighted_season_group(lai)\n",
    "lai_seaonal_group_mean.to_netcdf(\n",
    "    dir + \"data/processed_data/noaa_nc/lai_fapar/resampled/lai_seaonal_group_mean.nc\"\n",
    ")\n",
    "print(\"lai_seaonal_group_mean Done!\")\n",
    "\n",
    "lai_seasonal_resample_max = lai.resample(time=\"Q-DEC\").max()\n",
    "lai_seasonal_resample_max.to_netcdf(\n",
    "    dir + \"data/processed_data/noaa_nc/lai_fapar/resampled/lai_seasonal_resample_max.nc\"\n",
    ")\n",
    "print(\"lai_seasonal_resample_max Done!\")\n",
    "\n",
    "lai_seasonal_group_max = lai.groupby(\"time.season\").max()\n",
    "lai_seasonal_group_max.to_netcdf(\n",
    "    dir + \"data/processed_data/noaa_nc/lai_fapar/resampled/lai_seasonal_group_max.nc\"\n",
    ")\n",
    "print(\"lai_seasonal_group_max Done!\")\n",
    "\n",
    "lai_annualresample_mean = lai.groupby(\"time.year\").mean()\n",
    "lai_annualresample_mean.to_netcdf(\n",
    "    dir + \"data/processed_data/noaa_nc/lai_fapar/resampled/lai_annualresample_mean.nc\"\n",
    ")\n",
    "print(\"lai_annualresample_mean Done!\")\n",
    "\n",
    "lai_annualresample_max = lai.groupby(\"time.year\").max()\n",
    "lai_annualresample_max.to_netcdf(\n",
    "    dir + \"data/processed_data/noaa_nc/lai_fapar/resampled/lai_annualresample_max.nc\"\n",
    ")\n",
    "print(\"lai_annualresample_max Done!\")\n",
    "\n",
    "lai_growing = my_funs.growing_season(lai)\n",
    "lai_growing.to_netcdf(\n",
    "    dir + \"data/processed_data/noaa_nc/lai_fapar/resampled/lai_growing.nc\"\n",
    ")\n",
    "print(\"All done!\")\n"
   ]
  }
 ],
 "metadata": {
  "kernelspec": {
   "display_name": "Python 3.9.13 ('geospatial')",
   "language": "python",
   "name": "python3"
  },
  "language_info": {
   "codemirror_mode": {
    "name": "ipython",
    "version": 3
   },
   "file_extension": ".py",
   "mimetype": "text/x-python",
   "name": "python",
   "nbconvert_exporter": "python",
   "pygments_lexer": "ipython3",
   "version": "3.9.13"
  },
  "orig_nbformat": 4,
  "vscode": {
   "interpreter": {
    "hash": "58d4357dc51a73699c5449b037ed9e8ebf9460004e4993ef846dc1036514c650"
   }
  }
 },
 "nbformat": 4,
 "nbformat_minor": 2
}
